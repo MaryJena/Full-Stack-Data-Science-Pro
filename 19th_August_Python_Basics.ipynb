{
 "cells": [
  {
   "cell_type": "code",
   "execution_count": 1,
   "id": "3cf0a427-18b2-4c6c-a87f-472bd863fd57",
   "metadata": {},
   "outputs": [],
   "source": [
    "''' TOPIC: Python Basics Variable\n",
    "Declare two variables, `x` and `y`, and assign them integer values. Swap the\n",
    "values of these variables without using any temporary variable. '''\n",
    "\n",
    "x = 55\n",
    "y = 45\n",
    "\n",
    "#Swapping the variable values\n",
    "x,y = y,x"
   ]
  },
  {
   "cell_type": "code",
   "execution_count": 2,
   "id": "498f7d72-ce17-41e2-8653-a4654a9836f1",
   "metadata": {},
   "outputs": [
    {
     "data": {
      "text/plain": [
       "(45, 55)"
      ]
     },
     "execution_count": 2,
     "metadata": {},
     "output_type": "execute_result"
    }
   ],
   "source": [
    "x,y"
   ]
  },
  {
   "cell_type": "code",
   "execution_count": 3,
   "id": "7575cd77-9e41-4685-a7ac-43c169087fe4",
   "metadata": {},
   "outputs": [
    {
     "name": "stdin",
     "output_type": "stream",
     "text": [
      " 3\n",
      " 3\n"
     ]
    }
   ],
   "source": [
    "''' 2. Create a program that calculates the area of a rectangle. Take the length and\n",
    "width as inputs from the user and store them in variables. Calculate and\n",
    "display the area. '''\n",
    "\n",
    "length = int(input())\n",
    "width = int(input())"
   ]
  },
  {
   "cell_type": "code",
   "execution_count": 4,
   "id": "4ebfe37e-bc1c-44d7-85c6-557dc153a55d",
   "metadata": {},
   "outputs": [
    {
     "data": {
      "text/plain": [
       "9"
      ]
     },
     "execution_count": 4,
     "metadata": {},
     "output_type": "execute_result"
    }
   ],
   "source": [
    "area = length * width\n",
    "area"
   ]
  },
  {
   "cell_type": "code",
   "execution_count": 5,
   "id": "f948905b-1581-4808-9c74-6d06689949b2",
   "metadata": {},
   "outputs": [
    {
     "name": "stdin",
     "output_type": "stream",
     "text": [
      " 7\n"
     ]
    }
   ],
   "source": [
    "''' 3. Write a Python program that converts temperatures from Celsius to\n",
    "Fahrenheit. Take the temperature in Celsius as input, store it in a variable,\n",
    "convert it to Fahrenheit, and display the result. '''\n",
    "\n",
    "temp_celsius = int(input())"
   ]
  },
  {
   "cell_type": "code",
   "execution_count": 6,
   "id": "7ea5083d-584b-4797-9dda-36f31fe825ed",
   "metadata": {},
   "outputs": [
    {
     "data": {
      "text/plain": [
       "44.6"
      ]
     },
     "execution_count": 6,
     "metadata": {},
     "output_type": "execute_result"
    }
   ],
   "source": [
    "temp_farenheit = (temp_celsius * 9/5) + 32\n",
    "temp_farenheit"
   ]
  },
  {
   "cell_type": "code",
   "execution_count": 7,
   "id": "b5d8d47f-e134-4afc-898f-1edfdf3cb6c9",
   "metadata": {},
   "outputs": [
    {
     "name": "stdin",
     "output_type": "stream",
     "text": [
      " My name is Mary Jena\n"
     ]
    }
   ],
   "source": [
    "''' TOPIC: String Based Questions\n",
    "1. Write a Python program that takes a string as input and prints the length of\n",
    "the string. '''\n",
    "\n",
    "name = str(input())"
   ]
  },
  {
   "cell_type": "code",
   "execution_count": 8,
   "id": "3580752c-164b-46a9-b552-3c23942e8224",
   "metadata": {},
   "outputs": [
    {
     "data": {
      "text/plain": [
       "20"
      ]
     },
     "execution_count": 8,
     "metadata": {},
     "output_type": "execute_result"
    }
   ],
   "source": [
    "len(name)"
   ]
  },
  {
   "cell_type": "code",
   "execution_count": 9,
   "id": "83833b8e-47a2-4a52-995a-00b5595c856f",
   "metadata": {},
   "outputs": [
    {
     "name": "stdin",
     "output_type": "stream",
     "text": [
      " I am currently pursuing Full stack Data Science Masters course at pwskills\n"
     ]
    }
   ],
   "source": [
    "''' 2. Create a program that takes a sentence from the user and counts the number\n",
    "of vowels (a, e, i, o, u) in the string. '''\n",
    "\n",
    "user_input = str(input())"
   ]
  },
  {
   "cell_type": "code",
   "execution_count": 10,
   "id": "aec96d15-ab4c-43c4-9e35-39094c618833",
   "metadata": {},
   "outputs": [
    {
     "data": {
      "text/plain": [
       "21"
      ]
     },
     "execution_count": 10,
     "metadata": {},
     "output_type": "execute_result"
    }
   ],
   "source": [
    "user_input = user_input.lower()\n",
    "vowels_count = 0\n",
    "vowels = (\"a\", \"e\", \"i\", \"o\", \"u\")\n",
    "\n",
    "for char in user_input:\n",
    "    if char in vowels:\n",
    "        vowels_count = vowels_count + 1\n",
    "\n",
    "vowels_count"
   ]
  },
  {
   "cell_type": "code",
   "execution_count": 11,
   "id": "cf708223-dd07-42e4-8910-5b54f8342973",
   "metadata": {},
   "outputs": [
    {
     "data": {
      "text/plain": [
       "'aneJ yraM'"
      ]
     },
     "execution_count": 11,
     "metadata": {},
     "output_type": "execute_result"
    }
   ],
   "source": [
    "''' 3. Given a string, reverse the order of characters using string slicing and print\n",
    "the reversed string '''\n",
    "name = \"My name is Mary Jena\"\n",
    "name[-1:-10:-1]"
   ]
  },
  {
   "cell_type": "code",
   "execution_count": 12,
   "id": "ea2c1ca5-041b-4f09-8b47-be3e8dee6f02",
   "metadata": {},
   "outputs": [
    {
     "name": "stdin",
     "output_type": "stream",
     "text": [
      " data\n"
     ]
    }
   ],
   "source": [
    "''' 4. Write a program that takes a string as input and checks if it is a palindrome\n",
    "(reads the same forwards and backwards).'''\n",
    "name = input()"
   ]
  },
  {
   "cell_type": "code",
   "execution_count": 13,
   "id": "f6a62d75-cf37-46b0-aebb-c09ec7296f4d",
   "metadata": {},
   "outputs": [
    {
     "data": {
      "text/plain": [
       "'atad'"
      ]
     },
     "execution_count": 13,
     "metadata": {},
     "output_type": "execute_result"
    }
   ],
   "source": [
    "#reversing the name\n",
    "reversename = name[::-1]\n",
    "reversename"
   ]
  },
  {
   "cell_type": "code",
   "execution_count": 14,
   "id": "b79ca38d-a364-419a-a3d9-dc858acd47d1",
   "metadata": {},
   "outputs": [
    {
     "name": "stdout",
     "output_type": "stream",
     "text": [
      "Not a Palindrome\n"
     ]
    }
   ],
   "source": [
    "#checking if a string is palindrome or not - if the name and reversename reads sames both backwards and forwards\n",
    "if(name == reversename):\n",
    "    print(\"Yes it is a Palindrome\")\n",
    "else:\n",
    "    print(\"Not a Palindrome\")"
   ]
  },
  {
   "cell_type": "code",
   "execution_count": 15,
   "id": "b44d1309-4165-4339-b0e2-4efeb2a0652f",
   "metadata": {},
   "outputs": [
    {
     "name": "stdin",
     "output_type": "stream",
     "text": [
      " mom\n"
     ]
    }
   ],
   "source": [
    "name = input()"
   ]
  },
  {
   "cell_type": "code",
   "execution_count": 16,
   "id": "af8881bd-b977-45b3-9d18-ff00e5cb2dd2",
   "metadata": {},
   "outputs": [
    {
     "data": {
      "text/plain": [
       "'mom'"
      ]
     },
     "execution_count": 16,
     "metadata": {},
     "output_type": "execute_result"
    }
   ],
   "source": [
    "#reverse teh name\n",
    "reversename = name[::-1]\n",
    "reversename"
   ]
  },
  {
   "cell_type": "code",
   "execution_count": 17,
   "id": "cabe5d6e-c995-45ba-b4e7-f7acca595e6c",
   "metadata": {},
   "outputs": [
    {
     "name": "stdout",
     "output_type": "stream",
     "text": [
      "Yes it is a Palindrome\n"
     ]
    }
   ],
   "source": [
    "#checking if a string is palindrome or not - if the name and reversename reads sames both backwards and forwards\n",
    "if(name == reversename):\n",
    "    print(\"Yes it is a Palindrome\")\n",
    "else:\n",
    "    print(\"Not a Palindrome\")"
   ]
  },
  {
   "cell_type": "code",
   "execution_count": 18,
   "id": "c7e00edc-f24f-48e3-bfec-327ffa7332e2",
   "metadata": {},
   "outputs": [
    {
     "name": "stdout",
     "output_type": "stream",
     "text": [
      "MynameisMaryJena\n"
     ]
    }
   ],
   "source": [
    "'''5. Create a program that takes a string as input and removes all the spaces from\n",
    "it. Print the modified string without spaces.'''\n",
    "\n",
    "a = \"My name is Mary Jena\"\n",
    "a1 = a.replace(\" \",\"\") #using replace to remove the space from the string\n",
    "\n",
    "print(a1)"
   ]
  },
  {
   "cell_type": "code",
   "execution_count": null,
   "id": "c0a2b99d-fbe4-4f4a-beb8-10906e7ac730",
   "metadata": {},
   "outputs": [],
   "source": []
  }
 ],
 "metadata": {
  "kernelspec": {
   "display_name": "Python 3 (ipykernel)",
   "language": "python",
   "name": "python3"
  },
  "language_info": {
   "codemirror_mode": {
    "name": "ipython",
    "version": 3
   },
   "file_extension": ".py",
   "mimetype": "text/x-python",
   "name": "python",
   "nbconvert_exporter": "python",
   "pygments_lexer": "ipython3",
   "version": "3.10.8"
  }
 },
 "nbformat": 4,
 "nbformat_minor": 5
}
