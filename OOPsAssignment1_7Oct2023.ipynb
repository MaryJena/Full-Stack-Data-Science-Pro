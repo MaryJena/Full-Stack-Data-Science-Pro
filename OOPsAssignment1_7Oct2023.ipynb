{
 "cells": [
  {
   "cell_type": "code",
   "execution_count": 33,
   "id": "b90831e8-1523-4d6a-a2f8-80e79ff4151f",
   "metadata": {},
   "outputs": [],
   "source": [
    "class a :\n",
    "    \n",
    "    def test(self):\n",
    "        print(\"this test method is a part of class a\")\n",
    "        \n",
    "    def test1(self):\n",
    "        print(\"this is test1 from class a \")"
   ]
  },
  {
   "cell_type": "code",
   "execution_count": 34,
   "id": "06e30ac9-96a3-4d78-ad5d-9e868f540d1f",
   "metadata": {},
   "outputs": [],
   "source": [
    "obj_a = a()"
   ]
  },
  {
   "cell_type": "code",
   "execution_count": 35,
   "id": "ce650f3c-aed1-4bfe-9b8c-755db6ab6e86",
   "metadata": {},
   "outputs": [
    {
     "name": "stdout",
     "output_type": "stream",
     "text": [
      "this test method is a part of class a\n"
     ]
    }
   ],
   "source": [
    "obj_a.test()"
   ]
  },
  {
   "cell_type": "code",
   "execution_count": 36,
   "id": "ac7378f9-5857-4087-84c1-2b9c64b6ae46",
   "metadata": {},
   "outputs": [],
   "source": [
    "class b(a) :\n",
    "    def test1b(self):\n",
    "        print(\"this is a part of class b \")"
   ]
  },
  {
   "cell_type": "code",
   "execution_count": 37,
   "id": "3641d26e-0c9b-42c9-8f95-61344eb99b28",
   "metadata": {},
   "outputs": [],
   "source": [
    "obj_b = b()"
   ]
  },
  {
   "cell_type": "code",
   "execution_count": 38,
   "id": "a0de77d4-90a5-4ddc-9da6-2c5b2617862b",
   "metadata": {},
   "outputs": [
    {
     "name": "stdout",
     "output_type": "stream",
     "text": [
      "this test method is a part of class a\n"
     ]
    }
   ],
   "source": [
    "obj_b.test()"
   ]
  },
  {
   "cell_type": "code",
   "execution_count": 39,
   "id": "4acfad85-3bc7-4bfe-952e-3ac447f12bde",
   "metadata": {},
   "outputs": [
    {
     "name": "stdout",
     "output_type": "stream",
     "text": [
      "this is test1 from class a \n"
     ]
    }
   ],
   "source": [
    "obj_b.test1()"
   ]
  },
  {
   "cell_type": "code",
   "execution_count": 40,
   "id": "44111f32-14bf-4b70-bf0a-f228e53cc6ea",
   "metadata": {},
   "outputs": [
    {
     "data": {
      "text/plain": [
       "<__main__.b at 0x7caeec5735e0>"
      ]
     },
     "execution_count": 40,
     "metadata": {},
     "output_type": "execute_result"
    }
   ],
   "source": [
    "obj_b"
   ]
  },
  {
   "cell_type": "code",
   "execution_count": 41,
   "id": "8243a1c3-6f1f-4f40-a7a4-88fa3146371d",
   "metadata": {},
   "outputs": [],
   "source": [
    "class lecture:\n",
    "    \n",
    "    def topic(self):\n",
    "        print(\"todays class we are discussing about inheritance condept in oops\")\n",
    "        \n",
    "    def timing(self):\n",
    "        print(\"timing for todays class is 9 AM IST\")\n",
    "        \n",
    "    def end_time(self):\n",
    "        print(\"today i will try to end class bit early\")"
   ]
  },
  {
   "cell_type": "code",
   "execution_count": 42,
   "id": "178be0f2-0f3a-421f-acb8-7111f08d1d23",
   "metadata": {},
   "outputs": [],
   "source": [
    "class student(lecture):\n",
    "    \n",
    "    def student_details(self):\n",
    "        print(\"this class will give you a student details\")"
   ]
  },
  {
   "cell_type": "code",
   "execution_count": 43,
   "id": "c0c527dd-8788-4101-a68e-90d3d2a7f894",
   "metadata": {},
   "outputs": [],
   "source": [
    "naval = student()"
   ]
  },
  {
   "cell_type": "code",
   "execution_count": 44,
   "id": "ea23d6fe-20ac-4acd-8358-970491a6e161",
   "metadata": {},
   "outputs": [
    {
     "name": "stdout",
     "output_type": "stream",
     "text": [
      "todays class we are discussing about inheritance condept in oops\n"
     ]
    }
   ],
   "source": [
    "naval.topic()"
   ]
  },
  {
   "cell_type": "code",
   "execution_count": 45,
   "id": "4c468c57-a122-40bf-94f9-2a82003fd1d8",
   "metadata": {},
   "outputs": [
    {
     "name": "stdout",
     "output_type": "stream",
     "text": [
      "timing for todays class is 9 AM IST\n"
     ]
    }
   ],
   "source": [
    "satish = student()\n",
    "satish.timing()"
   ]
  },
  {
   "cell_type": "code",
   "execution_count": 46,
   "id": "c74ea302-edb0-4fa1-b3e1-6314d2ed1d77",
   "metadata": {},
   "outputs": [],
   "source": [
    "class teacher(student):\n",
    "    def details(self):\n",
    "        print(\"this will give you a details about teacher\")"
   ]
  },
  {
   "cell_type": "code",
   "execution_count": 47,
   "id": "76d48b5c-6e92-4e89-9fd0-4bf2df5a45f5",
   "metadata": {},
   "outputs": [
    {
     "name": "stdout",
     "output_type": "stream",
     "text": [
      "timing for todays class is 9 AM IST\n"
     ]
    }
   ],
   "source": [
    "sudh = teacher()\n",
    "sudh.timing()"
   ]
  },
  {
   "cell_type": "code",
   "execution_count": 48,
   "id": "3357cacf-b9e1-4ead-b6bc-36f7e92e5690",
   "metadata": {},
   "outputs": [],
   "source": [
    "class lecture:\n",
    "    def topic(self):\n",
    "        print(\"todays class we are discussing about inheritance condept in oops\")\n",
    "        \n",
    "    def timing(self):\n",
    "        print(\"timing for todays class is 9 AM IST\")\n",
    "        \n",
    "    def end_time(self):\n",
    "        print(\"today i will try to end class bit early\")"
   ]
  },
  {
   "cell_type": "code",
   "execution_count": 49,
   "id": "31a04b49-755a-42da-b847-0ea45602128b",
   "metadata": {},
   "outputs": [],
   "source": [
    "class student:\n",
    "    \n",
    "    def student_details(self):\n",
    "        print(\"this class will give you a student details\")\n",
    "        \n",
    "    def timing(self):\n",
    "        print(\"this is a timing fun from student class\")"
   ]
  },
  {
   "cell_type": "code",
   "execution_count": 50,
   "id": "5b391b61-eb94-4978-a075-ae7f6ca635b8",
   "metadata": {},
   "outputs": [],
   "source": [
    "class teacher(lecture,student):\n",
    "    def details(self):\n",
    "        print(\"this will give you a details about teacher\")"
   ]
  },
  {
   "cell_type": "code",
   "execution_count": 51,
   "id": "a7c7fd9f-f326-47f2-ac27-f7166d21f238",
   "metadata": {},
   "outputs": [],
   "source": [
    "krish = teacher()"
   ]
  },
  {
   "cell_type": "code",
   "execution_count": 52,
   "id": "010fea59-d4e7-4f9c-bddb-30f709a37a55",
   "metadata": {},
   "outputs": [
    {
     "name": "stdout",
     "output_type": "stream",
     "text": [
      "timing for todays class is 9 AM IST\n"
     ]
    }
   ],
   "source": [
    "krish.timing()"
   ]
  },
  {
   "cell_type": "code",
   "execution_count": 53,
   "id": "e6131d91-517e-4e11-bbec-0fb8a65d83e0",
   "metadata": {},
   "outputs": [
    {
     "name": "stdout",
     "output_type": "stream",
     "text": [
      "this class will give you a student details\n"
     ]
    }
   ],
   "source": [
    "krish.student_details()"
   ]
  },
  {
   "cell_type": "code",
   "execution_count": 54,
   "id": "a57ea6ef-dc16-4db8-a355-4a1b8cea76e1",
   "metadata": {},
   "outputs": [
    {
     "name": "stdout",
     "output_type": "stream",
     "text": [
      "Deposited $500. New balance is $1500.\n",
      "Withdrew $200. New balance is $1300.\n"
     ]
    }
   ],
   "source": [
    "#### Problem 1: Bank Account Create a class representing a bank account with attributes like account number, account holder name, and balance. Implement methods to deposit and withdraw money from the account.\n",
    "\n",
    "class BankAccount:\n",
    "    def __init__(self, account_number, account_holder, balance):\n",
    "        self.account_number = account_number\n",
    "        self.account_holder = account_holder\n",
    "        self.balance = balance\n",
    "    \n",
    "    def deposit(self, amount):\n",
    "        if amount > 0:\n",
    "            self.balance += amount\n",
    "            print(f\"Deposited ${amount}. New balance is ${self.balance}.\")\n",
    "        else:\n",
    "            print(\"Deposit amount must be positive.\")\n",
    "    \n",
    "    def withdraw(self, amount):\n",
    "        if 0 < amount <= self.balance:\n",
    "            self.balance -= amount\n",
    "            print(f\"Withdrew ${amount}. New balance is ${self.balance}.\")\n",
    "        else:\n",
    "            print(\"Insufficient balance or invalid amount.\")\n",
    "\n",
    "# Example usage\n",
    "account = BankAccount(12345, \"Alice\", 1000)\n",
    "account.deposit(500)\n",
    "account.withdraw(200)"
   ]
  },
  {
   "cell_type": "code",
   "execution_count": 55,
   "id": "ba119d73-e105-401d-a175-51c276b22c68",
   "metadata": {},
   "outputs": [
    {
     "name": "stdout",
     "output_type": "stream",
     "text": [
      "ID: 1, Name: John Doe, Salary: $50000, Bonus: $5000.0\n"
     ]
    }
   ],
   "source": [
    "#### Problem 2: Employee Management Create a class representing an employee with attributes like employee ID, name, and salary. Implement methods to calculate the yearly bonus and display employee details.\n",
    "\n",
    "class Employee:\n",
    "    def __init__(self, employee_id, name, salary):\n",
    "        self.employee_id = employee_id\n",
    "        self.name = name\n",
    "        self.salary = salary\n",
    "    \n",
    "    def calculate_yearly_bonus(self):\n",
    "        return self.salary * 0.1\n",
    "    \n",
    "    def display_details(self):\n",
    "        print(f\"ID: {self.employee_id}, Name: {self.name}, Salary: ${self.salary}, Bonus: ${self.calculate_yearly_bonus()}\")\n",
    "\n",
    "# Example usage\n",
    "employee = Employee(1, \"John Doe\", 50000)\n",
    "employee.display_details()"
   ]
  },
  {
   "cell_type": "code",
   "execution_count": 56,
   "id": "4685d1a3-fa5f-45de-8f94-406285d26206",
   "metadata": {},
   "outputs": [
    {
     "name": "stdout",
     "output_type": "stream",
     "text": [
      "Car: 10 available\n",
      "Bike: 5 available\n",
      "Rented a Car.\n",
      "Returned a Bike.\n"
     ]
    }
   ],
   "source": [
    "#### Problem 3: Vehicle Rental Create a class representing a vehicle rental system. Implement methods to rent a vehicle, return a vehicle, and display available vehicles.\n",
    "\n",
    "class VehicleRental:\n",
    "    def __init__(self):\n",
    "        self.vehicles = {\"Car\": 10, \"Bike\": 5}\n",
    "    \n",
    "    def rent_vehicle(self, vehicle_type):\n",
    "        if self.vehicles.get(vehicle_type, 0) > 0:\n",
    "            self.vehicles[vehicle_type] -= 1\n",
    "            print(f\"Rented a {vehicle_type}.\")\n",
    "        else:\n",
    "            print(f\"No {vehicle_type} available.\")\n",
    "    \n",
    "    def return_vehicle(self, vehicle_type):\n",
    "        if vehicle_type in self.vehicles:\n",
    "            self.vehicles[vehicle_type] += 1\n",
    "            print(f\"Returned a {vehicle_type}.\")\n",
    "        else:\n",
    "            print(f\"Unknown vehicle type: {vehicle_type}.\")\n",
    "    \n",
    "    def display_available_vehicles(self):\n",
    "        for vehicle, count in self.vehicles.items():\n",
    "            print(f\"{vehicle}: {count} available\")\n",
    "\n",
    "# Example usage\n",
    "rental = VehicleRental()\n",
    "rental.display_available_vehicles()\n",
    "rental.rent_vehicle(\"Car\")\n",
    "rental.return_vehicle(\"Bike\")"
   ]
  },
  {
   "cell_type": "code",
   "execution_count": 57,
   "id": "0fe57342-6775-454e-b53a-da9b703533cc",
   "metadata": {},
   "outputs": [
    {
     "name": "stdout",
     "output_type": "stream",
     "text": [
      "Added '1984' by George Orwell.\n",
      "Title: 1984, Author: George Orwell\n",
      "Borrowed '1984'.\n"
     ]
    }
   ],
   "source": [
    "#### Problem 4: Library Catalog Create classes representing a library and a book. Implement methods to add books to the library, borrow books, and display available books.\n",
    "\n",
    "class Book:\n",
    "    def __init__(self, title, author):\n",
    "        self.title = title\n",
    "        self.author = author\n",
    "\n",
    "class Library:\n",
    "    def __init__(self):\n",
    "        self.books = []\n",
    "    \n",
    "    def add_book(self, book):\n",
    "        self.books.append(book)\n",
    "        print(f\"Added '{book.title}' by {book.author}.\")\n",
    "    \n",
    "    def borrow_book(self, title):\n",
    "        for book in self.books:\n",
    "            if book.title == title:\n",
    "                self.books.remove(book)\n",
    "                print(f\"Borrowed '{title}'.\")\n",
    "                return\n",
    "        print(f\"Book '{title}' not found.\")\n",
    "    \n",
    "    def display_books(self):\n",
    "        if not self.books:\n",
    "            print(\"No books available.\")\n",
    "        for book in self.books:\n",
    "            print(f\"Title: {book.title}, Author: {book.author}\")\n",
    "\n",
    "# Example usage\n",
    "library = Library()\n",
    "book1 = Book(\"1984\", \"George Orwell\")\n",
    "library.add_book(book1)\n",
    "library.display_books()\n",
    "library.borrow_book(\"1984\")"
   ]
  },
  {
   "cell_type": "code",
   "execution_count": 58,
   "id": "50f1985a-2178-49ac-bb94-839c23c6d197",
   "metadata": {},
   "outputs": [
    {
     "name": "stdout",
     "output_type": "stream",
     "text": [
      "Added 5 of Laptop.\n",
      "Laptop: 5\n"
     ]
    }
   ],
   "source": [
    "#### Problem 5: Product Inventory Create classes representing a product and an inventory system. Implement methods to add products to the inventory, update product quantity, and display available products.\n",
    "\n",
    "class Product:\n",
    "    def __init__(self, name, quantity):\n",
    "        self.name = name\n",
    "        self.quantity = quantity\n",
    "\n",
    "class Inventory:\n",
    "    def __init__(self):\n",
    "        self.products = {}\n",
    "    \n",
    "    def add_product(self, product):\n",
    "        self.products[product.name] = self.products.get(product.name, 0) + product.quantity\n",
    "        print(f\"Added {product.quantity} of {product.name}.\")\n",
    "    \n",
    "    def update_quantity(self, name, quantity):\n",
    "        if name in self.products:\n",
    "            self.products[name] = quantity\n",
    "            print(f\"Updated {name} to {quantity}.\")\n",
    "        else:\n",
    "            print(f\"Product {name} not found.\")\n",
    "    \n",
    "    def display_products(self):\n",
    "        if not self.products:\n",
    "            print(\"No products in inventory.\")\n",
    "        for name, quantity in self.products.items():\n",
    "            print(f\"{name}: {quantity}\")\n",
    "\n",
    "# Example usage\n",
    "inventory = Inventory()\n",
    "product1 = Product(\"Laptop\", 5)\n",
    "inventory.add_product(product1)\n",
    "inventory.display_products()"
   ]
  },
  {
   "cell_type": "code",
   "execution_count": 59,
   "id": "9773b06d-7aa1-414c-bc86-224d8a07e191",
   "metadata": {},
   "outputs": [
    {
     "name": "stdout",
     "output_type": "stream",
     "text": [
      "Area: 50\n",
      "Perimeter: 30\n"
     ]
    }
   ],
   "source": [
    "#### Problem 6: Shape Calculation Create a class representing a shape with attributes like length, width, and height. Implement methods to calculate the area and perimeter of the shape.\n",
    "\n",
    "class Shape:\n",
    "    def __init__(self, length, width):\n",
    "        self.length = length\n",
    "        self.width = width\n",
    "    \n",
    "    def area(self):\n",
    "        return self.length * self.width\n",
    "    \n",
    "    def perimeter(self):\n",
    "        return 2 * (self.length + self.width)\n",
    "\n",
    "# Example usage\n",
    "shape = Shape(5, 10)\n",
    "print(f\"Area: {shape.area()}\")\n",
    "print(f\"Perimeter: {shape.perimeter()}\")"
   ]
  },
  {
   "cell_type": "code",
   "execution_count": 60,
   "id": "16b77d6a-a88d-4a16-9250-ad98253de012",
   "metadata": {},
   "outputs": [
    {
     "name": "stdout",
     "output_type": "stream",
     "text": [
      "ID: 1, Name: Alice, Average Grade: 85.0\n"
     ]
    }
   ],
   "source": [
    "#### Problem 7: Student Management Create a class representing a student with attributes like student ID, name, and grades. Implement methods to calculate the average grade and display student details.\n",
    "\n",
    "class Student:\n",
    "    def __init__(self, student_id, name, grades):\n",
    "        self.student_id = student_id\n",
    "        self.name = name\n",
    "        self.grades = grades\n",
    "    \n",
    "    def average_grade(self):\n",
    "        return sum(self.grades) / len(self.grades)\n",
    "    \n",
    "    def display_details(self):\n",
    "        print(f\"ID: {self.student_id}, Name: {self.name}, Average Grade: {self.average_grade()}\")\n",
    "\n",
    "# Example usage\n",
    "student = Student(1, \"Alice\", [90, 80, 85])\n",
    "student.display_details()"
   ]
  },
  {
   "cell_type": "code",
   "execution_count": 61,
   "id": "ae1b1f0a-f2c2-4071-9b9d-9d7f21a63f4a",
   "metadata": {},
   "outputs": [
    {
     "name": "stdout",
     "output_type": "stream",
     "text": [
      "Sending email from alice@example.com to bob@example.com with subject 'Meeting Reminder'.\n",
      "Sender: alice@example.com, Recipient: bob@example.com, Subject: Meeting Reminder\n"
     ]
    }
   ],
   "source": [
    "#### Problem 8: Email Management Create a class representing an email with attributes like sender, recipient, and subject. Implement methods to send an email and display email details.\n",
    "\n",
    "class Email:\n",
    "    def __init__(self, sender, recipient, subject):\n",
    "        self.sender = sender\n",
    "        self.recipient = recipient\n",
    "        self.subject = subject\n",
    "    \n",
    "    def send_email(self):\n",
    "        print(f\"Sending email from {self.sender} to {self.recipient} with subject '{self.subject}'.\")\n",
    "    \n",
    "    def display_details(self):\n",
    "        print(f\"Sender: {self.sender}, Recipient: {self.recipient}, Subject: {self.subject}\")\n",
    "\n",
    "# Example usage\n",
    "email = Email(\"alice@example.com\", \"bob@example.com\", \"Meeting Reminder\")\n",
    "email.send_email()\n",
    "email.display_details()"
   ]
  },
  {
   "cell_type": "code",
   "execution_count": 62,
   "id": "582f8074-4235-48d2-9826-6c18f67bedfb",
   "metadata": {},
   "outputs": [
    {
     "name": "stdout",
     "output_type": "stream",
     "text": [
      "Added new post: Had a great day at the park!\n",
      "Added new post: Looking forward to the weekend.\n",
      "Had a great day at the park!\n",
      "Looking forward to the weekend.\n",
      "Looking forward to the weekend.\n"
     ]
    }
   ],
   "source": [
    "#### Problem 9: Social Media Profile Create a class representing a social media profile with attributes like username and posts. Implement methods to add posts, display posts, and search for posts by keyword.\n",
    "\n",
    "class SocialMediaProfile:\n",
    "    def __init__(self, username):\n",
    "        self.username = username\n",
    "        self.posts = []\n",
    "    \n",
    "    def add_post(self, post):\n",
    "        self.posts.append(post)\n",
    "        print(f\"Added new post: {post}\")\n",
    "    \n",
    "    def display_posts(self):\n",
    "        if not self.posts:\n",
    "            print(\"No posts available.\")\n",
    "        for post in self.posts:\n",
    "            print(post)\n",
    "    \n",
    "    def search_posts(self, keyword):\n",
    "        found_posts = [post for post in self.posts if keyword in post]\n",
    "        if not found_posts:\n",
    "            print(f\"No posts found with keyword '{keyword}'.\")\n",
    "        for post in found_posts:\n",
    "            print(post)\n",
    "\n",
    "# Example usage\n",
    "profile = SocialMediaProfile(\"user123\")\n",
    "profile.add_post(\"Had a great day at the park!\")\n",
    "profile.add_post(\"Looking forward to the weekend.\")\n",
    "profile.display_posts()\n",
    "profile.search_posts(\"weekend\")"
   ]
  },
  {
   "cell_type": "code",
   "execution_count": 63,
   "id": "898c7198-6deb-4d79-8d8e-e18a3651d96b",
   "metadata": {},
   "outputs": [
    {
     "name": "stdout",
     "output_type": "stream",
     "text": [
      "Added task 'Buy groceries' with due date 2024-09-10.\n",
      "Added task 'Finish homework' with due date 2024-09-12.\n",
      "Task: Buy groceries, Due Date: 2024-09-10\n",
      "Task: Finish homework, Due Date: 2024-09-12\n",
      "Marked task 'Buy groceries' as completed.\n",
      "Task: Finish homework, Due Date: 2024-09-12\n"
     ]
    }
   ],
   "source": [
    "#### Problem 10: ToDo List Create a class representing a ToDo list with attributes like tasks and due dates. Implement methods to add tasks, mark tasks as completed, and display pending tasks.\n",
    "\n",
    "class ToDoList:\n",
    "    def __init__(self):\n",
    "        self.tasks = {}\n",
    "    \n",
    "    def add_task(self, task, due_date):\n",
    "        self.tasks[task] = {'due_date': due_date, 'completed': False}\n",
    "        print(f\"Added task '{task}' with due date {due_date}.\")\n",
    "    \n",
    "    def mark_completed(self, task):\n",
    "        if task in self.tasks:\n",
    "            self.tasks[task]['completed'] = True\n",
    "            print(f\"Marked task '{task}' as completed.\")\n",
    "        else:\n",
    "            print(f\"Task '{task}' not found.\")\n",
    "    \n",
    "    def display_pending_tasks(self):\n",
    "        pending_tasks = {task: details for task, details in self.tasks.items() if not details['completed']}\n",
    "        if not pending_tasks:\n",
    "            print(\"No pending tasks.\")\n",
    "        for task, details in pending_tasks.items():\n",
    "            print(f\"Task: {task}, Due Date: {details['due_date']}\")\n",
    "\n",
    "# Example usage\n",
    "todo_list = ToDoList()\n",
    "todo_list.add_task(\"Buy groceries\", \"2024-09-10\")\n",
    "todo_list.add_task(\"Finish homework\", \"2024-09-12\")\n",
    "todo_list.display_pending_tasks()\n",
    "todo_list.mark_completed(\"Buy groceries\")\n",
    "todo_list.display_pending_tasks()"
   ]
  },
  {
   "cell_type": "code",
   "execution_count": null,
   "id": "b5db87ff-acbc-42e0-8042-bfae8aa841f4",
   "metadata": {},
   "outputs": [],
   "source": []
  }
 ],
 "metadata": {
  "kernelspec": {
   "display_name": "Python 3 (ipykernel)",
   "language": "python",
   "name": "python3"
  },
  "language_info": {
   "codemirror_mode": {
    "name": "ipython",
    "version": 3
   },
   "file_extension": ".py",
   "mimetype": "text/x-python",
   "name": "python",
   "nbconvert_exporter": "python",
   "pygments_lexer": "ipython3",
   "version": "3.10.8"
  }
 },
 "nbformat": 4,
 "nbformat_minor": 5
}
