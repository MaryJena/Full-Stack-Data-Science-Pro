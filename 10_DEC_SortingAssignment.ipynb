{
 "cells": [
  {
   "cell_type": "code",
   "execution_count": 11,
   "id": "ad56cb75-249e-463a-bce5-69de4d2d1ea5",
   "metadata": {},
   "outputs": [
    {
     "name": "stdout",
     "output_type": "stream",
     "text": [
      "Element with maximum frequency: 2\n"
     ]
    }
   ],
   "source": [
    "\"\"\"\n",
    "Problem 1.Given an array of n numbers, give an algorithm which gives the element appearing maximum\n",
    "number of times?\n",
    "\"\"\"\n",
    "\n",
    "def find_max_frequency_element(arr):\n",
    "    frequency_map = {}\n",
    "    for num in arr:\n",
    "        if num in frequency_map:\n",
    "            frequency_map[num] += 1\n",
    "        else:\n",
    "            frequency_map[num] = 1\n",
    "    return max(frequency_map, key=frequency_map.get)\n",
    "\n",
    "# Example usage:\n",
    "arr1 = [1, 2, 3, 2, 2, 1]\n",
    "print(\"Element with maximum frequency:\", find_max_frequency_element(arr1))"
   ]
  },
  {
   "cell_type": "code",
   "execution_count": 12,
   "id": "5d2c1786-0e84-4c78-b906-5dcf13a32dcb",
   "metadata": {},
   "outputs": [
    {
     "name": "stdout",
     "output_type": "stream",
     "text": [
      "Missing number: 5\n"
     ]
    }
   ],
   "source": [
    "\"\"\"\n",
    "Problem 2 : We are given a list of n-1 integers and these integers are in the range of 1 to n . There are no\n",
    "duplicates in the list. One of the integers is missing in the list. Give an algorithm to find that element Ex:\n",
    "[1,2,4,6,3,7,8] 5 is the missing num.\n",
    "\"\"\"\n",
    "\n",
    "def find_missing_number(arr, n):\n",
    "    total_sum = n * (n + 1) // 2\n",
    "    actual_sum = sum(arr)\n",
    "    return total_sum - actual_sum\n",
    "\n",
    "# Example usage:\n",
    "arr2 = [1, 2, 4, 6, 3, 7, 8]\n",
    "n = 8  # since there should be numbers from 1 to 8\n",
    "print(\"Missing number:\", find_missing_number(arr2, n))"
   ]
  },
  {
   "cell_type": "code",
   "execution_count": 13,
   "id": "3517f6e9-3550-437a-a7e7-f15fcdcace39",
   "metadata": {},
   "outputs": [
    {
     "name": "stdout",
     "output_type": "stream",
     "text": [
      "Number occurring odd number of times: 3\n"
     ]
    }
   ],
   "source": [
    "\"\"\"\n",
    "Problem 3 : Given an array of n positive numbers. All numbers occurs even number of times except 1 which\n",
    "occurs odd number of times. Find that number in O(n) time and O(1) space. Ex: [1,2,3,2,3,1,3]. 3 is repeats odd\n",
    "times.\n",
    "\"\"\"\n",
    "\n",
    "def find_odd_occurrence(arr):\n",
    "    result = 0\n",
    "    for num in arr:\n",
    "        result ^= num\n",
    "    return result\n",
    "\n",
    "# Example usage:\n",
    "arr3 = [1, 2, 3, 2, 3, 1, 3]\n",
    "print(\"Number occurring odd number of times:\", find_odd_occurrence(arr3))"
   ]
  },
  {
   "cell_type": "code",
   "execution_count": 14,
   "id": "3904768e-2db1-477e-af3b-a41f9e0d09c6",
   "metadata": {},
   "outputs": [
    {
     "name": "stdout",
     "output_type": "stream",
     "text": [
      "Pair with sum 6 : (1, 5)\n"
     ]
    }
   ],
   "source": [
    "\"\"\"\n",
    "Problem 4 : Given an array of n elements. Find two elements in the array such that their sum is equal to given\n",
    "element K.\n",
    "\"\"\"\n",
    "\n",
    "def find_pair_with_sum(arr, K):\n",
    "    seen = set()\n",
    "    for num in arr:\n",
    "        if (K - num) in seen:\n",
    "            return (K - num, num)\n",
    "        seen.add(num)\n",
    "    return None\n",
    "\n",
    "# Example usage:\n",
    "arr4 = [1, 4, 5, 3, 2]\n",
    "K = 6\n",
    "print(\"Pair with sum\", K, \":\", find_pair_with_sum(arr4, K))"
   ]
  },
  {
   "cell_type": "code",
   "execution_count": 15,
   "id": "308aeb94-524d-4ae8-84b9-185d4bae2106",
   "metadata": {},
   "outputs": [
    {
     "name": "stdout",
     "output_type": "stream",
     "text": [
      "Pair with sum closest to 0: (-80, 85)\n"
     ]
    }
   ],
   "source": [
    "\"\"\"\n",
    "Problem 5 : Given an array of both positive and negative numbers, find two numbers such that their sum is\n",
    "closest to 0. Ex: [ 1 ,60 ,-10, 70, -80,85]. Ans : -80,85.\n",
    "\"\"\"\n",
    "\n",
    "def find_closest_to_zero(arr):\n",
    "    arr.sort()\n",
    "    left, right = 0, len(arr) - 1\n",
    "    closest_pair = (arr[left], arr[right])\n",
    "    min_sum = abs(arr[left] + arr[right])\n",
    "    \n",
    "    while left < right:\n",
    "        current_sum = arr[left] + arr[right]\n",
    "        if abs(current_sum) < min_sum:\n",
    "            min_sum = abs(current_sum)\n",
    "            closest_pair = (arr[left], arr[right])\n",
    "        \n",
    "        if current_sum < 0:\n",
    "            left += 1\n",
    "        else:\n",
    "            right -= 1\n",
    "    \n",
    "    return closest_pair\n",
    "\n",
    "# Example usage:\n",
    "arr5 = [1, 60, -10, 70, -80, 85]\n",
    "print(\"Pair with sum closest to 0:\", find_closest_to_zero(arr5))"
   ]
  },
  {
   "cell_type": "code",
   "execution_count": 17,
   "id": "c782e836-56c7-49f5-aa7c-611ff7a66490",
   "metadata": {},
   "outputs": [
    {
     "name": "stdout",
     "output_type": "stream",
     "text": [
      "Triplets with sum 10 : (1, 3, 6)\n"
     ]
    }
   ],
   "source": [
    "\"\"\"\n",
    "Problem 6 : Given an array of n elements . Find three elements such that their sum is equal to the given\n",
    "number.\n",
    "\"\"\"\n",
    "\n",
    "def find_triplets_with_sum(arr, target):\n",
    "    arr.sort()\n",
    "    n = len(arr)\n",
    "    for i in range(n - 2):\n",
    "        left, right = i + 1, n - 1\n",
    "        while left < right:\n",
    "            current_sum = arr[i] + arr[left] + arr[right]\n",
    "            if current_sum == target:\n",
    "                return (arr[i], arr[left], arr[right])\n",
    "            elif current_sum < target:\n",
    "                left += 1\n",
    "            else:\n",
    "                right -= 1\n",
    "    return None\n",
    "\n",
    "# Example usage:\n",
    "arr6 = [1, 2, 3, 4, 5, 6]\n",
    "target = 10\n",
    "print(\"Triplets with sum\", target, \":\", find_triplets_with_sum(arr6, target))"
   ]
  },
  {
   "cell_type": "code",
   "execution_count": 18,
   "id": "e2ef5029-5484-4360-b355-f8b29efd8d28",
   "metadata": {},
   "outputs": [
    {
     "name": "stdout",
     "output_type": "stream",
     "text": [
      "Pythagorean triplets: (3, 4, 5)\n"
     ]
    }
   ],
   "source": [
    "\"\"\"\n",
    "Problem 7 : Given an array of n elements . Find three elements i, j, k in the array such that\n",
    "i * i + j * j = k*k.\n",
    "\"\"\"\n",
    "\n",
    "def find_pythagorean_triplets(arr):\n",
    "    squares = set(x*x for x in arr)\n",
    "    for i in range(len(arr)):\n",
    "        for j in range(i + 1, len(arr)):\n",
    "            if (arr[i]*arr[i] + arr[j]*arr[j]) in squares:\n",
    "                return (arr[i], arr[j], int(((arr[i]*arr[i] + arr[j]*arr[j])**0.5)))\n",
    "    return None\n",
    "\n",
    "# Example usage:\n",
    "arr7 = [3, 4, 5, 6, 8, 10]\n",
    "print(\"Pythagorean triplets:\", find_pythagorean_triplets(arr7))"
   ]
  },
  {
   "cell_type": "code",
   "execution_count": 19,
   "id": "3ba6be28-2883-4c90-940b-94100efd6ca8",
   "metadata": {},
   "outputs": [
    {
     "name": "stdout",
     "output_type": "stream",
     "text": [
      "Majority element: 4\n"
     ]
    }
   ],
   "source": [
    "\"\"\"\n",
    "Problem 8 : An element is a majority if it appears more than n/2 times. Give an algorithm takes an array of n\n",
    "element as argument and identifies a majority (if it exists).\n",
    "\"\"\"\n",
    "\n",
    "def find_majority_element(arr):\n",
    "    candidate, count = arr[0], 1\n",
    "    for i in range(1, len(arr)):\n",
    "        if count == 0:\n",
    "            candidate, count = arr[i], 1\n",
    "        elif arr[i] == candidate:\n",
    "            count += 1\n",
    "        else:\n",
    "            count -= 1\n",
    "    \n",
    "    # Verify the candidate\n",
    "    if arr.count(candidate) > len(arr) // 2:\n",
    "        return candidate\n",
    "    return None\n",
    "\n",
    "# Example usage:\n",
    "arr8 = [3, 3, 4, 2, 4, 4, 2, 4, 4]\n",
    "print(\"Majority element:\", find_majority_element(arr8))"
   ]
  },
  {
   "cell_type": "code",
   "execution_count": 20,
   "id": "8cf3e4dd-8735-4c2b-ba09-5853d3ce414c",
   "metadata": {},
   "outputs": [
    {
     "name": "stdout",
     "output_type": "stream",
     "text": [
      "Row with maximum number of 0’s: 0\n"
     ]
    }
   ],
   "source": [
    "\"\"\"\n",
    "Problem 9 : Given n × n matrix, and in each row all 1’s are followed by 0’s. Find the row with the maximum\n",
    "number of 0’s.\n",
    "\"\"\"\n",
    "\n",
    "def row_with_max_zeros(matrix):\n",
    "    n = len(matrix)\n",
    "    m = len(matrix[0])\n",
    "    max_zeros_row = -1\n",
    "    max_zeros_count = -1\n",
    "    \n",
    "    for i in range(n):\n",
    "        count = 0\n",
    "        for j in range(m):\n",
    "            if matrix[i][j] == 0:\n",
    "                count += 1\n",
    "        if count > max_zeros_count:\n",
    "            max_zeros_count = count\n",
    "            max_zeros_row = i\n",
    "    \n",
    "    return max_zeros_row\n",
    "\n",
    "# Example usage:\n",
    "matrix9 = [\n",
    "    [1, 0, 0, 0],\n",
    "    [1, 1, 0, 0],\n",
    "    [1, 1, 1, 0]\n",
    "]\n",
    "print(\"Row with maximum number of 0’s:\", row_with_max_zeros(matrix9))"
   ]
  },
  {
   "cell_type": "code",
   "execution_count": 21,
   "id": "8656e847-4214-4dd2-940a-6f4a9951ee44",
   "metadata": {},
   "outputs": [
    {
     "name": "stdout",
     "output_type": "stream",
     "text": [
      "Sorted array: [0, 0, 0, 1, 1, 1, 2, 2]\n"
     ]
    }
   ],
   "source": [
    "\"\"\"\n",
    "Problem 10 : Sort an array of 0’s, 1’s and 2’s [or R’s, G’s and B’s]: Given an array A[] consisting of 0’s, 1’s and\n",
    "2’s, give an algorithm for sorting A[].The algorithm should put all 0’s first, then all 1’s and finally all 2’s at the\n",
    "end. Example Input = {0,1,1,0,1,2,1,2,0,0,0,1}, Output = {0,0,0,0,0,1,1,1,1,1,2,2}\n",
    "\"\"\"\n",
    "\n",
    "def sort_012(arr):\n",
    "    low, mid, high = 0, 0, len(arr) - 1\n",
    "    while mid <= high:\n",
    "        if arr[mid] == 0:\n",
    "            arr[low], arr[mid] = arr[mid], arr[low]\n",
    "            low += 1\n",
    "            mid += 1\n",
    "        elif arr[mid] == 1:\n",
    "            mid += 1\n",
    "        else:\n",
    "            arr[high], arr[mid] = arr[mid], arr[high]\n",
    "            high -= 1\n",
    "\n",
    "# Example usage:\n",
    "arr10 = [0, 1, 2, 1, 0, 2, 1, 0]\n",
    "sort_012(arr10)\n",
    "print(\"Sorted array:\", arr10)"
   ]
  }
 ],
 "metadata": {
  "kernelspec": {
   "display_name": "Python 3 (ipykernel)",
   "language": "python",
   "name": "python3"
  },
  "language_info": {
   "codemirror_mode": {
    "name": "ipython",
    "version": 3
   },
   "file_extension": ".py",
   "mimetype": "text/x-python",
   "name": "python",
   "nbconvert_exporter": "python",
   "pygments_lexer": "ipython3",
   "version": "3.10.8"
  }
 },
 "nbformat": 4,
 "nbformat_minor": 5
}
