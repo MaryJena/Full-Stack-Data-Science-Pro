{
 "cells": [
  {
   "cell_type": "code",
   "execution_count": 1,
   "id": "225d36f1-d803-4c31-91d7-bff0a49adaef",
   "metadata": {},
   "outputs": [
    {
     "name": "stdin",
     "output_type": "stream",
     "text": [
      "Enter a number:  -3\n"
     ]
    },
    {
     "name": "stdout",
     "output_type": "stream",
     "text": [
      "The number is negative.\n"
     ]
    }
   ],
   "source": [
    "#### Basic If-Else Statements:\n",
    "\n",
    "#### 1. Write a Python program to check if a given number is positive or negative.\n",
    "\n",
    "number = int(input(\"Enter a number: \"))\n",
    "\n",
    "if number > 0:\n",
    "    print(\"The number is positive.\")\n",
    "elif number < 0:\n",
    "    print(\"The number is negative.\")\n",
    "else:\n",
    "    print(\"The number is zero.\")"
   ]
  },
  {
   "cell_type": "code",
   "execution_count": 2,
   "id": "947736ee-f450-4c47-90e6-610c1d0ca5b4",
   "metadata": {},
   "outputs": [
    {
     "name": "stdin",
     "output_type": "stream",
     "text": [
      "Enter your age:  10\n"
     ]
    },
    {
     "name": "stdout",
     "output_type": "stream",
     "text": [
      "You are not eligible to vote.\n"
     ]
    }
   ],
   "source": [
    "#### 2. Create a program that determines if a person is eligible to vote based on their age.\n",
    "\n",
    "age = int(input(\"Enter your age: \"))\n",
    "\n",
    "if age >= 18:\n",
    "    print(\"You are eligible to vote.\")\n",
    "else:\n",
    "    print(\"You are not eligible to vote.\")"
   ]
  },
  {
   "cell_type": "code",
   "execution_count": 3,
   "id": "7842a242-6f3c-458d-bb2a-4d83118c9d59",
   "metadata": {},
   "outputs": [
    {
     "name": "stdin",
     "output_type": "stream",
     "text": [
      "Enter the first number:  32\n",
      "Enter the second number:  21\n"
     ]
    },
    {
     "name": "stdout",
     "output_type": "stream",
     "text": [
      "The maximum number is: 32\n"
     ]
    }
   ],
   "source": [
    "#### 3. Develop a program to find the maximum of two numbers using if-else statements.\n",
    "\n",
    "num1 = int(input(\"Enter the first number: \"))\n",
    "num2 = int(input(\"Enter the second number: \"))\n",
    "\n",
    "if num1 > num2:\n",
    "    print(\"The maximum number is:\", num1)\n",
    "else:\n",
    "    print(\"The maximum number is:\", num2)"
   ]
  },
  {
   "cell_type": "code",
   "execution_count": 4,
   "id": "ee82b5a6-7b89-4b80-b37c-ad528944971d",
   "metadata": {},
   "outputs": [
    {
     "name": "stdin",
     "output_type": "stream",
     "text": [
      "Enter a year:  1992\n"
     ]
    },
    {
     "name": "stdout",
     "output_type": "stream",
     "text": [
      "The year is a leap year.\n"
     ]
    }
   ],
   "source": [
    "#### 4. Write a Python script to classify a given year as a leap year or not.\n",
    "\n",
    "year = int(input(\"Enter a year: \"))\n",
    "\n",
    "if (year % 4 == 0 and year % 100 != 0) or (year % 400 == 0):\n",
    "    print(\"The year is a leap year.\")\n",
    "else:\n",
    "    print(\"The year is not a leap year.\")"
   ]
  },
  {
   "cell_type": "code",
   "execution_count": 5,
   "id": "e04a039b-ea5b-4239-abfe-2793e27f638d",
   "metadata": {},
   "outputs": [
    {
     "name": "stdin",
     "output_type": "stream",
     "text": [
      "Enter a character:  w\n"
     ]
    },
    {
     "name": "stdout",
     "output_type": "stream",
     "text": [
      "The character is a consonant.\n"
     ]
    }
   ],
   "source": [
    "#### 5. Create a program that checks whether a character is a vowel or a consonant.\n",
    "\n",
    "char = input(\"Enter a character: \").lower()\n",
    "\n",
    "if char in 'aeiou':\n",
    "    print(\"The character is a vowel.\")\n",
    "else:\n",
    "    print(\"The character is a consonant.\")"
   ]
  },
  {
   "cell_type": "code",
   "execution_count": 6,
   "id": "99463994-c9bc-491f-af28-7b1f7e7e9c4b",
   "metadata": {},
   "outputs": [
    {
     "name": "stdin",
     "output_type": "stream",
     "text": [
      "Enter a number:  7\n"
     ]
    },
    {
     "name": "stdout",
     "output_type": "stream",
     "text": [
      "The number is odd.\n"
     ]
    }
   ],
   "source": [
    "#### 6. Implement a program to determine whether a given number is even or odd.\n",
    "\n",
    "number = int(input(\"Enter a number: \"))\n",
    "\n",
    "if number % 2 == 0:\n",
    "    print(\"The number is even.\")\n",
    "else:\n",
    "    print(\"The number is odd.\")"
   ]
  },
  {
   "cell_type": "code",
   "execution_count": 7,
   "id": "0a0a52de-b8d9-46a4-8737-10a582547395",
   "metadata": {},
   "outputs": [
    {
     "name": "stdin",
     "output_type": "stream",
     "text": [
      "Enter a number:  13\n"
     ]
    },
    {
     "name": "stdout",
     "output_type": "stream",
     "text": [
      "The absolute value is: 13\n"
     ]
    }
   ],
   "source": [
    "#### 7. Write a Python function to calculate the absolute value of a number without using the `abs()` function.\n",
    "\n",
    "def absolute_value(num):\n",
    "    if num < 0:\n",
    "        return -num\n",
    "    else:\n",
    "        return num\n",
    "\n",
    "number = int(input(\"Enter a number: \"))\n",
    "print(\"The absolute value is:\", absolute_value(number))"
   ]
  },
  {
   "cell_type": "code",
   "execution_count": 8,
   "id": "f5b48cb4-29ec-4258-b65b-b495a951a99c",
   "metadata": {},
   "outputs": [
    {
     "name": "stdin",
     "output_type": "stream",
     "text": [
      "Enter the first number:  9\n",
      "Enter the second number:  2\n",
      "Enter the third number:  1\n"
     ]
    },
    {
     "name": "stdout",
     "output_type": "stream",
     "text": [
      "The largest number is: 9\n"
     ]
    }
   ],
   "source": [
    "#### 8. Develop a program that determines the largest of three given numbers using if-else statements.\n",
    "\n",
    "num1 = int(input(\"Enter the first number: \"))\n",
    "num2 = int(input(\"Enter the second number: \"))\n",
    "num3 = int(input(\"Enter the third number: \"))\n",
    "\n",
    "if num1 >= num2 and num1 >= num3:\n",
    "    print(\"The largest number is:\", num1)\n",
    "elif num2 >= num1 and num2 >= num3:\n",
    "    print(\"The largest number is:\", num2)\n",
    "else:\n",
    "    print(\"The largest number is:\", num3)"
   ]
  },
  {
   "cell_type": "code",
   "execution_count": 9,
   "id": "8e69d95a-7094-4d3b-85b2-5ab2cf8f666b",
   "metadata": {},
   "outputs": [
    {
     "name": "stdin",
     "output_type": "stream",
     "text": [
      "Enter a string:  eye\n"
     ]
    },
    {
     "name": "stdout",
     "output_type": "stream",
     "text": [
      "The string is a palindrome.\n"
     ]
    }
   ],
   "source": [
    "#### 9. Create a program that checks if a given string is a palindrome.\n",
    "\n",
    "text = input(\"Enter a string: \").lower()\n",
    "if text == text[::-1]:\n",
    "    print(\"The string is a palindrome.\")\n",
    "else:\n",
    "    print(\"The string is not a palindrome.\")"
   ]
  },
  {
   "cell_type": "code",
   "execution_count": 10,
   "id": "3ccdd9d3-dc8f-463c-9552-c48c56a301f3",
   "metadata": {},
   "outputs": [
    {
     "name": "stdin",
     "output_type": "stream",
     "text": [
      "Enter the student's score:  35\n"
     ]
    },
    {
     "name": "stdout",
     "output_type": "stream",
     "text": [
      "The grade is: F\n"
     ]
    }
   ],
   "source": [
    "#### 10. Write a Python program to calculate the grade based on a student's score.\n",
    "\n",
    "score = float(input(\"Enter the student's score: \"))\n",
    "\n",
    "if score >= 90:\n",
    "    grade = 'A'\n",
    "elif score >= 80:\n",
    "    grade = 'B'\n",
    "elif score >= 70:\n",
    "    grade = 'C'\n",
    "elif score >= 60:\n",
    "    grade = 'D'\n",
    "else:\n",
    "    grade = 'F'\n",
    "\n",
    "print(\"The grade is:\", grade)"
   ]
  },
  {
   "cell_type": "code",
   "execution_count": 11,
   "id": "97a87bf4-2dc0-4f83-8448-afa70e99b56b",
   "metadata": {},
   "outputs": [
    {
     "name": "stdin",
     "output_type": "stream",
     "text": [
      "Enter the first number:  1\n",
      "Enter the second number:  2\n",
      "Enter the third number:  4\n"
     ]
    },
    {
     "name": "stdout",
     "output_type": "stream",
     "text": [
      "The largest number is: 4\n"
     ]
    }
   ],
   "source": [
    "#### Nested If-Else Statements:\n",
    "\n",
    "#### 11. Write a program to find the largest among three numbers using nested if-else statements.\n",
    "\n",
    "num1 = int(input(\"Enter the first number: \"))\n",
    "num2 = int(input(\"Enter the second number: \"))\n",
    "num3 = int(input(\"Enter the third number: \"))\n",
    "\n",
    "if num1 >= num2:\n",
    "    if num1 >= num3:\n",
    "        print(\"The largest number is:\", num1)\n",
    "    else:\n",
    "        print(\"The largest number is:\", num3)\n",
    "else:\n",
    "    if num2 >= num3:\n",
    "        print(\"The largest number is:\", num2)\n",
    "    else:\n",
    "        print(\"The largest number is:\", num3)"
   ]
  },
  {
   "cell_type": "code",
   "execution_count": 12,
   "id": "7aa0b5e3-1648-425f-958f-240b471c6218",
   "metadata": {},
   "outputs": [
    {
     "name": "stdin",
     "output_type": "stream",
     "text": [
      "Enter the first side length:  7\n",
      "Enter the second side length:  2\n",
      "Enter the third side length:  8\n"
     ]
    },
    {
     "name": "stdout",
     "output_type": "stream",
     "text": [
      "The triangle is scalene.\n"
     ]
    }
   ],
   "source": [
    "#### 12. Implement a program to determine if a triangle is equilateral, isosceles, or scalene.\n",
    "\n",
    "side1 = float(input(\"Enter the first side length: \"))\n",
    "side2 = float(input(\"Enter the second side length: \"))\n",
    "side3 = float(input(\"Enter the third side length: \"))\n",
    "\n",
    "if side1 == side2:\n",
    "    if side2 == side3:\n",
    "        print(\"The triangle is equilateral.\")\n",
    "    else:\n",
    "        print(\"The triangle is isosceles.\")\n",
    "else:\n",
    "    if side2 == side3 or side1 == side3:\n",
    "        print(\"The triangle is isosceles.\")\n",
    "    else:\n",
    "        print(\"The triangle is scalene.\")"
   ]
  },
  {
   "cell_type": "code",
   "execution_count": 13,
   "id": "e44b25e2-4428-4328-b425-ed4e2a102c14",
   "metadata": {},
   "outputs": [
    {
     "name": "stdin",
     "output_type": "stream",
     "text": [
      "Enter a year:  2024\n"
     ]
    },
    {
     "name": "stdout",
     "output_type": "stream",
     "text": [
      "The year is a leap year but not a century year.\n"
     ]
    }
   ],
   "source": [
    "#### 13. Develop a program that checks if a year is a leap year and also if it is a century year.\n",
    "\n",
    "year = int(input(\"Enter a year: \"))\n",
    "\n",
    "if (year % 4 == 0):\n",
    "    if (year % 100 == 0):\n",
    "        if (year % 400 == 0):\n",
    "            print(\"The year is a leap year and also a century year.\")\n",
    "        else:\n",
    "            print(\"The year is a century year but not a leap year.\")\n",
    "    else:\n",
    "        print(\"The year is a leap year but not a century year.\")\n",
    "else:\n",
    "    print(\"The year is not a leap year.\")"
   ]
  },
  {
   "cell_type": "code",
   "execution_count": 14,
   "id": "1f1c0a8e-8548-49ae-8785-966d5091805d",
   "metadata": {},
   "outputs": [
    {
     "name": "stdin",
     "output_type": "stream",
     "text": [
      "Enter a number:  4\n"
     ]
    },
    {
     "name": "stdout",
     "output_type": "stream",
     "text": [
      "The number is positive.\n"
     ]
    }
   ],
   "source": [
    "#### 14. Write a Python script to determine if a number is positive, negative, or zero.\n",
    "\n",
    "number = int(input(\"Enter a number: \"))\n",
    "\n",
    "if number > 0:\n",
    "    print(\"The number is positive.\")\n",
    "elif number < 0:\n",
    "    print(\"The number is negative.\")\n",
    "else:\n",
    "    print(\"The number is zero.\")"
   ]
  },
  {
   "cell_type": "code",
   "execution_count": 15,
   "id": "ab568afd-f572-4f4e-a52b-ec16d39bc828",
   "metadata": {},
   "outputs": [
    {
     "name": "stdin",
     "output_type": "stream",
     "text": [
      "Enter your age:  25\n"
     ]
    },
    {
     "name": "stdout",
     "output_type": "stream",
     "text": [
      "You are not a teenager.\n"
     ]
    }
   ],
   "source": [
    "#### 15. Create a program to check if a person is a teenager (between 13 and 19 years old).\n",
    "\n",
    "age = int(input(\"Enter your age: \"))\n",
    "\n",
    "if 13 <= age <= 19:\n",
    "    print(\"You are a teenager.\")\n",
    "else:\n",
    "    print(\"You are not a teenager.\")"
   ]
  },
  {
   "cell_type": "code",
   "execution_count": 16,
   "id": "d48488d4-ed72-4f67-973f-9c2e28074406",
   "metadata": {},
   "outputs": [
    {
     "name": "stdin",
     "output_type": "stream",
     "text": [
      "Enter the angle in degrees:  90\n"
     ]
    },
    {
     "name": "stdout",
     "output_type": "stream",
     "text": [
      "The angle is right.\n"
     ]
    }
   ],
   "source": [
    "#### 16. Develop a program that determines the type of angle based on its measure (acute, obtuse, or right).\n",
    "\n",
    "angle = float(input(\"Enter the angle in degrees: \"))\n",
    "\n",
    "if angle < 90:\n",
    "    print(\"The angle is acute.\")\n",
    "elif angle == 90:\n",
    "    print(\"The angle is right.\")\n",
    "elif angle < 180:\n",
    "    print(\"The angle is obtuse.\")\n",
    "else:\n",
    "    print(\"The angle is not valid.\")"
   ]
  },
  {
   "cell_type": "code",
   "execution_count": 17,
   "id": "8ddb5d41-d987-406b-8963-3f3765874a54",
   "metadata": {},
   "outputs": [
    {
     "name": "stdin",
     "output_type": "stream",
     "text": [
      "Enter coefficient a:  4\n",
      "Enter coefficient b:  2\n",
      "Enter coefficient c:  8\n"
     ]
    },
    {
     "name": "stdout",
     "output_type": "stream",
     "text": [
      "Roots are complex and different.\n"
     ]
    }
   ],
   "source": [
    "#### 17. Write a Python program to calculate the roots of a quadratic equation.\n",
    "\n",
    "import math\n",
    "\n",
    "a = float(input(\"Enter coefficient a: \"))\n",
    "b = float(input(\"Enter coefficient b: \"))\n",
    "c = float(input(\"Enter coefficient c: \"))\n",
    "\n",
    "discriminant = b**2 - 4*a*c\n",
    "\n",
    "if discriminant > 0:\n",
    "    root1 = (-b + math.sqrt(discriminant)) / (2 * a)\n",
    "    root2 = (-b - math.sqrt(discriminant)) / (2 * a)\n",
    "    print(f\"Roots are real and different: {root1} and {root2}\")\n",
    "elif discriminant == 0:\n",
    "    root = -b / (2 * a)\n",
    "    print(f\"Root is real and the same: {root}\")\n",
    "else:\n",
    "    print(\"Roots are complex and different.\")"
   ]
  },
  {
   "cell_type": "code",
   "execution_count": 18,
   "id": "c9b289a5-fd28-42ac-b29c-6ad3071323f4",
   "metadata": {},
   "outputs": [
    {
     "name": "stdin",
     "output_type": "stream",
     "text": [
      "Enter a number (1-7) to get the day of the week:  3\n"
     ]
    },
    {
     "name": "stdout",
     "output_type": "stream",
     "text": [
      "Wednesday\n"
     ]
    }
   ],
   "source": [
    "#### 18. Implement a program to determine the day of the week based on a user-provided number (1 for Monday, 2 for Tuesday, etc.).\n",
    "\n",
    "day_number = int(input(\"Enter a number (1-7) to get the day of the week: \"))\n",
    "\n",
    "if day_number == 1:\n",
    "    print(\"Monday\")\n",
    "elif day_number == 2:\n",
    "    print(\"Tuesday\")\n",
    "elif day_number == 3:\n",
    "    print(\"Wednesday\")\n",
    "elif day_number == 4:\n",
    "    print(\"Thursday\")\n",
    "elif day_number == 5:\n",
    "    print(\"Friday\")\n",
    "elif day_number == 6:\n",
    "    print(\"Saturday\")\n",
    "elif day_number == 7:\n",
    "    print(\"Sunday\")\n",
    "else:\n",
    "    print(\"Invalid number. Please enter a number between 1 and 7.\")"
   ]
  },
  {
   "cell_type": "code",
   "execution_count": 19,
   "id": "c829e52c-90b2-46ce-b284-ae3701141f39",
   "metadata": {},
   "outputs": [
    {
     "name": "stdin",
     "output_type": "stream",
     "text": [
      "Enter a year:  1989\n"
     ]
    },
    {
     "name": "stdout",
     "output_type": "stream",
     "text": [
      "The year is not a leap year.\n"
     ]
    }
   ],
   "source": [
    "#### 19. Create a program that determines if a year is a leap year and also if it is evenly divisible by 400.\n",
    "\n",
    "year = int(input(\"Enter a year: \"))\n",
    "\n",
    "if (year % 4 == 0):\n",
    "    if (year % 100 == 0):\n",
    "        if (year % 400 == 0):\n",
    "            print(\"The year is a leap year and divisible by 400.\")\n",
    "        else:\n",
    "            print(\"The year is a leap year but not divisible by 400.\")\n",
    "    else:\n",
    "        print(\"The year is a leap year but not divisible by 100.\")\n",
    "else:\n",
    "    print(\"The year is not a leap year.\")"
   ]
  },
  {
   "cell_type": "code",
   "execution_count": 20,
   "id": "ac8ead81-d96c-44d7-bd04-e0a0c053102d",
   "metadata": {},
   "outputs": [
    {
     "name": "stdin",
     "output_type": "stream",
     "text": [
      "Enter a number:  2\n"
     ]
    },
    {
     "name": "stdout",
     "output_type": "stream",
     "text": [
      "The number is prime.\n"
     ]
    }
   ],
   "source": [
    "#### 20. Develop a program that checks if a given number is prime or not using nested if-else statements.\n",
    "\n",
    "num = int(input(\"Enter a number: \"))\n",
    "\n",
    "if num > 1:\n",
    "    if num == 2:\n",
    "        print(\"The number is prime.\")\n",
    "    elif num % 2 == 0:\n",
    "        print(\"The number is not prime.\")\n",
    "    else:\n",
    "        is_prime = True\n",
    "        for i in range(3, int(num**0.5) + 1, 2):\n",
    "            if num % i == 0:\n",
    "                is_prime = False\n",
    "                break\n",
    "        if is_prime:\n",
    "            print(\"The number is prime.\")\n",
    "        else:\n",
    "            print(\"The number is not prime.\")\n",
    "else:\n",
    "    print(\"The number is not prime.\")"
   ]
  },
  {
   "cell_type": "code",
   "execution_count": 21,
   "id": "e2957b3f-ec80-4e59-bcb7-20ee984ed3e1",
   "metadata": {},
   "outputs": [
    {
     "name": "stdin",
     "output_type": "stream",
     "text": [
      "Enter the score:  85\n"
     ]
    },
    {
     "name": "stdout",
     "output_type": "stream",
     "text": [
      "The grade is: B\n"
     ]
    }
   ],
   "source": [
    "#### Elif Statements:\n",
    "\n",
    "#### 21. Write a Python program to assign grades based on different ranges of scores using elif statements.\n",
    "\n",
    "score = float(input(\"Enter the score: \"))\n",
    "\n",
    "if score >= 90:\n",
    "    grade = 'A'\n",
    "elif score >= 80:\n",
    "    grade = 'B'\n",
    "elif score >= 70:\n",
    "    grade = 'C'\n",
    "elif score >= 60:\n",
    "    grade = 'D'\n",
    "else:\n",
    "    grade = 'F'\n",
    "\n",
    "print(\"The grade is:\", grade)"
   ]
  },
  {
   "cell_type": "code",
   "execution_count": 22,
   "id": "1da97d4b-9df5-470d-ac12-0fbd85d42a6d",
   "metadata": {},
   "outputs": [
    {
     "name": "stdin",
     "output_type": "stream",
     "text": [
      "Enter the first angle:  45\n",
      "Enter the second angle:  60\n",
      "Enter the third angle:  30\n"
     ]
    },
    {
     "name": "stdout",
     "output_type": "stream",
     "text": [
      "The triangle is an acute triangle.\n"
     ]
    }
   ],
   "source": [
    "#### 22. Implement a program to determine the type of a triangle based on its angles.\n",
    "\n",
    "angle1 = float(input(\"Enter the first angle: \"))\n",
    "angle2 = float(input(\"Enter the second angle: \"))\n",
    "angle3 = float(input(\"Enter the third angle: \"))\n",
    "\n",
    "if angle1 == 90 or angle2 == 90 or angle3 == 90:\n",
    "    print(\"The triangle is a right triangle.\")\n",
    "elif angle1 < 90 and angle2 < 90 and angle3 < 90:\n",
    "    print(\"The triangle is an acute triangle.\")\n",
    "elif angle1 > 90 or angle2 > 90 or angle3 > 90:\n",
    "    print(\"The triangle is an obtuse triangle.\")\n",
    "else:\n",
    "    print(\"The angles do not form a valid triangle.\")"
   ]
  },
  {
   "cell_type": "code",
   "execution_count": 23,
   "id": "e696c82c-5830-459d-ac57-324d55d8e42a",
   "metadata": {},
   "outputs": [
    {
     "name": "stdin",
     "output_type": "stream",
     "text": [
      "Enter your weight in kg:  62\n",
      "Enter your height in meters:  152\n"
     ]
    },
    {
     "name": "stdout",
     "output_type": "stream",
     "text": [
      "Your BMI category is: Underweight\n"
     ]
    }
   ],
   "source": [
    "#### 23. Develop a program to categorize a given person's BMI into underweight, normal, overweight, or obese using elif statements.\n",
    "\n",
    "weight = float(input(\"Enter your weight in kg: \"))\n",
    "height = float(input(\"Enter your height in meters: \"))\n",
    "\n",
    "bmi = weight / (height ** 2)\n",
    "\n",
    "if bmi < 18.5:\n",
    "    category = 'Underweight'\n",
    "elif 18.5 <= bmi < 24.9:\n",
    "    category = 'Normal weight'\n",
    "elif 25 <= bmi < 29.9:\n",
    "    category = 'Overweight'\n",
    "else:\n",
    "    category = 'Obese'\n",
    "\n",
    "print(\"Your BMI category is:\", category)"
   ]
  },
  {
   "cell_type": "code",
   "execution_count": 24,
   "id": "68ac0126-d50d-4fe5-a3bd-e02d8ca93231",
   "metadata": {},
   "outputs": [
    {
     "name": "stdin",
     "output_type": "stream",
     "text": [
      "Enter a number:  6\n"
     ]
    },
    {
     "name": "stdout",
     "output_type": "stream",
     "text": [
      "The number is positive.\n"
     ]
    }
   ],
   "source": [
    "#### 24. Create a program that determines whether a given number is positive, negative, or zero using elif statements.\n",
    "\n",
    "number = int(input(\"Enter a number: \"))\n",
    "\n",
    "if number > 0:\n",
    "    print(\"The number is positive.\")\n",
    "elif number < 0:\n",
    "    print(\"The number is negative.\")\n",
    "else:\n",
    "    print(\"The number is zero.\")"
   ]
  },
  {
   "cell_type": "code",
   "execution_count": 25,
   "id": "8addf8bd-297d-4267-a4bb-68b6ea34006b",
   "metadata": {},
   "outputs": [
    {
     "name": "stdin",
     "output_type": "stream",
     "text": [
      "Enter a character:  T\n"
     ]
    },
    {
     "name": "stdout",
     "output_type": "stream",
     "text": [
      "The character is uppercase.\n"
     ]
    }
   ],
   "source": [
    "#### 25. Write a Python script to determine the type of a character (uppercase, lowercase, or special) using elif statements.\n",
    "\n",
    "char = input(\"Enter a character: \")\n",
    "\n",
    "if char.isupper():\n",
    "    print(\"The character is uppercase.\")\n",
    "elif char.islower():\n",
    "    print(\"The character is lowercase.\")\n",
    "else:\n",
    "    print(\"The character is special.\")"
   ]
  },
  {
   "cell_type": "code",
   "execution_count": 26,
   "id": "e8fec0b3-0eab-4345-ba67-c5d026088e63",
   "metadata": {},
   "outputs": [
    {
     "name": "stdin",
     "output_type": "stream",
     "text": [
      "Enter the purchase amount:  125\n"
     ]
    },
    {
     "name": "stdout",
     "output_type": "stream",
     "text": [
      "The discounted price is: 112.5\n"
     ]
    }
   ],
   "source": [
    "#### 26. Implement a program to calculate the discounted price based on different purchase amounts using elif statements.\n",
    "\n",
    "amount = float(input(\"Enter the purchase amount: \"))\n",
    "\n",
    "if amount >= 500:\n",
    "    discount = 0.30\n",
    "elif amount >= 200:\n",
    "    discount = 0.20\n",
    "elif amount >= 100:\n",
    "    discount = 0.10\n",
    "else:\n",
    "    discount = 0.00\n",
    "\n",
    "discounted_price = amount * (1 - discount)\n",
    "print(\"The discounted price is:\", discounted_price)"
   ]
  },
  {
   "cell_type": "code",
   "execution_count": 27,
   "id": "6ff0ca75-600a-4ceb-bfc5-449713d1a711",
   "metadata": {},
   "outputs": [
    {
     "name": "stdin",
     "output_type": "stream",
     "text": [
      "Enter the number of units consumed:  40\n"
     ]
    },
    {
     "name": "stdout",
     "output_type": "stream",
     "text": [
      "The electricity bill is: 200.0\n"
     ]
    }
   ],
   "source": [
    "#### 27. Develop a program to calculate the electricity bill based on different consumption slabs using elif statements.\n",
    "\n",
    "units = float(input(\"Enter the number of units consumed: \"))\n",
    "\n",
    "if units <= 100:\n",
    "    bill = units * 5\n",
    "elif units <= 300:\n",
    "    bill = 100 * 5 + (units - 100) * 7\n",
    "elif units <= 500:\n",
    "    bill = 100 * 5 + 200 * 7 + (units - 300) * 10\n",
    "else:\n",
    "    bill = 100 * 5 + 200 * 7 + 200 * 10 + (units - 500) * 12\n",
    "\n",
    "print(\"The electricity bill is:\", bill)"
   ]
  },
  {
   "cell_type": "code",
   "execution_count": 28,
   "id": "33d7682a-c8fc-4024-8955-381c96dc5aa0",
   "metadata": {},
   "outputs": [
    {
     "name": "stdin",
     "output_type": "stream",
     "text": [
      "Enter the length of the first side:  12\n",
      "Enter the length of the second side:  15\n",
      "Enter the length of the third side:  18\n",
      "Enter the length of the fourth side:  11\n",
      "Enter the first angle:  30\n",
      "Enter the second angle:  40\n",
      "Enter the third angle:  50\n",
      "Enter the fourth angle:  60\n"
     ]
    },
    {
     "name": "stdout",
     "output_type": "stream",
     "text": [
      "The quadrilateral is other.\n"
     ]
    }
   ],
   "source": [
    "#### 28. Create a program to determine the type of quadrilateral based on its angles and sides using elif statements.\n",
    "\n",
    "side1 = float(input(\"Enter the length of the first side: \"))\n",
    "side2 = float(input(\"Enter the length of the second side: \"))\n",
    "side3 = float(input(\"Enter the length of the third side: \"))\n",
    "side4 = float(input(\"Enter the length of the fourth side: \"))\n",
    "\n",
    "angle1 = float(input(\"Enter the first angle: \"))\n",
    "angle2 = float(input(\"Enter the second angle: \"))\n",
    "angle3 = float(input(\"Enter the third angle: \"))\n",
    "angle4 = float(input(\"Enter the fourth angle: \"))\n",
    "\n",
    "if side1 == side2 == side3 == side4 and angle1 == angle2 == angle3 == angle4 == 90:\n",
    "    print(\"The quadrilateral is a square.\")\n",
    "elif side1 == side3 and side2 == side4 and angle1 == angle3 and angle2 == angle4:\n",
    "    print(\"The quadrilateral is a rectangle.\")\n",
    "else:\n",
    "    print(\"The quadrilateral is other.\")"
   ]
  },
  {
   "cell_type": "code",
   "execution_count": 29,
   "id": "4d19da19-241f-4a8e-89ab-60ba2f0f6a16",
   "metadata": {},
   "outputs": [
    {
     "name": "stdin",
     "output_type": "stream",
     "text": [
      "Enter the month number (1-12):  5\n"
     ]
    },
    {
     "name": "stdout",
     "output_type": "stream",
     "text": [
      "It is Spring.\n"
     ]
    }
   ],
   "source": [
    "#### 29. Write a Python script to determine the season based on a user-provided month using elif statements.\n",
    "\n",
    "month = int(input(\"Enter the month number (1-12): \"))\n",
    "\n",
    "if 3 <= month <= 5:\n",
    "    print(\"It is Spring.\")\n",
    "elif 6 <= month <= 8:\n",
    "    print(\"It is Summer.\")\n",
    "elif 9 <= month <= 11:\n",
    "    print(\"It is Fall.\")\n",
    "elif month == 12 or month <= 2:\n",
    "    print(\"It is Winter.\")\n",
    "else:\n",
    "    print(\"Invalid month number. Please enter a number between 1 and 12.\")"
   ]
  },
  {
   "cell_type": "code",
   "execution_count": 30,
   "id": "925e22df-8e92-40a2-98d5-72bd3c057dd2",
   "metadata": {},
   "outputs": [
    {
     "name": "stdin",
     "output_type": "stream",
     "text": [
      "Enter a year:  2022\n",
      "Enter the month number (1-12):  09\n"
     ]
    },
    {
     "name": "stdout",
     "output_type": "stream",
     "text": [
      "The year is a common year. The month has 30 days.\n"
     ]
    }
   ],
   "source": [
    "#### 30. Implement a program to determine the type of a year (leap or common) and month (30 or 31 days) using elif statements.\n",
    "\n",
    "year = int(input(\"Enter a year: \"))\n",
    "month = int(input(\"Enter the month number (1-12): \"))\n",
    "\n",
    "if (year % 4 == 0 and year % 100 != 0) or (year % 400 == 0):\n",
    "    year_type = \"leap year\"\n",
    "else:\n",
    "    year_type = \"common year\"\n",
    "\n",
    "if month == 2:\n",
    "    if (year % 4 == 0 and year % 100 != 0) or (year % 400 == 0):\n",
    "        days = 29\n",
    "    else:\n",
    "        days = 28\n",
    "elif month in [4, 6, 9, 11]:\n",
    "    days = 30\n",
    "elif month in [1, 3, 5, 7, 8, 10, 12]:\n",
    "    days = 31\n",
    "else:\n",
    "    days = \"invalid month\"\n",
    "\n",
    "print(f\"The year is a {year_type}. The month has {days} days.\")"
   ]
  },
  {
   "cell_type": "code",
   "execution_count": 31,
   "id": "d41d05ee-3d03-4e94-baed-0320865bbd56",
   "metadata": {},
   "outputs": [
    {
     "name": "stdin",
     "output_type": "stream",
     "text": [
      "Enter a number:  3\n"
     ]
    },
    {
     "name": "stdout",
     "output_type": "stream",
     "text": [
      "The number is positive.\n"
     ]
    }
   ],
   "source": [
    "#### Basic Level:\n",
    "\n",
    "#### 1. Write a Python program that checks if a given number is positive, negative, or zero.\n",
    "\n",
    "number = int(input(\"Enter a number: \"))\n",
    "\n",
    "if number > 0:\n",
    "    print(\"The number is positive.\")\n",
    "elif number < 0:\n",
    "    print(\"The number is negative.\")\n",
    "else:\n",
    "    print(\"The number is zero.\")"
   ]
  },
  {
   "cell_type": "code",
   "execution_count": 32,
   "id": "53455ccc-4d63-4d06-9a35-e209df76f51a",
   "metadata": {},
   "outputs": [
    {
     "name": "stdin",
     "output_type": "stream",
     "text": [
      "Enter your age:  19\n"
     ]
    },
    {
     "name": "stdout",
     "output_type": "stream",
     "text": [
      "You are eligible to vote.\n"
     ]
    }
   ],
   "source": [
    "#### 2. Create a program to determine if a person is eligible to vote based on their age.\n",
    "\n",
    "age = int(input(\"Enter your age: \"))\n",
    "\n",
    "if age >= 18:\n",
    "    print(\"You are eligible to vote.\")\n",
    "else:\n",
    "    print(\"You are not eligible to vote.\")"
   ]
  },
  {
   "cell_type": "code",
   "execution_count": 33,
   "id": "42ed55e0-42bb-43e7-a57f-68bf2d304805",
   "metadata": {},
   "outputs": [
    {
     "name": "stdin",
     "output_type": "stream",
     "text": [
      "Enter the first number:  1\n",
      "Enter the second number:  7\n"
     ]
    },
    {
     "name": "stdout",
     "output_type": "stream",
     "text": [
      "The maximum number is: 7\n"
     ]
    }
   ],
   "source": [
    "#### 3. Write a program to find the maximum of two given numbers using conditional statements.\n",
    "\n",
    "num1 = int(input(\"Enter the first number: \"))\n",
    "num2 = int(input(\"Enter the second number: \"))\n",
    "\n",
    "if num1 > num2:\n",
    "    print(\"The maximum number is:\", num1)\n",
    "else:\n",
    "    print(\"The maximum number is:\", num2)"
   ]
  },
  {
   "cell_type": "code",
   "execution_count": 34,
   "id": "f80ef653-9b24-470e-a849-d45e43b0649e",
   "metadata": {},
   "outputs": [
    {
     "name": "stdin",
     "output_type": "stream",
     "text": [
      "Enter the exam score:  86\n"
     ]
    },
    {
     "name": "stdout",
     "output_type": "stream",
     "text": [
      "The grade is: B\n"
     ]
    }
   ],
   "source": [
    "#### 4. Develop a program that calculates the grade of a student based on their exam score.\n",
    "\n",
    "score = float(input(\"Enter the exam score: \"))\n",
    "\n",
    "if score >= 90:\n",
    "    grade = 'A'\n",
    "elif score >= 80:\n",
    "    grade = 'B'\n",
    "elif score >= 70:\n",
    "    grade = 'C'\n",
    "elif score >= 60:\n",
    "    grade = 'D'\n",
    "else:\n",
    "    grade = 'F'\n",
    "\n",
    "print(\"The grade is:\", grade)"
   ]
  },
  {
   "cell_type": "code",
   "execution_count": 35,
   "id": "c4cefe55-65ae-456a-882d-221bfa0b6462",
   "metadata": {},
   "outputs": [
    {
     "name": "stdin",
     "output_type": "stream",
     "text": [
      "Enter a year:  1991\n"
     ]
    },
    {
     "name": "stdout",
     "output_type": "stream",
     "text": [
      "The year is not a leap year.\n"
     ]
    }
   ],
   "source": [
    "#### 5. Create a program that checks if a year is a leap year or not.\n",
    "\n",
    "year = int(input(\"Enter a year: \"))\n",
    "\n",
    "if (year % 4 == 0 and year % 100 != 0) or (year % 400 == 0):\n",
    "    print(\"The year is a leap year.\")\n",
    "else:\n",
    "    print(\"The year is not a leap year.\")"
   ]
  },
  {
   "cell_type": "code",
   "execution_count": 36,
   "id": "9d47cfb3-5627-471a-916e-ffbe12df60bb",
   "metadata": {},
   "outputs": [
    {
     "name": "stdin",
     "output_type": "stream",
     "text": [
      "Enter the length of the first side:  10\n",
      "Enter the length of the second side:  1\n",
      "Enter the length of the third side:  4\n"
     ]
    },
    {
     "name": "stdout",
     "output_type": "stream",
     "text": [
      "The triangle is scalene.\n"
     ]
    }
   ],
   "source": [
    "#### 6. Write a program to classify a triangle based on its sides' lengths.\n",
    "\n",
    "side1 = float(input(\"Enter the length of the first side: \"))\n",
    "side2 = float(input(\"Enter the length of the second side: \"))\n",
    "side3 = float(input(\"Enter the length of the third side: \"))\n",
    "\n",
    "if side1 == side2 == side3:\n",
    "    print(\"The triangle is equilateral.\")\n",
    "elif side1 == side2 or side1 == side3 or side2 == side3:\n",
    "    print(\"The triangle is isosceles.\")\n",
    "else:\n",
    "    print(\"The triangle is scalene.\")"
   ]
  },
  {
   "cell_type": "code",
   "execution_count": 37,
   "id": "c42c1910-6581-4dce-b7d7-9472f0d3d616",
   "metadata": {},
   "outputs": [
    {
     "name": "stdin",
     "output_type": "stream",
     "text": [
      "Enter the first number:  10\n",
      "Enter the second number:  11\n",
      "Enter the third number:  12\n"
     ]
    },
    {
     "name": "stdout",
     "output_type": "stream",
     "text": [
      "The largest number is: 12.0\n"
     ]
    }
   ],
   "source": [
    "#### 7. Build a program that determines the largest of three given numbers.\n",
    "\n",
    "num1 = float(input(\"Enter the first number: \"))\n",
    "num2 = float(input(\"Enter the second number: \"))\n",
    "num3 = float(input(\"Enter the third number: \"))\n",
    "\n",
    "if num1 >= num2 and num1 >= num3:\n",
    "    print(\"The largest number is:\", num1)\n",
    "elif num2 >= num1 and num2 >= num3:\n",
    "    print(\"The largest number is:\", num2)\n",
    "else:\n",
    "    print(\"The largest number is:\", num3)"
   ]
  },
  {
   "cell_type": "code",
   "execution_count": 38,
   "id": "e0fa60ed-124a-4a60-96ab-c9023fe94d2d",
   "metadata": {},
   "outputs": [
    {
     "name": "stdin",
     "output_type": "stream",
     "text": [
      "Enter a character:  f\n"
     ]
    },
    {
     "name": "stdout",
     "output_type": "stream",
     "text": [
      "The character is a consonant.\n"
     ]
    }
   ],
   "source": [
    "#### 8. Develop a program that checks whether a character is a vowel or a consonant.\n",
    "\n",
    "char = input(\"Enter a character: \").lower()\n",
    "\n",
    "if char in 'aeiou':\n",
    "    print(\"The character is a vowel.\")\n",
    "else:\n",
    "    print(\"The character is a consonant.\")"
   ]
  },
  {
   "cell_type": "code",
   "execution_count": 39,
   "id": "1edc2e61-3742-490f-acee-7cde1e9b67af",
   "metadata": {},
   "outputs": [
    {
     "name": "stdin",
     "output_type": "stream",
     "text": [
      "Enter the total amount:  130\n"
     ]
    },
    {
     "name": "stdout",
     "output_type": "stream",
     "text": [
      "The total cost after discount is: 117.0\n"
     ]
    }
   ],
   "source": [
    "#### 9. Create a program to calculate the total cost of a shopping cart based on discounts.\n",
    "\n",
    "total_amount = float(input(\"Enter the total amount: \"))\n",
    "\n",
    "if total_amount >= 100:\n",
    "    discount = 0.10  # 10% discount\n",
    "elif total_amount >= 50:\n",
    "    discount = 0.05  # 5% discount\n",
    "else:\n",
    "    discount = 0.00  # No discount\n",
    "\n",
    "discounted_price = total_amount * (1 - discount)\n",
    "print(\"The total cost after discount is:\", discounted_price)"
   ]
  },
  {
   "cell_type": "code",
   "execution_count": 40,
   "id": "447f3030-2d9c-4294-b8f7-556e0b8f35a6",
   "metadata": {},
   "outputs": [
    {
     "name": "stdin",
     "output_type": "stream",
     "text": [
      "Enter a number:  7\n"
     ]
    },
    {
     "name": "stdout",
     "output_type": "stream",
     "text": [
      "The number is odd.\n"
     ]
    }
   ],
   "source": [
    "#### 10. Write a program that checks if a given number is even or odd.\n",
    "\n",
    "number = int(input(\"Enter a number: \"))\n",
    "\n",
    "if number % 2 == 0:\n",
    "    print(\"The number is even.\")\n",
    "else:\n",
    "    print(\"The number is odd.\")"
   ]
  },
  {
   "cell_type": "code",
   "execution_count": 41,
   "id": "0e4830ec-0626-408f-8c1a-8216f91531aa",
   "metadata": {},
   "outputs": [
    {
     "name": "stdin",
     "output_type": "stream",
     "text": [
      "Enter coefficient a:  13\n",
      "Enter coefficient b:  14\n",
      "Enter coefficient c:  15\n"
     ]
    },
    {
     "name": "stdout",
     "output_type": "stream",
     "text": [
      "The roots are complex: -0.5384615384615384 ± 0.9294650748918902i\n"
     ]
    }
   ],
   "source": [
    "#### Intermediate Level:\n",
    "\n",
    "#### 11. Write a program that calculates the roots of a quadratic equation .\n",
    "\n",
    "import math\n",
    "\n",
    "# Coefficients of the quadratic equation ax^2 + bx + c = 0\n",
    "a = float(input(\"Enter coefficient a: \"))\n",
    "b = float(input(\"Enter coefficient b: \"))\n",
    "c = float(input(\"Enter coefficient c: \"))\n",
    "\n",
    "discriminant = b**2 - 4*a*c\n",
    "\n",
    "if discriminant > 0:\n",
    "    root1 = (-b + math.sqrt(discriminant)) / (2 * a)\n",
    "    root2 = (-b - math.sqrt(discriminant)) / (2 * a)\n",
    "    print(f\"The roots are real and distinct: {root1}, {root2}\")\n",
    "elif discriminant == 0:\n",
    "    root = -b / (2 * a)\n",
    "    print(f\"The root is real and repeated: {root}\")\n",
    "else:\n",
    "    real_part = -b / (2 * a)\n",
    "    imag_part = math.sqrt(-discriminant) / (2 * a)\n",
    "    print(f\"The roots are complex: {real_part} ± {imag_part}i\")"
   ]
  },
  {
   "cell_type": "code",
   "execution_count": 42,
   "id": "9e1c5f9c-c149-4e5e-b0ce-f6887859dd7b",
   "metadata": {},
   "outputs": [
    {
     "name": "stdin",
     "output_type": "stream",
     "text": [
      "Enter a day number (1-7):  3\n"
     ]
    },
    {
     "name": "stdout",
     "output_type": "stream",
     "text": [
      "It's Wednesday.\n"
     ]
    }
   ],
   "source": [
    "#### 12. Create a program that determines the day of the week based on the day number (1-7).\n",
    "\n",
    "day_num = int(input(\"Enter a day number (1-7): \"))\n",
    "\n",
    "if day_num == 1:\n",
    "    print(\"It's Monday.\")\n",
    "elif day_num == 2:\n",
    "    print(\"It's Tuesday.\")\n",
    "elif day_num == 3:\n",
    "    print(\"It's Wednesday.\")\n",
    "elif day_num == 4:\n",
    "    print(\"It's Thursday.\")\n",
    "elif day_num == 5:\n",
    "    print(\"It's Friday.\")\n",
    "elif day_num == 6:\n",
    "    print(\"It's Saturday.\")\n",
    "elif day_num == 7:\n",
    "    print(\"It's Sunday.\")\n",
    "else:\n",
    "    print(\"Invalid day number. Please enter a number between 1 and 7.\")"
   ]
  },
  {
   "cell_type": "code",
   "execution_count": 43,
   "id": "b96b7f73-7525-47c0-bcc9-5a4685d877b0",
   "metadata": {},
   "outputs": [
    {
     "name": "stdin",
     "output_type": "stream",
     "text": [
      "Enter a number:  5\n"
     ]
    },
    {
     "name": "stdout",
     "output_type": "stream",
     "text": [
      "The factorial is: 120\n"
     ]
    }
   ],
   "source": [
    "#### 13. Develop a program that calculates the factorial of a given number using recursion.\n",
    "\n",
    "def factorial(n):\n",
    "    if n == 0 or n == 1:\n",
    "        return 1\n",
    "    else:\n",
    "        return n * factorial(n - 1)\n",
    "\n",
    "number = int(input(\"Enter a number: \"))\n",
    "print(\"The factorial is:\", factorial(number))"
   ]
  },
  {
   "cell_type": "code",
   "execution_count": 44,
   "id": "258cbd63-db94-431b-8810-54b34e9fc213",
   "metadata": {},
   "outputs": [
    {
     "name": "stdin",
     "output_type": "stream",
     "text": [
      "Enter the first number:  1\n",
      "Enter the second number:  2\n",
      "Enter the third number:  3\n"
     ]
    },
    {
     "name": "stdout",
     "output_type": "stream",
     "text": [
      "The largest number is: 3.0\n"
     ]
    }
   ],
   "source": [
    "#### 14. Write a program to find the largest among three numbers without using the `max()` function.\n",
    "\n",
    "num1 = float(input(\"Enter the first number: \"))\n",
    "num2 = float(input(\"Enter the second number: \"))\n",
    "num3 = float(input(\"Enter the third number: \"))\n",
    "\n",
    "if num1 >= num2 and num1 >= num3:\n",
    "    print(\"The largest number is:\", num1)\n",
    "elif num2 >= num1 and num2 >= num3:\n",
    "    print(\"The largest number is:\", num2)\n",
    "else:\n",
    "    print(\"The largest number is:\", num3)"
   ]
  },
  {
   "cell_type": "code",
   "execution_count": 45,
   "id": "872372a9-4a65-4545-a6fd-41bb5c0da7e0",
   "metadata": {},
   "outputs": [
    {
     "name": "stdout",
     "output_type": "stream",
     "text": [
      "1. Check Balance\n",
      "2. Deposit\n",
      "3. Withdraw\n",
      "4. Exit\n"
     ]
    },
    {
     "name": "stdin",
     "output_type": "stream",
     "text": [
      "Choose an option:  2\n",
      "Enter the amount to deposit:  500\n"
     ]
    },
    {
     "name": "stdout",
     "output_type": "stream",
     "text": [
      "Deposit successful. Your new balance is: 1500.0\n",
      "1. Check Balance\n",
      "2. Deposit\n",
      "3. Withdraw\n",
      "4. Exit\n"
     ]
    },
    {
     "name": "stdin",
     "output_type": "stream",
     "text": [
      "Choose an option:  3\n",
      "Enter the amount to withdraw:  10\n"
     ]
    },
    {
     "name": "stdout",
     "output_type": "stream",
     "text": [
      "Withdrawal successful. Your new balance is: 1490.0\n",
      "1. Check Balance\n",
      "2. Deposit\n",
      "3. Withdraw\n",
      "4. Exit\n"
     ]
    },
    {
     "name": "stdin",
     "output_type": "stream",
     "text": [
      "Choose an option:  1\n"
     ]
    },
    {
     "name": "stdout",
     "output_type": "stream",
     "text": [
      "Your balance is: 1490.0\n",
      "1. Check Balance\n",
      "2. Deposit\n",
      "3. Withdraw\n",
      "4. Exit\n"
     ]
    },
    {
     "name": "stdin",
     "output_type": "stream",
     "text": [
      "Choose an option:  4\n"
     ]
    },
    {
     "name": "stdout",
     "output_type": "stream",
     "text": [
      "Exiting ATM. Thank you!\n"
     ]
    }
   ],
   "source": [
    "#### 15. Create a program that simulates a basic ATM transaction menu.\n",
    "\n",
    "balance = 1000  # Initial balance\n",
    "\n",
    "def display_menu():\n",
    "    print(\"1. Check Balance\")\n",
    "    print(\"2. Deposit\")\n",
    "    print(\"3. Withdraw\")\n",
    "    print(\"4. Exit\")\n",
    "\n",
    "while True:\n",
    "    display_menu()\n",
    "    choice = int(input(\"Choose an option: \"))\n",
    "\n",
    "    if choice == 1:\n",
    "        print(\"Your balance is:\", balance)\n",
    "    elif choice == 2:\n",
    "        deposit_amount = float(input(\"Enter the amount to deposit: \"))\n",
    "        balance += deposit_amount\n",
    "        print(\"Deposit successful. Your new balance is:\", balance)\n",
    "    elif choice == 3:\n",
    "        withdraw_amount = float(input(\"Enter the amount to withdraw: \"))\n",
    "        if withdraw_amount <= balance:\n",
    "            balance -= withdraw_amount\n",
    "            print(\"Withdrawal successful. Your new balance is:\", balance)\n",
    "        else:\n",
    "            print(\"Insufficient funds.\")\n",
    "    elif choice == 4:\n",
    "        print(\"Exiting ATM. Thank you!\")\n",
    "        break\n",
    "    else:\n",
    "        print(\"Invalid option. Please try again.\")"
   ]
  },
  {
   "cell_type": "code",
   "execution_count": 46,
   "id": "2a416102-eb0b-44c9-bc9a-403cd4d03593",
   "metadata": {},
   "outputs": [
    {
     "name": "stdin",
     "output_type": "stream",
     "text": [
      "Enter a string:  pal\n"
     ]
    },
    {
     "name": "stdout",
     "output_type": "stream",
     "text": [
      "The string is not a palindrome.\n"
     ]
    }
   ],
   "source": [
    "#### 16. Build a program that checks if a given string is a palindrome or not.\n",
    "\n",
    "def is_palindrome(s):\n",
    "    return s == s[::-1]\n",
    "\n",
    "string = input(\"Enter a string: \")\n",
    "if is_palindrome(string):\n",
    "    print(\"The string is a palindrome.\")\n",
    "else:\n",
    "    print(\"The string is not a palindrome.\")\n"
   ]
  },
  {
   "cell_type": "code",
   "execution_count": 47,
   "id": "7f98ac0e-f8ce-41e6-8f26-3ee9924be0a7",
   "metadata": {},
   "outputs": [
    {
     "name": "stdin",
     "output_type": "stream",
     "text": [
      "Enter numbers separated by space:  23 24 25 26 27 28\n"
     ]
    },
    {
     "name": "stdout",
     "output_type": "stream",
     "text": [
      "The average (excluding smallest and largest) is: 25.5\n"
     ]
    }
   ],
   "source": [
    "#### 17. Write a program that calculates the average of a list of numbers, excluding the smallest and largest values.\n",
    "\n",
    "numbers = [float(x) for x in input(\"Enter numbers separated by space: \").split()]\n",
    "\n",
    "if len(numbers) > 2:\n",
    "    numbers.remove(min(numbers))\n",
    "    numbers.remove(max(numbers))\n",
    "    average = sum(numbers) / len(numbers)\n",
    "    print(\"The average (excluding smallest and largest) is:\", average)\n",
    "else:\n",
    "    print(\"Not enough numbers to exclude the smallest and largest.\")"
   ]
  },
  {
   "cell_type": "code",
   "execution_count": 48,
   "id": "2214d1be-368c-4890-8882-342285e3cec1",
   "metadata": {},
   "outputs": [
    {
     "name": "stdin",
     "output_type": "stream",
     "text": [
      "Enter temperature in Celsius:  25\n"
     ]
    },
    {
     "name": "stdout",
     "output_type": "stream",
     "text": [
      "Temperature in Fahrenheit is: 77.0\n"
     ]
    }
   ],
   "source": [
    "#### 18. Develop a program that converts a given temperature from Celsius to Fahrenheit.\n",
    "\n",
    "celsius = float(input(\"Enter temperature in Celsius: \"))\n",
    "fahrenheit = (celsius * 9/5) + 32\n",
    "print(f\"Temperature in Fahrenheit is: {fahrenheit}\")"
   ]
  },
  {
   "cell_type": "code",
   "execution_count": 49,
   "id": "9aa5b33d-eb90-40bc-83f8-2bc648a56694",
   "metadata": {},
   "outputs": [
    {
     "name": "stdout",
     "output_type": "stream",
     "text": [
      "Select operation:\n",
      "1. Add\n",
      "2. Subtract\n",
      "3. Multiply\n",
      "4. Divide\n"
     ]
    },
    {
     "name": "stdin",
     "output_type": "stream",
     "text": [
      "Choose an operation (1/2/3/4):  1\n",
      "Enter first number:  2\n",
      "Enter second number:  3\n"
     ]
    },
    {
     "name": "stdout",
     "output_type": "stream",
     "text": [
      "Result: 5.0\n"
     ]
    }
   ],
   "source": [
    "#### 19. Create a program that simulates a basic calculator for addition, subtraction, multiplication, and division.\n",
    "\n",
    "def add(x, y):\n",
    "    return x + y\n",
    "\n",
    "def subtract(x, y):\n",
    "    return x - y\n",
    "\n",
    "def multiply(x, y):\n",
    "    return x * y\n",
    "\n",
    "def divide(x, y):\n",
    "    if y == 0:\n",
    "        return \"Cannot divide by zero\"\n",
    "    return x / y\n",
    "\n",
    "print(\"Select operation:\")\n",
    "print(\"1. Add\")\n",
    "print(\"2. Subtract\")\n",
    "print(\"3. Multiply\")\n",
    "print(\"4. Divide\")\n",
    "\n",
    "choice = input(\"Choose an operation (1/2/3/4): \")\n",
    "num1 = float(input(\"Enter first number: \"))\n",
    "num2 = float(input(\"Enter second number: \"))\n",
    "\n",
    "if choice == '1':\n",
    "    print(\"Result:\", add(num1, num2))\n",
    "elif choice == '2':\n",
    "    print(\"Result:\", subtract(num1, num2))\n",
    "elif choice == '3':\n",
    "    print(\"Result:\", multiply(num1, num2))\n",
    "elif choice == '4':\n",
    "    print(\"Result:\", divide(num1, num2))\n",
    "else:\n",
    "    print(\"Invalid input\")"
   ]
  },
  {
   "cell_type": "code",
   "execution_count": 50,
   "id": "b579071b-dcb5-4721-9a88-213b223d059c",
   "metadata": {},
   "outputs": [
    {
     "name": "stdout",
     "output_type": "stream",
     "text": [
      "This program demonstrates how to solve a cubic equation.\n"
     ]
    },
    {
     "name": "stdin",
     "output_type": "stream",
     "text": [
      "Enter coefficient a:  6\n",
      "Enter coefficient b:  7\n",
      "Enter coefficient c:  8\n",
      "Enter constant d:  9\n"
     ]
    },
    {
     "name": "stdout",
     "output_type": "stream",
     "text": [
      "Implementing Cardano's formula for cubic equations requires more advanced steps.\n"
     ]
    }
   ],
   "source": [
    "#### 20. Write a program that determines the roots of a cubic equation using the Cardano formula.\n",
    "\n",
    "\"\"\"\n",
    "- Cardano's method for solving cubic equations is quite complex for beginner-level programming, involving multiple steps like converting the cubic equation into a simpler form and calculating real and complex roots. \n",
    "\"\"\"\n",
    "\n",
    "#### Example:\n",
    "\n",
    "# Placeholder for solving a cubic equation using Cardano's formula\n",
    "# Cardano's formula involves several complex steps; this will just show how we could implement the concept\n",
    "\n",
    "print(\"This program demonstrates how to solve a cubic equation.\")\n",
    "\n",
    "# Example coefficients for the cubic equation ax^3 + bx^2 + cx + d = 0\n",
    "a = float(input(\"Enter coefficient a: \"))\n",
    "b = float(input(\"Enter coefficient b: \"))\n",
    "c = float(input(\"Enter coefficient c: \"))\n",
    "d = float(input(\"Enter constant d: \"))\n",
    "\n",
    "# Normally, Cardano's method is used here, but it's too complex for this simple program.\n",
    "print(\"Implementing Cardano's formula for cubic equations requires more advanced steps.\")"
   ]
  },
  {
   "cell_type": "code",
   "execution_count": 54,
   "id": "c1b848bb-6315-464c-9a8b-2e98f38f5166",
   "metadata": {},
   "outputs": [
    {
     "name": "stdin",
     "output_type": "stream",
     "text": [
      "Enter a password:  rf6@09kl!#\n"
     ]
    },
    {
     "name": "stdout",
     "output_type": "stream",
     "text": [
      "Password must contain at least one uppercase letter.\n"
     ]
    }
   ],
   "source": [
    "#### Challenge Level:\n",
    "\n",
    "#### 31. Create a program that validates a password based on complexity rules (length, characters, etc.).\n",
    "\n",
    "def validate_password(password):\n",
    "    if len(password) < 8:\n",
    "        return \"Password must be at least 8 characters long.\"\n",
    "    if not any(char.isdigit() for char in password):\n",
    "        return \"Password must contain at least one digit.\"\n",
    "    if not any(char.isupper() for char in password):\n",
    "        return \"Password must contain at least one uppercase letter.\"\n",
    "    if not any(char.islower() for char in password):\n",
    "        return \"Password must contain at least one lowercase letter.\"\n",
    "    if not any(char in \"!@#$%^&*()-_+=\" for char in password):\n",
    "        return \"Password must contain at least one special character.\"\n",
    "    return \"Password is valid.\"\n",
    "\n",
    "password = input(\"Enter a password: \")\n",
    "print(validate_password(password))"
   ]
  },
  {
   "cell_type": "code",
   "execution_count": 67,
   "id": "e47b7ed2-8df8-46c1-914f-2d907ddc56b9",
   "metadata": {},
   "outputs": [
    {
     "name": "stdin",
     "output_type": "stream",
     "text": [
      "Enter number of rows:  2\n",
      "Enter number of columns:  2\n"
     ]
    },
    {
     "name": "stdout",
     "output_type": "stream",
     "text": [
      "Enter elements of first matrix row by row (space-separated):\n"
     ]
    },
    {
     "name": "stdin",
     "output_type": "stream",
     "text": [
      " 1 2\n",
      " 3 4\n"
     ]
    },
    {
     "name": "stdout",
     "output_type": "stream",
     "text": [
      "Enter elements of second matrix row by row (space-separated):\n"
     ]
    },
    {
     "name": "stdin",
     "output_type": "stream",
     "text": [
      " 5 6\n",
      " 7 8\n"
     ]
    },
    {
     "name": "stdout",
     "output_type": "stream",
     "text": [
      "Choose operation: 1. Addition 2. Subtraction\n"
     ]
    },
    {
     "name": "stdin",
     "output_type": "stream",
     "text": [
      "Your choice:  1\n"
     ]
    },
    {
     "name": "stdout",
     "output_type": "stream",
     "text": [
      "Result of matrix addition:\n",
      "[6, 8]\n",
      "[10, 12]\n"
     ]
    }
   ],
   "source": [
    "#### 32. Develop a program that performs matrix addition and subtraction based on user input.\n",
    "\n",
    "def print_matrix(matrix):\n",
    "    for row in matrix:\n",
    "        print(row)\n",
    "\n",
    "# Get matrix dimensions\n",
    "rows = int(input(\"Enter number of rows: \"))\n",
    "cols = int(input(\"Enter number of columns: \"))\n",
    "\n",
    "# Initialize matrices\n",
    "matrix1 = []\n",
    "matrix2 = []\n",
    "\n",
    "print(\"Enter elements of first matrix row by row (space-separated):\")\n",
    "for i in range(rows):\n",
    "    matrix1.append([int(x) for x in input().split()])\n",
    "\n",
    "print(\"Enter elements of second matrix row by row (space-separated):\")\n",
    "for i in range(rows):\n",
    "    matrix2.append([int(x) for x in input().split()])\n",
    "\n",
    "print(\"Choose operation: 1. Addition 2. Subtraction\")\n",
    "choice = int(input(\"Your choice: \"))\n",
    "\n",
    "if choice == 1:\n",
    "    result = [[matrix1[i][j] + matrix2[i][j] for j in range(cols)] for i in range(rows)]\n",
    "    print(\"Result of matrix addition:\")\n",
    "elif choice == 2:\n",
    "    result = [[matrix1[i][j] - matrix2[i][j] for j in range(cols)] for i in range(rows)]\n",
    "    print(\"Result of matrix subtraction:\")\n",
    "else:\n",
    "    print(\"Invalid choice.\")\n",
    "\n",
    "print_matrix(result)"
   ]
  },
  {
   "cell_type": "code",
   "execution_count": 68,
   "id": "c31711ae-291c-4799-933b-6b63b4bb821a",
   "metadata": {},
   "outputs": [
    {
     "name": "stdin",
     "output_type": "stream",
     "text": [
      "Enter first number:  2\n",
      "Enter second number:  4\n"
     ]
    },
    {
     "name": "stdout",
     "output_type": "stream",
     "text": [
      "The GCD of 2 and 4 is: 2\n"
     ]
    }
   ],
   "source": [
    "#### 33. Write a program that calculates the greatest common divisor (GCD) of two numbers using the Euclidean algorithm.\n",
    "\n",
    "def gcd(a, b):\n",
    "    while b:\n",
    "        a, b = b, a % b\n",
    "    return a\n",
    "\n",
    "num1 = int(input(\"Enter first number: \"))\n",
    "num2 = int(input(\"Enter second number: \"))\n",
    "print(f\"The GCD of {num1} and {num2} is: {gcd(num1, num2)}\")"
   ]
  },
  {
   "cell_type": "code",
   "execution_count": 71,
   "id": "a25872b1-9189-4036-913e-19666eca5624",
   "metadata": {},
   "outputs": [
    {
     "name": "stdin",
     "output_type": "stream",
     "text": [
      "Enter number of rows for the first matrix:  2\n",
      "Enter number of columns for the first matrix:  2\n",
      "Enter number of rows for the second matrix:  2\n",
      "Enter number of columns for the second matrix:  2\n"
     ]
    },
    {
     "name": "stdout",
     "output_type": "stream",
     "text": [
      "Enter elements of first matrix row by row (space-separated):\n"
     ]
    },
    {
     "name": "stdin",
     "output_type": "stream",
     "text": [
      " 1 2\n",
      " 3 4\n"
     ]
    },
    {
     "name": "stdout",
     "output_type": "stream",
     "text": [
      "Enter elements of second matrix row by row (space-separated):\n"
     ]
    },
    {
     "name": "stdin",
     "output_type": "stream",
     "text": [
      " 5 6\n",
      " 7 8\n"
     ]
    },
    {
     "name": "stdout",
     "output_type": "stream",
     "text": [
      "Result of matrix multiplication:\n",
      "[19, 22]\n",
      "[43, 50]\n"
     ]
    }
   ],
   "source": [
    "#### 34. Build a program that performs matrix multiplication using nested loops and conditional statements.\n",
    "\n",
    "# Function to print matrix\n",
    "def print_matrix(matrix):\n",
    "    for row in matrix:\n",
    "        print(row)\n",
    "\n",
    "# Get matrix dimensions\n",
    "rows1 = int(input(\"Enter number of rows for the first matrix: \"))\n",
    "cols1 = int(input(\"Enter number of columns for the first matrix: \"))\n",
    "rows2 = int(input(\"Enter number of rows for the second matrix: \"))\n",
    "cols2 = int(input(\"Enter number of columns for the second matrix: \"))\n",
    "\n",
    "# Check if matrix multiplication is possible\n",
    "if cols1 != rows2:\n",
    "    print(\"Matrix multiplication is not possible!\")\n",
    "else:\n",
    "    # Input for first matrix\n",
    "    print(\"Enter elements of first matrix row by row (space-separated):\")\n",
    "    matrix1 = [[int(x) for x in input().split()] for _ in range(rows1)]\n",
    "\n",
    "    # Input for second matrix\n",
    "    print(\"Enter elements of second matrix row by row (space-separated):\")\n",
    "    matrix2 = [[int(x) for x in input().split()] for _ in range(rows2)]\n",
    "\n",
    "    # Initialize result matrix with zeros\n",
    "    result = [[0 for _ in range(cols2)] for _ in range(rows1)]\n",
    "\n",
    "    # Perform matrix multiplication\n",
    "    for i in range(rows1):\n",
    "        for j in range(cols2):\n",
    "            for k in range(cols1):\n",
    "                result[i][j] += matrix1[i][k] * matrix2[k][j]\n",
    "\n",
    "    # Print the result of matrix multiplication\n",
    "    print(\"Result of matrix multiplication:\")\n",
    "    print_matrix(result)"
   ]
  },
  {
   "cell_type": "code",
   "execution_count": 72,
   "id": "d2077797-c688-4c54-9bf8-93c4a162c404",
   "metadata": {},
   "outputs": [
    {
     "name": "stdout",
     "output_type": "stream",
     "text": [
      "[' ', ' ', ' ']\n",
      "[' ', ' ', ' ']\n",
      "[' ', ' ', ' ']\n"
     ]
    },
    {
     "name": "stdin",
     "output_type": "stream",
     "text": [
      "Enter position (1-9) for X:  3\n"
     ]
    },
    {
     "name": "stdout",
     "output_type": "stream",
     "text": [
      "[' ', ' ', 'X']\n",
      "[' ', ' ', ' ']\n",
      "[' ', ' ', ' ']\n"
     ]
    },
    {
     "name": "stdin",
     "output_type": "stream",
     "text": [
      "Enter position (1-9) for O:  4\n"
     ]
    },
    {
     "name": "stdout",
     "output_type": "stream",
     "text": [
      "[' ', ' ', 'X']\n",
      "['O', ' ', ' ']\n",
      "[' ', ' ', ' ']\n"
     ]
    },
    {
     "name": "stdin",
     "output_type": "stream",
     "text": [
      "Enter position (1-9) for X:  5\n"
     ]
    },
    {
     "name": "stdout",
     "output_type": "stream",
     "text": [
      "[' ', ' ', 'X']\n",
      "['O', 'X', ' ']\n",
      "[' ', ' ', ' ']\n"
     ]
    },
    {
     "name": "stdin",
     "output_type": "stream",
     "text": [
      "Enter position (1-9) for O:  6\n"
     ]
    },
    {
     "name": "stdout",
     "output_type": "stream",
     "text": [
      "[' ', ' ', 'X']\n",
      "['O', 'X', 'O']\n",
      "[' ', ' ', ' ']\n"
     ]
    },
    {
     "name": "stdin",
     "output_type": "stream",
     "text": [
      "Enter position (1-9) for X:  7\n"
     ]
    },
    {
     "name": "stdout",
     "output_type": "stream",
     "text": [
      "Player X wins!\n"
     ]
    }
   ],
   "source": [
    "#### 35. Create a program that simulates a basic text-based tic-tac-toe game against the computer.\n",
    "\n",
    "board = [' ' for _ in range(9)]\n",
    "\n",
    "def print_board():\n",
    "    for i in range(3):\n",
    "        print(board[i*3:(i+1)*3])\n",
    "\n",
    "def check_win(player):\n",
    "    win_positions = [(0,1,2), (3,4,5), (6,7,8), (0,3,6), (1,4,7), (2,5,8), (0,4,8), (2,4,6)]\n",
    "    return any(board[a] == board[b] == board[c] == player for a,b,c in win_positions)\n",
    "\n",
    "def make_move(player):\n",
    "    move = int(input(f\"Enter position (1-9) for {player}: \")) - 1\n",
    "    if board[move] == ' ':\n",
    "        board[move] = player\n",
    "    else:\n",
    "        print(\"Position taken, try again.\")\n",
    "        make_move(player)\n",
    "\n",
    "for turn in range(9):\n",
    "    print_board()\n",
    "    if turn % 2 == 0:\n",
    "        make_move('X')\n",
    "    else:\n",
    "        make_move('O')\n",
    "\n",
    "    if check_win('X'):\n",
    "        print(\"Player X wins!\")\n",
    "        break\n",
    "    elif check_win('O'):\n",
    "        print(\"Player O wins!\")\n",
    "        break\n",
    "else:\n",
    "    print(\"It's a tie!\")"
   ]
  },
  {
   "cell_type": "code",
   "execution_count": 73,
   "id": "bf91f543-832e-4f28-834f-42c10294df6f",
   "metadata": {},
   "outputs": [
    {
     "name": "stdin",
     "output_type": "stream",
     "text": [
      "Enter the number of terms:  3\n"
     ]
    },
    {
     "name": "stdout",
     "output_type": "stream",
     "text": [
      "Fibonacci sequence:\n",
      "0 1 1 "
     ]
    }
   ],
   "source": [
    "#### 36. Write a program that generates Fibonacci numbers up to a specified term using iterative methods.\n",
    "\n",
    "n = int(input(\"Enter the number of terms: \"))\n",
    "\n",
    "a, b = 0, 1\n",
    "print(\"Fibonacci sequence:\")\n",
    "for _ in range(n):\n",
    "    print(a, end=\" \")\n",
    "    a, b = b, a + b"
   ]
  },
  {
   "cell_type": "code",
   "execution_count": 74,
   "id": "83b30432-856e-4895-b7b0-9f97b7ddac92",
   "metadata": {},
   "outputs": [
    {
     "name": "stdin",
     "output_type": "stream",
     "text": [
      "Enter the term number:  6\n"
     ]
    },
    {
     "name": "stdout",
     "output_type": "stream",
     "text": [
      "The 6th Fibonacci number is: 8\n"
     ]
    }
   ],
   "source": [
    "#### 37. Develop a program that calculates the nth term of the Fibonacci sequence using memoization.\n",
    "\n",
    "fib_cache = {}\n",
    "\n",
    "def fibonacci(n):\n",
    "    if n in fib_cache:\n",
    "        return fib_cache[n]\n",
    "    if n <= 1:\n",
    "        return n\n",
    "    fib_cache[n] = fibonacci(n-1) + fibonacci(n-2)\n",
    "    return fib_cache[n]\n",
    "\n",
    "n = int(input(\"Enter the term number: \"))\n",
    "print(f\"The {n}th Fibonacci number is: {fibonacci(n)}\")"
   ]
  },
  {
   "cell_type": "code",
   "execution_count": 75,
   "id": "087d1f23-a1b7-48cb-8c77-5766aedad084",
   "metadata": {},
   "outputs": [
    {
     "name": "stdin",
     "output_type": "stream",
     "text": [
      "Enter the year:  1992\n",
      "Enter the month:  9\n"
     ]
    },
    {
     "name": "stdout",
     "output_type": "stream",
     "text": [
      "   September 1992\n",
      "Mo Tu We Th Fr Sa Su\n",
      "    1  2  3  4  5  6\n",
      " 7  8  9 10 11 12 13\n",
      "14 15 16 17 18 19 20\n",
      "21 22 23 24 25 26 27\n",
      "28 29 30\n",
      "\n"
     ]
    }
   ],
   "source": [
    "#### 38. Create a program that generates a calendar for a given month and year using conditional statements.\n",
    "\n",
    "import calendar\n",
    "\n",
    "year = int(input(\"Enter the year: \"))\n",
    "month = int(input(\"Enter the month: \"))\n",
    "\n",
    "print(calendar.month(year, month))"
   ]
  },
  {
   "cell_type": "code",
   "execution_count": 76,
   "id": "f649e928-0b09-4164-8087-3a0953ef16d2",
   "metadata": {},
   "outputs": [
    {
     "name": "stdout",
     "output_type": "stream",
     "text": [
      "Your hand: [10, 7], score: 17\n"
     ]
    },
    {
     "name": "stdin",
     "output_type": "stream",
     "text": [
      "Type 'y' to get another card, 'n' to pass:  y\n"
     ]
    },
    {
     "name": "stdout",
     "output_type": "stream",
     "text": [
      "Your hand: [10, 7, 2], score: 19\n"
     ]
    },
    {
     "name": "stdin",
     "output_type": "stream",
     "text": [
      "Type 'y' to get another card, 'n' to pass:  y\n"
     ]
    },
    {
     "name": "stdout",
     "output_type": "stream",
     "text": [
      "Dealer's hand: [3, 10, 6], score: 19\n",
      "You went over. Dealer wins!\n"
     ]
    }
   ],
   "source": [
    "#### 39. Build a program that simulates a basic text-based blackjack game against the computer.\n",
    "\n",
    "import random\n",
    "\n",
    "def deal_card():\n",
    "    return random.choice([2, 3, 4, 5, 6, 7, 8, 9, 10, 10, 10, 10, 11])  # 11 is Ace\n",
    "\n",
    "def calculate_score(hand):\n",
    "    score = sum(hand)\n",
    "    if score > 21 and 11 in hand:\n",
    "        hand[hand.index(11)] = 1  # Ace counts as 1 if total > 21\n",
    "    return sum(hand)\n",
    "\n",
    "player_hand = [deal_card(), deal_card()]\n",
    "dealer_hand = [deal_card(), deal_card()]\n",
    "\n",
    "while calculate_score(player_hand) < 21:\n",
    "    print(f\"Your hand: {player_hand}, score: {calculate_score(player_hand)}\")\n",
    "    if input(\"Type 'y' to get another card, 'n' to pass: \") == 'y':\n",
    "        player_hand.append(deal_card())\n",
    "    else:\n",
    "        break\n",
    "\n",
    "while calculate_score(dealer_hand) < 17:\n",
    "    dealer_hand.append(deal_card())\n",
    "\n",
    "print(f\"Dealer's hand: {dealer_hand}, score: {calculate_score(dealer_hand)}\")\n",
    "\n",
    "if calculate_score(player_hand) > 21:\n",
    "    print(\"You went over. Dealer wins!\")\n",
    "elif calculate_score(dealer_hand) > 21 or calculate_score(player_hand) > calculate_score(dealer_hand):\n",
    "    print(\"You win!\")\n",
    "else:\n",
    "    print(\"Dealer wins!\")"
   ]
  },
  {
   "cell_type": "code",
   "execution_count": 77,
   "id": "7a9d6c44-20b1-4100-929c-a786424a5621",
   "metadata": {},
   "outputs": [
    {
     "name": "stdin",
     "output_type": "stream",
     "text": [
      "Enter a number:  5\n"
     ]
    },
    {
     "name": "stdout",
     "output_type": "stream",
     "text": [
      "Prime factors: [5]\n"
     ]
    }
   ],
   "source": [
    "#### 40. Write a program that generates the prime factors of a given number using trial division.\n",
    "\n",
    "def prime_factors(n):\n",
    "    factors = []\n",
    "    # Divide out the number by 2\n",
    "    while n % 2 == 0:\n",
    "        factors.append(2)\n",
    "        n //= 2\n",
    "    # Try odd numbers starting from 3\n",
    "    for i in range(3, int(n**0.5) + 1, 2):\n",
    "        while n % i == 0:\n",
    "            factors.append(i)\n",
    "            n //= i\n",
    "    if n > 2:\n",
    "        factors.append(n)\n",
    "    return factors\n",
    "\n",
    "number = int(input(\"Enter a number: \"))\n",
    "print(f\"Prime factors: {prime_factors(number)}\")"
   ]
  },
  {
   "cell_type": "code",
   "execution_count": null,
   "id": "2d9b9a5e-33e6-4e19-80b7-ab090677d56c",
   "metadata": {},
   "outputs": [],
   "source": []
  }
 ],
 "metadata": {
  "kernelspec": {
   "display_name": "Python 3 (ipykernel)",
   "language": "python",
   "name": "python3"
  },
  "language_info": {
   "codemirror_mode": {
    "name": "ipython",
    "version": 3
   },
   "file_extension": ".py",
   "mimetype": "text/x-python",
   "name": "python",
   "nbconvert_exporter": "python",
   "pygments_lexer": "ipython3",
   "version": "3.10.8"
  }
 },
 "nbformat": 4,
 "nbformat_minor": 5
}
