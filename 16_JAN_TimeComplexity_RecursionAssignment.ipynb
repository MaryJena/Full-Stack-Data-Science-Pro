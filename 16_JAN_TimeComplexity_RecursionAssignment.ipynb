{
 "cells": [
  {
   "cell_type": "code",
   "execution_count": 1,
   "id": "0aaf9ba5-0c03-4da9-b2d6-c82e2d9bf311",
   "metadata": {},
   "outputs": [
    {
     "name": "stdout",
     "output_type": "stream",
     "text": [
      "Contains duplicates: True\n"
     ]
    }
   ],
   "source": [
    "\"\"\"\n",
    "1. Given an array, check if it contains any duplicates or not. \n",
    "arr = [1, 2, 4, 2, 5, 9] \n",
    "Output = True\n",
    "\"\"\"\n",
    "\n",
    "def contains_duplicates(arr):\n",
    "    seen = set()\n",
    "    for num in arr:\n",
    "        if num in seen:\n",
    "            return True\n",
    "        seen.add(num)\n",
    "    return False\n",
    "\n",
    "# Example usage:\n",
    "arr1 = [1, 2, 4, 2, 5, 9]\n",
    "print(\"Contains duplicates:\", contains_duplicates(arr1))"
   ]
  },
  {
   "cell_type": "code",
   "execution_count": 3,
   "id": "25e79404-5abf-409d-be46-d5d3dece980d",
   "metadata": {},
   "outputs": [
    {
     "name": "stdout",
     "output_type": "stream",
     "text": [
      "Rotated array: [5, 6, 7, 1, 2, 3, 4]\n"
     ]
    }
   ],
   "source": [
    "\"\"\"\n",
    "2. Given an array and an integer k, rotate the array to the right by k steps. \n",
    "arr = [1, 2, 3, 4, 5, 6, 7] k = 3 \n",
    "Output = [5, 6, 7, 1, 2, 3, 4]\n",
    "\"\"\"\n",
    "\n",
    "def rotate_array(arr, k):\n",
    "    k = k % len(arr)  # Handle cases where k is larger than the length of the array\n",
    "    return arr[-k:] + arr[:-k]\n",
    "\n",
    "# Example usage:\n",
    "arr2 = [1, 2, 3, 4, 5, 6, 7]\n",
    "k2 = 3\n",
    "print(\"Rotated array:\", rotate_array(arr2, k2))"
   ]
  },
  {
   "cell_type": "code",
   "execution_count": 4,
   "id": "f70ff9c3-5055-4ce8-9fcc-d605294d7cbf",
   "metadata": {},
   "outputs": [
    {
     "name": "stdout",
     "output_type": "stream",
     "text": [
      "Reversed array: [12, 9, 7, 5, 4, 2]\n"
     ]
    }
   ],
   "source": [
    "\"\"\"\n",
    "3. Reverse the given array in-place, means without using any extra data structure. \n",
    "arr = [2, 4, 5, 7, 9, 12] \n",
    "Output = [12, 9, 7, 5, 4, 2]\n",
    "\"\"\"\n",
    "\n",
    "def reverse_array(arr):\n",
    "    left, right = 0, len(arr) - 1\n",
    "    while left < right:\n",
    "        arr[left], arr[right] = arr[right], arr[left]\n",
    "        left += 1\n",
    "        right -= 1\n",
    "\n",
    "# Example usage:\n",
    "arr3 = [2, 4, 5, 7, 9, 12]\n",
    "reverse_array(arr3)\n",
    "print(\"Reversed array:\", arr3)"
   ]
  },
  {
   "cell_type": "code",
   "execution_count": 5,
   "id": "1c3f9d8c-ea3b-48e6-9ded-fd69b3657d42",
   "metadata": {},
   "outputs": [
    {
     "name": "stdout",
     "output_type": "stream",
     "text": [
      "Maximum element: 20\n"
     ]
    }
   ],
   "source": [
    "\"\"\"\n",
    "4. Given an array of integers, find the maximum element in an array\n",
    "arr = [10, 5, 20, 8, 15]\n",
    "Output = 20\n",
    "\"\"\"\n",
    "\n",
    "def find_max_element(arr):\n",
    "    max_element = arr[0]\n",
    "    for num in arr:\n",
    "        if num > max_element:\n",
    "            max_element = num\n",
    "    return max_element\n",
    "\n",
    "# Example usage:\n",
    "arr4 = [10, 5, 20, 8, 15]\n",
    "print(\"Maximum element:\", find_max_element(arr4))"
   ]
  },
  {
   "cell_type": "code",
   "execution_count": 6,
   "id": "5b397038-fa9f-4acf-9f17-94456ce2921e",
   "metadata": {},
   "outputs": [
    {
     "name": "stdout",
     "output_type": "stream",
     "text": [
      "Array without duplicates: [1, 2, 3, 4, 5]\n"
     ]
    }
   ],
   "source": [
    "\"\"\"\n",
    "5. Given a sorted array, remove the duplicate element without using any extra data structure. \n",
    "arr = [1, 1, 2, 2, 2, 3, 3, 4, 4, 4, 5, 5] \n",
    "Output = [1, 2, 3, 4, 5]\n",
    "\"\"\"\n",
    "\n",
    "def remove_duplicates(arr):\n",
    "    if not arr:\n",
    "        return arr\n",
    "    unique_index = 0\n",
    "    for i in range(1, len(arr)):\n",
    "        if arr[i] != arr[unique_index]:\n",
    "            unique_index += 1\n",
    "            arr[unique_index] = arr[i]\n",
    "    return arr[:unique_index + 1]\n",
    "\n",
    "# Example usage:\n",
    "arr5 = [1, 1, 2, 2, 2, 3, 3, 4, 4, 4, 5, 5]\n",
    "print(\"Array without duplicates:\", remove_duplicates(arr5))"
   ]
  },
  {
   "cell_type": "code",
   "execution_count": null,
   "id": "a19a0285-8407-45df-af49-3c24a8c49bf7",
   "metadata": {},
   "outputs": [],
   "source": []
  }
 ],
 "metadata": {
  "kernelspec": {
   "display_name": "Python 3 (ipykernel)",
   "language": "python",
   "name": "python3"
  },
  "language_info": {
   "codemirror_mode": {
    "name": "ipython",
    "version": 3
   },
   "file_extension": ".py",
   "mimetype": "text/x-python",
   "name": "python",
   "nbconvert_exporter": "python",
   "pygments_lexer": "ipython3",
   "version": "3.10.8"
  }
 },
 "nbformat": 4,
 "nbformat_minor": 5
}
