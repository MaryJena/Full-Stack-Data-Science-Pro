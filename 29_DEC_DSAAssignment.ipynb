{
 "cells": [
  {
   "cell_type": "code",
   "execution_count": 3,
   "id": "34722e99-946d-4dec-964b-54607d9834a1",
   "metadata": {},
   "outputs": [
    {
     "name": "stdout",
     "output_type": "stream",
     "text": [
      "5 -> 4 -> 3 -> 2 -> 1"
     ]
    }
   ],
   "source": [
    "\"\"\"\n",
    "Problem 1: Reverse a singly linked list.\n",
    "Input: 1 -> 2 -> 3 -> 4 -> 5\n",
    "Output: 5 -> 4 -> 3 -> 2 -> 1\n",
    "\"\"\"\n",
    "\n",
    "class ListNode:\n",
    "    def __init__(self, val=0, next=None):\n",
    "        self.val = val\n",
    "        self.next = next\n",
    "\n",
    "def reverse_linked_list(head):\n",
    "    prev = None\n",
    "    current = head\n",
    "    while current:\n",
    "        next_node = current.next\n",
    "        current.next = prev\n",
    "        prev = current\n",
    "        current = next_node\n",
    "    return prev\n",
    "\n",
    "# Example usage:\n",
    "head1 = ListNode(1, ListNode(2, ListNode(3, ListNode(4, ListNode(5)))))\n",
    "reversed_list = reverse_linked_list(head1)\n",
    "while reversed_list:\n",
    "    print(reversed_list.val, end=\" -> \" if reversed_list.next else \"\")\n",
    "    reversed_list = reversed_list.next"
   ]
  },
  {
   "cell_type": "code",
   "execution_count": 4,
   "id": "d948c5c4-f446-4972-83e8-b36db970f726",
   "metadata": {},
   "outputs": [
    {
     "name": "stdout",
     "output_type": "stream",
     "text": [
      "1 -> 2 -> 3 -> 4 -> 5 -> 6"
     ]
    }
   ],
   "source": [
    "\"\"\"\n",
    "Problem 2: Merge two sorted linked lists into one sorted linked list.\n",
    "Input: List 1: 1 -> 3 -> 5, List 2: 2 -> 4 -> 6\n",
    "Output: 1 -> 2 -> 3 -> 4 -> 5 -> 6\n",
    "\"\"\"\n",
    "\n",
    "def merge_two_sorted_lists(l1, l2):\n",
    "    dummy = ListNode()\n",
    "    current = dummy\n",
    "    while l1 and l2:\n",
    "        if l1.val < l2.val:\n",
    "            current.next = l1\n",
    "            l1 = l1.next\n",
    "        else:\n",
    "            current.next = l2\n",
    "            l2 = l2.next\n",
    "        current = current.next\n",
    "    current.next = l1 or l2\n",
    "    return dummy.next\n",
    "\n",
    "# Example usage:\n",
    "list1 = ListNode(1, ListNode(3, ListNode(5)))\n",
    "list2 = ListNode(2, ListNode(4, ListNode(6)))\n",
    "merged_list = merge_two_sorted_lists(list1, list2)\n",
    "while merged_list:\n",
    "    print(merged_list.val, end=\" -> \" if merged_list.next else \"\")\n",
    "    merged_list = merged_list.next"
   ]
  },
  {
   "cell_type": "code",
   "execution_count": 5,
   "id": "faa3e782-318f-41f9-a098-dfb8605ad56d",
   "metadata": {},
   "outputs": [
    {
     "name": "stdout",
     "output_type": "stream",
     "text": [
      "1 -> 2 -> 3 -> 5"
     ]
    }
   ],
   "source": [
    "\"\"\"\n",
    "Problem 3: Remove the nth node from the end of a linked list.\n",
    "Input: 1 -> 2 -> 3 -> 4 -> 5, n = 2\n",
    "Output: 1 -> 2 -> 3 -> 5\n",
    "\"\"\"\n",
    "\n",
    "def remove_nth_from_end(head, n):\n",
    "    dummy = ListNode(0, head)\n",
    "    first = second = dummy\n",
    "    for _ in range(n + 1):\n",
    "        first = first.next\n",
    "    while first:\n",
    "        first = first.next\n",
    "        second = second.next\n",
    "    second.next = second.next.next\n",
    "    return dummy.next\n",
    "\n",
    "# Example usage:\n",
    "head3 = ListNode(1, ListNode(2, ListNode(3, ListNode(4, ListNode(5)))))\n",
    "updated_list = remove_nth_from_end(head3, 2)\n",
    "while updated_list:\n",
    "    print(updated_list.val, end=\" -> \" if updated_list.next else \"\")\n",
    "    updated_list = updated_list.next"
   ]
  },
  {
   "cell_type": "code",
   "execution_count": 6,
   "id": "5556703e-c192-493e-bf3e-187e2def15bf",
   "metadata": {},
   "outputs": [
    {
     "name": "stdout",
     "output_type": "stream",
     "text": [
      "Intersection node with value: None\n"
     ]
    }
   ],
   "source": [
    "\"\"\"\n",
    "Problem 4: Find the intersection point of two linked lists.\n",
    "Input: List 1: 1 -> 2 -> 3 -> 4, List 2: 9 -> 8 -> 3 -> 4\n",
    "Output: Node with value 3\n",
    "\"\"\"\n",
    "\n",
    "def get_intersection_node(headA, headB):\n",
    "    if not headA or not headB:\n",
    "        return None\n",
    "    a, b = headA, headB\n",
    "    while a != b:\n",
    "        a = a.next if a else headB\n",
    "        b = b.next if b else headA\n",
    "    return a\n",
    "\n",
    "# Example usage:\n",
    "listA = ListNode(1, ListNode(2, ListNode(3, ListNode(4))))\n",
    "listB = ListNode(9, ListNode(8, ListNode(3, ListNode(4))))\n",
    "intersection = get_intersection_node(listA, listB)\n",
    "print(\"Intersection node with value:\", intersection.val if intersection else \"None\")"
   ]
  },
  {
   "cell_type": "code",
   "execution_count": 7,
   "id": "0f7e4c5c-09cc-4a8d-936d-d6aa6b554435",
   "metadata": {},
   "outputs": [
    {
     "name": "stdout",
     "output_type": "stream",
     "text": [
      "1 -> 2 -> 3"
     ]
    }
   ],
   "source": [
    "\"\"\"\n",
    "Problem 5: Remove duplicates from a sorted linked list.\n",
    "Input: 1 -> 1 -> 2 -> 3 -> 3\n",
    "Output: 1 -> 2 -> 3\n",
    "\"\"\"\n",
    "\n",
    "def delete_duplicates(head):\n",
    "    current = head\n",
    "    while current and current.next:\n",
    "        if current.val == current.next.val:\n",
    "            current.next = current.next.next\n",
    "        else:\n",
    "            current = current.next\n",
    "    return head\n",
    "\n",
    "# Example usage:\n",
    "head5 = ListNode(1, ListNode(1, ListNode(2, ListNode(3, ListNode(3)))))\n",
    "updated_list = delete_duplicates(head5)\n",
    "while updated_list:\n",
    "    print(updated_list.val, end=\" -> \" if updated_list.next else \"\")\n",
    "    updated_list = updated_list.next"
   ]
  },
  {
   "cell_type": "code",
   "execution_count": 8,
   "id": "fa40c436-b0c1-497c-b485-388f09094b9c",
   "metadata": {},
   "outputs": [
    {
     "name": "stdout",
     "output_type": "stream",
     "text": [
      "7 -> 0 -> 8"
     ]
    }
   ],
   "source": [
    "\"\"\"\n",
    "Problem 6: Add two numbers represented by linked lists (where each node contains a single digit).\n",
    "Input: List 1: 2 -> 4 -> 3, List 2: 5 -> 6 -> 4 (represents 342 + 465)\n",
    "Output: 7 -> 0 -> 8 (represents 807)\n",
    "\"\"\"\n",
    "\n",
    "def add_two_numbers(l1, l2):\n",
    "    dummy = ListNode()\n",
    "    current = dummy\n",
    "    carry = 0\n",
    "    while l1 or l2 or carry:\n",
    "        val1 = l1.val if l1 else 0\n",
    "        val2 = l2.val if l2 else 0\n",
    "        total = val1 + val2 + carry\n",
    "        carry = total // 10\n",
    "        current.next = ListNode(total % 10)\n",
    "        current = current.next\n",
    "        l1 = l1.next if l1 else None\n",
    "        l2 = l2.next if l2 else None\n",
    "    return dummy.next\n",
    "\n",
    "# Example usage:\n",
    "list6a = ListNode(2, ListNode(4, ListNode(3)))\n",
    "list6b = ListNode(5, ListNode(6, ListNode(4)))\n",
    "sum_list = add_two_numbers(list6a, list6b)\n",
    "while sum_list:\n",
    "    print(sum_list.val, end=\" -> \" if sum_list.next else \"\")\n",
    "    sum_list = sum_list.next"
   ]
  },
  {
   "cell_type": "code",
   "execution_count": 9,
   "id": "b4959f77-8bf9-47e5-8b87-f7199e202495",
   "metadata": {},
   "outputs": [
    {
     "name": "stdout",
     "output_type": "stream",
     "text": [
      "2 -> 1 -> 4 -> 3"
     ]
    }
   ],
   "source": [
    "\"\"\"\n",
    "Problem 7: Swap nodes in pairs in a linked list.\n",
    "Input: 1 -> 2 -> 3 -> 4\n",
    "Output: 2 -> 1 -> 4 -> 3\n",
    "\"\"\"\n",
    "\n",
    "def swap_pairs(head):\n",
    "    dummy = ListNode(0, head)\n",
    "    current = dummy\n",
    "    while current.next and current.next.next:\n",
    "        first = current.next\n",
    "        second = current.next.next\n",
    "        current.next = second\n",
    "        first.next = second.next\n",
    "        second.next = first\n",
    "        current = first\n",
    "    return dummy.next\n",
    "\n",
    "# Example usage:\n",
    "head7 = ListNode(1, ListNode(2, ListNode(3, ListNode(4))))\n",
    "swapped_list = swap_pairs(head7)\n",
    "while swapped_list:\n",
    "    print(swapped_list.val, end=\" -> \" if swapped_list.next else \"\")\n",
    "    swapped_list = swapped_list.next"
   ]
  },
  {
   "cell_type": "code",
   "execution_count": 10,
   "id": "12cbb9f0-5959-4131-8c56-3acfc2858a21",
   "metadata": {},
   "outputs": [
    {
     "name": "stdout",
     "output_type": "stream",
     "text": [
      "3 -> 2 -> 1 -> 4 -> 5"
     ]
    }
   ],
   "source": [
    "\"\"\"\n",
    "Problem 8: Reverse nodes in a linked list in groups of k.\n",
    "Input: 1 -> 2 -> 3 -> 4 -> 5, k = 3\n",
    "Output: 3 -> 2 -> 1 -> 4 -> 5\n",
    "\"\"\"\n",
    "\n",
    "def reverse_k_group(head, k):\n",
    "    def reverse_linked_list(head, k):\n",
    "        prev, curr = None, head\n",
    "        while k:\n",
    "            next_node = curr.next\n",
    "            curr.next = prev\n",
    "            prev = curr\n",
    "            curr = next_node\n",
    "            k -= 1\n",
    "        return prev\n",
    "\n",
    "    dummy = ListNode(0, head)\n",
    "    group_prev = dummy\n",
    "    while True:\n",
    "        kth = group_prev\n",
    "        for _ in range(k):\n",
    "            kth = kth.next\n",
    "            if not kth:\n",
    "                return dummy.next\n",
    "        group_next = kth.next\n",
    "        group_head = group_prev.next\n",
    "        kth.next = None\n",
    "        group_prev.next = reverse_linked_list(group_head, k)\n",
    "        group_head.next = group_next\n",
    "        group_prev = group_head\n",
    "\n",
    "# Example usage:\n",
    "head8 = ListNode(1, ListNode(2, ListNode(3, ListNode(4, ListNode(5)))))\n",
    "reversed_k_list = reverse_k_group(head8, 3)\n",
    "while reversed_k_list:\n",
    "    print(reversed_k_list.val, end=\" -> \" if reversed_k_list.next else \"\")\n",
    "    reversed_k_list = reversed_k_list.next"
   ]
  },
  {
   "cell_type": "code",
   "execution_count": 11,
   "id": "23d8875f-bfe5-43d7-a130-0b9f34b85288",
   "metadata": {},
   "outputs": [
    {
     "name": "stdout",
     "output_type": "stream",
     "text": [
      "Is palindrome: True\n"
     ]
    }
   ],
   "source": [
    "\"\"\"\n",
    "Problem 9: Determine if a linked list is a palindrome.\n",
    "Input: 1 -> 2 -> 2 -> 1\n",
    "Output: True\n",
    "\"\"\"\n",
    "\n",
    "def is_palindrome(head):\n",
    "    def reverse(head):\n",
    "        prev = None\n",
    "        while head:\n",
    "            next_node = head.next\n",
    "            head.next = prev\n",
    "            prev = head\n",
    "            head = next_node\n",
    "        return prev\n",
    "    \n",
    "    slow = fast = head\n",
    "    while fast and fast.next:\n",
    "        slow = slow.next\n",
    "        fast = fast.next.next\n",
    "    \n",
    "    second_half = reverse(slow)\n",
    "    first_half = head\n",
    "    while second_half:\n",
    "        if first_half.val != second_half.val:\n",
    "            return False\n",
    "        first_half = first_half.next\n",
    "        second_half = second_half.next\n",
    "    return True\n",
    "\n",
    "# Example usage:\n",
    "head9 = ListNode(1, ListNode(2, ListNode(2, ListNode(1))))\n",
    "print(\"Is palindrome:\", is_palindrome(head9))"
   ]
  },
  {
   "cell_type": "code",
   "execution_count": 12,
   "id": "ed5ed0b8-5772-4e86-82d5-120801f17dfb",
   "metadata": {},
   "outputs": [
    {
     "name": "stdout",
     "output_type": "stream",
     "text": [
      "4 -> 5 -> 1 -> 2 -> 3"
     ]
    }
   ],
   "source": [
    "\"\"\"\n",
    "Problem 10: Rotate a linked list to the right by k places.\n",
    "Input: 1 -> 2 -> 3 -> 4 -> 5, k = 2\n",
    "Output: 4 -> 5 -> 1 -> 2 -> 3\n",
    "\"\"\"\n",
    "\n",
    "def rotate_right(head, k):\n",
    "    if not head or k == 0:\n",
    "        return head\n",
    "    \n",
    "    # Find the length of the list\n",
    "    length = 1\n",
    "    old_tail = head\n",
    "    while old_tail.next:\n",
    "        old_tail = old_tail.next\n",
    "        length += 1\n",
    "    \n",
    "    # Connect the tail to the head\n",
    "    old_tail.next = head\n",
    "    \n",
    "    # Find the new tail: (length - k % length - 1)th node\n",
    "    new_tail = head\n",
    "    for _ in range(length - k % length - 1):\n",
    "        new_tail = new_tail.next\n",
    "    \n",
    "    # Set the new head and break the loop\n",
    "    new_head = new_tail.next\n",
    "    new_tail.next = None\n",
    "    return new_head\n",
    "\n",
    "# Example usage:\n",
    "head10 = ListNode(1, ListNode(2, ListNode(3, ListNode(4, ListNode(5)))))\n",
    "rotated_list = rotate_right(head10, 2)\n",
    "while rotated_list:\n",
    "    print(rotated_list.val, end=\" -> \" if rotated_list.next else \"\")\n",
    "    rotated_list = rotated_list.next"
   ]
  },
  {
   "cell_type": "code",
   "execution_count": 13,
   "id": "d64cfd29-4092-4344-871c-f3fb993b0c49",
   "metadata": {},
   "outputs": [
    {
     "name": "stdout",
     "output_type": "stream",
     "text": [
      "12"
     ]
    }
   ],
   "source": [
    "\"\"\"\n",
    "Problem 11: Flatten a multilevel doubly linked list.\n",
    "Input: 1 <-> 2 <-> 3 <-> 7 <-> 8 <-> 11 -> 12, 4 <-> 5 -> 9 -> 10, 6 -> 13\n",
    "Output: 1 <-> 2 <-> 3 <-> 4 <-> 5 <-> 6 <-> 7 <-> 8 <-> 9 <-> 10 <-> 11 <-> 12 <-> 13\n",
    "\"\"\"\n",
    "\n",
    "class Node:\n",
    "    def __init__(self, val=0, next=None, prev=None, child=None):\n",
    "        self.val = val\n",
    "        self.next = next\n",
    "        self.prev = prev\n",
    "        self.child = child\n",
    "\n",
    "def flatten(head):\n",
    "    def flatten_dfs(node):\n",
    "        prev = None\n",
    "        stack = [node]\n",
    "        while stack:\n",
    "            curr = stack.pop()\n",
    "            if curr:\n",
    "                if prev:\n",
    "                    prev.next = curr\n",
    "                    curr.prev = prev\n",
    "                prev = curr\n",
    "                if curr.next:\n",
    "                    stack.append(curr.next)\n",
    "                if curr.child:\n",
    "                    stack.append(curr.child)\n",
    "                    curr.child = None\n",
    "        return prev\n",
    "    \n",
    "    flatten_head = flatten_dfs(head)\n",
    "    if flatten_head:\n",
    "        flatten_head.prev = None\n",
    "    return flatten_head\n",
    "\n",
    "# Example usage:\n",
    "head11 = Node(1, Node(2, Node(3, Node(7, Node(8, Node(11, Node(12))), None, Node(6))), None, None))\n",
    "flattened_list = flatten(head11)\n",
    "while flattened_list:\n",
    "    print(flattened_list.val, end=\" <-> \" if flattened_list.next else \"\")\n",
    "    flattened_list = flattened_list.next"
   ]
  },
  {
   "cell_type": "code",
   "execution_count": 14,
   "id": "251f8c93-65c5-4f64-99c7-c4bc5f01d1a7",
   "metadata": {},
   "outputs": [
    {
     "name": "stdout",
     "output_type": "stream",
     "text": [
      "1 -> 3 -> 5 -> 2 -> 4"
     ]
    }
   ],
   "source": [
    "\"\"\"\n",
    "Problem 12: Rearrange a linked list such that all even positioned nodes are placed at the end.\n",
    "Input: 1 -> 2 -> 3 -> 4 -> 5\n",
    "Output: 1 -> 3 -> 5 -> 2 -> 4\n",
    "\"\"\"\n",
    "\n",
    "def rearrange_even_positions(head):\n",
    "    if not head:\n",
    "        return head\n",
    "\n",
    "    odd_head = odd = ListNode(0)\n",
    "    even_head = even = ListNode(0)\n",
    "    \n",
    "    is_odd = True\n",
    "    while head:\n",
    "        if is_odd:\n",
    "            odd.next = head\n",
    "            odd = odd.next\n",
    "        else:\n",
    "            even.next = head\n",
    "            even = even.next\n",
    "        head = head.next\n",
    "        is_odd = not is_odd\n",
    "\n",
    "    odd.next = even_head.next\n",
    "    even.next = None\n",
    "    return odd_head.next\n",
    "\n",
    "# Example usage:\n",
    "head12 = ListNode(1, ListNode(2, ListNode(3, ListNode(4, ListNode(5)))))\n",
    "rearranged_list = rearrange_even_positions(head12)\n",
    "while rearranged_list:\n",
    "    print(rearranged_list.val, end=\" -> \" if rearranged_list.next else \"\")\n",
    "    rearranged_list = rearranged_list.next"
   ]
  },
  {
   "cell_type": "code",
   "execution_count": 15,
   "id": "15507572-f415-429e-8bdf-d14fbdc7ee9b",
   "metadata": {},
   "outputs": [
    {
     "name": "stdout",
     "output_type": "stream",
     "text": [
      "1 -> 2 -> 4"
     ]
    }
   ],
   "source": [
    "\"\"\"\n",
    "Problem 13: Given a non-negative number represented as a linked list, add one to it.\n",
    "Input: 1 -> 2 -> 3 (represents the number 123)\n",
    "Output: 1 -> 2 -> 4 (represents the number 124)\n",
    "\"\"\"\n",
    "\n",
    "def add_one(head):\n",
    "    def reverse_list(node):\n",
    "        prev = None\n",
    "        while node:\n",
    "            next_node = node.next\n",
    "            node.next = prev\n",
    "            prev = node\n",
    "            node = next_node\n",
    "        return prev\n",
    "\n",
    "    def add_one_to_number(node):\n",
    "        carry = 1\n",
    "        while node and carry:\n",
    "            node.val += carry\n",
    "            carry = node.val // 10\n",
    "            node.val %= 10\n",
    "            node = node.next\n",
    "        return carry\n",
    "\n",
    "    head = reverse_list(head)\n",
    "    carry = add_one_to_number(head)\n",
    "    if carry:\n",
    "        new_node = ListNode(carry)\n",
    "        new_node.next = head\n",
    "        head = new_node\n",
    "    return reverse_list(head)\n",
    "\n",
    "# Example usage:\n",
    "head13 = ListNode(1, ListNode(2, ListNode(3)))\n",
    "updated_list = add_one(head13)\n",
    "while updated_list:\n",
    "    print(updated_list.val, end=\" -> \" if updated_list.next else \"\")\n",
    "    updated_list = updated_list.next"
   ]
  },
  {
   "cell_type": "code",
   "execution_count": 16,
   "id": "89eb7285-d9a9-40ad-95ea-4f2fac44873f",
   "metadata": {},
   "outputs": [
    {
     "name": "stdout",
     "output_type": "stream",
     "text": [
      "Insert position: 2\n"
     ]
    }
   ],
   "source": [
    "\"\"\"\n",
    "Problem 14: Given a sorted array and a target value, return the index if the target is found. If not, return the\n",
    "index where it would be inserted.\n",
    "Input: nums = [1, 3, 5, 6], target = 5\n",
    "Output: 2\n",
    "\"\"\"\n",
    "\n",
    "def search_insert(nums, target):\n",
    "    left, right = 0, len(nums)\n",
    "    while left < right:\n",
    "        mid = (left + right) // 2\n",
    "        if nums[mid] < target:\n",
    "            left = mid + 1\n",
    "        else:\n",
    "            right = mid\n",
    "    return left\n",
    "\n",
    "# Example usage:\n",
    "nums14 = [1, 3, 5, 6]\n",
    "target14 = 5\n",
    "print(\"Insert position:\", search_insert(nums14, target14))"
   ]
  },
  {
   "cell_type": "code",
   "execution_count": 17,
   "id": "4f6f1cce-beb7-48e8-8940-09276570dc6b",
   "metadata": {},
   "outputs": [
    {
     "name": "stdout",
     "output_type": "stream",
     "text": [
      "Minimum element: 0\n"
     ]
    }
   ],
   "source": [
    "\"\"\"\n",
    "Problem 15: Find the minimum element in a rotated sorted array.\n",
    "Input: [4, 5, 6, 7, 0, 1, 2]\n",
    "Output: 0\n",
    "\"\"\"\n",
    "\n",
    "def find_min_in_rotated(nums):\n",
    "    left, right = 0, len(nums) - 1\n",
    "    while left < right:\n",
    "        mid = (left + right) // 2\n",
    "        if nums[mid] > nums[right]:\n",
    "            left = mid + 1\n",
    "        else:\n",
    "            right = mid\n",
    "    return nums[left]\n",
    "\n",
    "# Example usage:\n",
    "nums15 = [4, 5, 6, 7, 0, 1, 2]\n",
    "print(\"Minimum element:\", find_min_in_rotated(nums15))"
   ]
  },
  {
   "cell_type": "code",
   "execution_count": 18,
   "id": "46facd36-7f34-4400-b126-753808c54bef",
   "metadata": {},
   "outputs": [
    {
     "name": "stdout",
     "output_type": "stream",
     "text": [
      "Target index: 4\n"
     ]
    }
   ],
   "source": [
    "\"\"\"\n",
    "Problem 16: Search for a target value in a rotated sorted array.\n",
    "Input: nums = [4, 5, 6, 7, 0, 1, 2], target = 0\n",
    "Output: 4\n",
    "\"\"\"\n",
    "\n",
    "def search_in_rotated(nums, target):\n",
    "    left, right = 0, len(nums) - 1\n",
    "    while left <= right:\n",
    "        mid = (left + right) // 2\n",
    "        if nums[mid] == target:\n",
    "            return mid\n",
    "        if nums[left] <= nums[mid]:\n",
    "            if nums[left] <= target < nums[mid]:\n",
    "                right = mid - 1\n",
    "            else:\n",
    "                left = mid + 1\n",
    "        else:\n",
    "            if nums[mid] < target <= nums[right]:\n",
    "                left = mid + 1\n",
    "            else:\n",
    "                right = mid - 1\n",
    "    return -1\n",
    "\n",
    "# Example usage:\n",
    "nums16 = [4, 5, 6, 7, 0, 1, 2]\n",
    "target16 = 0\n",
    "print(\"Target index:\", search_in_rotated(nums16, target16))"
   ]
  },
  {
   "cell_type": "code",
   "execution_count": 19,
   "id": "f0ca1ebc-a468-40a1-8ed3-8e61579b30a7",
   "metadata": {},
   "outputs": [
    {
     "name": "stdout",
     "output_type": "stream",
     "text": [
      "Peak element index: 2\n"
     ]
    }
   ],
   "source": [
    "\"\"\"\n",
    "Problem 17: Find the peak element in an array. A peak element is greater than its neighbors.\n",
    "Input: nums = [1, 2, 3, 1]\n",
    "Output: 2 (index of peak element)\n",
    "\"\"\"\n",
    "\n",
    "def find_peak_element(nums):\n",
    "    left, right = 0, len(nums) - 1\n",
    "    while left < right:\n",
    "        mid = (left + right) // 2\n",
    "        if nums[mid] > nums[mid + 1]:\n",
    "            right = mid\n",
    "        else:\n",
    "            left = mid + 1\n",
    "    return left\n",
    "\n",
    "# Example usage:\n",
    "nums17 = [1, 2, 3, 1]\n",
    "print(\"Peak element index:\", find_peak_element(nums17))"
   ]
  },
  {
   "cell_type": "code",
   "execution_count": 20,
   "id": "a660138d-6735-483f-958f-959dcf6eaac2",
   "metadata": {},
   "outputs": [
    {
     "name": "stdout",
     "output_type": "stream",
     "text": [
      "Count of negative numbers: 8\n"
     ]
    }
   ],
   "source": [
    "\"\"\"\n",
    "Problem 18: Given a m x n matrix where each row and column is sorted in ascending order, count the number\n",
    "of negative numbers.\n",
    "Input: grid = [[4, 3, 2, -1], [3, 2, 1, -1], [1, 1, -1, -2], [-1, -1, -2, -3]]\n",
    "Output: 8\n",
    "\"\"\"\n",
    "\n",
    "def count_negatives(grid):\n",
    "    count = 0\n",
    "    for row in grid:\n",
    "        for num in row:\n",
    "            if num < 0:\n",
    "                count += 1\n",
    "    return count\n",
    "\n",
    "# Example usage:\n",
    "grid18 = [[4, 3, 2, -1], [3, 2, 1, -1], [1, 1, -1, -2], [-1, -1, -2, -3]]\n",
    "print(\"Count of negative numbers:\", count_negatives(grid18))"
   ]
  },
  {
   "cell_type": "code",
   "execution_count": 21,
   "id": "c6cf1716-a88d-4211-85b9-48b57477f786",
   "metadata": {},
   "outputs": [
    {
     "name": "stdout",
     "output_type": "stream",
     "text": [
      "Target found: True\n"
     ]
    }
   ],
   "source": [
    "\"\"\"\n",
    "Problem 19: Given a 2D matrix sorted in ascending order in each row, and the first integer of each row is\n",
    "greater than the last integer of the previous row, determine if a target value is present in the matrix.\n",
    "Input: matrix = [[1, 3, 5, 7], [10, 11, 16, 20], [23, 30, 34, 60]], target = 3\n",
    "Output: True\n",
    "\"\"\"\n",
    "\n",
    "def search_matrix(matrix, target):\n",
    "    if not matrix:\n",
    "        return False\n",
    "    rows, cols = len(matrix), len(matrix[0])\n",
    "    row, col = 0, cols - 1\n",
    "    while row < rows and col >= 0:\n",
    "        if matrix[row][col] == target:\n",
    "            return True\n",
    "        elif matrix[row][col] < target:\n",
    "            row += 1\n",
    "        else:\n",
    "            col -= 1\n",
    "    return False\n",
    "\n",
    "# Example usage:\n",
    "matrix19 = [[1, 3, 5, 7], [10, 11, 16, 20], [23, 30, 34, 60]]\n",
    "target19 = 3\n",
    "print(\"Target found:\", search_matrix(matrix19, target19))"
   ]
  },
  {
   "cell_type": "code",
   "execution_count": 22,
   "id": "dcb96df2-1fe0-47a7-804c-b46084c44dc2",
   "metadata": {},
   "outputs": [
    {
     "name": "stdout",
     "output_type": "stream",
     "text": [
      "Median: 2\n"
     ]
    }
   ],
   "source": [
    "\"\"\"\n",
    "Problem 20: Find Median in Two Sorted Arrays\n",
    "Problem: Given two sorted arrays, find the median of the combined sorted array.\n",
    "Input: nums1 = [1, 3], nums2 = [2]\n",
    "Output: 2.0\n",
    "\"\"\"\n",
    "\n",
    "def find_median_sorted_arrays(nums1, nums2):\n",
    "    merged = sorted(nums1 + nums2)\n",
    "    n = len(merged)\n",
    "    if n % 2 == 0:\n",
    "        return (merged[n // 2 - 1] + merged[n // 2]) / 2\n",
    "    else:\n",
    "        return merged[n // 2]\n",
    "\n",
    "# Example usage:\n",
    "nums20_1 = [1, 3]\n",
    "nums20_2 = [2]\n",
    "print(\"Median:\", find_median_sorted_arrays(nums20_1, nums20_2))"
   ]
  },
  {
   "cell_type": "code",
   "execution_count": 23,
   "id": "6d37c831-4548-475c-900f-0345698932f6",
   "metadata": {},
   "outputs": [
    {
     "name": "stdout",
     "output_type": "stream",
     "text": [
      "Smallest letter greater than target: c\n"
     ]
    }
   ],
   "source": [
    "\"\"\"\n",
    "Problem 21: Given a sorted character array and a target letter, find the smallest letter in the array that is\n",
    "greater than the target.\n",
    "Input: letters = ['c', 'f', 'j'], target = a\n",
    "Output: 'c'\n",
    "\"\"\"\n",
    "\n",
    "def next_greatest_letter(letters, target):\n",
    "    left, right = 0, len(letters)\n",
    "    while left < right:\n",
    "        mid = (left + right) // 2\n",
    "        if letters[mid] <= target:\n",
    "            left = mid + 1\n",
    "        else:\n",
    "            right = mid\n",
    "    return letters[left % len(letters)]\n",
    "\n",
    "# Example usage:\n",
    "letters21 = ['c', 'f', 'j']\n",
    "target21 = 'a'\n",
    "print(\"Smallest letter greater than target:\", next_greatest_letter(letters21, target21))"
   ]
  },
  {
   "cell_type": "code",
   "execution_count": 24,
   "id": "1c652c90-476c-4eb8-8dfa-41472f3e565e",
   "metadata": {},
   "outputs": [
    {
     "name": "stdout",
     "output_type": "stream",
     "text": [
      "Sorted colors: [0, 0, 1, 1, 2, 2]\n"
     ]
    }
   ],
   "source": [
    "\"\"\"\n",
    "Problem 22: Given an array with n objects colored red, white, or blue, sort them in-place so that objects of\n",
    "the same color are adjacent, with the colors in the order red, white, and blue.\n",
    "Input: nums = [2, 0, 2, 1, 1, 0]\n",
    "Output: [0, 0, 1, 1, 2, 2]\n",
    "\"\"\"\n",
    "\n",
    "def sort_colors(nums):\n",
    "    low, mid, high = 0, 0, len(nums) - 1\n",
    "    while mid <= high:\n",
    "        if nums[mid] == 0:\n",
    "            nums[low], nums[mid] = nums[mid], nums[low]\n",
    "            low += 1\n",
    "            mid += 1\n",
    "        elif nums[mid] == 1:\n",
    "            mid += 1\n",
    "        else:\n",
    "            nums[mid], nums[high] = nums[high], nums[mid]\n",
    "            high -= 1\n",
    "\n",
    "# Example usage:\n",
    "nums22 = [2, 0, 2, 1, 1, 0]\n",
    "sort_colors(nums22)\n",
    "print(\"Sorted colors:\", nums22)"
   ]
  },
  {
   "cell_type": "code",
   "execution_count": 25,
   "id": "23d3508d-8779-48f4-96dd-90955fcb427f",
   "metadata": {},
   "outputs": [
    {
     "name": "stdout",
     "output_type": "stream",
     "text": [
      "kth largest element: 5\n"
     ]
    }
   ],
   "source": [
    "\"\"\"\n",
    "Problem 23: Find the kth largest element in an unsorted array.\n",
    "Input: nums = [3, 2, 1, 5, 6, 4], k = 2\n",
    "Output: 5\n",
    "\"\"\"\n",
    "\n",
    "import heapq\n",
    "\n",
    "def find_kth_largest(nums, k):\n",
    "    return heapq.nlargest(k, nums)[-1]\n",
    "\n",
    "# Example usage:\n",
    "nums23 = [3, 2, 1, 5, 6, 4]\n",
    "k23 = 2\n",
    "print(\"kth largest element:\", find_kth_largest(nums23, k23))"
   ]
  },
  {
   "cell_type": "code",
   "execution_count": 26,
   "id": "10440084-67af-4460-838d-36377bcf4253",
   "metadata": {},
   "outputs": [
    {
     "name": "stdout",
     "output_type": "stream",
     "text": [
      "Wiggled array: [3, 5, 1, 6, 2, 4]\n"
     ]
    }
   ],
   "source": [
    "\"\"\"\n",
    "Problem 24: Given an unsorted array, reorder it in-place such that nums[0] <= nums[1] >= nums[2] <=\n",
    "nums[3]...\n",
    "Input: nums = [3, 5, 2, 1, 6, 4]\n",
    "Output: [3, 5, 1, 6, 2, 4]\n",
    "\"\"\"\n",
    "\n",
    "def wiggle_sort(nums):\n",
    "    for i in range(1, len(nums)):\n",
    "        if (i % 2 == 1 and nums[i] < nums[i - 1]) or (i % 2 == 0 and nums[i] > nums[i - 1]):\n",
    "            nums[i], nums[i - 1] = nums[i - 1], nums[i]\n",
    "\n",
    "# Example usage:\n",
    "nums24 = [3, 5, 2, 1, 6, 4]\n",
    "wiggle_sort(nums24)\n",
    "print(\"Wiggled array:\", nums24)"
   ]
  },
  {
   "cell_type": "code",
   "execution_count": 27,
   "id": "d1e304e7-1a1f-4c52-8d18-5d988afc6bed",
   "metadata": {},
   "outputs": [
    {
     "name": "stdout",
     "output_type": "stream",
     "text": [
      "Sum of elements: 15\n"
     ]
    }
   ],
   "source": [
    "\"\"\"\n",
    "Problem 25: Given an array of integers, calculate the sum of all its elements.\n",
    "Input: [1, 2, 3, 4, 5]\n",
    "Output: 15\n",
    "\"\"\"\n",
    "\n",
    "def sum_array(nums):\n",
    "    return sum(nums)\n",
    "\n",
    "# Example usage:\n",
    "nums25 = [1, 2, 3, 4, 5]\n",
    "print(\"Sum of elements:\", sum_array(nums25))"
   ]
  },
  {
   "cell_type": "code",
   "execution_count": 28,
   "id": "5d9bc1df-1f8c-4199-854b-189f7e6cd33f",
   "metadata": {},
   "outputs": [
    {
     "name": "stdout",
     "output_type": "stream",
     "text": [
      "Maximum element: 9\n"
     ]
    }
   ],
   "source": [
    "\"\"\"\n",
    "Problem 26: Find the maximum element in an array of integers.\n",
    "Input: [3, 7, 2, 9, 4, 1]\n",
    "Output: 9\n",
    "\"\"\"\n",
    "\n",
    "def find_max(nums):\n",
    "    return max(nums)\n",
    "\n",
    "# Example usage:\n",
    "nums26 = [3, 7, 2, 9, 4, 1]\n",
    "print(\"Maximum element:\", find_max(nums26))"
   ]
  },
  {
   "cell_type": "code",
   "execution_count": 29,
   "id": "e923e2ec-a722-4742-85fe-6d81aa96878f",
   "metadata": {},
   "outputs": [
    {
     "name": "stdout",
     "output_type": "stream",
     "text": [
      "Index of target: 2\n"
     ]
    }
   ],
   "source": [
    "\"\"\"\n",
    "Problem 27: Implement linear search to find the index of a target element in an array.\n",
    "Input: [5, 3, 8, 2, 7, 4], target = 8\n",
    "Output: 2\n",
    "\"\"\"\n",
    "\n",
    "def linear_search(nums, target):\n",
    "    for i, num in enumerate(nums):\n",
    "        if num == target:\n",
    "            return i\n",
    "    return -1\n",
    "\n",
    "# Example usage:\n",
    "nums27 = [5, 3, 8, 2, 7, 4]\n",
    "target27 = 8\n",
    "print(\"Index of target:\", linear_search(nums27, target27))"
   ]
  },
  {
   "cell_type": "code",
   "execution_count": 30,
   "id": "4a8b0674-96c0-4246-beca-331ebacb9f7d",
   "metadata": {},
   "outputs": [
    {
     "name": "stdout",
     "output_type": "stream",
     "text": [
      "Factorial: 120\n"
     ]
    }
   ],
   "source": [
    "\"\"\"\n",
    "Problem 28 Calculate the factorial of a given number.\n",
    "Input: 5\n",
    "Output: 120 (as 5! = 5 * 4 * 3 * 2 * 1 = 120)\n",
    "\"\"\"\n",
    "\n",
    "def factorial(n):\n",
    "    if n == 0:\n",
    "        return 1\n",
    "    return n * factorial(n - 1)\n",
    "\n",
    "# Example usage:\n",
    "n28 = 5\n",
    "print(\"Factorial:\", factorial(n28))"
   ]
  },
  {
   "cell_type": "code",
   "execution_count": 31,
   "id": "4068f726-853d-418d-a87d-82014fb56d26",
   "metadata": {},
   "outputs": [
    {
     "name": "stdout",
     "output_type": "stream",
     "text": [
      "Is prime: True\n"
     ]
    }
   ],
   "source": [
    "\"\"\"\n",
    "Problem 29: Check if a given number is a prime number.\n",
    "Input: 7\n",
    "Output: True\n",
    "\"\"\"\n",
    "\n",
    "def is_prime(n):\n",
    "    if n <= 1:\n",
    "        return False\n",
    "    for i in range(2, int(n**0.5) + 1):\n",
    "        if n % i == 0:\n",
    "            return False\n",
    "    return True\n",
    "\n",
    "# Example usage:\n",
    "n29 = 7\n",
    "print(\"Is prime:\", is_prime(n29))"
   ]
  },
  {
   "cell_type": "code",
   "execution_count": 32,
   "id": "91378ea9-acde-46c1-b8a7-11aec71ba71b",
   "metadata": {},
   "outputs": [
    {
     "name": "stdout",
     "output_type": "stream",
     "text": [
      "Fibonacci series: [0, 1, 1, 2, 3, 5, 8, 13, 21]\n"
     ]
    }
   ],
   "source": [
    "\"\"\"\n",
    "Problem 30: Generate the Fibonacci series up to a given number n.\n",
    "Input: 8\n",
    "Output: [0, 1, 1, 2, 3, 5, 8, 13]\n",
    "\"\"\"\n",
    "\n",
    "def fibonacci(n):\n",
    "    fib = [0, 1]\n",
    "    while len(fib) <= n:\n",
    "        fib.append(fib[-1] + fib[-2])\n",
    "    return fib[:n+1]\n",
    "\n",
    "# Example usage:\n",
    "n30 = 8\n",
    "print(\"Fibonacci series:\", fibonacci(n30))"
   ]
  },
  {
   "cell_type": "code",
   "execution_count": 33,
   "id": "90981616-0130-4759-9a0a-659eb7ebcb8e",
   "metadata": {},
   "outputs": [
    {
     "name": "stdout",
     "output_type": "stream",
     "text": [
      "Power: 81\n"
     ]
    }
   ],
   "source": [
    "\"\"\"\n",
    "Problem 31: Calculate the power of a number using recursion.\n",
    "Input: base = 3, exponent = 4\n",
    "Output: 81 (as 3^4 = 3 * 3 * 3 * 3 = 81)\n",
    "\"\"\"\n",
    "\n",
    "def power(base, exponent):\n",
    "    if exponent == 0:\n",
    "        return 1\n",
    "    return base * power(base, exponent - 1)\n",
    "\n",
    "# Example usage:\n",
    "base31 = 3\n",
    "exponent31 = 4\n",
    "print(\"Power:\", power(base31, exponent31))"
   ]
  },
  {
   "cell_type": "code",
   "execution_count": 34,
   "id": "b4858a46-4f9f-4102-b6f9-3f44e0da3e6c",
   "metadata": {},
   "outputs": [
    {
     "name": "stdout",
     "output_type": "stream",
     "text": [
      "Reversed string: olleh\n"
     ]
    }
   ],
   "source": [
    "\"\"\"\n",
    "Problem 32: Reverse a given string.\n",
    "Input: \"hello\"\n",
    "Output: \"olleh\"\n",
    "\"\"\"\n",
    "\n",
    "def reverse_string(s):\n",
    "    return s[::-1]\n",
    "\n",
    "# Example usage:\n",
    "s32 = \"hello\"\n",
    "print(\"Reversed string:\", reverse_string(s32))"
   ]
  },
  {
   "cell_type": "code",
   "execution_count": null,
   "id": "68a9a596-6f83-4bc0-90b1-cafa477f2f4b",
   "metadata": {},
   "outputs": [],
   "source": []
  }
 ],
 "metadata": {
  "kernelspec": {
   "display_name": "Python 3 (ipykernel)",
   "language": "python",
   "name": "python3"
  },
  "language_info": {
   "codemirror_mode": {
    "name": "ipython",
    "version": 3
   },
   "file_extension": ".py",
   "mimetype": "text/x-python",
   "name": "python",
   "nbconvert_exporter": "python",
   "pygments_lexer": "ipython3",
   "version": "3.10.8"
  }
 },
 "nbformat": 4,
 "nbformat_minor": 5
}
