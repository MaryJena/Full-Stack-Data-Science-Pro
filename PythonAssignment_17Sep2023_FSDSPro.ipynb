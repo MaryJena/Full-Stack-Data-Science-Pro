{
 "cells": [
  {
   "cell_type": "code",
   "execution_count": 99,
   "id": "a9c01067-b545-4ca2-9748-61d43311b16a",
   "metadata": {},
   "outputs": [
    {
     "name": "stdout",
     "output_type": "stream",
     "text": [
      "1\n",
      "2\n",
      "3\n",
      "4\n",
      "5\n",
      "6\n",
      "7\n",
      "8\n",
      "9\n",
      "10\n"
     ]
    }
   ],
   "source": [
    "#### For Loop:-\n",
    "\n",
    "#### 1.\tWrite a Python program to print numbers from 1 to 10 using a for loop.\n",
    "\n",
    "for i in range(1, 11):\n",
    "    print(i)"
   ]
  },
  {
   "cell_type": "code",
   "execution_count": 100,
   "id": "d2ca59ba-a230-47e7-ba3b-1160e2148c7c",
   "metadata": {},
   "outputs": [
    {
     "data": {
      "text/plain": [
       "\" For Loop: Iterates over a sequence (like a list or range) for a specific number of times.\\n    While Loop: Repeats as long as a condition is true. It doesn't depend on a sequence. \""
      ]
     },
     "execution_count": 100,
     "metadata": {},
     "output_type": "execute_result"
    }
   ],
   "source": [
    "#### 2.\tExplain the difference between a for loop and a while loop in Python.\n",
    "''' For Loop: Iterates over a sequence (like a list or range) for a specific number of times.\n",
    "    While Loop: Repeats as long as a condition is true. It doesn't depend on a sequence. '''"
   ]
  },
  {
   "cell_type": "code",
   "execution_count": 101,
   "id": "f3c75cda-dd1e-4f48-b72f-c83dba1a0ab8",
   "metadata": {},
   "outputs": [
    {
     "name": "stdout",
     "output_type": "stream",
     "text": [
      "5050\n"
     ]
    }
   ],
   "source": [
    "#### 3.\tWrite a Python program to calculate the sum of all numbers from 1 to 100 using a for loop.\n",
    "\n",
    "total = 0\n",
    "for i1 in range(1, 101):\n",
    "    total += i1\n",
    "print(total)"
   ]
  },
  {
   "cell_type": "code",
   "execution_count": 102,
   "id": "cc8b4d58-b717-42f4-a9b1-c612fd5e95e6",
   "metadata": {},
   "outputs": [
    {
     "name": "stdout",
     "output_type": "stream",
     "text": [
      "1\n",
      "2\n",
      "3\n",
      "4\n"
     ]
    }
   ],
   "source": [
    "#### 4.\tHow do you iterate through a list using a for loop in Python?\n",
    "\n",
    "my_list = [1, 2, 3, 4]\n",
    "for item in my_list:\n",
    "    print(item)"
   ]
  },
  {
   "cell_type": "code",
   "execution_count": 103,
   "id": "f023d152-229e-4c2f-9b56-774cabb8e2c6",
   "metadata": {},
   "outputs": [
    {
     "name": "stdout",
     "output_type": "stream",
     "text": [
      "24\n"
     ]
    }
   ],
   "source": [
    "#### 5.\tWrite a Python program to find the product of all elements in a list using a for loop.\n",
    "\n",
    "numbers = [1, 2, 3, 4]\n",
    "product = 1\n",
    "for num in numbers:\n",
    "    product *= num\n",
    "print(product)"
   ]
  },
  {
   "cell_type": "code",
   "execution_count": 104,
   "id": "fc89d541-67d4-4e2c-8734-0db244465c1d",
   "metadata": {},
   "outputs": [
    {
     "name": "stdout",
     "output_type": "stream",
     "text": [
      "2\n",
      "4\n",
      "6\n",
      "8\n",
      "10\n",
      "12\n",
      "14\n",
      "16\n",
      "18\n",
      "20\n"
     ]
    }
   ],
   "source": [
    "#### 6.\tCreate a Python program that prints all even numbers from 1 to 20 using a for loop.\n",
    "\n",
    "for i in range(1, 21):\n",
    "    if i % 2 == 0:\n",
    "        print(i)"
   ]
  },
  {
   "cell_type": "code",
   "execution_count": 105,
   "id": "6414fc0a-f4a4-4d05-92b9-7c4be591355d",
   "metadata": {},
   "outputs": [
    {
     "name": "stdout",
     "output_type": "stream",
     "text": [
      "120\n"
     ]
    }
   ],
   "source": [
    "#### 7.\tWrite a Python program that calculates the factorial of a number using a for loop.\n",
    "\n",
    "n = 5\n",
    "factorial = 1\n",
    "for i in range(1, n + 1):\n",
    "    factorial *= i\n",
    "print(factorial)"
   ]
  },
  {
   "cell_type": "code",
   "execution_count": 106,
   "id": "859669b5-c3eb-460c-8b62-39105acdc70c",
   "metadata": {},
   "outputs": [
    {
     "name": "stdout",
     "output_type": "stream",
     "text": [
      "h\n",
      "e\n",
      "l\n",
      "l\n",
      "o\n"
     ]
    }
   ],
   "source": [
    "#### 8.\tHow can you iterate through the characters of a string using a for loop in Python?\n",
    "\n",
    "my_string = \"hello\"\n",
    "for char in my_string:\n",
    "    print(char)"
   ]
  },
  {
   "cell_type": "code",
   "execution_count": 107,
   "id": "bc0d64a1-ccba-4670-b9dc-b1cfdeac643f",
   "metadata": {},
   "outputs": [
    {
     "name": "stdout",
     "output_type": "stream",
     "text": [
      "8\n"
     ]
    }
   ],
   "source": [
    "#### 9.\tWrite a Python program to find the largest number in a list using a for loop.\n",
    "\n",
    "numbers = [3, 5, 1, 8, 2]\n",
    "largest = numbers[0]\n",
    "for num in numbers:\n",
    "    if num > largest:\n",
    "        largest = num\n",
    "print(largest)"
   ]
  },
  {
   "cell_type": "code",
   "execution_count": 108,
   "id": "529d93e2-22de-4b94-bf50-5ba88a5b0302",
   "metadata": {},
   "outputs": [
    {
     "name": "stdout",
     "output_type": "stream",
     "text": [
      "0\n",
      "1\n",
      "1\n",
      "2\n",
      "3\n",
      "5\n",
      "8\n",
      "13\n",
      "21\n",
      "34\n"
     ]
    }
   ],
   "source": [
    "#### 10.\tCreate a Python program that prints the Fibonacci sequence up to a specified limit using a for loop.\n",
    "\n",
    "limit = 50\n",
    "a, b = 0, 1\n",
    "while a <= limit:\n",
    "    print(a)\n",
    "    a, b = b, a + b"
   ]
  },
  {
   "cell_type": "code",
   "execution_count": 109,
   "id": "218bfbec-8693-4429-b884-17e436ea2546",
   "metadata": {},
   "outputs": [
    {
     "name": "stdout",
     "output_type": "stream",
     "text": [
      "3\n"
     ]
    }
   ],
   "source": [
    "#### 11.\tWrite a Python program to count the number of vowels in a given string using a for loop.\n",
    "\n",
    "my_string = \"hello world\"\n",
    "vowels = \"aeiou\"\n",
    "count = 0\n",
    "for char in my_string:\n",
    "    if char in vowels:\n",
    "        count += 1\n",
    "print(count)"
   ]
  },
  {
   "cell_type": "code",
   "execution_count": 110,
   "id": "848c2730-d358-4ec0-804b-cb6624ab6f14",
   "metadata": {},
   "outputs": [
    {
     "name": "stdout",
     "output_type": "stream",
     "text": [
      "5 x 1 = 5\n",
      "5 x 2 = 10\n",
      "5 x 3 = 15\n",
      "5 x 4 = 20\n",
      "5 x 5 = 25\n",
      "5 x 6 = 30\n",
      "5 x 7 = 35\n",
      "5 x 8 = 40\n",
      "5 x 9 = 45\n",
      "5 x 10 = 50\n"
     ]
    }
   ],
   "source": [
    "#### 12.\tCreate a Python program that generates a multiplication table for a given number using a for loop.\n",
    "\n",
    "n = 5\n",
    "for i in range(1, 11):\n",
    "    print(f\"{n} x {i} = {n * i}\")"
   ]
  },
  {
   "cell_type": "code",
   "execution_count": 111,
   "id": "5e855484-97a6-414f-8ff2-5fa9d5dae913",
   "metadata": {},
   "outputs": [
    {
     "name": "stdout",
     "output_type": "stream",
     "text": [
      "[5, 4, 3, 2, 1]\n"
     ]
    }
   ],
   "source": [
    "#### 13.\tWrite a Python program to reverse a list using a for loop.\n",
    "\n",
    "my_list = [1, 2, 3, 4, 5]\n",
    "reversed_list = []\n",
    "for i in range(len(my_list)-1, -1, -1):\n",
    "    reversed_list.append(my_list[i])\n",
    "print(reversed_list)"
   ]
  },
  {
   "cell_type": "code",
   "execution_count": 112,
   "id": "cf22e1a4-df4a-4c4d-a1ac-a8535f821d6d",
   "metadata": {},
   "outputs": [
    {
     "name": "stdout",
     "output_type": "stream",
     "text": [
      "[3, 4]\n"
     ]
    }
   ],
   "source": [
    "#### 14.\tWrite a Python program to find the common elements between two lists using a for loop.\n",
    "\n",
    "list1 = [1, 2, 3, 4]\n",
    "list2 = [3, 4, 5, 6]\n",
    "common_elements = []\n",
    "for item in list1:\n",
    "    if item in list2:\n",
    "        common_elements.append(item)\n",
    "print(common_elements)"
   ]
  },
  {
   "cell_type": "code",
   "execution_count": 113,
   "id": "cd3c7f2f-0da1-4233-96e5-2dbfd08a62d0",
   "metadata": {},
   "outputs": [
    {
     "name": "stdout",
     "output_type": "stream",
     "text": [
      "a 1\n",
      "b 2\n",
      "c 3\n"
     ]
    }
   ],
   "source": [
    "#### 15.\tExplain how to use a for loop to iterate through the keys and values of a dictionary in Python.\n",
    "\n",
    "my_dict = {'a': 1, 'b': 2, 'c': 3}\n",
    "for key, value in my_dict.items():\n",
    "    print(key, value)"
   ]
  },
  {
   "cell_type": "code",
   "execution_count": 114,
   "id": "52fe2593-dee1-4f87-8d73-8a07d3600077",
   "metadata": {},
   "outputs": [
    {
     "name": "stdout",
     "output_type": "stream",
     "text": [
      "12\n"
     ]
    }
   ],
   "source": [
    "#### 16.\tWrite a Python program to find the GCD (Greatest Common Divisor) of two numbers using a for loop.\n",
    "\n",
    "a = 24\n",
    "b = 36\n",
    "gcd = 1\n",
    "for i in range(1, min(a, b) + 1):\n",
    "    if a % i == 0 and b % i == 0:\n",
    "        gcd = i\n",
    "print(gcd)"
   ]
  },
  {
   "cell_type": "code",
   "execution_count": 115,
   "id": "6d540d67-79c5-4005-abd3-c1eec4cbe769",
   "metadata": {},
   "outputs": [
    {
     "name": "stdout",
     "output_type": "stream",
     "text": [
      "True\n"
     ]
    }
   ],
   "source": [
    "#### 17.\tCreate a Python program that checks if a string is a palindrome using a for loop.\n",
    "\n",
    "my_string = \"madam\"\n",
    "is_palindrome = True\n",
    "for i in range(len(my_string) // 2):\n",
    "    if my_string[i] != my_string[-(i+1)]:\n",
    "        is_palindrome = False\n",
    "        break\n",
    "print(is_palindrome)"
   ]
  },
  {
   "cell_type": "code",
   "execution_count": 116,
   "id": "3c5ace67-8b65-4408-accb-0ecf4450307e",
   "metadata": {},
   "outputs": [
    {
     "name": "stdout",
     "output_type": "stream",
     "text": [
      "[1, 2, 3, 4]\n"
     ]
    }
   ],
   "source": [
    "#### 18.\tWrite a Python program to remove duplicates from a list using a for loop.\n",
    "\n",
    "my_list = [1, 2, 2, 3, 4, 4]\n",
    "unique_list = []\n",
    "for item in my_list:\n",
    "    if item not in unique_list:\n",
    "        unique_list.append(item)\n",
    "print(unique_list)"
   ]
  },
  {
   "cell_type": "code",
   "execution_count": 117,
   "id": "11cf27a8-6348-464d-94dc-5f65683c0555",
   "metadata": {},
   "outputs": [
    {
     "name": "stdout",
     "output_type": "stream",
     "text": [
      "5\n"
     ]
    }
   ],
   "source": [
    "#### 19.\tCreate a Python program that counts the number of words in a sentence using a for loop.\n",
    "\n",
    "sentence = \"This is a sample sentence\"\n",
    "words = sentence.split()\n",
    "count = 0\n",
    "for word in words:\n",
    "    count += 1\n",
    "print(count)"
   ]
  },
  {
   "cell_type": "code",
   "execution_count": 118,
   "id": "4944a2b8-ae5e-4f6c-aa9a-a1180a749be8",
   "metadata": {},
   "outputs": [
    {
     "name": "stdout",
     "output_type": "stream",
     "text": [
      "625\n"
     ]
    }
   ],
   "source": [
    "#### 20.\tWrite a Python program to find the sum of all odd numbers from 1 to 50 using a for loop.\n",
    "\n",
    "total = 0\n",
    "for i in range(1, 51):\n",
    "    if i % 2 != 0:\n",
    "        total += i\n",
    "print(total)"
   ]
  },
  {
   "cell_type": "code",
   "execution_count": 119,
   "id": "8832d4b7-dc7b-418c-9188-79e4986e6b01",
   "metadata": {},
   "outputs": [
    {
     "name": "stdout",
     "output_type": "stream",
     "text": [
      "Leap Year\n"
     ]
    }
   ],
   "source": [
    "#### 21.\tWrite a Python program that checks if a given year is a leap year using a for loop.\n",
    "\n",
    "year = 2024\n",
    "if (year % 4 == 0 and year % 100 != 0) or (year % 400 == 0):\n",
    "    print(\"Leap Year\")\n",
    "else:\n",
    "    print(\"Not a Leap Year\")"
   ]
  },
  {
   "cell_type": "code",
   "execution_count": 120,
   "id": "9dfc8166-0aa1-45c3-b784-da2c0ea1f1cf",
   "metadata": {},
   "outputs": [
    {
     "name": "stdout",
     "output_type": "stream",
     "text": [
      "4\n"
     ]
    }
   ],
   "source": [
    "#### 22.\tCreate a Python program that calculates the square root of a number using a for loop.\n",
    "\n",
    "n = 16\n",
    "result = 0\n",
    "for i in range(n+1):\n",
    "    if i * i == n:\n",
    "        result = i\n",
    "        break\n",
    "print(result)"
   ]
  },
  {
   "cell_type": "code",
   "execution_count": 121,
   "id": "63fad28c-aa1d-4375-8c87-6002de4d9c79",
   "metadata": {},
   "outputs": [
    {
     "name": "stdout",
     "output_type": "stream",
     "text": [
      "60\n"
     ]
    }
   ],
   "source": [
    "#### 23.\tWrite a Python program to find the LCM (Least Common Multiple) of two numbers using a for loop.\n",
    "\n",
    "a = 12\n",
    "b = 15\n",
    "lcm = max(a, b)\n",
    "while True:\n",
    "    if lcm % a == 0 and lcm % b == 0:\n",
    "        break\n",
    "    lcm += 1\n",
    "print(lcm)"
   ]
  },
  {
   "cell_type": "code",
   "execution_count": 122,
   "id": "4251e601-a26b-4883-a07c-9eae6a59fe69",
   "metadata": {},
   "outputs": [
    {
     "name": "stdin",
     "output_type": "stream",
     "text": [
      "Enter a number:  4\n"
     ]
    },
    {
     "name": "stdout",
     "output_type": "stream",
     "text": [
      "The number is positive\n"
     ]
    }
   ],
   "source": [
    "#### If else :\n",
    "\n",
    "#### 1.\tWrite a Python program to check if a number is positive, negative, or zero using an if-else statement.\n",
    "number = int(input(\"Enter a number: \"))\n",
    "if number > 0:\n",
    "    print(\"The number is positive\")\n",
    "elif number < 0:\n",
    "    print(\"The number is negative\")\n",
    "else:\n",
    "    print(\"The number is zero\")"
   ]
  },
  {
   "cell_type": "code",
   "execution_count": 123,
   "id": "aafc0cb4-84bf-4f39-b378-ee166ec0fbca",
   "metadata": {},
   "outputs": [
    {
     "name": "stdin",
     "output_type": "stream",
     "text": [
      "Enter a number:  2\n"
     ]
    },
    {
     "name": "stdout",
     "output_type": "stream",
     "text": [
      "The number is even\n"
     ]
    }
   ],
   "source": [
    "#### 2.\tCreate a Python program that checks if a given number is even or odd using an if-else statement.\n",
    "number = int(input(\"Enter a number: \"))\n",
    "if number % 2 == 0:\n",
    "    print(\"The number is even\")\n",
    "else:\n",
    "    print(\"The number is odd\")"
   ]
  },
  {
   "cell_type": "code",
   "execution_count": 124,
   "id": "ded71761-0e77-45aa-823f-3468ba9b46bb",
   "metadata": {},
   "outputs": [
    {
     "name": "stdin",
     "output_type": "stream",
     "text": [
      "Enter a number:  7\n"
     ]
    },
    {
     "name": "stdout",
     "output_type": "stream",
     "text": [
      "The number is positive and odd\n"
     ]
    }
   ],
   "source": [
    "#### 3.\tHow can you use nested if-else statements in Python, and provide an example?\n",
    "\n",
    "number = int(input(\"Enter a number: \"))\n",
    "if number > 0:\n",
    "    if number % 2 == 0:\n",
    "        print(\"The number is positive and even\")\n",
    "    else:\n",
    "        print(\"The number is positive and odd\")\n",
    "else:\n",
    "    print(\"The number is not positive\")"
   ]
  },
  {
   "cell_type": "code",
   "execution_count": 125,
   "id": "4f843794-eb37-43e6-9723-92e250562232",
   "metadata": {},
   "outputs": [
    {
     "name": "stdout",
     "output_type": "stream",
     "text": [
      "b is the largest\n"
     ]
    }
   ],
   "source": [
    "#### 4.\tWrite a Python program to determine the largest of three numbers using if-else.\n",
    "\n",
    "a = 5\n",
    "b = 8\n",
    "c = 3\n",
    "if a > b and a > c:\n",
    "    print(\"a is the largest\")\n",
    "elif b > c:\n",
    "    print(\"b is the largest\")\n",
    "else:\n",
    "    print(\"c is the largest\")"
   ]
  },
  {
   "cell_type": "code",
   "execution_count": 126,
   "id": "9784bbfa-9d3a-49ad-9412-b2003015182a",
   "metadata": {},
   "outputs": [
    {
     "name": "stdout",
     "output_type": "stream",
     "text": [
      "Absolute value: 5\n"
     ]
    }
   ],
   "source": [
    "#### 5.\tWrite a Python program that calculates the absolute value of a number using if-else.\n",
    "\n",
    "number = -5\n",
    "if number < 0:\n",
    "    number = -number\n",
    "print(\"Absolute value:\", number)"
   ]
  },
  {
   "cell_type": "code",
   "execution_count": 127,
   "id": "d5858226-a379-4911-8573-6a4f22dc8932",
   "metadata": {},
   "outputs": [
    {
     "name": "stdin",
     "output_type": "stream",
     "text": [
      "Enter a character:  j\n"
     ]
    },
    {
     "name": "stdout",
     "output_type": "stream",
     "text": [
      "Consonant\n"
     ]
    }
   ],
   "source": [
    "#### 6.\tCreate a Python program that checks if a given character is a vowel or consonant using if-else.\n",
    "\n",
    "char = input(\"Enter a character: \").lower()\n",
    "if char in 'aeiou':\n",
    "    print(\"Vowel\")\n",
    "else:\n",
    "    print(\"Consonant\")"
   ]
  },
  {
   "cell_type": "code",
   "execution_count": 128,
   "id": "bbc80e74-d809-45b1-ac13-bc8d2f76e489",
   "metadata": {},
   "outputs": [
    {
     "name": "stdin",
     "output_type": "stream",
     "text": [
      "Enter your age:  12\n"
     ]
    },
    {
     "name": "stdout",
     "output_type": "stream",
     "text": [
      "You are not eligible to vote\n"
     ]
    }
   ],
   "source": [
    "#### 7.\tWrite a Python program to determine if a user is eligible to vote based on their age using if-else.\n",
    "\n",
    "age = int(input(\"Enter your age: \"))\n",
    "if age >= 18:\n",
    "    print(\"You are eligible to vote\")\n",
    "else:\n",
    "    print(\"You are not eligible to vote\")"
   ]
  },
  {
   "cell_type": "code",
   "execution_count": 129,
   "id": "f1fb3290-83bd-4a78-b902-3dfce922378c",
   "metadata": {},
   "outputs": [
    {
     "name": "stdout",
     "output_type": "stream",
     "text": [
      "Discount: 100.0\n"
     ]
    }
   ],
   "source": [
    "#### 8.\tCreate a Python program that calculates the discount amount based on the purchase amount using if-else.\n",
    "\n",
    "purchase_amount = 1000\n",
    "if purchase_amount > 500:\n",
    "    discount = purchase_amount * 0.10\n",
    "else:\n",
    "    discount = 0\n",
    "print(\"Discount:\", discount)"
   ]
  },
  {
   "cell_type": "code",
   "execution_count": 130,
   "id": "5c67f9eb-bac6-4694-a8ae-2d372c10b707",
   "metadata": {},
   "outputs": [
    {
     "name": "stdout",
     "output_type": "stream",
     "text": [
      "The number is in the range\n"
     ]
    }
   ],
   "source": [
    "#### 9.\tWrite a Python program to check if a number is within a specified range using if-else.\n",
    "\n",
    "number = 7\n",
    "if 5 <= number <= 10:\n",
    "    print(\"The number is in the range\")\n",
    "else:\n",
    "    print(\"The number is not in the range\")"
   ]
  },
  {
   "cell_type": "code",
   "execution_count": 131,
   "id": "60e1b77e-f749-47d0-81c7-b053133f85ee",
   "metadata": {},
   "outputs": [
    {
     "name": "stdout",
     "output_type": "stream",
     "text": [
      "Grade: B\n"
     ]
    }
   ],
   "source": [
    "#### 10.\tCreate a Python program that determines the grade of a student based on their score using if-else.\n",
    "\n",
    "score = 85\n",
    "if score >= 90:\n",
    "    print(\"Grade: A\")\n",
    "elif score >= 80:\n",
    "    print(\"Grade: B\")\n",
    "elif score >= 70:\n",
    "    print(\"Grade: C\")\n",
    "elif score >= 60:\n",
    "    print(\"Grade: D\")\n",
    "else:\n",
    "    print(\"Grade: F\")"
   ]
  },
  {
   "cell_type": "code",
   "execution_count": 132,
   "id": "bcfb0a8a-08b6-4ffd-ba60-9d5aecf6f9b8",
   "metadata": {},
   "outputs": [
    {
     "name": "stdout",
     "output_type": "stream",
     "text": [
      "The string is empty\n"
     ]
    }
   ],
   "source": [
    "#### 11.\tWrite a Python program to check if a string is empty or not using if-else.\n",
    "\n",
    "string = \"\"\n",
    "if string:\n",
    "    print(\"The string is not empty\")\n",
    "else:\n",
    "    print(\"The string is empty\")"
   ]
  },
  {
   "cell_type": "code",
   "execution_count": 133,
   "id": "cf68ab55-aa73-4f3d-95cb-ea77cb93e202",
   "metadata": {},
   "outputs": [
    {
     "name": "stdout",
     "output_type": "stream",
     "text": [
      "Equilateral triangle\n"
     ]
    }
   ],
   "source": [
    "#### 12.\tCreate a Python program that identifies the type of a triangle (e.g., equilateral, isosceles, or scalene) based on input values using if-else.\n",
    "\n",
    "a, b, c = 3, 3, 3\n",
    "if a == b == c:\n",
    "    print(\"Equilateral triangle\")\n",
    "elif a == b or b == c or a == c:\n",
    "    print(\"Isosceles triangle\")\n",
    "else:\n",
    "    print(\"Scalene triangle\")"
   ]
  },
  {
   "cell_type": "code",
   "execution_count": 134,
   "id": "e7dd9df2-e59c-4a73-a534-a0a9e391f63b",
   "metadata": {},
   "outputs": [
    {
     "name": "stdin",
     "output_type": "stream",
     "text": [
      "Enter a number (1-7):  3\n"
     ]
    },
    {
     "name": "stdout",
     "output_type": "stream",
     "text": [
      "Wednesday\n"
     ]
    }
   ],
   "source": [
    "#### 13.\tWrite a Python program to determine the day of the week based on a user-provided number using if-else.\n",
    "\n",
    "day = int(input(\"Enter a number (1-7): \"))\n",
    "if day == 1:\n",
    "    print(\"Monday\")\n",
    "elif day == 2:\n",
    "    print(\"Tuesday\")\n",
    "elif day == 3:\n",
    "    print(\"Wednesday\")\n",
    "elif day == 4:\n",
    "    print(\"Thursday\")\n",
    "elif day == 5:\n",
    "    print(\"Friday\")\n",
    "elif day == 6:\n",
    "    print(\"Saturday\")\n",
    "elif day == 7:\n",
    "    print(\"Sunday\")\n",
    "else:\n",
    "    print(\"Invalid input\")"
   ]
  },
  {
   "cell_type": "code",
   "execution_count": 135,
   "id": "77a0a623-2781-4fb2-ae00-e615f9ca0365",
   "metadata": {},
   "outputs": [
    {
     "name": "stdout",
     "output_type": "stream",
     "text": [
      "2024 is a leap year\n"
     ]
    }
   ],
   "source": [
    "#### 14.\tCreate a Python program that checks if a given year is a leap year using both if-else and a function.\n",
    "\n",
    "def is_leap_year(year):\n",
    "    if (year % 4 == 0 and year % 100 != 0) or (year % 400 == 0):\n",
    "        return True\n",
    "    else:\n",
    "        return False\n",
    "\n",
    "year = 2024\n",
    "if is_leap_year(year):\n",
    "    print(f\"{year} is a leap year\")\n",
    "else:\n",
    "    print(f\"{year} is not a leap year\")"
   ]
  },
  {
   "cell_type": "code",
   "execution_count": 136,
   "id": "85911097-8933-4ad4-afdb-8f83be038aeb",
   "metadata": {},
   "outputs": [
    {
     "name": "stdout",
     "output_type": "stream",
     "text": [
      "x is less than or equal to 10\n"
     ]
    }
   ],
   "source": [
    "#### 15.\tHow do you use the \"assert\" statement in Python to add debugging checks within if-else blocks?\n",
    "\n",
    "x = 5\n",
    "assert x > 0, \"x must be positive\"\n",
    "if x > 10:\n",
    "    print(\"x is greater than 10\")\n",
    "else:\n",
    "    print(\"x is less than or equal to 10\")"
   ]
  },
  {
   "cell_type": "code",
   "execution_count": 137,
   "id": "a3d5d645-ed18-4252-9a0d-38d55cfb9515",
   "metadata": {},
   "outputs": [
    {
     "name": "stdout",
     "output_type": "stream",
     "text": [
      "Eligible for senior citizen discount\n"
     ]
    }
   ],
   "source": [
    "#### 16.\tCreate a Python program that determines the eligibility of a person for a senior citizen discount based on age using if-else.\n",
    "\n",
    "age = 65\n",
    "if age >= 60:\n",
    "    print(\"Eligible for senior citizen discount\")\n",
    "else:\n",
    "    print(\"Not eligible for senior citizen discount\")"
   ]
  },
  {
   "cell_type": "code",
   "execution_count": 138,
   "id": "f38c4097-748d-4d4a-a5c2-580f3af16731",
   "metadata": {},
   "outputs": [
    {
     "name": "stdin",
     "output_type": "stream",
     "text": [
      "Enter a character:  Q\n"
     ]
    },
    {
     "name": "stdout",
     "output_type": "stream",
     "text": [
      "Uppercase letter\n"
     ]
    }
   ],
   "source": [
    "#### 17.\tWrite a Python program to categorize a given character as uppercase, lowercase, or neither using if-else.\n",
    "\n",
    "char = input(\"Enter a character: \")\n",
    "if char.isupper():\n",
    "    print(\"Uppercase letter\")\n",
    "elif char.islower():\n",
    "    print(\"Lowercase letter\")\n",
    "else:\n",
    "    print(\"Neither uppercase nor lowercase\")"
   ]
  },
  {
   "cell_type": "code",
   "execution_count": 139,
   "id": "bbca7ce0-66c7-4481-8360-8f5673dfcd4b",
   "metadata": {},
   "outputs": [
    {
     "name": "stdout",
     "output_type": "stream",
     "text": [
      "Two distinct roots: 4.0 3.0\n"
     ]
    }
   ],
   "source": [
    "#### 18.\tWrite a Python program to determine the roots of a quadratic equation using if-else.\n",
    "\n",
    "import math\n",
    "a, b, c = 1, -7, 12\n",
    "discriminant = b**2 - 4*a*c\n",
    "\n",
    "if discriminant > 0:\n",
    "    root1 = (-b + math.sqrt(discriminant)) / (2 * a)\n",
    "    root2 = (-b - math.sqrt(discriminant)) / (2 * a)\n",
    "    print(\"Two distinct roots:\", root1, root2)\n",
    "elif discriminant == 0:\n",
    "    root = -b / (2 * a)\n",
    "    print(\"One root:\", root)\n",
    "else:\n",
    "    print(\"No real roots\")"
   ]
  },
  {
   "cell_type": "code",
   "execution_count": 140,
   "id": "8f8386ba-f462-472f-a6a5-90dc54361f35",
   "metadata": {},
   "outputs": [
    {
     "name": "stdout",
     "output_type": "stream",
     "text": [
      "1900 is a century year\n"
     ]
    }
   ],
   "source": [
    "#### 19.\tCreate a Python program that checks if a given year is a century year or not using if-else.\n",
    "\n",
    "year = 1900\n",
    "if year % 100 == 0:\n",
    "    print(f\"{year} is a century year\")\n",
    "else:\n",
    "    print(f\"{year} is not a century year\")"
   ]
  },
  {
   "cell_type": "code",
   "execution_count": 141,
   "id": "d7ad538b-a344-4a7d-8f47-59cd96a8ee94",
   "metadata": {},
   "outputs": [
    {
     "name": "stdout",
     "output_type": "stream",
     "text": [
      "16 is a perfect square\n"
     ]
    }
   ],
   "source": [
    "#### 20.\tWrite a Python program to determine if a given number is a perfect square using if-else.\n",
    "\n",
    "import math\n",
    "num = 16\n",
    "sqrt = math.sqrt(num)\n",
    "if sqrt.is_integer():\n",
    "    print(f\"{num} is a perfect square\")\n",
    "else:\n",
    "    print(f\"{num} is not a perfect square\")"
   ]
  },
  {
   "cell_type": "code",
   "execution_count": 142,
   "id": "a5734818-0357-49ae-9b0b-74d6e565b4a0",
   "metadata": {},
   "outputs": [
    {
     "data": {
      "text/plain": [
       "' break: Exits the loop immediately when a condition is met.\\n continue: Skips the rest of the current iteration and moves to the next iteration.'"
      ]
     },
     "execution_count": 142,
     "metadata": {},
     "output_type": "execute_result"
    }
   ],
   "source": [
    "#### 21.\tExplain the purpose of the \"continue\" and \"break\" statements within if-else loops.\n",
    "\n",
    "''' break: Exits the loop immediately when a condition is met.\n",
    " continue: Skips the rest of the current iteration and moves to the next iteration.'''"
   ]
  },
  {
   "cell_type": "code",
   "execution_count": 143,
   "id": "b949eb85-aad6-4a7f-bfbe-061fc520e707",
   "metadata": {},
   "outputs": [
    {
     "name": "stdout",
     "output_type": "stream",
     "text": [
      "Normal weight\n"
     ]
    }
   ],
   "source": [
    "#### 22.\tCreate a Python program that calculates the BMI (Body Mass Index) of a person based on their weight and height using if-else.\n",
    "\n",
    "weight = 70  # kg\n",
    "height = 1.75  # meters\n",
    "bmi = weight / (height**2)\n",
    "\n",
    "if bmi < 18.5:\n",
    "    print(\"Underweight\")\n",
    "elif bmi < 24.9:\n",
    "    print(\"Normal weight\")\n",
    "elif bmi < 29.9:\n",
    "    print(\"Overweight\")\n",
    "else:\n",
    "    print(\"Obese\")"
   ]
  },
  {
   "cell_type": "code",
   "execution_count": 144,
   "id": "1ec40111-3668-4fb4-96d9-012d93d9896e",
   "metadata": {},
   "outputs": [
    {
     "name": "stdout",
     "output_type": "stream",
     "text": [
      "[2, 4, 6]\n"
     ]
    }
   ],
   "source": [
    "#### 23.\tHow can you use the \"filter()\" function with if-else statements to filter elements from a list?\n",
    "\n",
    "numbers = [1, 2, 3, 4, 5, 6]\n",
    "even_numbers = list(filter(lambda x: x % 2 == 0, numbers))\n",
    "print(even_numbers)"
   ]
  },
  {
   "cell_type": "code",
   "execution_count": 145,
   "id": "8b46bd99-6f93-4c2b-a0da-7672ec170599",
   "metadata": {},
   "outputs": [
    {
     "name": "stdout",
     "output_type": "stream",
     "text": [
      "Prime number\n"
     ]
    }
   ],
   "source": [
    "#### 24.\tWrite a Python program to determine if a given number is prime or not using if-else.\n",
    "\n",
    "num = 29\n",
    "if num > 1:\n",
    "    for i in range(2, num):\n",
    "        if num % i == 0:\n",
    "            print(\"Not a prime number\")\n",
    "            break\n",
    "    else:\n",
    "        print(\"Prime number\")\n",
    "else:\n",
    "    print(\"Not a prime number\")"
   ]
  },
  {
   "cell_type": "code",
   "execution_count": 146,
   "id": "7ef63763-db66-42d1-a008-8511cac91353",
   "metadata": {},
   "outputs": [
    {
     "name": "stdout",
     "output_type": "stream",
     "text": [
      "[2, 4, 6, 8]\n"
     ]
    }
   ],
   "source": [
    "#### Map :-\n",
    "\n",
    "#### 1.\tExplain the purpose of the `map()` function in Python and provide an example of how it can be used to apply a function to each element of an iterable.\n",
    "\n",
    "''' The map() function in Python is used to apply a given function to all the items in an iterable (like a list, tuple, etc.) and return a new iterable with the transformed items. \n",
    "The function you pass as the first argument is applied to each element of the iterable. '''\n",
    "\n",
    "def square(num):\n",
    "    return num * 2\n",
    "\n",
    "numbers = [1, 2, 3, 4]\n",
    "doubled_numbers = list(map(square, numbers))\n",
    "print(doubled_numbers)"
   ]
  },
  {
   "cell_type": "code",
   "execution_count": 147,
   "id": "020f71ec-c26c-4c12-9155-a78b5046e16d",
   "metadata": {},
   "outputs": [
    {
     "name": "stdout",
     "output_type": "stream",
     "text": [
      "[1, 4, 9, 16, 25]\n"
     ]
    }
   ],
   "source": [
    "#### 2.\tWrite a Python program that uses the `map()` function to square each element of a list of numbers.\n",
    "\n",
    "numbers = [1, 2, 3, 4, 5]\n",
    "\n",
    "# Using lambda function to square each element\n",
    "squared_numbers = list(map(lambda x: x**2, numbers))\n",
    "\n",
    "print(squared_numbers)"
   ]
  },
  {
   "cell_type": "code",
   "execution_count": 148,
   "id": "c6692a36-c6e5-4772-872d-324353443909",
   "metadata": {},
   "outputs": [
    {
     "name": "stdout",
     "output_type": "stream",
     "text": [
      "[1, 4, 9, 16]\n"
     ]
    }
   ],
   "source": [
    "#### 3.\tHow does the `map()` function differ from a list comprehension in Python, and when would you choose one over the other?\n",
    "\n",
    "''' DIFFERENCE:\n",
    "1. map(): It applies a function to all elements in an iterable. \n",
    "It returns an iterator, so you must convert it to a list if you want a list. \n",
    "It can be more readable when working with already defined functions.\n",
    "\n",
    "2. List comprehension: It allows more flexibility and can be more readable when you’re performing simple transformations. \n",
    "It can also apply conditions. '''\n",
    "\n",
    "#### Example using map():\n",
    "numbers1 = [1, 2, 3, 4]\n",
    "squared1 = list(map(lambda x: x**2, numbers1))\n",
    "\n",
    "print(squared1)"
   ]
  },
  {
   "cell_type": "code",
   "execution_count": 149,
   "id": "a74c8694-13a3-475e-b4f7-7948c70caffd",
   "metadata": {},
   "outputs": [
    {
     "name": "stdout",
     "output_type": "stream",
     "text": [
      "[1, 4, 9, 16]\n"
     ]
    }
   ],
   "source": [
    "#### Example using list comprehension:\n",
    "\n",
    "numbers2 = [1, 2, 3, 4]\n",
    "squared2 = [x**2 for x in numbers2]\n",
    "\n",
    "print(squared2)"
   ]
  },
  {
   "cell_type": "code",
   "execution_count": 150,
   "id": "fb31c3ed-595b-4a32-a62c-59d0fe8d5489",
   "metadata": {},
   "outputs": [
    {
     "data": {
      "text/plain": [
       "' When to use:\\n\\n1. Use map() when you have an existing function and just need to apply it to all elements.\\n2. Use list comprehension for more readable and flexible code, especially when filtering or adding conditions. '"
      ]
     },
     "execution_count": 150,
     "metadata": {},
     "output_type": "execute_result"
    }
   ],
   "source": [
    "''' When to use:\n",
    "\n",
    "1. Use map() when you have an existing function and just need to apply it to all elements.\n",
    "2. Use list comprehension for more readable and flexible code, especially when filtering or adding conditions. '''"
   ]
  },
  {
   "cell_type": "code",
   "execution_count": 151,
   "id": "296f5174-2ff0-4b32-b9a5-5e9649d5c531",
   "metadata": {},
   "outputs": [
    {
     "name": "stdout",
     "output_type": "stream",
     "text": [
      "['ALICE', 'BOB', 'CHARLIE']\n"
     ]
    }
   ],
   "source": [
    "#### 4.\tCreate a Python program that uses the `map()` function to convert a list of names to uppercase.\n",
    "\n",
    "names = [\"alice\", \"bob\", \"charlie\"]\n",
    "\n",
    "# Convert each name to uppercase\n",
    "uppercase_names = list(map(lambda name: name.upper(), names))\n",
    "\n",
    "print(uppercase_names)"
   ]
  },
  {
   "cell_type": "code",
   "execution_count": 152,
   "id": "e3b4168b-4983-4104-b231-39dbca1fbadb",
   "metadata": {},
   "outputs": [
    {
     "name": "stdout",
     "output_type": "stream",
     "text": [
      "[5, 5, 6]\n"
     ]
    }
   ],
   "source": [
    "#### 5.\tWrite a Python program that uses the `map()` function to calculate the length of each word in a list of strings.\n",
    "\n",
    "words = [\"hello\", \"world\", \"python\"]\n",
    "\n",
    "# Get the length of each word\n",
    "lengths = list(map(len, words))\n",
    "\n",
    "print(lengths)"
   ]
  },
  {
   "cell_type": "code",
   "execution_count": 153,
   "id": "c62a8b7a-27ce-4a72-b5da-7e2177240e27",
   "metadata": {},
   "outputs": [
    {
     "name": "stdout",
     "output_type": "stream",
     "text": [
      "[5, 7, 9]\n"
     ]
    }
   ],
   "source": [
    "#### 6.\tHow can you use the `map()` function to apply a custom function to elements of multiple lists simultaneously in Python?\n",
    "\n",
    "''' You can pass multiple iterables to the map() function, and it will apply the function to the corresponding elements of each iterable. '''\n",
    "\n",
    "def add(x, y):\n",
    "    return x + y\n",
    "\n",
    "list1 = [1, 2, 3]\n",
    "list2 = [4, 5, 6]\n",
    "\n",
    "# Apply the `add` function to corresponding elements of list1 and list2\n",
    "result = list(map(add, list1, list2))\n",
    "\n",
    "print(result)"
   ]
  },
  {
   "cell_type": "code",
   "execution_count": 154,
   "id": "84cac0a9-94ba-4f7b-9568-c03e3d63788b",
   "metadata": {},
   "outputs": [
    {
     "name": "stdout",
     "output_type": "stream",
     "text": [
      "[32.0, 68.0, 98.6, 212.0]\n"
     ]
    }
   ],
   "source": [
    "#### 7.\tCreate a Python program that uses `map()` to convert a list of temperatures from Celsius to Fahrenheit.\n",
    "\n",
    "celsius = [0, 20, 37, 100]\n",
    "\n",
    "# Convert Celsius to Fahrenheit\n",
    "fahrenheit = list(map(lambda c: (c * 9/5) + 32, celsius))\n",
    "\n",
    "print(fahrenheit)"
   ]
  },
  {
   "cell_type": "code",
   "execution_count": 155,
   "id": "9a828f0d-d6b2-444b-8a5b-820c020c61d2",
   "metadata": {},
   "outputs": [
    {
     "name": "stdout",
     "output_type": "stream",
     "text": [
      "[1, 4, 4, 7]\n"
     ]
    }
   ],
   "source": [
    "#### 8.\tWrite a Python program that uses the `map()` function to round each element of a list of floating-point numbers to the nearest integer.\n",
    "\n",
    "float_numbers = [1.2, 3.8, 4.5, 6.9]\n",
    "\n",
    "# Round each number to the nearest integer\n",
    "rounded_numbers = list(map(round, float_numbers))\n",
    "\n",
    "print(rounded_numbers)"
   ]
  },
  {
   "cell_type": "code",
   "execution_count": 156,
   "id": "1cce1b52-fdfb-44d3-b1ac-b97c54af984e",
   "metadata": {},
   "outputs": [
    {
     "name": "stdout",
     "output_type": "stream",
     "text": [
      "15\n"
     ]
    }
   ],
   "source": [
    "#### Reduce :-\n",
    "\n",
    "#### 1.\tWhat is the `reduce()` function in Python, and what module should you import to use it? Provide an example of its basic usage.\n",
    "\n",
    "''' The reduce() function in Python is used to apply a function cumulatively to the items of an iterable (such as a list or tuple) from left to right, reducing the iterable to a single value. \n",
    "You need to import the reduce() function from the functools module. '''\n",
    "\n",
    "from functools import reduce\n",
    "\n",
    "numbers = [1, 2, 3, 4, 5]\n",
    "\n",
    "# Sum all elements\n",
    "result = reduce(lambda a, b: a + b, numbers)\n",
    "\n",
    "print(result)"
   ]
  },
  {
   "cell_type": "code",
   "execution_count": 157,
   "id": "3ca430a5-b697-45cf-9732-dbd611efcb51",
   "metadata": {},
   "outputs": [
    {
     "name": "stdout",
     "output_type": "stream",
     "text": [
      "24\n"
     ]
    }
   ],
   "source": [
    "#### 2.\tWrite a Python program that uses the `reduce()` function to find the product of all elements in a list.\n",
    "\n",
    "from functools import reduce\n",
    "\n",
    "numbers = [1, 2, 3, 4]\n",
    "\n",
    "# Multiply all elements together\n",
    "product = reduce(lambda a, b: a * b, numbers)\n",
    "\n",
    "print(product)"
   ]
  },
  {
   "cell_type": "code",
   "execution_count": 158,
   "id": "d1933d15-3bf4-4270-a926-e29135612dff",
   "metadata": {},
   "outputs": [
    {
     "name": "stdout",
     "output_type": "stream",
     "text": [
      "10\n"
     ]
    }
   ],
   "source": [
    "#### 3.\tCreate a Python program that uses `reduce()` to find the maximum element in a list of numbers.\n",
    "\n",
    "from functools import reduce\n",
    "\n",
    "numbers = [5, 1, 8, 4, 10, 2]\n",
    "\n",
    "# Find the maximum element\n",
    "maximum = reduce(lambda a, b: a if a > b else b, numbers)\n",
    "\n",
    "print(maximum)"
   ]
  },
  {
   "cell_type": "code",
   "execution_count": 159,
   "id": "90f97a2a-1750-4c8d-a0ba-05096371a99f",
   "metadata": {},
   "outputs": [
    {
     "name": "stdout",
     "output_type": "stream",
     "text": [
      "Hello world from Python\n"
     ]
    }
   ],
   "source": [
    "#### 4.\tHow can you use the `reduce()` function to concatenate a list of strings into a single string?\n",
    "\n",
    "''' You can use the reduce() function to concatenate strings by applying a function that adds the strings together. '''\n",
    "\n",
    "from functools import reduce\n",
    "\n",
    "words = [\"Hello\", \"world\", \"from\", \"Python\"]\n",
    "\n",
    "# Concatenate all words\n",
    "sentence = reduce(lambda a, b: a + \" \" + b, words)\n",
    "\n",
    "print(sentence)"
   ]
  },
  {
   "cell_type": "code",
   "execution_count": 160,
   "id": "b75f9669-8fbf-480c-9fa8-0deeaaa41fcc",
   "metadata": {},
   "outputs": [
    {
     "name": "stdout",
     "output_type": "stream",
     "text": [
      "120\n"
     ]
    }
   ],
   "source": [
    "#### 5.\tWrite a Python program that calculates the factorial of a number using the `reduce()` function.\n",
    "\n",
    "from functools import reduce\n",
    "\n",
    "n = 5\n",
    "\n",
    "# Calculate factorial of n (5! = 5 * 4 * 3 * 2 * 1)\n",
    "factorial = reduce(lambda a, b: a * b, range(1, n + 1))\n",
    "\n",
    "print(factorial)"
   ]
  },
  {
   "cell_type": "code",
   "execution_count": 161,
   "id": "971579b6-40c0-462d-85fe-30a2ee05dca9",
   "metadata": {},
   "outputs": [
    {
     "name": "stdout",
     "output_type": "stream",
     "text": [
      "16\n"
     ]
    }
   ],
   "source": [
    "#### 6.\tCreate a Python program that uses `reduce()` to find the GCD (Greatest Common Divisor) of a list of numbers.\n",
    "\n",
    "from functools import reduce\n",
    "import math\n",
    "\n",
    "numbers = [48, 64, 16]\n",
    "\n",
    "# Find the GCD of all numbers\n",
    "gcd = reduce(math.gcd, numbers)\n",
    "\n",
    "print(gcd)"
   ]
  },
  {
   "cell_type": "code",
   "execution_count": 162,
   "id": "3bf24e39-f763-40ea-a50a-b2567b5c75be",
   "metadata": {},
   "outputs": [
    {
     "name": "stdout",
     "output_type": "stream",
     "text": [
      "15\n"
     ]
    }
   ],
   "source": [
    "#### 7.\tWrite a Python program that uses the `reduce()` function to find the sum of the digits of a given number.\n",
    "\n",
    "from functools import reduce\n",
    "\n",
    "number = 12345\n",
    "\n",
    "# Convert number to a list of its digits\n",
    "digits = [int(digit) for digit in str(number)]\n",
    "\n",
    "# Sum all the digits\n",
    "digit_sum = reduce(lambda a, b: a + b, digits)\n",
    "\n",
    "print(digit_sum)"
   ]
  },
  {
   "cell_type": "code",
   "execution_count": 163,
   "id": "52746262-7c99-481c-967d-f4b6020ebd39",
   "metadata": {},
   "outputs": [
    {
     "name": "stdout",
     "output_type": "stream",
     "text": [
      "[6, 7, 8]\n"
     ]
    }
   ],
   "source": [
    "#### Filter :-\n",
    "\n",
    "#### 1.\tExplain the purpose of the `filter()` function in Python and provide an example of how it can be used to filter elements from an iterable.\n",
    "\n",
    "''' The filter() function in Python is used to filter elements from an iterable (like a list or tuple) based on a given condition. The function takes two arguments: a function (that returns True or False) and the iterable. \n",
    "It returns an iterator with the elements that satisfy the condition. '''\n",
    "\n",
    "numbers = [1, 2, 6, 7, 8, 3]\n",
    "\n",
    "# Filter numbers greater than 5\n",
    "filtered_numbers = filter(lambda x: x > 5, numbers)\n",
    "\n",
    "print(list(filtered_numbers))"
   ]
  },
  {
   "cell_type": "code",
   "execution_count": 164,
   "id": "06c29c25-6e48-4fe4-8eb2-0bce2fcecc5d",
   "metadata": {},
   "outputs": [
    {
     "name": "stdout",
     "output_type": "stream",
     "text": [
      "[2, 4, 6, 8, 10]\n"
     ]
    }
   ],
   "source": [
    "#### 2.\tWrite a Python program that uses the `filter()` function to select even numbers from a list of integers.\n",
    "\n",
    "numbers = [1, 2, 3, 4, 5, 6, 7, 8, 9, 10]\n",
    "\n",
    "# Filter even numbers\n",
    "even_numbers = filter(lambda x: x % 2 == 0, numbers)\n",
    "\n",
    "print(list(even_numbers))"
   ]
  },
  {
   "cell_type": "code",
   "execution_count": 165,
   "id": "0cf724ed-7a4c-43be-a900-4af4fe09f14b",
   "metadata": {},
   "outputs": [
    {
     "name": "stdout",
     "output_type": "stream",
     "text": [
      "['Alice', 'Amy']\n"
     ]
    }
   ],
   "source": [
    "#### 3.\tCreate a Python program that uses the `filter()` function to select names that start with a specific letter from a list of strings.\n",
    "\n",
    "names = [\"Alice\", \"Bob\", \"Charlie\", \"David\", \"Amy\"]\n",
    "\n",
    "# Filter names starting with 'A'\n",
    "names_with_A = filter(lambda name: name.startswith('A'), names)\n",
    "\n",
    "print(list(names_with_A))"
   ]
  },
  {
   "cell_type": "code",
   "execution_count": 166,
   "id": "2cd341a2-9379-4894-97da-8185b9eaf5b9",
   "metadata": {},
   "outputs": [
    {
     "name": "stdout",
     "output_type": "stream",
     "text": [
      "[2, 3, 5, 7, 11]\n"
     ]
    }
   ],
   "source": [
    "#### 4.\tWrite a Python program that uses the `filter()` function to select prime numbers from a list of integers.\n",
    "\n",
    "def is_prime(n):\n",
    "    if n < 2:\n",
    "        return False\n",
    "    for i in range(2, int(n**0.5) + 1):\n",
    "        if n % i == 0:\n",
    "            return False\n",
    "    return True\n",
    "\n",
    "numbers = [2, 3, 4, 5, 6, 7, 8, 9, 10, 11]\n",
    "\n",
    "# Filter prime numbers\n",
    "prime_numbers = filter(is_prime, numbers)\n",
    "\n",
    "print(list(prime_numbers))"
   ]
  },
  {
   "cell_type": "code",
   "execution_count": 167,
   "id": "d457da44-efe9-45cc-8c9d-7e462c85a9ea",
   "metadata": {},
   "outputs": [
    {
     "name": "stdout",
     "output_type": "stream",
     "text": [
      "[1, 2, 3, 4]\n"
     ]
    }
   ],
   "source": [
    "#### 5.\tHow can you use the `filter()` function to remove None values from a list in Python?\n",
    "\n",
    "items = [1, None, 2, None, 3, 4, None]\n",
    "\n",
    "# Filter out None values\n",
    "filtered_items = filter(lambda x: x is not None, items)\n",
    "\n",
    "print(list(filtered_items))"
   ]
  },
  {
   "cell_type": "code",
   "execution_count": 168,
   "id": "1c47133c-7452-4590-bafc-6a47efbf9824",
   "metadata": {},
   "outputs": [
    {
     "name": "stdout",
     "output_type": "stream",
     "text": [
      "['apple', 'banana', 'elephant']\n"
     ]
    }
   ],
   "source": [
    "#### 6.\tCreate a Python program that uses `filter()` to select words longer than a certain length from a list of strings.\n",
    "\n",
    "words = [\"apple\", \"banana\", \"cat\", \"dog\", \"elephant\"]\n",
    "\n",
    "# Filter words longer than 3 characters\n",
    "long_words = filter(lambda word: len(word) > 3, words)\n",
    "\n",
    "print(list(long_words))"
   ]
  },
  {
   "cell_type": "code",
   "execution_count": 169,
   "id": "91cc9c3a-5aaf-42c7-9a51-b092789ec6ca",
   "metadata": {},
   "outputs": [
    {
     "name": "stdout",
     "output_type": "stream",
     "text": [
      "[12, 19]\n"
     ]
    }
   ],
   "source": [
    "#### 7.\tWrite a Python program that uses the `filter()` function to select elements greater than a specified threshold from a list of values.\n",
    "\n",
    "numbers = [5, 8, 1, 12, 19, 3, 7]\n",
    "\n",
    "# Filter numbers greater than 10\n",
    "greater_than_10 = filter(lambda x: x > 10, numbers)\n",
    "\n",
    "print(list(greater_than_10))"
   ]
  },
  {
   "cell_type": "code",
   "execution_count": 170,
   "id": "01f9cb87-db40-43f5-82d5-d314870f1fff",
   "metadata": {},
   "outputs": [
    {
     "data": {
      "text/plain": [
       "' RECURSION:\\n    1. It is a technique in Python where a function calls itself to solve a smaller version of the same problem. \\n    2. It typically consists of a base case (to stop the recursion) and a recursive case (to call the function again).\\n\\nDifference from Iteration:\\n1. Recursion uses self-calling functions and is useful for problems like tree traversals or factorial calculation.\\n2. Iteration uses loops (like for or while) to repeat actions and is more straightforward for tasks like summing a series of numbers. '"
      ]
     },
     "execution_count": 170,
     "metadata": {},
     "output_type": "execute_result"
    }
   ],
   "source": [
    "#### Recursion:-\n",
    "\n",
    "#### 1.\tExplain the concept of recursion in Python. How does it differ from iteration?\n",
    "\n",
    "''' RECURSION:\n",
    "    1. It is a technique in Python where a function calls itself to solve a smaller version of the same problem. \n",
    "    2. It typically consists of a base case (to stop the recursion) and a recursive case (to call the function again).\n",
    "\n",
    "Difference from Iteration:\n",
    "1. Recursion uses self-calling functions and is useful for problems like tree traversals or factorial calculation.\n",
    "2. Iteration uses loops (like for or while) to repeat actions and is more straightforward for tasks like summing a series of numbers. '''"
   ]
  },
  {
   "cell_type": "code",
   "execution_count": 171,
   "id": "262165de-75d3-45fe-ba8c-cba9d093acd3",
   "metadata": {},
   "outputs": [
    {
     "name": "stdout",
     "output_type": "stream",
     "text": [
      "120\n"
     ]
    }
   ],
   "source": [
    "#### 2.\tWrite a Python program to calculate the factorial of a number using recursion.\n",
    "\n",
    "def factorial(n):\n",
    "    if n == 0 or n == 1:  # Base case\n",
    "        return 1\n",
    "    else:\n",
    "        return n * factorial(n - 1)  # Recursive case\n",
    "\n",
    "print(factorial(5))"
   ]
  },
  {
   "cell_type": "code",
   "execution_count": 172,
   "id": "f0fc5213-33f8-4fbc-85b9-d17eb7d1be69",
   "metadata": {},
   "outputs": [
    {
     "name": "stdout",
     "output_type": "stream",
     "text": [
      "8\n"
     ]
    }
   ],
   "source": [
    "#### 3.\tCreate a recursive Python function to find the nth Fibonacci number.\n",
    "\n",
    "def fibonacci(n):\n",
    "    if n == 0:  # Base case 1\n",
    "        return 0\n",
    "    elif n == 1:  # Base case 2\n",
    "        return 1\n",
    "    else:\n",
    "        return fibonacci(n - 1) + fibonacci(n - 2)  # Recursive case\n",
    "\n",
    "print(fibonacci(6))"
   ]
  },
  {
   "cell_type": "code",
   "execution_count": 173,
   "id": "6bb1269c-4ef2-48b4-a053-0d4d6be44033",
   "metadata": {},
   "outputs": [
    {
     "name": "stdout",
     "output_type": "stream",
     "text": [
      "15\n"
     ]
    }
   ],
   "source": [
    "#### 4.\tWrite a recursive Python function to calculate the sum of all elements in a list.\n",
    "\n",
    "def sum_list(lst):\n",
    "    if len(lst) == 0:  # Base case: empty list\n",
    "        return 0\n",
    "    else:\n",
    "        return lst[0] + sum_list(lst[1:])  # Recursive case\n",
    "\n",
    "print(sum_list([1, 2, 3, 4, 5]))"
   ]
  },
  {
   "cell_type": "code",
   "execution_count": 174,
   "id": "b1afb54a-de84-4015-887a-819b11e3a4e9",
   "metadata": {},
   "outputs": [
    {
     "data": {
      "text/plain": [
       "' To prevent a recursive function from running indefinitely:\\n    1. Always define a base case that stops the recursion.\\n    2. Ensure that each recursive call moves towards the base case.\\n    3. Python sets a recursion depth limit (default is around 1000). \\n    4. You can adjust it using sys.setrecursionlimit(), but increasing it too much might cause memory issues. '"
      ]
     },
     "execution_count": 174,
     "metadata": {},
     "output_type": "execute_result"
    }
   ],
   "source": [
    "#### 5.\tHow can you prevent a recursive function from running indefinitely, causing a stack overflow error?\n",
    "\n",
    "''' To prevent a recursive function from running indefinitely:\n",
    "    1. Always define a base case that stops the recursion.\n",
    "    2. Ensure that each recursive call moves towards the base case.\n",
    "    3. Python sets a recursion depth limit (default is around 1000). \n",
    "    4. You can adjust it using sys.setrecursionlimit(), but increasing it too much might cause memory issues. '''"
   ]
  },
  {
   "cell_type": "code",
   "execution_count": 175,
   "id": "11972e02-a40b-4ebc-8336-6dfb1168e18f",
   "metadata": {},
   "outputs": [
    {
     "name": "stdout",
     "output_type": "stream",
     "text": [
      "6\n"
     ]
    }
   ],
   "source": [
    "#### 6.\tCreate a recursive Python function to find the greatest common divisor (GCD) of two numbers using the Euclidean algorithm.\n",
    "\n",
    "def gcd(a, b):\n",
    "    if b == 0:  # Base case\n",
    "        return a\n",
    "    else:\n",
    "        return gcd(b, a % b)  # Recursive case\n",
    "\n",
    "print(gcd(48, 18))"
   ]
  },
  {
   "cell_type": "code",
   "execution_count": 176,
   "id": "d7e1e5ca-4af7-4fa1-8d5f-be00d07c6318",
   "metadata": {},
   "outputs": [
    {
     "name": "stdout",
     "output_type": "stream",
     "text": [
      "olleh\n"
     ]
    }
   ],
   "source": [
    "#### 7.\tWrite a recursive Python function to reverse a string.\n",
    "\n",
    "def reverse_string(s):\n",
    "    if len(s) == 0:  # Base case: empty string\n",
    "        return \"\"\n",
    "    else:\n",
    "        return s[-1] + reverse_string(s[:-1])  # Recursive case\n",
    "\n",
    "print(reverse_string(\"hello\"))"
   ]
  },
  {
   "cell_type": "code",
   "execution_count": 177,
   "id": "e4968742-a9ff-4f63-9799-7a041fd5ac89",
   "metadata": {},
   "outputs": [
    {
     "name": "stdout",
     "output_type": "stream",
     "text": [
      "8\n"
     ]
    }
   ],
   "source": [
    "#### 8.\tCreate a recursive Python function to calculate the power of a number (x^n).\n",
    "\n",
    "def power(x, n):\n",
    "    if n == 0:  # Base case\n",
    "        return 1\n",
    "    else:\n",
    "        return x * power(x, n - 1)  # Recursive case\n",
    "\n",
    "print(power(2, 3))"
   ]
  },
  {
   "cell_type": "code",
   "execution_count": 178,
   "id": "f3cc8065-ac86-4111-b3dc-d380a2ebad6f",
   "metadata": {},
   "outputs": [
    {
     "name": "stdout",
     "output_type": "stream",
     "text": [
      "['abc', 'acb', 'bac', 'bca', 'cab', 'cba']\n"
     ]
    }
   ],
   "source": [
    "#### 9.\tWrite a recursive Python function to find all permutations of a given string.\n",
    "\n",
    "def permutations(s):\n",
    "    if len(s) == 1:  # Base case\n",
    "        return [s]\n",
    "    else:\n",
    "        result = []\n",
    "        for i, char in enumerate(s):\n",
    "            for perm in permutations(s[:i] + s[i+1:]):  # Recursive case\n",
    "                result.append(char + perm)\n",
    "        return result\n",
    "\n",
    "print(permutations(\"abc\"))"
   ]
  },
  {
   "cell_type": "code",
   "execution_count": 179,
   "id": "1a961e80-7c3e-4d94-9633-2bfb4cc86219",
   "metadata": {},
   "outputs": [
    {
     "name": "stdout",
     "output_type": "stream",
     "text": [
      "True\n"
     ]
    }
   ],
   "source": [
    "#### 10.\tWrite a recursive Python function to check if a string is a palindrome.\n",
    "\n",
    "def is_palindrome(s):\n",
    "    if len(s) <= 1:  # Base case\n",
    "        return True\n",
    "    else:\n",
    "        return s[0] == s[-1] and is_palindrome(s[1:-1])  # Recursive case\n",
    "\n",
    "print(is_palindrome(\"racecar\"))"
   ]
  },
  {
   "cell_type": "code",
   "execution_count": 180,
   "id": "6d6b78e4-4dc4-4451-9f93-1ee6ef176dbb",
   "metadata": {},
   "outputs": [
    {
     "name": "stdout",
     "output_type": "stream",
     "text": [
      "[[], [1], [2], [1, 2], [3], [1, 3], [2, 3], [1, 2, 3]]\n"
     ]
    }
   ],
   "source": [
    "#### 11.\tCreate a recursive Python function to generate all possible combinations of a list of elements.\n",
    "\n",
    "def combinations(lst):\n",
    "    if len(lst) == 0:  # Base case\n",
    "        return [[]]\n",
    "    else:\n",
    "        result = []\n",
    "        for comb in combinations(lst[1:]):  # Recursive case\n",
    "            result.append(comb)\n",
    "            result.append([lst[0]] + comb)\n",
    "        return result\n",
    "\n",
    "print(combinations([1, 2, 3]))"
   ]
  },
  {
   "cell_type": "code",
   "execution_count": 181,
   "id": "fc308005-bb8d-4c69-9ad0-d7e26aebeef2",
   "metadata": {},
   "outputs": [
    {
     "data": {
      "text/plain": [
       "'\\n1. A function in Python is a block of reusable code that performs a specific task. \\n2. It helps organize code into smaller, manageable sections, which makes it easier to read, maintain, and debug. \\n3. Functions are used to avoid repetition and make the code more modular.\\n\\nFor example, instead of writing the same code multiple times, you can define a function once and call it whenever needed. '"
      ]
     },
     "execution_count": 181,
     "metadata": {},
     "output_type": "execute_result"
    }
   ],
   "source": [
    "#### Basics of Functions:\n",
    "\n",
    "#### 1.\tWhat is a function in Python, and why is it used?\n",
    "\n",
    "'''\n",
    "1. A function in Python is a block of reusable code that performs a specific task. \n",
    "2. It helps organize code into smaller, manageable sections, which makes it easier to read, maintain, and debug. \n",
    "3. Functions are used to avoid repetition and make the code more modular.\n",
    "\n",
    "For example, instead of writing the same code multiple times, you can define a function once and call it whenever needed. '''"
   ]
  },
  {
   "cell_type": "code",
   "execution_count": 182,
   "id": "d207e2f2-3e99-441b-a5b8-ce52111af749",
   "metadata": {},
   "outputs": [
    {
     "name": "stdout",
     "output_type": "stream",
     "text": [
      "Hello, welcome to Python!\n"
     ]
    }
   ],
   "source": [
    "#### 2.\tHow do you define a function in Python? Provide an example.\n",
    "\n",
    "''' You define a function in Python using the def keyword, followed by the function name, parentheses (), and a colon :. Inside the function, you can write the code you want to execute. '''\n",
    "\n",
    "#### Example:\n",
    "\n",
    "def greet():\n",
    "    print(\"Hello, welcome to Python!\")\n",
    "\n",
    "# Calling the function\n",
    "greet()"
   ]
  },
  {
   "cell_type": "code",
   "execution_count": 184,
   "id": "a97af954-9a91-4ac0-adbd-f13f88d2fbf7",
   "metadata": {},
   "outputs": [
    {
     "name": "stdout",
     "output_type": "stream",
     "text": [
      "Hello, World!\n"
     ]
    }
   ],
   "source": [
    "#### 3.\tExplain the difference between a function definition and a function call.\n",
    "\n",
    "''' Function Definition: \n",
    "    1. This is where you define what the function will do. \n",
    "    2. It includes the function name, parameters (if any), and the block of code to be executed when the function is called.\n",
    "\n",
    "    Function Call: \n",
    "    1. This is when you actually use or invoke the function by writing its name followed by parentheses (). \n",
    "    2. The code inside the function executes at this point. '''\n",
    "\n",
    "#### Example: \n",
    "def say_hello():  # Function definition\n",
    "    print(\"Hello, World!\")\n",
    "\n",
    "say_hello()  # Function call"
   ]
  },
  {
   "cell_type": "code",
   "execution_count": 185,
   "id": "7899ea6f-b09f-4d47-a67e-f8720fb58de3",
   "metadata": {},
   "outputs": [
    {
     "name": "stdout",
     "output_type": "stream",
     "text": [
      "8\n"
     ]
    }
   ],
   "source": [
    "#### 4.\tWrite a Python program that defines a function to calculate the sum of two numbers and then calls the function.\n",
    "\n",
    "def sum_numbers(a, b):\n",
    "    return a + b  # Calculate the sum and return the result\n",
    "\n",
    "# Calling the function\n",
    "result = sum_numbers(5, 3)\n",
    "print(result)"
   ]
  },
  {
   "cell_type": "code",
   "execution_count": 186,
   "id": "e0e8715f-8079-40cb-af61-40de7610f9a9",
   "metadata": {},
   "outputs": [
    {
     "data": {
      "text/plain": [
       "' For example, in the function def add(a, b):, the signature is add(a, b). It includes:\\n    1. Function Name: add\\n    2. Parameters: a and b '"
      ]
     },
     "execution_count": 186,
     "metadata": {},
     "output_type": "execute_result"
    }
   ],
   "source": [
    "#### 5.\tWhat is a function signature, and what information does it typically include?\n",
    "\n",
    "''' A function signature is the part of the function definition that includes the function's name and its parameters. \n",
    "    It tells you how the function should be called and what arguments it expects.'''\n",
    "\n",
    "''' For example, in the function def add(a, b):, the signature is add(a, b). It includes:\n",
    "    1. Function Name: add\n",
    "    2. Parameters: a and b '''"
   ]
  },
  {
   "cell_type": "code",
   "execution_count": 187,
   "id": "d7e502c8-6f0e-43de-951b-a2fa50734b8a",
   "metadata": {},
   "outputs": [
    {
     "name": "stdout",
     "output_type": "stream",
     "text": [
      "20\n"
     ]
    }
   ],
   "source": [
    "#### 6.\tCreate a Python function that takes two arguments and returns their product.\n",
    "\n",
    "def multiply(a, b):\n",
    "    return a * b  # Return the product of a and b\n",
    "\n",
    "# Calling the function\n",
    "result = multiply(4, 5)\n",
    "print(result)"
   ]
  },
  {
   "cell_type": "code",
   "execution_count": 188,
   "id": "34872cc3-235b-4959-9e8c-18f639eaa42c",
   "metadata": {},
   "outputs": [
    {
     "name": "stdout",
     "output_type": "stream",
     "text": [
      "Hello, Alice\n"
     ]
    }
   ],
   "source": [
    "#### Function Parameters and Arguments:\n",
    "\n",
    "#### 1.\tExplain the concepts of formal parameters and actual arguments in Python functions.\n",
    "\n",
    "''' Formal Parameters: \n",
    "    1. These are the variables that you define in the function definition. \n",
    "    2. They act as placeholders for the values (arguments) that will be passed when the function is called.\n",
    "\n",
    "    Actual Arguments: \n",
    "    1. These are the values or variables you pass to the function when you call it. \n",
    "    2. They fill in the placeholders (parameters) defined in the function. '''\n",
    "\n",
    "#### Example: \n",
    "def greet(name):  # 'name' is the formal parameter\n",
    "    print(\"Hello, \" + name)\n",
    "\n",
    "greet(\"Alice\")  # \"Alice\" is the actual argument"
   ]
  },
  {
   "cell_type": "code",
   "execution_count": 189,
   "id": "3937f170-7960-4352-9aae-9921fbbc37ec",
   "metadata": {},
   "outputs": [
    {
     "name": "stdout",
     "output_type": "stream",
     "text": [
      "Hello, Guest\n",
      "Hello, John\n"
     ]
    }
   ],
   "source": [
    "#### 2.\tWrite a Python program that defines a function with default argument values.\n",
    "\n",
    "''' You can provide default values for parameters in Python, so that if an argument is not passed, the default value is used. '''\n",
    "\n",
    "#### Example:\n",
    "\n",
    "def greet(name=\"Guest\"):  # 'Guest' is the default value\n",
    "    print(\"Hello, \" + name)\n",
    "\n",
    "greet()       \n",
    "greet(\"John\") "
   ]
  },
  {
   "cell_type": "code",
   "execution_count": 190,
   "id": "f3d6cdaf-64d9-4fb9-b341-99e4b41da35c",
   "metadata": {},
   "outputs": [
    {
     "name": "stdout",
     "output_type": "stream",
     "text": [
      "My name is Alice and I am 25 years old.\n"
     ]
    }
   ],
   "source": [
    "#### 3.\tHow do you use keyword arguments in Python function calls? Provide an example.\n",
    "\n",
    "''' Keyword arguments allow you to pass arguments by explicitly specifying the parameter name. \n",
    "    This makes the function call more readable and allows arguments to be passed in any order. '''\n",
    "\n",
    "#### Example: \n",
    "\n",
    "def introduce(name, age):\n",
    "    print(f\"My name is {name} and I am {age} years old.\")\n",
    "\n",
    "introduce(age=25, name=\"Alice\")"
   ]
  },
  {
   "cell_type": "code",
   "execution_count": 191,
   "id": "be1a8159-547c-4584-a702-42460d9b2132",
   "metadata": {},
   "outputs": [
    {
     "name": "stdout",
     "output_type": "stream",
     "text": [
      "6\n",
      "30\n"
     ]
    }
   ],
   "source": [
    "#### 4.\tCreate a Python function that accepts a variable number of arguments and calculates their sum.\n",
    "\n",
    "def sum_numbers(*args):  # Accepts any number of arguments\n",
    "    return sum(args)\n",
    "\n",
    "# Calling the function with different numbers of arguments\n",
    "print(sum_numbers(1, 2, 3))      \n",
    "print(sum_numbers(4, 5, 6, 7, 8)) "
   ]
  },
  {
   "cell_type": "code",
   "execution_count": 192,
   "id": "74f1d7fd-78ec-4bc6-9424-b27e27314164",
   "metadata": {},
   "outputs": [
    {
     "name": "stdout",
     "output_type": "stream",
     "text": [
      "Positional arguments: (1, 2, 3)\n",
      "Keyword arguments: {'name': 'Alice', 'age': 25}\n"
     ]
    }
   ],
   "source": [
    "#### 5.\tWhat is the purpose of the `*args` and `**kwargs` syntax in function parameter lists?\n",
    "\n",
    "''' 1. *args: This allows a function to accept any number of positional arguments. These arguments are passed as a tuple.\n",
    "    2. **kwargs: This allows a function to accept any number of keyword arguments. These arguments are passed as a dictionary. '''\n",
    "\n",
    "#### Example: \n",
    "\n",
    "def display_info(*args, **kwargs):\n",
    "    print(\"Positional arguments:\", args)\n",
    "    print(\"Keyword arguments:\", kwargs)\n",
    "\n",
    "display_info(1, 2, 3, name=\"Alice\", age=25)"
   ]
  },
  {
   "cell_type": "code",
   "execution_count": 193,
   "id": "176b912f-2e8b-43a2-b5f5-6ff306b75012",
   "metadata": {},
   "outputs": [
    {
     "name": "stdout",
     "output_type": "stream",
     "text": [
      "7\n"
     ]
    }
   ],
   "source": [
    "#### Return Values and Scoping:\n",
    "\n",
    "#### 1.\tDescribe the role of the `return` statement in Python functions and provide examples.\n",
    "\n",
    "''' 1. The return statement in Python functions is used to send a value back to the caller of the function. \n",
    "    2. It ends the function and passes the result to wherever the function was called. \n",
    "    3. If no return is specified, the function will return None by default. '''\n",
    "\n",
    "#### Example 1:\n",
    "def add(a, b):\n",
    "    return a + b\n",
    "\n",
    "result = add(3, 4)\n",
    "print(result)"
   ]
  },
  {
   "cell_type": "code",
   "execution_count": 194,
   "id": "2079ec83-58b1-4f94-8758-3c4dee7cd3d9",
   "metadata": {},
   "outputs": [
    {
     "name": "stdout",
     "output_type": "stream",
     "text": [
      "Hello!\n"
     ]
    }
   ],
   "source": [
    "#### Example 2:\n",
    "\n",
    "def greet():\n",
    "    return \"Hello!\"\n",
    "\n",
    "message = greet()\n",
    "print(message)"
   ]
  },
  {
   "cell_type": "code",
   "execution_count": 195,
   "id": "5fc1e3f2-2726-4bfe-a962-a3e3f5302423",
   "metadata": {},
   "outputs": [
    {
     "name": "stdout",
     "output_type": "stream",
     "text": [
      "Inside the function, x = 5\n",
      "Outside the function, x = 10\n"
     ]
    }
   ],
   "source": [
    "#### 2.\tExplain the concept of variable scope in Python, including local and global variables.\n",
    "\n",
    "''' Local Variables: \n",
    "    - Variables defined inside a function are local to that function. \n",
    "    - They are only accessible within that function and not outside it.\n",
    "\n",
    "    Global Variables: \n",
    "    - Variables defined outside of any function are global and can be accessed from anywhere in the program, including inside functions. '''\n",
    "\n",
    "#### Example:\n",
    "\n",
    "x = 10  # Global variable\n",
    "\n",
    "def my_function():\n",
    "    x = 5  # Local variable, only exists inside this function\n",
    "    print(\"Inside the function, x =\", x)\n",
    "\n",
    "my_function()\n",
    "print(\"Outside the function, x =\", x)  "
   ]
  },
  {
   "cell_type": "code",
   "execution_count": 196,
   "id": "66e74811-6fde-4e05-9650-ea66371ce047",
   "metadata": {},
   "outputs": [
    {
     "name": "stdout",
     "output_type": "stream",
     "text": [
      "Global count = 2\n"
     ]
    }
   ],
   "source": [
    "#### 3.\tWrite a Python program that demonstrates the use of global variables within functions.\n",
    "\n",
    "count = 0  # Global variable\n",
    "\n",
    "def increment():\n",
    "    global count  # Tells Python to use the global variable\n",
    "    count += 1  # Modifies the global variable\n",
    "\n",
    "increment()\n",
    "increment()\n",
    "\n",
    "print(\"Global count =\", count)"
   ]
  },
  {
   "cell_type": "code",
   "execution_count": 197,
   "id": "20e57726-61e1-497f-a563-051c0d9541c7",
   "metadata": {},
   "outputs": [
    {
     "name": "stdout",
     "output_type": "stream",
     "text": [
      "120\n"
     ]
    }
   ],
   "source": [
    "#### 4.\tCreate a Python function that calculates the factorial of a number and returns it.\n",
    "\n",
    "def factorial(n):\n",
    "    result = 1\n",
    "    for i in range(1, n + 1):\n",
    "        result *= i  # Multiply result by each number up to n\n",
    "    return result\n",
    "\n",
    "print(factorial(5))"
   ]
  },
  {
   "cell_type": "code",
   "execution_count": 198,
   "id": "79842459-a587-4b8b-8c64-44490d008eac",
   "metadata": {},
   "outputs": [
    {
     "name": "stdout",
     "output_type": "stream",
     "text": [
      "Inside the function, x = 10\n",
      "Outside the function, x = 5\n"
     ]
    }
   ],
   "source": [
    "#### 5.\tHow can you access variables defined outside a function from within the function?\n",
    "\n",
    "''' You can access global variables from within a function without needing any special keyword. \n",
    "    However, to modify a global variable inside a function, you must use the global keyword. '''\n",
    "\n",
    "#### Example: Inside the function\n",
    "\n",
    "x = 10  # Global variable\n",
    "\n",
    "def my_function():\n",
    "    print(\"Inside the function, x =\", x)  # Access the global variable\n",
    "\n",
    "my_function()\n",
    "\n",
    "#### Example: Outside the function\n",
    "\n",
    "x = 10  # Global variable\n",
    "\n",
    "def modify_global():\n",
    "    global x\n",
    "    x = 5  # Modify the global variable\n",
    "\n",
    "modify_global()\n",
    "print(\"Outside the function, x =\", x)"
   ]
  },
  {
   "cell_type": "code",
   "execution_count": 199,
   "id": "bb8b4c5b-d29d-4593-a36c-3c7b68558a21",
   "metadata": {},
   "outputs": [
    {
     "name": "stdout",
     "output_type": "stream",
     "text": [
      "8\n"
     ]
    }
   ],
   "source": [
    "#### Lambda Functions and Higher-Order Functions:\n",
    "\n",
    "#### 1.\tWhat are lambda functions in Python, and when are they typically used?\n",
    "\n",
    "''' a. Lambda functions are small, anonymous functions in Python that are defined using the lambda keyword. \n",
    "    b. They are typically used for short, simple operations that can be expressed in one line of code. \n",
    "    c. Lambda functions can take any number of arguments but have only one expression.\n",
    "    d. They are often used in places where a simple function is needed temporarily, such as in sorting, filtering, or mapping operations.'''\n",
    "\n",
    "# A regular function to add two numbers\n",
    "def add(x, y):\n",
    "    return x + y\n",
    "\n",
    "# The same function using a lambda\n",
    "add_lambda = lambda x, y: x + y\n",
    "\n",
    "# Using the lambda function\n",
    "print(add_lambda(5, 3))"
   ]
  },
  {
   "cell_type": "code",
   "execution_count": 200,
   "id": "d5b37b40-9bd7-4abc-a4f4-d53ddb012ffe",
   "metadata": {},
   "outputs": [
    {
     "name": "stdout",
     "output_type": "stream",
     "text": [
      "[(5, 1), (4, 2), (1, 3)]\n"
     ]
    }
   ],
   "source": [
    "#### 2.\tWrite a Python program that uses lambda functions to sort a list of tuples based on the second element.\n",
    "\n",
    "# List of tuples\n",
    "my_list = [(1, 3), (4, 2), (5, 1)]\n",
    "\n",
    "# Sort based on the second element of each tuple\n",
    "sorted_list = sorted(my_list, key=lambda x: x[1])\n",
    "\n",
    "print(sorted_list)"
   ]
  },
  {
   "cell_type": "code",
   "execution_count": 201,
   "id": "aea50543-c3e5-4a7e-8c2d-728e1c61942c",
   "metadata": {},
   "outputs": [
    {
     "name": "stdout",
     "output_type": "stream",
     "text": [
      "[2, 4, 6, 8]\n"
     ]
    }
   ],
   "source": [
    "#### 3.\tExplain the concept of higher-order functions in Python, and provide an example.\n",
    "\n",
    "''' Higher-order functions are functions that can take other functions as arguments or return functions as their result. \n",
    "    They are a key concept in functional programming and are often used to make code more flexible and reusable. '''\n",
    "\n",
    "#### Example: The map(), filter(), and reduce() are higher-order functions as they take a function as an argument.\n",
    "\n",
    "# A simple function that doubles a number\n",
    "def double(x):\n",
    "    return x * 2\n",
    "\n",
    "# A higher-order function that takes a function as an argument\n",
    "def apply_function(func, numbers):\n",
    "    return [func(n) for n in numbers]\n",
    "\n",
    "# Using the higher-order function\n",
    "result = apply_function(double, [1, 2, 3, 4])\n",
    "print(result)"
   ]
  },
  {
   "cell_type": "code",
   "execution_count": 202,
   "id": "0d4418ee-ce70-4b04-b9e0-963e51fb0121",
   "metadata": {},
   "outputs": [
    {
     "name": "stdout",
     "output_type": "stream",
     "text": [
      "[1, 4, 9, 16, 25]\n"
     ]
    }
   ],
   "source": [
    "#### 4.\tCreate a Python function that takes a list of numbers and a function as arguments, applying the function to each element in the list.\n",
    "\n",
    "def apply_to_each(numbers, func):\n",
    "    return [func(n) for n in numbers]\n",
    "\n",
    "# Define a lambda function to square a number\n",
    "square = lambda x: x ** 2\n",
    "\n",
    "# Apply the square function to each element in the list\n",
    "numbers = [1, 2, 3, 4, 5]\n",
    "result = apply_to_each(numbers, square)\n",
    "\n",
    "print(result)"
   ]
  },
  {
   "cell_type": "code",
   "execution_count": 203,
   "id": "af9bff0e-cb91-4885-b703-519c59b74cd9",
   "metadata": {},
   "outputs": [
    {
     "name": "stdout",
     "output_type": "stream",
     "text": [
      "5\n"
     ]
    }
   ],
   "source": [
    "#### Built-in Functions:\n",
    "\n",
    "#### 1.\tDescribe the role of built-in functions like `len()`, `max()`, and `min()` in Python.\n",
    "\n",
    "''' Built-in functions are pre-defined functions in Python that provide commonly needed functionalities without requiring you to write additional code. '''\n",
    "\n",
    "#### a. len(): Returns the number of items in an object, such as a list, tuple, or string.\n",
    "\n",
    "my_list = [1, 2, 3, 4, 5]\n",
    "print(len(my_list))"
   ]
  },
  {
   "cell_type": "code",
   "execution_count": 204,
   "id": "90cbcbbc-db88-40dd-931a-c773d229e484",
   "metadata": {},
   "outputs": [
    {
     "name": "stdout",
     "output_type": "stream",
     "text": [
      "9\n"
     ]
    }
   ],
   "source": [
    "#### b. max(): Returns the largest item in an iterable (e.g., a list or tuple) or the largest of two or more arguments.\n",
    "\n",
    "numbers = [3, 1, 4, 1, 5, 9]\n",
    "print(max(numbers))"
   ]
  },
  {
   "cell_type": "code",
   "execution_count": 205,
   "id": "be4527c8-6a98-4380-b506-5447e6ea8d7b",
   "metadata": {},
   "outputs": [
    {
     "name": "stdout",
     "output_type": "stream",
     "text": [
      "1\n"
     ]
    }
   ],
   "source": [
    "#### c. min(): Returns the smallest item in an iterable or the smallest of two or more arguments.\n",
    "\n",
    "numbers = [3, 1, 4, 1, 5, 9]\n",
    "print(min(numbers))"
   ]
  },
  {
   "cell_type": "code",
   "execution_count": 206,
   "id": "2303f60a-85d9-434f-8dc6-3ef41f192080",
   "metadata": {},
   "outputs": [
    {
     "name": "stdout",
     "output_type": "stream",
     "text": [
      "[1, 4, 9, 16, 25]\n"
     ]
    }
   ],
   "source": [
    "#### 2.\tWrite a Python program that uses the `map()` function to apply a function to each element of a list.\n",
    "\n",
    "# Function to square a number\n",
    "def square(x):\n",
    "    return x ** 2\n",
    "\n",
    "# List of numbers\n",
    "numbers = [1, 2, 3, 4, 5]\n",
    "\n",
    "# Apply the square function to each element in the list\n",
    "squared_numbers = map(square, numbers)\n",
    "\n",
    "# Convert the map object to a list and print it\n",
    "print(list(squared_numbers))"
   ]
  },
  {
   "cell_type": "code",
   "execution_count": 207,
   "id": "0e37e35c-5b37-4083-bf39-16330701434c",
   "metadata": {},
   "outputs": [
    {
     "name": "stdout",
     "output_type": "stream",
     "text": [
      "[2, 4, 6]\n"
     ]
    },
    {
     "data": {
      "text/plain": [
       "' When to use: Use filter() when you want to extract elements from a list or other iterable that satisfy a specific condition. '"
      ]
     },
     "execution_count": 207,
     "metadata": {},
     "output_type": "execute_result"
    }
   ],
   "source": [
    "#### 3.\tHow does the `filter()` function work in Python, and when would you use it?\n",
    "\n",
    "''' a. The filter() function filters elements of an iterable based on a function that returns True or False. \n",
    "    b. It includes only those elements for which the function returns True. \n",
    "    c. The result is a filter object (which is an iterator), and you can convert it to a list or other data structures. '''\n",
    "\n",
    "# Function to check if a number is even\n",
    "def is_even(x):\n",
    "    return x % 2 == 0\n",
    "\n",
    "# List of numbers\n",
    "numbers = [1, 2, 3, 4, 5, 6]\n",
    "\n",
    "# Apply the filter function to select even numbers\n",
    "even_numbers = filter(is_even, numbers)\n",
    "\n",
    "# Convert the filter object to a list and print it\n",
    "print(list(even_numbers))\n",
    "\n",
    "''' When to use: Use filter() when you want to extract elements from a list or other iterable that satisfy a specific condition. '''\n"
   ]
  },
  {
   "cell_type": "code",
   "execution_count": 208,
   "id": "76b3504b-2da4-47db-b052-1a42aac8d744",
   "metadata": {},
   "outputs": [
    {
     "name": "stdout",
     "output_type": "stream",
     "text": [
      "120\n"
     ]
    }
   ],
   "source": [
    "#### 4.\tCreate a Python program that uses the `reduce()` function to find the product of all elements in a list.\n",
    "\n",
    "from functools import reduce\n",
    "\n",
    "# Function to multiply two numbers\n",
    "def multiply(x, y):\n",
    "    return x * y\n",
    "\n",
    "# List of numbers\n",
    "numbers = [1, 2, 3, 4, 5]\n",
    "\n",
    "# Apply the reduce function to find the product of all elements\n",
    "product = reduce(multiply, numbers)\n",
    "\n",
    "print(product)"
   ]
  },
  {
   "cell_type": "code",
   "execution_count": 211,
   "id": "b435842d-9d03-4cc1-844b-fb339373f190",
   "metadata": {},
   "outputs": [],
   "source": [
    "#### Function Documentation and Best Practices:\n",
    "\n",
    "#### 1.\tExplain the purpose of docstrings in Python functions and how to write them.\n",
    "\n",
    "''' PURPOSE:\n",
    "    a. Docstrings are special strings used to document Python functions, classes, and modules. \n",
    "    b. They appear right after the function definition and are used to describe what the function does, its parameters, and its return value. \n",
    "    c. Docstrings help other people (and yourself) understand the purpose and usage of your code. \n",
    "    d. They also serve as a reference for automatic documentation tools. '''\n",
    "\n",
    "### How to write docstrings:\n",
    "    # a. Start with triple quotes (\"\"\" or ''') Docstrings are enclosed in triple quotes, which allows them to span multiple lines if needed.\n",
    "    # b. Describe the function: Provide a clear description of what the function does.\n",
    "    # c. Document parameters and return values: Explain each parameter and the type of value the function returns.\n",
    "\n",
    "#### Example: \n",
    "\n",
    "def add(a, b):\n",
    "    \"\"\"\n",
    "    Calculate the sum of two numbers.\n",
    "\n",
    "    Parameters:\n",
    "    a (int or float): The first number.\n",
    "    b (int or float): The second number.\n",
    "\n",
    "    Returns:\n",
    "    int or float: The sum of the two numbers.\n",
    "    \"\"\"\n",
    "    return a + b"
   ]
  },
  {
   "cell_type": "code",
   "execution_count": 212,
   "id": "0ebb7982-089c-4fd4-85c1-6255e5a665eb",
   "metadata": {},
   "outputs": [
    {
     "data": {
      "text/plain": [
       "' Best practices for naming functions and variables in Python include:\\n    a. Use Descriptive Names: Choose names that clearly describe the purpose or usage of the variable or function.\\n       - Good: total_sum, calculate_average\\n       - Bad: x, temp\\n       \\n    b.Follow Naming Conventions:\\n    - Functions and Variables: Use snake_case (all lowercase letters with underscores separating words).\\n      Example: calculate_area, max_value\\n    - Classes: Use CamelCase (capitalize the first letter of each word).\\n      Example: Rectangle, StudentRecord\\n    - Constants: Use UPPER_SNAKE_CASE (all uppercase letters with underscores separating words).\\n      Example: PI, MAX_COUNT\\n    \\n    c. Be Consistent: Stick to a consistent naming style throughout your codebase to improve readability and maintainability.\\n    \\n    d. Avoid Single-Letter Names: Single-letter names are not descriptive enough. Use more descriptive names unless the variable is used in a very short, localized context (e.g., i in a loop).\\n    \\n    e. Use Verb-Noun for Functions: Function names should typically be verbs or verb phrases since they perform actions.   \\n       Example: fetch_data(), sort_list()\\n       \\n    f. Avoid Using Python Keywords: Don’t use reserved keywords as variable or function names.\\n       Example: Avoid names like class, def, import.\\n       \\n    g. Be Precise and Clear: Ensure that names are as precise and clear as possible to convey their purpose or function. '"
      ]
     },
     "execution_count": 212,
     "metadata": {},
     "output_type": "execute_result"
    }
   ],
   "source": [
    "#### 2.\tDescribe some best practices for naming functions and variables in Python, including naming conventions and guidelines.\n",
    "\n",
    "\"\"\" Best practices for naming functions and variables in Python include:\n",
    "    a. Use Descriptive Names: Choose names that clearly describe the purpose or usage of the variable or function.\n",
    "       - Good: total_sum, calculate_average\n",
    "       - Bad: x, temp\n",
    "       \n",
    "    b.Follow Naming Conventions:\n",
    "    - Functions and Variables: Use snake_case (all lowercase letters with underscores separating words).\n",
    "      Example: calculate_area, max_value\n",
    "    - Classes: Use CamelCase (capitalize the first letter of each word).\n",
    "      Example: Rectangle, StudentRecord\n",
    "    - Constants: Use UPPER_SNAKE_CASE (all uppercase letters with underscores separating words).\n",
    "      Example: PI, MAX_COUNT\n",
    "    \n",
    "    c. Be Consistent: Stick to a consistent naming style throughout your codebase to improve readability and maintainability.\n",
    "    \n",
    "    d. Avoid Single-Letter Names: Single-letter names are not descriptive enough. Use more descriptive names unless the variable is used in a very short, localized context (e.g., i in a loop).\n",
    "    \n",
    "    e. Use Verb-Noun for Functions: Function names should typically be verbs or verb phrases since they perform actions.   \n",
    "       Example: fetch_data(), sort_list()\n",
    "       \n",
    "    f. Avoid Using Python Keywords: Don’t use reserved keywords as variable or function names.\n",
    "       Example: Avoid names like class, def, import.\n",
    "       \n",
    "    g. Be Precise and Clear: Ensure that names are as precise and clear as possible to convey their purpose or function. \"\"\""
   ]
  },
  {
   "cell_type": "code",
   "execution_count": null,
   "id": "7bee3df7-9ae4-4764-8bee-398753a8088e",
   "metadata": {},
   "outputs": [],
   "source": []
  }
 ],
 "metadata": {
  "kernelspec": {
   "display_name": "Python 3 (ipykernel)",
   "language": "python",
   "name": "python3"
  },
  "language_info": {
   "codemirror_mode": {
    "name": "ipython",
    "version": 3
   },
   "file_extension": ".py",
   "mimetype": "text/x-python",
   "name": "python",
   "nbconvert_exporter": "python",
   "pygments_lexer": "ipython3",
   "version": "3.10.8"
  }
 },
 "nbformat": 4,
 "nbformat_minor": 5
}
