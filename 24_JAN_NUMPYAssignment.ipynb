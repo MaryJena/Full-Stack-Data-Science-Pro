{
 "cells": [
  {
   "cell_type": "code",
   "execution_count": 2,
   "id": "c1cdaee1-18b3-4cc7-94f7-36f13c5c35b5",
   "metadata": {},
   "outputs": [
    {
     "data": {
      "text/plain": [
       "'\\na. A Python library is a collection of pre-written code that provides various functionalities and utilities for Python programming. \\nb. Libraries are created to make it easier for developers to perform common tasks without having to write code from scratch. \\nc. They include functions, classes, and modules that can be reused.\\n\\nWe use Python libraries to:\\n- Save time by avoiding repetitive coding.\\n- Leverage well-tested and optimized functions for complex tasks.\\n- Enhance code readability and maintainability.\\n'"
      ]
     },
     "execution_count": 2,
     "metadata": {},
     "output_type": "execute_result"
    }
   ],
   "source": [
    "#### 1. What is a Python library? Why do we use Python libraries?\n",
    "\n",
    "\"\"\"\n",
    "a. A Python library is a collection of pre-written code that provides various functionalities and utilities for Python programming. \n",
    "b. Libraries are created to make it easier for developers to perform common tasks without having to write code from scratch. \n",
    "c. They include functions, classes, and modules that can be reused.\n",
    "\n",
    "We use Python libraries to:\n",
    "- Save time by avoiding repetitive coding.\n",
    "- Leverage well-tested and optimized functions for complex tasks.\n",
    "- Enhance code readability and maintainability.\n",
    "\"\"\""
   ]
  },
  {
   "cell_type": "code",
   "execution_count": 3,
   "id": "ceec51c2-3002-4014-8b1a-799e73518dcb",
   "metadata": {},
   "outputs": [
    {
     "data": {
      "text/plain": [
       "'\\nNumpy Array:\\na. Provides more efficient storage and data manipulation.\\nb. Supports a wide range of mathematical operations and functions.\\nc. Requires the numpy library.\\nd. Homogeneous: All elements must be of the same data type.\\n\\nList:\\na. Built into Python, no additional libraries required.\\nb. More flexible: Can contain mixed data types.\\nc. Less efficient for large numerical operations compared to Numpy arrays.\\n'"
      ]
     },
     "execution_count": 3,
     "metadata": {},
     "output_type": "execute_result"
    }
   ],
   "source": [
    "#### 2. What is the difference between Numpy array and List?\n",
    "\n",
    "\"\"\"\n",
    "Numpy Array:\n",
    "a. Provides more efficient storage and data manipulation.\n",
    "b. Supports a wide range of mathematical operations and functions.\n",
    "c. Requires the numpy library.\n",
    "d. Homogeneous: All elements must be of the same data type.\n",
    "\n",
    "List:\n",
    "a. Built into Python, no additional libraries required.\n",
    "b. More flexible: Can contain mixed data types.\n",
    "c. Less efficient for large numerical operations compared to Numpy arrays.\n",
    "\"\"\""
   ]
  },
  {
   "cell_type": "code",
   "execution_count": 4,
   "id": "28432708-b486-4d6c-b8fb-91b03f303db3",
   "metadata": {},
   "outputs": [
    {
     "name": "stdout",
     "output_type": "stream",
     "text": [
      "Shape: (3, 4)\n",
      "Size: 12\n",
      "Dimension: 2\n"
     ]
    }
   ],
   "source": [
    "\"\"\"\n",
    "3. Find the shape, size and dimension of the following array?\n",
    "[[1, 2, 3, 4]\n",
    "[5, 6, 7, 8],\n",
    "[9, 10, 11, 12]]\n",
    "\"\"\"\n",
    "\n",
    "import numpy as np\n",
    "\n",
    "arr = np.array([[1, 2, 3, 4],\n",
    "                [5, 6, 7, 8],\n",
    "                [9, 10, 11, 12]])\n",
    "\n",
    "print(\"Shape:\", arr.shape)      \n",
    "print(\"Size:\", arr.size)        \n",
    "print(\"Dimension:\", arr.ndim)   "
   ]
  },
  {
   "cell_type": "code",
   "execution_count": 5,
   "id": "0dbada3a-af48-4d06-b67d-6eb273e375d2",
   "metadata": {},
   "outputs": [
    {
     "name": "stdout",
     "output_type": "stream",
     "text": [
      "First row: [1 2 3 4]\n"
     ]
    }
   ],
   "source": [
    "\"\"\"\n",
    "4. Write python code to access the first row of the following array?\n",
    "[[1, 2, 3, 4]\n",
    "[5, 6, 7, 8],\n",
    "[9, 10, 11, 12]]\n",
    "\"\"\"\n",
    "\n",
    "import numpy as np\n",
    "\n",
    "arr = np.array([[1, 2, 3, 4],\n",
    "                [5, 6, 7, 8],\n",
    "                [9, 10, 11, 12]])\n",
    "\n",
    "first_row = arr[0]\n",
    "print(\"First row:\", first_row)"
   ]
  },
  {
   "cell_type": "code",
   "execution_count": 6,
   "id": "7b411446-caf5-4ec5-b081-3b358ebab0f1",
   "metadata": {},
   "outputs": [
    {
     "name": "stdout",
     "output_type": "stream",
     "text": [
      "Element at third row, fourth column: 12\n"
     ]
    }
   ],
   "source": [
    "\"\"\"\n",
    "5. How do you access the element at the third row and fourth column from the given numpy array?\n",
    "[[1, 2, 3, 4]\n",
    "[5, 6, 7, 8],\n",
    "[9, 10, 11, 12]]\n",
    "\"\"\"\n",
    "\n",
    "import numpy as np\n",
    "\n",
    "arr = np.array([[1, 2, 3, 4],\n",
    "                [5, 6, 7, 8],\n",
    "                [9, 10, 11, 12]])\n",
    "\n",
    "element = arr[2, 3]\n",
    "print(\"Element at third row, fourth column:\", element)"
   ]
  },
  {
   "cell_type": "code",
   "execution_count": 7,
   "id": "76e0f41c-8703-49e8-b96e-a2e54d918b32",
   "metadata": {},
   "outputs": [
    {
     "name": "stdout",
     "output_type": "stream",
     "text": [
      "Odd-indexed elements: [[ 2  4]\n",
      " [ 6  8]\n",
      " [10 12]]\n"
     ]
    }
   ],
   "source": [
    "\"\"\"\n",
    "6. Write code to extract all odd-indexed elements from the given numpy array?\n",
    "[[1, 2, 3, 4]\n",
    "[5, 6, 7, 8],\n",
    "[9, 10, 11, 12]]\n",
    "\"\"\"\n",
    "\n",
    "import numpy as np\n",
    "\n",
    "arr = np.array([[1, 2, 3, 4],\n",
    "                [5, 6, 7, 8],\n",
    "                [9, 10, 11, 12]])\n",
    "\n",
    "odd_indexed_elements = arr[:, 1::2]\n",
    "print(\"Odd-indexed elements:\", odd_indexed_elements)"
   ]
  },
  {
   "cell_type": "code",
   "execution_count": 8,
   "id": "fc35dc51-95a5-4740-9de1-8eb94afd07ec",
   "metadata": {},
   "outputs": [
    {
     "name": "stdout",
     "output_type": "stream",
     "text": [
      "Random 3x3 matrix with values between 0 and 1:\n",
      " [[0.46365954 0.40476638 0.36186964]\n",
      " [0.18213671 0.12682595 0.77763064]\n",
      " [0.26164474 0.97491344 0.3509065 ]]\n"
     ]
    }
   ],
   "source": [
    "### 7. How can you generate a random 3x3 matrix with values between 0 and 1?\n",
    "\n",
    "import numpy as np\n",
    "\n",
    "random_matrix = np.random.rand(3, 3)\n",
    "print(\"Random 3x3 matrix with values between 0 and 1:\\n\", random_matrix)"
   ]
  },
  {
   "cell_type": "code",
   "execution_count": 9,
   "id": "7f52a5f5-2787-4b52-bbeb-6115a45e3690",
   "metadata": {},
   "outputs": [
    {
     "data": {
      "text/plain": [
       "'\\n- np.random.rand: Generates random numbers from a uniform distribution over [0, 1).\\n\\n- np.random.randn: Generates random numbers from a standard normal distribution with mean 0 and variance 1.\\n'"
      ]
     },
     "execution_count": 9,
     "metadata": {},
     "output_type": "execute_result"
    }
   ],
   "source": [
    "### 8. Describe the difference between np.random.rand and np.random.randn?\n",
    "\n",
    "\"\"\"\n",
    "- np.random.rand: Generates random numbers from a uniform distribution over [0, 1).\n",
    "\n",
    "- np.random.randn: Generates random numbers from a standard normal distribution with mean 0 and variance 1.\n",
    "\"\"\""
   ]
  },
  {
   "cell_type": "code",
   "execution_count": 10,
   "id": "fea8d113-3342-4d9e-862a-5a471328c819",
   "metadata": {},
   "outputs": [
    {
     "name": "stdout",
     "output_type": "stream",
     "text": [
      "Array with increased dimension:\n",
      " [[[ 1  2  3  4]\n",
      "  [ 5  6  7  8]\n",
      "  [ 9 10 11 12]]]\n"
     ]
    }
   ],
   "source": [
    "\"\"\" \n",
    "9. Write code to increase the dimension of the following array?\n",
    "[[1, 2, 3, 4]\n",
    "[5, 6, 7, 8],\n",
    "[9, 10, 11, 12]]\n",
    "\"\"\"\n",
    "\n",
    "import numpy as np\n",
    "\n",
    "arr = np.array([[1, 2, 3, 4],\n",
    "                [5, 6, 7, 8],\n",
    "                [9, 10, 11, 12]])\n",
    "\n",
    "# Increase the dimension by adding an extra dimension\n",
    "increased_dim = np.expand_dims(arr, axis=0)\n",
    "print(\"Array with increased dimension:\\n\", increased_dim)"
   ]
  },
  {
   "cell_type": "code",
   "execution_count": 11,
   "id": "9819425e-98dd-4036-a6d0-2ee274699499",
   "metadata": {},
   "outputs": [
    {
     "name": "stdout",
     "output_type": "stream",
     "text": [
      "Transposed array:\n",
      " [[ 1  5  9]\n",
      " [ 2  6 10]\n",
      " [ 3  7 11]\n",
      " [ 4  8 12]]\n"
     ]
    }
   ],
   "source": [
    "\"\"\"\n",
    "10. How to transpose the following array in NumPy?\n",
    "[[1, 2, 3, 4]\n",
    "[5, 6, 7, 8],\n",
    "[9, 10, 11, 12]]\n",
    "\"\"\"\n",
    "\n",
    "import numpy as np\n",
    "\n",
    "arr = np.array([[1, 2, 3, 4],\n",
    "                [5, 6, 7, 8],\n",
    "                [9, 10, 11, 12]])\n",
    "\n",
    "transposed_arr = arr.T\n",
    "print(\"Transposed array:\\n\", transposed_arr)"
   ]
  },
  {
   "cell_type": "code",
   "execution_count": 12,
   "id": "a8e02bab-d7c5-41fc-904e-db23576df56d",
   "metadata": {},
   "outputs": [
    {
     "name": "stdout",
     "output_type": "stream",
     "text": [
      "Index wise multiplication:\n",
      " [[  1   4   9  16]\n",
      " [ 25  36  49  64]\n",
      " [ 81 100 121 144]]\n",
      "Matrix multiplication:\n",
      " [[ 30  70 110]\n",
      " [ 70 174 278]\n",
      " [110 278 446]]\n",
      "Addition:\n",
      " [[ 2  4  6  8]\n",
      " [10 12 14 16]\n",
      " [18 20 22 24]]\n",
      "Subtraction:\n",
      " [[0 0 0 0]\n",
      " [0 0 0 0]\n",
      " [0 0 0 0]]\n",
      "Element-wise division:\n",
      " [[1. 1. 1. 1.]\n",
      " [1. 1. 1. 1.]\n",
      " [1. 1. 1. 1.]]\n"
     ]
    }
   ],
   "source": [
    "\"\"\"\n",
    "11. Consider the following matrix:\n",
    "Matrix A: [[1, 2, 3, 4] [5, 6, 7, 8],[9, 10, 11, 12]]\n",
    "Matrix B: [[1, 2, 3, 4] [5, 6, 7, 8],[9, 10, 11, 12]]\n",
    "\n",
    "Perform the following operation using Python:\n",
    "1. Index wise multiplication\n",
    "2. Matrix multiplication\n",
    "3. Add both the matrics\n",
    "4. Subtract matrix B from A\n",
    "5. Divide Matrix B by A\n",
    "\"\"\"\n",
    "\n",
    "import numpy as np\n",
    "\n",
    "# Define matrices A and B\n",
    "A = np.array([[1, 2, 3, 4],\n",
    "              [5, 6, 7, 8],\n",
    "              [9, 10, 11, 12]])\n",
    "\n",
    "B = np.array([[1, 2, 3, 4],\n",
    "              [5, 6, 7, 8],\n",
    "              [9, 10, 11, 12]])\n",
    "\n",
    "# 1. Index wise multiplication\n",
    "index_wise_multiplication = A * B\n",
    "print(\"Index wise multiplication:\\n\", index_wise_multiplication)\n",
    "\n",
    "# 2. Matrix multiplication\n",
    "# Matrix multiplication is performed using dot product (or @ operator for simplicity)\n",
    "matrix_multiplication = np.dot(A, B.T)  # B.T is the transpose of B for proper multiplication\n",
    "print(\"Matrix multiplication:\\n\", matrix_multiplication)\n",
    "\n",
    "# 3. Add both matrices\n",
    "addition = A + B\n",
    "print(\"Addition:\\n\", addition)\n",
    "\n",
    "# 4. Subtract matrix B from A\n",
    "subtraction = A - B\n",
    "print(\"Subtraction:\\n\", subtraction)\n",
    "\n",
    "# 5. Divide Matrix B by A (element-wise division)\n",
    "# To avoid division by zero errors, make sure no elements in A are zero\n",
    "division = B / A\n",
    "print(\"Element-wise division:\\n\", division)"
   ]
  },
  {
   "cell_type": "code",
   "execution_count": 15,
   "id": "a5dcf281-9708-4ef0-815a-7754941b274b",
   "metadata": {},
   "outputs": [
    {
     "data": {
      "text/plain": [
       "'\\nnp.byteswap: \\n    - Swaps the byte order of the elements in an array.\\n'"
      ]
     },
     "execution_count": 15,
     "metadata": {},
     "output_type": "execute_result"
    }
   ],
   "source": [
    "#### 12.  Which function in Numpy can be used to swap the byte order of an array?\n",
    "\n",
    "\"\"\"\n",
    "np.byteswap: \n",
    "    - Swaps the byte order of the elements in an array.\n",
    "\"\"\""
   ]
  },
  {
   "cell_type": "code",
   "execution_count": 16,
   "id": "4bacccbf-ff5b-425d-aaf5-75318d16cf94",
   "metadata": {},
   "outputs": [
    {
     "data": {
      "text/plain": [
       "'\\nnp.linalg.inv: \\n    - Computes the inverse of a matrix. \\n    - The inverse of a matrix A is a matrix B such that A * B = I, where I is the identity matrix.\\n'"
      ]
     },
     "execution_count": 16,
     "metadata": {},
     "output_type": "execute_result"
    }
   ],
   "source": [
    "#### 13.  What is the significance of the np.linalg.inv function?\n",
    "\n",
    "\"\"\"\n",
    "np.linalg.inv: \n",
    "    - Computes the inverse of a matrix. \n",
    "    - The inverse of a matrix A is a matrix B such that A * B = I, where I is the identity matrix.\n",
    "\"\"\""
   ]
  },
  {
   "cell_type": "code",
   "execution_count": 18,
   "id": "0187fda2-241b-4c05-b274-4fbeda36bf64",
   "metadata": {},
   "outputs": [
    {
     "name": "stdout",
     "output_type": "stream",
     "text": [
      "Reshaped array:\n",
      " [[1 2 3]\n",
      " [4 5 6]]\n"
     ]
    }
   ],
   "source": [
    "#### 14. What does the np.reshape function do, and how is it used?\n",
    "\n",
    "\"\"\"\n",
    "np.reshape: \n",
    "    - Changes the shape of an array without changing its data. \n",
    "    - You specify the new shape as a tuple.\n",
    "\"\"\"\n",
    "\n",
    "import numpy as np\n",
    "\n",
    "arr = np.array([1, 2, 3, 4, 5, 6])\n",
    "reshaped_arr = np.reshape(arr, (2, 3))\n",
    "print(\"Reshaped array:\\n\", reshaped_arr)"
   ]
  },
  {
   "cell_type": "code",
   "execution_count": 19,
   "id": "9fbe47fe-7de9-4876-8003-7080ce2586f2",
   "metadata": {},
   "outputs": [
    {
     "name": "stdout",
     "output_type": "stream",
     "text": [
      "Broadcasted result: [6 7 8]\n"
     ]
    }
   ],
   "source": [
    "#### 15. What is broadcasting in Numpy?\n",
    "\n",
    "\"\"\"\n",
    "Broadcasting: \n",
    "    - Allows numpy to perform operations on arrays of different shapes by automatically expanding the smaller array to match the shape of the larger array. \n",
    "    - This makes operations more efficient and simpler.\n",
    "\"\"\"\n",
    "\n",
    "#### Example: adding a scalar to an array is an example of broadcasting where the scalar is broadcasted across all elements of the array.\n",
    "\n",
    "import numpy as np\n",
    "\n",
    "arr = np.array([1, 2, 3])\n",
    "result = arr + 5  # Broadcasting: 5 is added to each element of the array\n",
    "print(\"Broadcasted result:\", result)"
   ]
  },
  {
   "cell_type": "code",
   "execution_count": null,
   "id": "264851eb-e18e-42c4-ad23-c231a388a0af",
   "metadata": {},
   "outputs": [],
   "source": []
  }
 ],
 "metadata": {
  "kernelspec": {
   "display_name": "Python 3 (ipykernel)",
   "language": "python",
   "name": "python3"
  },
  "language_info": {
   "codemirror_mode": {
    "name": "ipython",
    "version": 3
   },
   "file_extension": ".py",
   "mimetype": "text/x-python",
   "name": "python",
   "nbconvert_exporter": "python",
   "pygments_lexer": "ipython3",
   "version": "3.10.8"
  }
 },
 "nbformat": 4,
 "nbformat_minor": 5
}
