{
 "cells": [
  {
   "cell_type": "code",
   "execution_count": 2,
   "id": "e678b5fb-b6e3-43f1-8892-5aaa9d1cb5c6",
   "metadata": {},
   "outputs": [
    {
     "data": {
      "text/plain": [
       "' \\npublic class TowerOfHanoi {\\n    \\n    // Recursive method to solve Tower of Hanoi\\n    public static void solveHanoi(int n, char source, char auxiliary, char destination) {\\n        // Base case: only 1 disk, just move it\\n        if (n == 1) {\\n            System.out.println(\"Move disk 1 from \" + source + \" to \" + destination);\\n            return;\\n        }\\n        \\n        // Move the top n-1 disks from source to auxiliary\\n        solveHanoi(n - 1, source, destination, auxiliary);\\n        \\n        // Move the nth disk from source to destination\\n        System.out.println(\"Move disk \" + n + \" from \" + source + \" to \" + destination);\\n        \\n        // Move the n-1 disks from auxiliary to destination\\n        solveHanoi(n - 1, auxiliary, source, destination);\\n    }\\n\\n    public static void main(String[] args) {\\n        int numDisks = 3; // Number of disks\\n        solveHanoi(numDisks, \\'A\\', \\'B\\', \\'C\\'); // A = source, B = auxiliary, C = destination\\n    }\\n}\\n'"
      ]
     },
     "execution_count": 2,
     "metadata": {},
     "output_type": "execute_result"
    }
   ],
   "source": [
    "#### Q.1 Can you explain the logic and working of the Tower of Hanoi algorithm by writing a Java program? How does the recursion work, and how are the movements of disks between rods accomplished?\n",
    "\n",
    "'''\n",
    "The Tower of Hanoi is a classic problem that involves moving a stack of disks from one rod to another, following specific rules:\n",
    "1. Only one disk can be moved at a time.\n",
    "2. A larger disk cannot be placed on top of a smaller disk.\n",
    "3. All disks must be moved from the source rod to the destination rod, using an auxiliary rod.\n",
    "\n",
    "Recursion Explanation:\n",
    "The Tower of Hanoi uses recursion to solve the problem by breaking it down into smaller subproblems. If we have n disks:\n",
    "1. Move the top n−1 disks from the source rod to the auxiliary rod.\n",
    "2. Move the nth (largest) disk to the destination rod.\n",
    "3. Move the n−1 disks from the auxiliary rod to the destination rod.\n",
    "\n",
    "Each time, the problem is reduced until there’s only one disk to move, which is the base case.\n",
    "\n",
    "Steps for 3 Disks (as in the image):\n",
    "Let’s say the rods are labeled A (source), B (auxiliary), and C (destination).\n",
    "1. Move disk 1 from A to C.\n",
    "2. Move disk 2 from A to B.\n",
    "3. Move disk 1 from C to B.\n",
    "4. Move disk 3 from A to C.\n",
    "5. Move disk 1 from B to A.\n",
    "6. Move disk 2 from B to C.\n",
    "7. Move disk 1 from A to C.\n",
    "'''\n",
    "\n",
    "#### Recursive Java program for the Tower of Hanoi problem:\n",
    "\n",
    "\"\"\" \n",
    "public class TowerOfHanoi {\n",
    "    \n",
    "    // Recursive method to solve Tower of Hanoi\n",
    "    public static void solveHanoi(int n, char source, char auxiliary, char destination) {\n",
    "        // Base case: only 1 disk, just move it\n",
    "        if (n == 1) {\n",
    "            System.out.println(\"Move disk 1 from \" + source + \" to \" + destination);\n",
    "            return;\n",
    "        }\n",
    "        \n",
    "        // Move the top n-1 disks from source to auxiliary\n",
    "        solveHanoi(n - 1, source, destination, auxiliary);\n",
    "        \n",
    "        // Move the nth disk from source to destination\n",
    "        System.out.println(\"Move disk \" + n + \" from \" + source + \" to \" + destination);\n",
    "        \n",
    "        // Move the n-1 disks from auxiliary to destination\n",
    "        solveHanoi(n - 1, auxiliary, source, destination);\n",
    "    }\n",
    "\n",
    "    public static void main(String[] args) {\n",
    "        int numDisks = 3; // Number of disks\n",
    "        solveHanoi(numDisks, 'A', 'B', 'C'); // A = source, B = auxiliary, C = destination\n",
    "    }\n",
    "}\n",
    "\"\"\""
   ]
  },
  {
   "cell_type": "code",
   "execution_count": 3,
   "id": "ab1315c0-19d3-4467-8037-6447c8ac43bf",
   "metadata": {},
   "outputs": [
    {
     "name": "stdout",
     "output_type": "stream",
     "text": [
      "3\n",
      "5\n"
     ]
    }
   ],
   "source": [
    "\"\"\" \n",
    "Q.2 Given two strings word1 and word2, return the minimum number of operations required to convert word1 to word2.\n",
    "\n",
    "Example 1:\n",
    "\n",
    " Input: word1 = \"horse\", word2 = \"ros\"\n",
    "\n",
    " Output: 3\n",
    "\n",
    " Explanation: \n",
    "\n",
    " horse -> rorse (replace 'h' with 'r')\n",
    "\n",
    " rorse -> rose (remove 'r')\n",
    "\n",
    " rose -> ros (remove 'e')\n",
    "\n",
    "Example 2:\n",
    "\n",
    " Input: word1 = \"intention\", word2 = \"execution\"\n",
    "\n",
    " Output: 5\n",
    "\n",
    " Explanation: \n",
    "\n",
    " intention -> inention (remove 't')\n",
    "\n",
    " inention -> enention (replace 'i' with 'e')\n",
    "\n",
    " enention -> exention (replace 'n' with 'x')\n",
    "\n",
    " exention -> exection (replace 'n' with 'c')\n",
    "\n",
    " exection -> execution (insert 'u')\n",
    "\n",
    "\"\"\"\n",
    "\n",
    "def minDistance(word1, word2):\n",
    "    m, n = len(word1), len(word2)\n",
    "    \n",
    "    # Create a DP table with (m+1) x (n+1) dimensions\n",
    "    dp = [[0] * (n + 1) for _ in range(m + 1)]\n",
    "    \n",
    "    # Base cases: converting an empty string to a non-empty string\n",
    "    for i in range(m + 1):\n",
    "        dp[i][0] = i  # Deleting all characters from word1\n",
    "    \n",
    "    for j in range(n + 1):\n",
    "        dp[0][j] = j  # Inserting all characters to match word2\n",
    "    \n",
    "    # Fill the DP table\n",
    "    for i in range(1, m + 1):\n",
    "        for j in range(1, n + 1):\n",
    "            if word1[i - 1] == word2[j - 1]:\n",
    "                dp[i][j] = dp[i - 1][j - 1]  # Characters match, no operation needed\n",
    "            else:\n",
    "                dp[i][j] = min(dp[i - 1][j] + 1,   # Delete from word1\n",
    "                               dp[i][j - 1] + 1,   # Insert into word1\n",
    "                               dp[i - 1][j - 1] + 1)  # Replace in word1\n",
    "    \n",
    "    return dp[m][n]\n",
    "\n",
    "# Example 1\n",
    "word1 = \"horse\"\n",
    "word2 = \"ros\"\n",
    "print(minDistance(word1, word2))\n",
    "\n",
    "# Example 2\n",
    "word1 = \"intention\"\n",
    "word2 = \"execution\"\n",
    "print(minDistance(word1, word2)) "
   ]
  },
  {
   "cell_type": "code",
   "execution_count": 4,
   "id": "a330c7c6-370a-4dd6-b6e1-4fa47e2d1ce7",
   "metadata": {},
   "outputs": [
    {
     "name": "stdout",
     "output_type": "stream",
     "text": [
      "The maximum value is: 22\n"
     ]
    }
   ],
   "source": [
    "#### Q.3 Print the max value of the array [ 13, 1, -3, 22, 5].\n",
    "\n",
    "# Define the array\n",
    "arr = [13, 1, -3, 22, 5]\n",
    "\n",
    "# Find the maximum value using the max() function\n",
    "max_value = max(arr)\n",
    "\n",
    "# Print the maximum value\n",
    "print(\"The maximum value is:\", max_value)"
   ]
  },
  {
   "cell_type": "code",
   "execution_count": 5,
   "id": "41800fd5-e387-4a4b-96ab-a84b861d2593",
   "metadata": {},
   "outputs": [
    {
     "name": "stdout",
     "output_type": "stream",
     "text": [
      "The sum of the values is: 120\n"
     ]
    }
   ],
   "source": [
    "#### Q.4  Find the sum of the values of the array [92, 23, 15, -20, 10].\n",
    "\n",
    "# Define the array\n",
    "arr = [92, 23, 15, -20, 10]\n",
    "\n",
    "# Find the sum of the values using the sum() function\n",
    "total_sum = sum(arr)\n",
    "\n",
    "# Print the sum of the values\n",
    "print(\"The sum of the values is:\", total_sum)"
   ]
  },
  {
   "cell_type": "code",
   "execution_count": 6,
   "id": "84d9faa9-97ac-4e87-b6c1-99ce82488a5a",
   "metadata": {},
   "outputs": [
    {
     "name": "stdout",
     "output_type": "stream",
     "text": [
      "Is 153 an Armstrong number? Yes\n",
      "Is 134 an Armstrong number? No\n"
     ]
    }
   ],
   "source": [
    "\"\"\"\n",
    "Q.5 Given a number n. Print if it is an armstrong number or not.An armstrong number is a number if the sum \n",
    "of every digit in that number raised to the power of total digits in that number is equal to the number.\n",
    "\n",
    "Example : 153 = 1^3 + 5^3 + 3^3 = 1 + 125 + 27 = 153 hence 153 is an armstrong number. (Easy)\n",
    "\n",
    "\n",
    "Input1 : 153\n",
    "Output1 : Yes\n",
    "\n",
    "\n",
    "Input 2 : 134\n",
    "Output2 : No\n",
    "\"\"\"\n",
    "\n",
    "# Function to check if a number is an Armstrong number\n",
    "def is_armstrong_number(n):\n",
    "    # Convert the number to a string to get the number of digits\n",
    "    num_str = str(n)\n",
    "    num_digits = len(num_str)\n",
    "    \n",
    "    # Calculate the sum of each digit raised to the power of number of digits\n",
    "    sum_of_powers = sum(int(digit) ** num_digits for digit in num_str)\n",
    "    \n",
    "    # Check if the sum is equal to the original number\n",
    "    if sum_of_powers == n:\n",
    "        return \"Yes\"\n",
    "    else:\n",
    "        return \"No\"\n",
    "\n",
    "# Example 1\n",
    "n1 = 153\n",
    "print(f\"Is {n1} an Armstrong number? {is_armstrong_number(n1)}\")\n",
    "\n",
    "# Example 2\n",
    "n2 = 134\n",
    "print(f\"Is {n2} an Armstrong number? {is_armstrong_number(n2)}\")"
   ]
  },
  {
   "cell_type": "code",
   "execution_count": null,
   "id": "c64a7e28-458d-4672-bc6f-89be403dff2b",
   "metadata": {},
   "outputs": [],
   "source": []
  }
 ],
 "metadata": {
  "kernelspec": {
   "display_name": "Python 3 (ipykernel)",
   "language": "python",
   "name": "python3"
  },
  "language_info": {
   "codemirror_mode": {
    "name": "ipython",
    "version": 3
   },
   "file_extension": ".py",
   "mimetype": "text/x-python",
   "name": "python",
   "nbconvert_exporter": "python",
   "pygments_lexer": "ipython3",
   "version": "3.10.8"
  }
 },
 "nbformat": 4,
 "nbformat_minor": 5
}
