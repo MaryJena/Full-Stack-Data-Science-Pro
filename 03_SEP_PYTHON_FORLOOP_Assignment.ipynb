{
 "cells": [
  {
   "cell_type": "code",
   "execution_count": 1,
   "id": "1efb1ee3-12ab-4e5c-895a-172d7ef7fe66",
   "metadata": {},
   "outputs": [
    {
     "name": "stdout",
     "output_type": "stream",
     "text": [
      "1\n",
      "2\n",
      "3\n",
      "4\n",
      "5\n",
      "6\n",
      "7\n",
      "8\n",
      "9\n",
      "10\n"
     ]
    }
   ],
   "source": [
    "#### Basic Level:\n",
    "\n",
    "#### 1. Write a Python program to print the numbers from 1 to 10 using a `for` loop.\n",
    "\n",
    "for i in range(1, 11):\n",
    "    print(i)"
   ]
  },
  {
   "cell_type": "code",
   "execution_count": 2,
   "id": "47530527-2e93-43df-9b82-4eef260ced09",
   "metadata": {},
   "outputs": [
    {
     "name": "stdout",
     "output_type": "stream",
     "text": [
      "15\n"
     ]
    }
   ],
   "source": [
    "#### 2. Create a program that calculates the sum of all numbers in a list using a `for` loop.\n",
    "\n",
    "numbers = [1, 2, 3, 4, 5]\n",
    "total = 0\n",
    "for num in numbers:\n",
    "    total += num\n",
    "print(total)"
   ]
  },
  {
   "cell_type": "code",
   "execution_count": 3,
   "id": "3647c05d-eebf-4d9d-9ae4-79198f765307",
   "metadata": {},
   "outputs": [
    {
     "name": "stdout",
     "output_type": "stream",
     "text": [
      "olleh"
     ]
    }
   ],
   "source": [
    "#### 3. Write a program to print the characters of a string in reverse order using a `for` loop.\n",
    "\n",
    "text = \"hello\"\n",
    "for char in reversed(text):\n",
    "    print(char, end=\"\")"
   ]
  },
  {
   "cell_type": "code",
   "execution_count": 4,
   "id": "281df83d-f54f-4176-9a29-9297c4929407",
   "metadata": {},
   "outputs": [
    {
     "name": "stdout",
     "output_type": "stream",
     "text": [
      "120\n"
     ]
    }
   ],
   "source": [
    "#### 4. Develop a program that finds the factorial of a given number using a `for` loop.\n",
    "\n",
    "number = 5\n",
    "factorial = 1\n",
    "for i in range(1, number + 1):\n",
    "    factorial *= i\n",
    "print(factorial)"
   ]
  },
  {
   "cell_type": "code",
   "execution_count": 5,
   "id": "8c4c14c2-2c81-46ff-b8ab-a32b5cc726fa",
   "metadata": {},
   "outputs": [
    {
     "name": "stdout",
     "output_type": "stream",
     "text": [
      "7 x 1 = 7\n",
      "7 x 2 = 14\n",
      "7 x 3 = 21\n",
      "7 x 4 = 28\n",
      "7 x 5 = 35\n",
      "7 x 6 = 42\n",
      "7 x 7 = 49\n",
      "7 x 8 = 56\n",
      "7 x 9 = 63\n",
      "7 x 10 = 70\n"
     ]
    }
   ],
   "source": [
    "#### 5. Create a program to print the multiplication table of a given number using a `for` loop.\n",
    "\n",
    "number = 7\n",
    "for i in range(1, 11):\n",
    "    print(f\"{number} x {i} = {number * i}\")"
   ]
  },
  {
   "cell_type": "code",
   "execution_count": 6,
   "id": "96de1e31-c5f4-4414-bbb7-7e16ef08c23b",
   "metadata": {},
   "outputs": [
    {
     "name": "stdout",
     "output_type": "stream",
     "text": [
      "Even numbers: 3\n",
      "Odd numbers: 3\n"
     ]
    }
   ],
   "source": [
    "#### 6. Write a program that counts the number of even and odd numbers in a list using a `for` loop.\n",
    "\n",
    "numbers = [1, 2, 3, 4, 5, 6]\n",
    "even_count = 0\n",
    "odd_count = 0\n",
    "for num in numbers:\n",
    "    if num % 2 == 0:\n",
    "        even_count += 1\n",
    "    else:\n",
    "        odd_count += 1\n",
    "print(\"Even numbers:\", even_count)\n",
    "print(\"Odd numbers:\", odd_count)"
   ]
  },
  {
   "cell_type": "code",
   "execution_count": 7,
   "id": "2dc2c349-02b0-423a-b354-1891e4edd7e0",
   "metadata": {},
   "outputs": [
    {
     "name": "stdout",
     "output_type": "stream",
     "text": [
      "1\n",
      "4\n",
      "9\n",
      "16\n",
      "25\n"
     ]
    }
   ],
   "source": [
    "#### 7. Develop a program that prints the squares of numbers from 1 to 5 using a `for` loop.\n",
    "\n",
    "for i in range(1, 6):\n",
    "    print(i ** 2)"
   ]
  },
  {
   "cell_type": "code",
   "execution_count": 8,
   "id": "05285f20-5fc6-4355-b993-8bd83d2a2278",
   "metadata": {},
   "outputs": [
    {
     "name": "stdout",
     "output_type": "stream",
     "text": [
      "5\n"
     ]
    }
   ],
   "source": [
    "#### 8. Create a program to find the length of a string without using the `len()` function.\n",
    "\n",
    "text = \"hello\"\n",
    "count = 0\n",
    "for char in text:\n",
    "    count += 1\n",
    "print(count)"
   ]
  },
  {
   "cell_type": "code",
   "execution_count": 9,
   "id": "03be709f-9523-4a6b-add6-011221dfb0e7",
   "metadata": {},
   "outputs": [
    {
     "name": "stdout",
     "output_type": "stream",
     "text": [
      "30.0\n"
     ]
    }
   ],
   "source": [
    "#### 9. Write a program that calculates the average of a list of numbers using a `for` loop.\n",
    "\n",
    "numbers = [10, 20, 30, 40, 50]\n",
    "total = 0\n",
    "count = 0\n",
    "for num in numbers:\n",
    "    total += num\n",
    "    count += 1\n",
    "average = total / count\n",
    "print(average)"
   ]
  },
  {
   "cell_type": "code",
   "execution_count": 10,
   "id": "cc24ec7b-d60a-4f76-a33e-b16a94f06e1e",
   "metadata": {},
   "outputs": [
    {
     "name": "stdout",
     "output_type": "stream",
     "text": [
      "0\n",
      "1\n",
      "1\n",
      "2\n",
      "3\n"
     ]
    }
   ],
   "source": [
    "#### 10. Develop a program that prints the first `n` Fibonacci numbers using a `for` loop.\n",
    "\n",
    "n = 5\n",
    "a, b = 0, 1\n",
    "for _ in range(n):\n",
    "    print(a)\n",
    "    a, b = b, a + b"
   ]
  },
  {
   "cell_type": "code",
   "execution_count": 11,
   "id": "e162bf6f-7006-4cb7-9050-ab6c19da40fe",
   "metadata": {},
   "outputs": [
    {
     "name": "stdout",
     "output_type": "stream",
     "text": [
      "True\n"
     ]
    }
   ],
   "source": [
    "#### Intermediate Level:\n",
    "\n",
    "#### 11. Write a program to check if a given list contains any duplicates using a `for` loop.\n",
    "def has_duplicates(lst):\n",
    "    seen = []\n",
    "    for item in lst:\n",
    "        if item in seen:\n",
    "            return True\n",
    "        seen.append(item)\n",
    "    return False\n",
    "\n",
    "my_list = [1, 2, 3, 4, 5, 1]\n",
    "print(has_duplicates(my_list))"
   ]
  },
  {
   "cell_type": "code",
   "execution_count": 12,
   "id": "43ce32b5-cb7f-4cac-bb36-4ddf9aaf20ec",
   "metadata": {},
   "outputs": [
    {
     "name": "stdout",
     "output_type": "stream",
     "text": [
      "11\n",
      "13\n",
      "17\n",
      "19\n",
      "23\n",
      "29\n"
     ]
    }
   ],
   "source": [
    "#### 12. Create a program that prints the prime numbers in a given range using a `for` loop.\n",
    "\n",
    "start = 10\n",
    "end = 30\n",
    "\n",
    "def is_prime(num):\n",
    "    if num < 2:\n",
    "        return False\n",
    "    for i in range(2, int(num ** 0.5) + 1):\n",
    "        if num % i == 0:\n",
    "            return False\n",
    "    return True\n",
    "\n",
    "for num in range(start, end + 1):\n",
    "    if is_prime(num):\n",
    "        print(num)"
   ]
  },
  {
   "cell_type": "code",
   "execution_count": 13,
   "id": "1f330edf-6ac6-4fda-94ce-0395d4980d37",
   "metadata": {},
   "outputs": [
    {
     "name": "stdout",
     "output_type": "stream",
     "text": [
      "3\n"
     ]
    }
   ],
   "source": [
    "#### 13. Develop a program that counts the number of vowels in a string using a `for` loop.\n",
    "\n",
    "text = \"hello world\"\n",
    "vowels = \"aeiou\"\n",
    "count = 0\n",
    "\n",
    "for char in text:\n",
    "    if char in vowels:\n",
    "        count += 1\n",
    "\n",
    "print(count)"
   ]
  },
  {
   "cell_type": "code",
   "execution_count": 14,
   "id": "2affdd89-2e0f-4de9-9eca-17ea33794333",
   "metadata": {},
   "outputs": [
    {
     "name": "stdout",
     "output_type": "stream",
     "text": [
      "9\n"
     ]
    }
   ],
   "source": [
    "#### 14. Write a program to find the maximum element in a 2D list using a nested `for` loop.\n",
    "\n",
    "matrix = [\n",
    "    [1, 2, 3],\n",
    "    [4, 5, 6],\n",
    "    [7, 8, 9]\n",
    "]\n",
    "\n",
    "max_value = matrix[0][0]\n",
    "for row in matrix:\n",
    "    for item in row:\n",
    "        if item > max_value:\n",
    "            max_value = item\n",
    "\n",
    "print(max_value)"
   ]
  },
  {
   "cell_type": "code",
   "execution_count": 15,
   "id": "cf8aa7d3-6436-47aa-bd7a-d23618983eaf",
   "metadata": {},
   "outputs": [
    {
     "name": "stdout",
     "output_type": "stream",
     "text": [
      "[1, 3, 4, 5]\n"
     ]
    }
   ],
   "source": [
    "#### 15. Create a program that removes all occurrences of a specific element from a list using a `for` loop.\n",
    "\n",
    "def remove_element(lst, value):\n",
    "    result = []\n",
    "    for item in lst:\n",
    "        if item != value:\n",
    "            result.append(item)\n",
    "    return result\n",
    "\n",
    "my_list = [1, 2, 3, 4, 2, 5]\n",
    "value_to_remove = 2\n",
    "print(remove_element(my_list, value_to_remove))"
   ]
  },
  {
   "cell_type": "code",
   "execution_count": 16,
   "id": "4de9ed1f-bd78-417d-bfc1-06fae67b0f64",
   "metadata": {},
   "outputs": [
    {
     "name": "stdout",
     "output_type": "stream",
     "text": [
      "1 x 1 = 1\t1 x 2 = 2\t1 x 3 = 3\t1 x 4 = 4\t1 x 5 = 5\t\n",
      "2 x 1 = 2\t2 x 2 = 4\t2 x 3 = 6\t2 x 4 = 8\t2 x 5 = 10\t\n",
      "3 x 1 = 3\t3 x 2 = 6\t3 x 3 = 9\t3 x 4 = 12\t3 x 5 = 15\t\n",
      "4 x 1 = 4\t4 x 2 = 8\t4 x 3 = 12\t4 x 4 = 16\t4 x 5 = 20\t\n",
      "5 x 1 = 5\t5 x 2 = 10\t5 x 3 = 15\t5 x 4 = 20\t5 x 5 = 25\t\n"
     ]
    }
   ],
   "source": [
    "#### 16. Develop a program that generates a multiplication table for numbers from 1 to 5 using a nested `for` loop.\n",
    "\n",
    "for i in range(1, 6):\n",
    "    for j in range(1, 6):\n",
    "        print(f\"{i} x {j} = {i * j}\", end=\"\\t\")\n",
    "    print()"
   ]
  },
  {
   "cell_type": "code",
   "execution_count": 17,
   "id": "9897c485-539d-403e-98f4-b1f10d64575a",
   "metadata": {},
   "outputs": [
    {
     "name": "stdout",
     "output_type": "stream",
     "text": [
      "[0.0, 7.222222222222222, 17.77777777777778, 22.22222222222222]\n"
     ]
    }
   ],
   "source": [
    "#### 17. Write a program that converts a list of Fahrenheit temperatures to Celsius using a `for` loop.\n",
    "\n",
    "fahrenheit_temps = [32, 45, 64, 72]\n",
    "celsius_temps = []\n",
    "\n",
    "for temp in fahrenheit_temps:\n",
    "    celsius = (temp - 32) * 5 / 9\n",
    "    celsius_temps.append(celsius)\n",
    "\n",
    "print(celsius_temps)"
   ]
  },
  {
   "cell_type": "code",
   "execution_count": 18,
   "id": "f1352481-7aff-4e9f-b2d3-bba9e317c1b6",
   "metadata": {},
   "outputs": [
    {
     "name": "stdout",
     "output_type": "stream",
     "text": [
      "[4, 5]\n"
     ]
    }
   ],
   "source": [
    "#### 18. Create a program to print the common elements from two lists using a `for` loop.\n",
    "\n",
    "list1 = [1, 2, 3, 4, 5]\n",
    "list2 = [4, 5, 6, 7, 8]\n",
    "common_elements = []\n",
    "\n",
    "for item in list1:\n",
    "    if item in list2:\n",
    "        common_elements.append(item)\n",
    "\n",
    "print(common_elements)"
   ]
  },
  {
   "cell_type": "code",
   "execution_count": 19,
   "id": "a0a8cbdd-36ce-4c1b-9f28-16b1cdae9cbc",
   "metadata": {},
   "outputs": [
    {
     "name": "stdout",
     "output_type": "stream",
     "text": [
      "*\n",
      "**\n",
      "***\n",
      "****\n",
      "*****\n"
     ]
    }
   ],
   "source": [
    "#### 19. Develop a program that prints the pattern of right-angled triangles using a `for` loop. Use ‘*’ to draw the pattern\n",
    "\n",
    "height = 5\n",
    "\n",
    "for i in range(1, height + 1):\n",
    "    print('*' * i)"
   ]
  },
  {
   "cell_type": "code",
   "execution_count": 20,
   "id": "f6c5dc18-ff61-4b51-8329-fb638ea6dbc7",
   "metadata": {},
   "outputs": [
    {
     "name": "stdout",
     "output_type": "stream",
     "text": [
      "6\n"
     ]
    }
   ],
   "source": [
    "#### 20. Write a program to find the greatest common divisor (GCD) of two numbers using a `for` loop.\n",
    "\n",
    "def gcd(a, b):\n",
    "    min_num = min(a, b)\n",
    "    for i in range(1, min_num + 1):\n",
    "        if a % i == 0 and b % i == 0:\n",
    "            gcd = i\n",
    "    return gcd\n",
    "\n",
    "num1 = 48\n",
    "num2 = 18\n",
    "print(gcd(num1, num2))"
   ]
  },
  {
   "cell_type": "code",
   "execution_count": 21,
   "id": "2b071bdd-ef1f-44d4-836e-e9ca635f98a9",
   "metadata": {},
   "outputs": [
    {
     "name": "stdout",
     "output_type": "stream",
     "text": [
      "[6, 15, 24]\n"
     ]
    }
   ],
   "source": [
    "#### Advanced Level:\n",
    "\n",
    "#### 21. Create a program that calculates the sum of the digits of numbers in a list using a list comprehension.\n",
    "\n",
    "numbers = [123, 456, 789]\n",
    "sum_of_digits = [sum(int(digit) for digit in str(num)) for num in numbers]\n",
    "print(sum_of_digits)"
   ]
  },
  {
   "cell_type": "code",
   "execution_count": 22,
   "id": "68e7a346-c134-47f5-ab5d-631e786238f3",
   "metadata": {},
   "outputs": [
    {
     "name": "stdout",
     "output_type": "stream",
     "text": [
      "[2, 2, 3, 5]\n"
     ]
    }
   ],
   "source": [
    "#### 22. Write a program to find the prime factors of a given number using a `for` loop and list comprehension.\n",
    "\n",
    "def prime_factors(n):\n",
    "    factors = []\n",
    "    for i in range(2, n + 1):\n",
    "        while n % i == 0:\n",
    "            factors.append(i)\n",
    "            n //= i\n",
    "    return factors\n",
    "\n",
    "number = 60\n",
    "print(prime_factors(number))"
   ]
  },
  {
   "cell_type": "code",
   "execution_count": 23,
   "id": "9bb0a07b-a66a-437c-a03f-a5d072068ee3",
   "metadata": {},
   "outputs": [
    {
     "name": "stdout",
     "output_type": "stream",
     "text": [
      "[1, 2, 3, 4, 5]\n"
     ]
    }
   ],
   "source": [
    "#### 23. Develop a program that extracts unique elements from a list and stores them in a new list using a list comprehension.\n",
    "\n",
    "original_list = [1, 2, 2, 3, 4, 4, 5]\n",
    "unique_elements = list(set(original_list))\n",
    "print(unique_elements)"
   ]
  },
  {
   "cell_type": "code",
   "execution_count": 24,
   "id": "fddc9b93-87cf-48dd-ab16-28b42a9df84e",
   "metadata": {},
   "outputs": [
    {
     "name": "stdout",
     "output_type": "stream",
     "text": [
      "[0, 1, 2, 3, 4, 5, 6, 7, 8, 9, 11, 22, 33, 44, 55, 66, 77, 88, 99]\n"
     ]
    }
   ],
   "source": [
    "#### 24. Create a program that generates a list of all palindromic numbers up to a specified limit using a list comprehension.\n",
    "\n",
    "limit = 100\n",
    "palindromic_numbers = [num for num in range(limit + 1) if str(num) == str(num)[::-1]]\n",
    "print(palindromic_numbers)"
   ]
  },
  {
   "cell_type": "code",
   "execution_count": 25,
   "id": "bbfc54f7-3f95-4156-9026-37338cd89db5",
   "metadata": {},
   "outputs": [
    {
     "name": "stdout",
     "output_type": "stream",
     "text": [
      "[1, 2, 3, 4, 5, 6]\n"
     ]
    }
   ],
   "source": [
    "#### 25. Write a program to flatten a nested list using list comprehension.\n",
    "\n",
    "nested_list = [[1, 2], [3, 4], [5, 6]]\n",
    "flattened_list = [item for sublist in nested_list for item in sublist]\n",
    "print(flattened_list)"
   ]
  },
  {
   "cell_type": "code",
   "execution_count": 26,
   "id": "c6d7c2a6-d58f-44fa-9570-7b754af6e388",
   "metadata": {},
   "outputs": [
    {
     "name": "stdout",
     "output_type": "stream",
     "text": [
      "Sum of even numbers: 30\n",
      "Sum of odd numbers: 25\n"
     ]
    }
   ],
   "source": [
    "#### 26. Develop a program that computes the sum of even and odd numbers in a list separately using list comprehension.\n",
    "\n",
    "numbers = [1, 2, 3, 4, 5, 6, 7, 8, 9, 10]\n",
    "sum_even = sum(num for num in numbers if num % 2 == 0)\n",
    "sum_odd = sum(num for num in numbers if num % 2 != 0)\n",
    "print(\"Sum of even numbers:\", sum_even)\n",
    "print(\"Sum of odd numbers:\", sum_odd)"
   ]
  },
  {
   "cell_type": "code",
   "execution_count": 27,
   "id": "50fe3d87-8ced-4f55-9973-24771bb3f66e",
   "metadata": {},
   "outputs": [
    {
     "name": "stdout",
     "output_type": "stream",
     "text": [
      "[1, 9, 25, 49, 81]\n"
     ]
    }
   ],
   "source": [
    "#### 27. Create a program that generates a list of squares of odd numbers between 1 and 10 using list comprehension.\n",
    "\n",
    "squares_of_odds = [num ** 2 for num in range(1, 11) if num % 2 != 0]\n",
    "print(squares_of_odds)"
   ]
  },
  {
   "cell_type": "code",
   "execution_count": 28,
   "id": "9caf9ef9-08a8-498e-8157-6ea4596343fa",
   "metadata": {},
   "outputs": [
    {
     "name": "stdout",
     "output_type": "stream",
     "text": [
      "{'a': 1, 'b': 2, 'c': 3}\n"
     ]
    }
   ],
   "source": [
    "#### 28. Write a program that combines two lists into a dictionary using list comprehension.\n",
    "\n",
    "keys = ['a', 'b', 'c']\n",
    "values = [1, 2, 3]\n",
    "combined_dict = {keys[i]: values[i] for i in range(len(keys))}\n",
    "print(combined_dict)"
   ]
  },
  {
   "cell_type": "code",
   "execution_count": 29,
   "id": "5a1dda80-9875-4ac3-970d-a5c2d5b8f01a",
   "metadata": {},
   "outputs": [
    {
     "name": "stdout",
     "output_type": "stream",
     "text": [
      "['e', 'o', 'o']\n"
     ]
    }
   ],
   "source": [
    "#### 29. Develop a program that extracts the vowels from a string and stores them in a list using list comprehension.\n",
    "\n",
    "text = \"hello world\"\n",
    "vowels = [char for char in text if char in \"aeiou\"]\n",
    "print(vowels)"
   ]
  },
  {
   "cell_type": "code",
   "execution_count": 30,
   "id": "ca4686e9-1975-4d96-b1e3-127b90c100ee",
   "metadata": {},
   "outputs": [
    {
     "name": "stdout",
     "output_type": "stream",
     "text": [
      "['123', '456', '78']\n"
     ]
    }
   ],
   "source": [
    "#### 30. Create a program that removes all non-numeric characters from a list of strings using list comprehension.\n",
    "\n",
    "strings = [\"abc123\", \"456def\", \"78ghi\"]\n",
    "numeric_strings = [''.join(char for char in s if char.isdigit()) for s in strings]\n",
    "print(numeric_strings)"
   ]
  },
  {
   "cell_type": "code",
   "execution_count": 31,
   "id": "af277614-4c5a-42b4-9328-51e1c7f4b414",
   "metadata": {},
   "outputs": [
    {
     "name": "stdout",
     "output_type": "stream",
     "text": [
      "[2, 3, 5, 7, 11, 13, 17, 19, 23, 29]\n"
     ]
    }
   ],
   "source": [
    "#### Challenge Level:\n",
    "\n",
    "#### 31. Write a program to generate a list of prime numbers using the Sieve of Eratosthenes algorithm and list comprehension.\n",
    "\n",
    "def sieve_of_eratosthenes(limit):\n",
    "    primes = [True] * (limit + 1)\n",
    "    p = 2\n",
    "    while (p * p <= limit):\n",
    "        if primes[p]:\n",
    "            for i in range(p * p, limit + 1, p):\n",
    "                primes[i] = False\n",
    "        p += 1\n",
    "    return [p for p in range(2, limit + 1) if primes[p]]\n",
    "\n",
    "limit = 30\n",
    "prime_numbers = sieve_of_eratosthenes(limit)\n",
    "print(prime_numbers)"
   ]
  },
  {
   "cell_type": "code",
   "execution_count": 32,
   "id": "c2a0d79d-44f8-4a13-841d-fac9581f6504",
   "metadata": {},
   "outputs": [
    {
     "name": "stdout",
     "output_type": "stream",
     "text": [
      "[(3, 4, 5), (5, 12, 13), (6, 8, 10), (7, 24, 25), (8, 15, 17), (9, 12, 15), (10, 24, 26), (12, 16, 20), (15, 20, 25), (20, 21, 29)]\n"
     ]
    }
   ],
   "source": [
    "#### 32. Create a program that generates a list of all Pythagorean triplets up to a specified limit using list comprehension.\n",
    "\n",
    "limit = 30\n",
    "pythagorean_triplets = [\n",
    "    (a, b, c) \n",
    "    for a in range(1, limit)\n",
    "    for b in range(a, limit)\n",
    "    for c in range(b, limit)\n",
    "    if a**2 + b**2 == c**2\n",
    "]\n",
    "print(pythagorean_triplets)"
   ]
  },
  {
   "cell_type": "code",
   "execution_count": null,
   "id": "01e90a09-44e4-411a-b1a7-caf84c01343e",
   "metadata": {},
   "outputs": [],
   "source": []
  }
 ],
 "metadata": {
  "kernelspec": {
   "display_name": "Python 3 (ipykernel)",
   "language": "python",
   "name": "python3"
  },
  "language_info": {
   "codemirror_mode": {
    "name": "ipython",
    "version": 3
   },
   "file_extension": ".py",
   "mimetype": "text/x-python",
   "name": "python",
   "nbconvert_exporter": "python",
   "pygments_lexer": "ipython3",
   "version": "3.10.8"
  }
 },
 "nbformat": 4,
 "nbformat_minor": 5
}
