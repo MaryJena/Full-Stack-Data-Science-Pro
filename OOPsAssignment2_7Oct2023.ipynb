{
 "cells": [
  {
   "cell_type": "code",
   "execution_count": 141,
   "id": "6a0eff9d-2c3c-4594-8847-aee1b341dd58",
   "metadata": {},
   "outputs": [
    {
     "data": {
      "text/plain": [
       "' Constructor in Python:\\n    - It is a special method used to initialize the attributes of an object when it is created. \\n    - It’s called automatically when you create an instance of a class. \\n    - The purpose of a constructor is to set up the initial state of an object. '"
      ]
     },
     "execution_count": 141,
     "metadata": {},
     "output_type": "execute_result"
    }
   ],
   "source": [
    "#### Constructor:\n",
    "\n",
    "#### 1. What is a constructor in Python? Explain its purpose and usage.\n",
    "\n",
    "''' Constructor in Python:\n",
    "    - It is a special method used to initialize the attributes of an object when it is created. \n",
    "    - It’s called automatically when you create an instance of a class. \n",
    "    - The purpose of a constructor is to set up the initial state of an object. '''"
   ]
  },
  {
   "cell_type": "code",
   "execution_count": 142,
   "id": "b7921c8f-9fd4-4ad6-a95d-126e548dc2d3",
   "metadata": {},
   "outputs": [
    {
     "data": {
      "text/plain": [
       "' \\nParameterless Constructor: A constructor that doesn’t take any arguments other than self. It initializes default values.\\nParameterized Constructor: A constructor that takes additional arguments to initialize attributes with specific values provided during object creation.\\n'"
      ]
     },
     "execution_count": 142,
     "metadata": {},
     "output_type": "execute_result"
    }
   ],
   "source": [
    "#### 2. Differentiate between a parameterless constructor and a parameterized constructor in Python.\n",
    "\n",
    "''' \n",
    "Parameterless Constructor: A constructor that doesn’t take any arguments other than self. It initializes default values.\n",
    "Parameterized Constructor: A constructor that takes additional arguments to initialize attributes with specific values provided during object creation.\n",
    "'''"
   ]
  },
  {
   "cell_type": "code",
   "execution_count": 143,
   "id": "4b977d4f-d7e5-4b88-b26d-71bce2b7734f",
   "metadata": {},
   "outputs": [],
   "source": [
    "#### 3. How do you define a constructor in a Python class? Provide an example.\n",
    "\n",
    "''' Constructor in Python can be defined using the __init__ method. '''\n",
    "\n",
    "#### Example:\n",
    "\n",
    "class Person:\n",
    "    def __init__(self, name, age):\n",
    "        self.name = name\n",
    "        self.age = age\n",
    "\n",
    "# Creating an object of the class\n",
    "person = Person(\"Alice\", 30)"
   ]
  },
  {
   "cell_type": "code",
   "execution_count": 144,
   "id": "ff09bcba-d8a6-49f2-b202-c46531205702",
   "metadata": {},
   "outputs": [
    {
     "data": {
      "text/plain": [
       "\" \\na. The __init__ method is a special method in Python classes that is automatically called when a new instance of the class is created. \\nb. It initializes the instance's attributes with the values provided. \\n\""
      ]
     },
     "execution_count": 144,
     "metadata": {},
     "output_type": "execute_result"
    }
   ],
   "source": [
    "#### 4. Explain the `__init__` method in Python and its role in constructors.\n",
    "\n",
    "''' \n",
    "a. The __init__ method is a special method in Python classes that is automatically called when a new instance of the class is created. \n",
    "b. It initializes the instance's attributes with the values provided. \n",
    "'''"
   ]
  },
  {
   "cell_type": "code",
   "execution_count": 145,
   "id": "b7eb19fb-2a1b-4503-8874-d1040f2110c2",
   "metadata": {},
   "outputs": [
    {
     "name": "stdout",
     "output_type": "stream",
     "text": [
      "Alice\n",
      "30\n"
     ]
    }
   ],
   "source": [
    "#### 5. In a class named `Person`, create a constructor that initializes the `name` and `age` attributes. Provide an example of creating an object of this class.\n",
    "\n",
    "class Person:\n",
    "    def __init__(self, name, age):\n",
    "        self.name = name\n",
    "        self.age = age\n",
    "\n",
    "# Creating an object of the class\n",
    "person = Person(\"Alice\", 30)\n",
    "print(person.name)\n",
    "print(person.age)"
   ]
  },
  {
   "cell_type": "code",
   "execution_count": 146,
   "id": "4aca9ea9-312f-4a7a-9cfa-20eece2d1faf",
   "metadata": {},
   "outputs": [],
   "source": [
    "#### 6. How can you call a constructor explicitly in Python? Give an example.\n",
    "\n",
    "''' In Python, you generally don’t call constructors explicitly. \n",
    "However, you can create a new instance of a class to invoke the constructor. '''\n",
    "\n",
    "class Person:\n",
    "    def __init__(self, name):\n",
    "        self.name = name\n",
    "\n",
    "person = Person(\"Bob\")  # Constructor is called here"
   ]
  },
  {
   "cell_type": "code",
   "execution_count": 147,
   "id": "a6cd7096-7e45-4f8b-b3ce-035b4ae684b9",
   "metadata": {},
   "outputs": [],
   "source": [
    "#### 7. What is the significance of the `self` parameter in Python constructors? Explain with an example.\n",
    "\n",
    "'''\n",
    "a. self parameter represents the instance of the class. \n",
    "b. It allows you to access the instance's attributes and methods from within the constructor. \n",
    "'''\n",
    "class Person:\n",
    "    def __init__(self, name, age):\n",
    "        self.name = name  # self.name refers to the instance variable\n",
    "        self.age = age\n",
    "\n",
    "person = Person(\"Alice\", 30)"
   ]
  },
  {
   "cell_type": "code",
   "execution_count": 148,
   "id": "8acd0546-2e67-4d0c-a4eb-4692a5cab4c3",
   "metadata": {},
   "outputs": [],
   "source": [
    "#### 8. Discuss the concept of default constructors in Python. When are they used?\n",
    "\n",
    "''' \n",
    "a. A default constructor is a constructor that doesn’t take any arguments other than self. \n",
    "b. It is used when you don’t need to initialize the object with specific values.\n",
    "'''\n",
    "\n",
    "class Person:\n",
    "    def __init__(self):\n",
    "        self.name = \"Unknown\"\n",
    "        self.age = 0\n",
    "\n",
    "person = Person()\n"
   ]
  },
  {
   "cell_type": "code",
   "execution_count": 149,
   "id": "c83a881f-7cd1-49ab-b1f8-57f081e61a1b",
   "metadata": {},
   "outputs": [
    {
     "name": "stdout",
     "output_type": "stream",
     "text": [
      "50\n"
     ]
    }
   ],
   "source": [
    "#### 9. Create a Python class called `Rectangle` with a constructor that initializes the `width` and `height` attributes. Provide a method to calculate the area of the rectangle.\n",
    "\n",
    "class Rectangle:\n",
    "    def __init__(self, width, height):\n",
    "        self.width = width\n",
    "        self.height = height\n",
    "\n",
    "    def area(self):\n",
    "        return self.width * self.height\n",
    "\n",
    "rect = Rectangle(5, 10)\n",
    "print(rect.area())"
   ]
  },
  {
   "cell_type": "code",
   "execution_count": 150,
   "id": "37611cf8-1f8e-4540-a32c-c76eb1116db3",
   "metadata": {},
   "outputs": [],
   "source": [
    "#### 10. How can you have multiple constructors in a Python class? Explain with an example.\n",
    "\n",
    "''' \n",
    "Python does not support multiple constructors directly. \n",
    "However, you can use default arguments to achieve similar functionality. \n",
    "'''\n",
    "\n",
    "class Person:\n",
    "    def __init__(self, name, age=None):\n",
    "        self.name = name\n",
    "        self.age = age if age is not None else \"Not specified\"\n",
    "\n",
    "person1 = Person(\"Alice\", 30)\n",
    "person2 = Person(\"Bob\")"
   ]
  },
  {
   "cell_type": "code",
   "execution_count": 151,
   "id": "fe7c5cb3-718d-46b8-8814-8004769de438",
   "metadata": {},
   "outputs": [
    {
     "data": {
      "text/plain": [
       "'\\nMethod overloading allows multiple methods with the same name but different arguments. \\nPython does not support method overloading directly, but you can achieve similar behavior using default arguments.\\n'"
      ]
     },
     "execution_count": 151,
     "metadata": {},
     "output_type": "execute_result"
    }
   ],
   "source": [
    "#### 11. What is method overloading, and how is it related to constructors in Python?\n",
    "\n",
    "'''\n",
    "Method overloading allows multiple methods with the same name but different arguments. \n",
    "Python does not support method overloading directly, but you can achieve similar behavior using default arguments.\n",
    "'''"
   ]
  },
  {
   "cell_type": "code",
   "execution_count": 152,
   "id": "5a61a62c-7150-495d-8aac-6d3e98ad9442",
   "metadata": {},
   "outputs": [],
   "source": [
    "#### 12. Explain the use of the `super()` function in Python constructors. Provide an example.\n",
    "\n",
    "'''\n",
    "The super() function allows you to call methods from a parent class within a subclass. \n",
    "It is often used to initialize the parent class’s attributes.\n",
    "'''\n",
    "\n",
    "class Parent:\n",
    "    def __init__(self, name):\n",
    "        self.name = name\n",
    "\n",
    "class Child(Parent):\n",
    "    def __init__(self, name, age):\n",
    "        super().__init__(name)\n",
    "        self.age = age\n",
    "\n",
    "child = Child(\"Alice\", 10)"
   ]
  },
  {
   "cell_type": "code",
   "execution_count": 153,
   "id": "b6414836-5efe-4ffd-b362-ae3c0f7eb0c2",
   "metadata": {},
   "outputs": [
    {
     "name": "stdout",
     "output_type": "stream",
     "text": [
      "Title: 1984, Author: George Orwell, Year: 1949\n"
     ]
    }
   ],
   "source": [
    "#### 13. Create a class called `Book` with a constructor that initializes the `title`, `author`, and `published_year` attributes. Provide a method to display book details.\n",
    "\n",
    "class Book:\n",
    "    def __init__(self, title, author, published_year):\n",
    "        self.title = title\n",
    "        self.author = author\n",
    "        self.published_year = published_year\n",
    "\n",
    "    def display_details(self):\n",
    "        print(f\"Title: {self.title}, Author: {self.author}, Year: {self.published_year}\")\n",
    "\n",
    "book = Book(\"1984\", \"George Orwell\", 1949)\n",
    "book.display_details()"
   ]
  },
  {
   "cell_type": "code",
   "execution_count": 154,
   "id": "4117eeab-3bbd-4609-8262-3114b5fd522e",
   "metadata": {},
   "outputs": [
    {
     "data": {
      "text/plain": [
       "\"\\na. Constructors: Initialize the object's state when it is created. Defined using __init__.\\nb. Regular Methods: Perform actions on an object’s state or provide functionality. They do not initialize objects. \\n\""
      ]
     },
     "execution_count": 154,
     "metadata": {},
     "output_type": "execute_result"
    }
   ],
   "source": [
    "#### 14. Discuss the differences between constructors and regular methods in Python classes.\n",
    "\n",
    "'''\n",
    "a. Constructors: Initialize the object's state when it is created. Defined using __init__.\n",
    "b. Regular Methods: Perform actions on an object’s state or provide functionality. They do not initialize objects. \n",
    "'''"
   ]
  },
  {
   "cell_type": "code",
   "execution_count": 155,
   "id": "f09af35f-1246-4176-8bf3-fa6d8003f7c3",
   "metadata": {},
   "outputs": [],
   "source": [
    "#### 15. Explain the role of the `self` parameter in instance variable initialization within a constructor.\n",
    "\n",
    "'''\n",
    "The self parameter is used to refer to instance variables, allowing each object to have its own set of attributes.\n",
    "'''\n",
    "\n",
    "class Person:\n",
    "    def __init__(self, name):\n",
    "        self.name = name  # 'self.name' is unique to each instance"
   ]
  },
  {
   "cell_type": "code",
   "execution_count": 156,
   "id": "feff4b53-c47b-4aae-9b23-4a9b7f030d58",
   "metadata": {},
   "outputs": [
    {
     "name": "stdout",
     "output_type": "stream",
     "text": [
      "True\n"
     ]
    }
   ],
   "source": [
    "#### 16. How do you prevent a class from having multiple instances by using constructors in Python? Provide an example.\n",
    "\n",
    "''' You can use a Singleton pattern to ensure only one instance of a class is created. '''\n",
    "\n",
    "class Singleton:\n",
    "    _instance = None\n",
    "\n",
    "    def __new__(cls, *args, **kwargs):\n",
    "        if not cls._instance:\n",
    "            cls._instance = super(Singleton, cls).__new__(cls, *args, **kwargs)\n",
    "        return cls._instance\n",
    "\n",
    "singleton1 = Singleton()\n",
    "singleton2 = Singleton()\n",
    "print(singleton1 is singleton2)"
   ]
  },
  {
   "cell_type": "code",
   "execution_count": 157,
   "id": "c1901104-57b6-4ff4-9b12-e7cb53f1c188",
   "metadata": {},
   "outputs": [
    {
     "name": "stdout",
     "output_type": "stream",
     "text": [
      "['Math', 'Science', 'History']\n"
     ]
    }
   ],
   "source": [
    "#### 17. Create a Python class called `Student` with a constructor that takes a list of subjects as a parameter and initializes the `subjects` attribute.\n",
    "\n",
    "class Student:\n",
    "    def __init__(self, subjects):\n",
    "        self.subjects = subjects\n",
    "\n",
    "student = Student([\"Math\", \"Science\", \"History\"])\n",
    "print(student.subjects)"
   ]
  },
  {
   "cell_type": "code",
   "execution_count": 158,
   "id": "3e1e08ce-5ec5-44d2-a32f-be1cf25ed842",
   "metadata": {},
   "outputs": [
    {
     "name": "stdout",
     "output_type": "stream",
     "text": [
      "Resource allocated\n",
      "Resource deallocated\n"
     ]
    }
   ],
   "source": [
    "#### 18. What is the purpose of the `__del__` method in Python classes, and how does it relate to constructors?\n",
    "\n",
    "''' The __del__ method is called when an object is about to be destroyed. \n",
    "It is used for cleanup purposes, like closing files or releasing resources. '''\n",
    "\n",
    "class Resource:\n",
    "    def __init__(self):\n",
    "        print(\"Resource allocated\")\n",
    "\n",
    "    def __del__(self):\n",
    "        print(\"Resource deallocated\")\n",
    "\n",
    "resource = Resource()\n",
    "del resource"
   ]
  },
  {
   "cell_type": "code",
   "execution_count": 159,
   "id": "40a16f41-3fba-4f6b-86e6-c6884426fdaf",
   "metadata": {},
   "outputs": [],
   "source": [
    "#### 19. Explain the use of constructor chaining in Python. Provide a practical example.\n",
    "\n",
    "'''\n",
    "Constructor chaining involves calling one constructor from another. In Python, you can achieve this using super().\n",
    "'''\n",
    "\n",
    "class Parent:\n",
    "    def __init__(self, name):\n",
    "        self.name = name\n",
    "\n",
    "class Child(Parent):\n",
    "    def __init__(self, name, age):\n",
    "        super().__init__(name)\n",
    "        self.age = age\n",
    "\n",
    "child = Child(\"Alice\", 10)"
   ]
  },
  {
   "cell_type": "code",
   "execution_count": 160,
   "id": "42beb170-9046-4429-a71f-3c86c962b229",
   "metadata": {},
   "outputs": [
    {
     "name": "stdout",
     "output_type": "stream",
     "text": [
      "Make: Toyota, Model: Camry\n"
     ]
    }
   ],
   "source": [
    "#### 20. Create a Python class called `Car` with a default constructor that initializes the `make` and `model` attributes. Provide a method to display car information.\n",
    "\n",
    "class Car:\n",
    "    def __init__(self, make=\"Unknown\", model=\"Unknown\"):\n",
    "        self.make = make\n",
    "        self.model = model\n",
    "\n",
    "    def display_info(self):\n",
    "        print(f\"Make: {self.make}, Model: {self.model}\")\n",
    "\n",
    "car = Car(\"Toyota\", \"Camry\")\n",
    "car.display_info()"
   ]
  },
  {
   "cell_type": "code",
   "execution_count": 161,
   "id": "5f966323-fe79-401f-8de9-c400c48377b6",
   "metadata": {},
   "outputs": [
    {
     "data": {
      "text/plain": [
       "'\\na. Inheritance is a way to create a new class (called a child class or subclass) that inherits attributes and methods from an existing class (called a parent class or superclass).\\nb. It helps in reusing code, improving maintainability, and establishing a natural hierarchy between classes.\\n'"
      ]
     },
     "execution_count": 161,
     "metadata": {},
     "output_type": "execute_result"
    }
   ],
   "source": [
    "#### Inheritance:\n",
    "\n",
    "#### 1. What is inheritance in Python? Explain its significance in object-oriented programming.\n",
    "\n",
    "'''\n",
    "a. Inheritance is a way to create a new class (called a child class or subclass) that inherits attributes and methods from an existing class (called a parent class or superclass).\n",
    "b. It helps in reusing code, improving maintainability, and establishing a natural hierarchy between classes.\n",
    "'''"
   ]
  },
  {
   "cell_type": "code",
   "execution_count": 162,
   "id": "2896f816-a68e-40c1-92ad-88fe5c4257eb",
   "metadata": {},
   "outputs": [
    {
     "name": "stdout",
     "output_type": "stream",
     "text": [
      "Animal speaks\n",
      "Dog barks\n"
     ]
    }
   ],
   "source": [
    "#### 2. Differentiate between single inheritance and multiple inheritance in Python. Provide examples for each.\n",
    "\n",
    "''' Single Inheritance: A class inherits from one parent class '''\n",
    "\n",
    "#### Example:\n",
    "\n",
    "class Animal:\n",
    "    def speak(self):\n",
    "        print(\"Animal speaks\")\n",
    "\n",
    "class Dog(Animal):\n",
    "    def bark(self):\n",
    "        print(\"Dog barks\")\n",
    "\n",
    "dog = Dog()\n",
    "dog.speak()  # Inherited method\n",
    "dog.bark()   # Child class method"
   ]
  },
  {
   "cell_type": "code",
   "execution_count": 163,
   "id": "b24b80e8-68ba-47f6-87ce-9a463e2f95bc",
   "metadata": {},
   "outputs": [
    {
     "name": "stdout",
     "output_type": "stream",
     "text": [
      "Engine starts\n",
      "Radio plays music\n"
     ]
    }
   ],
   "source": [
    "''' Multiple Inheritance: A class inherits from more than one parent class '''\n",
    "\n",
    "class Engine:\n",
    "    def start(self):\n",
    "        print(\"Engine starts\")\n",
    "\n",
    "class Radio:\n",
    "    def play_music(self):\n",
    "        print(\"Radio plays music\")\n",
    "\n",
    "class Car(Engine, Radio):\n",
    "    pass\n",
    "\n",
    "car = Car()\n",
    "car.start()       # Method from Engine\n",
    "car.play_music()  # Method from Radio"
   ]
  },
  {
   "cell_type": "code",
   "execution_count": 164,
   "id": "e578cac3-68e6-486a-ab87-cde66f1cddfa",
   "metadata": {},
   "outputs": [
    {
     "name": "stdout",
     "output_type": "stream",
     "text": [
      "Red\n",
      "120\n",
      "Toyota\n"
     ]
    }
   ],
   "source": [
    "#### 3. Create a Python class called `Vehicle` with attributes `color` and `speed`. Then, create a child class called `Car` that inherits from `Vehicle` and adds a `brand` attribute. Provide an example of creating a `Car` object.\n",
    "\n",
    "class Vehicle:\n",
    "    def __init__(self, color, speed):\n",
    "        self.color = color\n",
    "        self.speed = speed\n",
    "\n",
    "class Car(Vehicle):\n",
    "    def __init__(self, color, speed, brand):\n",
    "        super().__init__(color, speed)\n",
    "        self.brand = brand\n",
    "\n",
    "my_car = Car(\"Red\", 120, \"Toyota\")\n",
    "print(my_car.color)\n",
    "print(my_car.speed)\n",
    "print(my_car.brand)"
   ]
  },
  {
   "cell_type": "code",
   "execution_count": 165,
   "id": "77ec5519-6b95-48e1-918e-41a772922852",
   "metadata": {},
   "outputs": [
    {
     "name": "stdout",
     "output_type": "stream",
     "text": [
      "Dog barks\n"
     ]
    }
   ],
   "source": [
    "#### 4. Explain the concept of method overriding in inheritance. Provide a practical example.\n",
    "\n",
    "'''\n",
    "Method Overriding occurs when a child class provides a specific implementation of a method that is already defined in its parent class.\n",
    "'''\n",
    "\n",
    "class Animal:\n",
    "    def speak(self):\n",
    "        print(\"Animal speaks\")\n",
    "\n",
    "class Dog(Animal):\n",
    "    def speak(self):\n",
    "        print(\"Dog barks\")  # Overridden method\n",
    "\n",
    "my_dog = Dog()\n",
    "my_dog.speak()"
   ]
  },
  {
   "cell_type": "code",
   "execution_count": 166,
   "id": "433d7b4d-af71-48b5-b29a-9988a2066025",
   "metadata": {},
   "outputs": [
    {
     "name": "stdout",
     "output_type": "stream",
     "text": [
      "Parent Value\n",
      "Parent show\n",
      "Child show\n"
     ]
    }
   ],
   "source": [
    "#### 5. How can you access the methods and attributes of a parent class from a child class in Python? Give an example.\n",
    "\n",
    "''' We can use the super() function to access methods and attributes from the parent class. '''\n",
    "\n",
    "class Parent:\n",
    "    def __init__(self):\n",
    "        self.value = \"Parent Value\"\n",
    "\n",
    "    def show(self):\n",
    "        print(\"Parent show\")\n",
    "\n",
    "class Child(Parent):\n",
    "    def __init__(self):\n",
    "        super().__init__()\n",
    "        self.child_value = \"Child Value\"\n",
    "\n",
    "    def show(self):\n",
    "        super().show()  # Calls Parent's show method\n",
    "        print(\"Child show\")\n",
    "\n",
    "c = Child()\n",
    "print(c.value)\n",
    "c.show()  "
   ]
  },
  {
   "cell_type": "code",
   "execution_count": 167,
   "id": "183bbc73-f3b7-42bd-a805-0a66ed8330a0",
   "metadata": {},
   "outputs": [
    {
     "name": "stdout",
     "output_type": "stream",
     "text": [
      "Parent Constructor\n",
      "Child Constructor\n"
     ]
    }
   ],
   "source": [
    "#### 6. Discuss the use of the `super()` function in Python inheritance. When and why is it used? Provide an example.\n",
    "\n",
    "'''\n",
    "a. The super() function is used to call methods from the parent class. \n",
    "b. It is useful when you want to extend or modify the behavior of methods inherited from the parent class.\n",
    "'''\n",
    "\n",
    "class Parent:\n",
    "    def __init__(self):\n",
    "        print(\"Parent Constructor\")\n",
    "\n",
    "class Child(Parent):\n",
    "    def __init__(self):\n",
    "        super().__init__()  # Calls Parent's constructor\n",
    "        print(\"Child Constructor\")\n",
    "\n",
    "c = Child()"
   ]
  },
  {
   "cell_type": "code",
   "execution_count": 168,
   "id": "ed47e847-8c8d-4eda-a441-2274f2c205da",
   "metadata": {},
   "outputs": [
    {
     "name": "stdout",
     "output_type": "stream",
     "text": [
      "Dog barks\n",
      "Cat meows\n"
     ]
    }
   ],
   "source": [
    "#### 7. Create a Python class called `Animal` with a method `speak()`. Then, create child classes `Dog` and `Cat` that inherit from `Animal` and override the `speak()` method. Provide an example of using these classes.\n",
    "\n",
    "class Animal:\n",
    "    def speak(self):\n",
    "        print(\"Animal speaks\")\n",
    "\n",
    "class Dog(Animal):\n",
    "    def speak(self):\n",
    "        print(\"Dog barks\")\n",
    "\n",
    "class Cat(Animal):\n",
    "    def speak(self):\n",
    "        print(\"Cat meows\")\n",
    "\n",
    "dog = Dog()\n",
    "cat = Cat()\n",
    "dog.speak()\n",
    "cat.speak()"
   ]
  },
  {
   "cell_type": "code",
   "execution_count": 169,
   "id": "54f332bc-f926-4f25-8970-455f637a6a02",
   "metadata": {},
   "outputs": [
    {
     "name": "stdout",
     "output_type": "stream",
     "text": [
      "True\n",
      "True\n"
     ]
    }
   ],
   "source": [
    "#### 8. Explain the role of the `isinstance()` function in Python and how it relates to inheritance.\n",
    "\n",
    "'''\n",
    "a. The isinstance() function checks if an object is an instance or subclass of a specified class or a tuple of classes. \n",
    "b. It helps in type checking, especially with inheritance.\n",
    "'''\n",
    "\n",
    "class Animal:\n",
    "    pass\n",
    "\n",
    "class Dog(Animal):\n",
    "    pass\n",
    "\n",
    "d = Dog()\n",
    "print(isinstance(d, Dog))\n",
    "print(isinstance(d, Animal))"
   ]
  },
  {
   "cell_type": "code",
   "execution_count": 170,
   "id": "c175330c-29c6-4fa5-b56e-c234000065e3",
   "metadata": {},
   "outputs": [
    {
     "name": "stdout",
     "output_type": "stream",
     "text": [
      "True\n",
      "True\n"
     ]
    }
   ],
   "source": [
    "#### 9. What is the purpose of the `issubclass()` function in Python? Provide an example.\n",
    "\n",
    "'''\n",
    "a. The issubclass() function checks if a class is a subclass of another class or a tuple of classes.\n",
    "'''\n",
    "\n",
    "class Animal:\n",
    "    pass\n",
    "\n",
    "class Dog(Animal):\n",
    "    pass\n",
    "\n",
    "print(issubclass(Dog, Animal))\n",
    "print(issubclass(Dog, object))"
   ]
  },
  {
   "cell_type": "code",
   "execution_count": 171,
   "id": "6bc348ac-a91e-44e4-adc9-0cfe608cb93b",
   "metadata": {},
   "outputs": [
    {
     "name": "stdout",
     "output_type": "stream",
     "text": [
      "10\n",
      "extra\n"
     ]
    }
   ],
   "source": [
    "#### 10. Discuss the concept of constructor inheritance in Python. How are constructors inherited in child classes?\n",
    "\n",
    "'''\n",
    "a. In Python, constructors are not automatically inherited. \n",
    "However, a child class can call the parent class's constructor using super().\n",
    "'''\n",
    "\n",
    "class Parent:\n",
    "    def __init__(self, value):\n",
    "        self.value = value\n",
    "\n",
    "class Child(Parent):\n",
    "    def __init__(self, value, extra):\n",
    "        super().__init__(value)\n",
    "        self.extra = extra\n",
    "\n",
    "c = Child(10, \"extra\")\n",
    "print(c.value)\n",
    "print(c.extra)"
   ]
  },
  {
   "cell_type": "code",
   "execution_count": 172,
   "id": "620d5f1b-fdc7-4592-bc9b-4b090e14e5a3",
   "metadata": {},
   "outputs": [
    {
     "name": "stdout",
     "output_type": "stream",
     "text": [
      "78.53981633974483\n",
      "24\n"
     ]
    }
   ],
   "source": [
    "#### 11. Create a Python class called `Shape` with a method `area()` that calculates the area of a shape. Then, create child classes `Circle` and `Rectangle` that inherit from `Shape` and implement the `area()` method accordingly. Provide an example.\n",
    "\n",
    "import math\n",
    "\n",
    "class Shape:\n",
    "    def area(self):\n",
    "        raise NotImplementedError(\"Subclass must implement abstract method\")\n",
    "\n",
    "class Circle(Shape):\n",
    "    def __init__(self, radius):\n",
    "        self.radius = radius\n",
    "\n",
    "    def area(self):\n",
    "        return math.pi * (self.radius ** 2)\n",
    "\n",
    "class Rectangle(Shape):\n",
    "    def __init__(self, width, height):\n",
    "        self.width = width\n",
    "        self.height = height\n",
    "\n",
    "    def area(self):\n",
    "        return self.width * self.height\n",
    "\n",
    "circle = Circle(5)\n",
    "rectangle = Rectangle(4, 6)\n",
    "print(circle.area())\n",
    "print(rectangle.area())"
   ]
  },
  {
   "cell_type": "code",
   "execution_count": 173,
   "id": "486e67f0-d7a9-4689-9b7b-c824536c1425",
   "metadata": {},
   "outputs": [
    {
     "name": "stdout",
     "output_type": "stream",
     "text": [
      "78.53981633974483\n"
     ]
    }
   ],
   "source": [
    "#### 12. Explain the use of abstract base classes (ABCs) in Python and how they relate to inheritance. Provide an example using the `abc` module.\n",
    "\n",
    "'''\n",
    "a. Abstract Base Classes (ABCs) define methods that must be implemented by any subclass. \n",
    "b. They help ensure that certain methods are implemented in derived classes.\n",
    "'''\n",
    "\n",
    "from abc import ABC, abstractmethod\n",
    "\n",
    "class Shape(ABC):\n",
    "    @abstractmethod\n",
    "    def area(self):\n",
    "        pass\n",
    "\n",
    "class Circle(Shape):\n",
    "    def __init__(self, radius):\n",
    "        self.radius = radius\n",
    "\n",
    "    def area(self):\n",
    "        return math.pi * (self.radius ** 2)\n",
    "\n",
    "c = Circle(5)\n",
    "print(c.area())"
   ]
  },
  {
   "cell_type": "code",
   "execution_count": 174,
   "id": "927d69ee-fb9f-4f6d-842e-dfd5d0824d59",
   "metadata": {},
   "outputs": [
    {
     "name": "stdout",
     "output_type": "stream",
     "text": [
      "Do not modify\n"
     ]
    }
   ],
   "source": [
    "#### 13. How can you prevent a child class from modifying certain attributes or methods inherited from a parent class in Python?\n",
    "\n",
    "''' \n",
    "a. We can use naming conventions like prefixing attributes or methods with an underscore _ to suggest that they should not be modified.\n",
    "b. Python does not enforce access control strictly but relies on convention and documentation.\n",
    "'''\n",
    "\n",
    "class Parent:\n",
    "    def __init__(self):\n",
    "        self._private_attr = \"Do not modify\"\n",
    "\n",
    "class Child(Parent):\n",
    "    def change_attr(self):\n",
    "        self._private_attr = \"Modified\"\n",
    "\n",
    "c = Child()\n",
    "print(c._private_attr)"
   ]
  },
  {
   "cell_type": "code",
   "execution_count": 175,
   "id": "22afae96-e496-4325-aa82-819394d3c56f",
   "metadata": {},
   "outputs": [
    {
     "name": "stdout",
     "output_type": "stream",
     "text": [
      "Alice\n",
      "80000\n",
      "HR\n"
     ]
    }
   ],
   "source": [
    "#### 14. Create a Python class called `Employee` with attributes `name` and `salary`. Then, create a child class `Manager` that inherits from `Employee` and adds an attribute `department`. Provide an example.\n",
    "\n",
    "class Employee:\n",
    "    def __init__(self, name, salary):\n",
    "        self.name = name\n",
    "        self.salary = salary\n",
    "\n",
    "class Manager(Employee):\n",
    "    def __init__(self, name, salary, department):\n",
    "        super().__init__(name, salary)\n",
    "        self.department = department\n",
    "\n",
    "# Example usage\n",
    "manager = Manager(\"Alice\", 80000, \"HR\")\n",
    "print(manager.name)        \n",
    "print(manager.salary)     \n",
    "print(manager.department)"
   ]
  },
  {
   "cell_type": "code",
   "execution_count": 176,
   "id": "6a7fbde4-5d33-4ee5-b033-0bc490100a24",
   "metadata": {},
   "outputs": [
    {
     "data": {
      "text/plain": [
       "'\\na. Method overloading refers to having multiple methods with the same name but different signatures (number/types of parameters). \\nb. Python does not support traditional method overloading; however, you can achieve similar functionality by default arguments or variable arguments. \\nc. Method overriding is when a subclass provides a specific implementation of a method defined in its parent class.\\n'"
      ]
     },
     "execution_count": 176,
     "metadata": {},
     "output_type": "execute_result"
    }
   ],
   "source": [
    "#### 15. Discuss the concept of method overloading in Python inheritance. How does it differ from method overriding?\n",
    "\n",
    "'''\n",
    "a. Method overloading refers to having multiple methods with the same name but different signatures (number/types of parameters). \n",
    "b. Python does not support traditional method overloading; however, you can achieve similar functionality by default arguments or variable arguments. \n",
    "c. Method overriding is when a subclass provides a specific implementation of a method defined in its parent class.\n",
    "'''"
   ]
  },
  {
   "cell_type": "code",
   "execution_count": 177,
   "id": "12756223-0317-431c-91f8-10973f4b9c59",
   "metadata": {},
   "outputs": [
    {
     "name": "stdout",
     "output_type": "stream",
     "text": [
      "Alice\n",
      "30\n"
     ]
    }
   ],
   "source": [
    "#### 16. Explain the purpose of the `__init__()` method in Python inheritance and how it is utilized in child classes.\n",
    "\n",
    "'''\n",
    "a. The __init__() method is the constructor used to initialize an object's attributes. \n",
    "b. In inheritance, the __init__() method of the parent class can be called using super() to initialize inherited attributes in the child class.\n",
    "'''\n",
    "\n",
    "class Parent:\n",
    "    def __init__(self, name):\n",
    "        self.name = name\n",
    "\n",
    "class Child(Parent):\n",
    "    def __init__(self, name, age):\n",
    "        super().__init__(name)\n",
    "        self.age = age\n",
    "\n",
    "# Example usage\n",
    "child = Child(\"Alice\", 30)\n",
    "print(child.name)  \n",
    "print(child.age)   "
   ]
  },
  {
   "cell_type": "code",
   "execution_count": 178,
   "id": "45651c6c-c66f-4e4e-833f-fe5d689f731c",
   "metadata": {},
   "outputs": [
    {
     "name": "stdout",
     "output_type": "stream",
     "text": [
      "Eagle soars high\n",
      "Sparrow flutters around\n"
     ]
    }
   ],
   "source": [
    "#### 17. Create a Python class called `Bird` with a method `fly()`. Then, create child classes `Eagle` and `Sparrow` that inherit from `Bird` and implement the `fly()` method differently. Provide an example of using these classes.\n",
    "\n",
    "class Bird:\n",
    "    def fly(self):\n",
    "        pass\n",
    "\n",
    "class Eagle(Bird):\n",
    "    def fly(self):\n",
    "        print(\"Eagle soars high\")\n",
    "\n",
    "class Sparrow(Bird):\n",
    "    def fly(self):\n",
    "        print(\"Sparrow flutters around\")\n",
    "\n",
    "# Example usage\n",
    "eagle = Eagle()\n",
    "sparrow = Sparrow()\n",
    "eagle.fly()   \n",
    "sparrow.fly() "
   ]
  },
  {
   "cell_type": "code",
   "execution_count": 179,
   "id": "b891e19f-7ef8-41ad-a781-b5299082fc34",
   "metadata": {},
   "outputs": [
    {
     "name": "stdout",
     "output_type": "stream",
     "text": [
      "Hello from B\n"
     ]
    }
   ],
   "source": [
    "#### 18. What is the \"diamond problem\" in multiple inheritance, and how does Python address it?\n",
    "\n",
    "'''\n",
    "a. The diamond problem occurs when a class inherits from two classes that both inherit from a common base class, leading to ambiguity in which path to follow for inherited methods. \n",
    "b. Python addresses this problem using the C3 linearization algorithm, which provides a consistent method resolution order (MRO).\n",
    "'''\n",
    "\n",
    "class A:\n",
    "    def greet(self):\n",
    "        print(\"Hello from A\")\n",
    "\n",
    "class B(A):\n",
    "    def greet(self):\n",
    "        print(\"Hello from B\")\n",
    "\n",
    "class C(A):\n",
    "    def greet(self):\n",
    "        print(\"Hello from C\")\n",
    "\n",
    "class D(B, C):\n",
    "    pass\n",
    "\n",
    "# Example usage\n",
    "d = D()\n",
    "d.greet()"
   ]
  },
  {
   "cell_type": "code",
   "execution_count": 180,
   "id": "d98813e0-f490-41ab-a39b-2b5c0195fc98",
   "metadata": {},
   "outputs": [],
   "source": [
    "#### 19. Discuss the concept of \"is-a\" and \"has-a\" relationships in inheritance, and provide examples of each.\n",
    "\n",
    "'''\n",
    "a. \"Is-a\" Relationship: Represents inheritance, where a subclass is a type of the superclass.\n",
    "'''\n",
    "\n",
    "#### Example:\n",
    "class Animal:\n",
    "    pass\n",
    "\n",
    "class Dog(Animal):\n",
    "    pass\n",
    "# Dog \"is a\" Animal\n",
    "\n",
    "'''\n",
    "b. \"Has-a\" Relationship: Represents composition, where a class contains instances of other classes.\n",
    "'''\n",
    "\n",
    "class Engine:\n",
    "    pass\n",
    "\n",
    "class Car:\n",
    "    def __init__(self, engine):\n",
    "        self.engine = engine\n",
    "# Car \"has a\" Engine"
   ]
  },
  {
   "cell_type": "code",
   "execution_count": 181,
   "id": "e8755028-f03c-4e40-8aa8-4c420690c000",
   "metadata": {},
   "outputs": [
    {
     "name": "stdout",
     "output_type": "stream",
     "text": [
      "Alice is studying\n",
      "Dr. Smith is teaching\n"
     ]
    }
   ],
   "source": [
    "#### 20. Create a Python class hierarchy for a university system. Start with a base class `Person` and create child classes `Student` and `Professor`, each with their own attributes and methods. Provide an example of using these classes in a university context.\n",
    "\n",
    "class Person:\n",
    "    def __init__(self, name, age):\n",
    "        self.name = name\n",
    "        self.age = age\n",
    "\n",
    "class Student(Person):\n",
    "    def __init__(self, name, age, student_id):\n",
    "        super().__init__(name, age)\n",
    "        self.student_id = student_id\n",
    "\n",
    "    def study(self):\n",
    "        print(f\"{self.name} is studying\")\n",
    "\n",
    "class Professor(Person):\n",
    "    def __init__(self, name, age, employee_id):\n",
    "        super().__init__(name, age)\n",
    "        self.employee_id = employee_id\n",
    "\n",
    "    def teach(self):\n",
    "        print(f\"{self.name} is teaching\")\n",
    "\n",
    "# Example usage\n",
    "student = Student(\"Alice\", 20, \"S123\")\n",
    "professor = Professor(\"Dr. Smith\", 45, \"P456\")\n",
    "\n",
    "student.study()  \n",
    "professor.teach() "
   ]
  },
  {
   "cell_type": "code",
   "execution_count": 182,
   "id": "20fe87f0-0143-4a2e-a227-c8f3023b672b",
   "metadata": {},
   "outputs": [
    {
     "data": {
      "text/plain": [
       "'\\na. It is a fundamental concept in object-oriented programming (OOP) that involves bundling data (attributes) and methods (functions) that operate on the data into a single unit, or class. \\nb. It helps in hiding the internal state of an object from the outside world and only exposes necessary parts of the object. \\nc. This promotes a clear interface and prevents unintended interference, enhancing code modularity and maintainability.\\n'"
      ]
     },
     "execution_count": 182,
     "metadata": {},
     "output_type": "execute_result"
    }
   ],
   "source": [
    "#### Encapsulation:\n",
    "\n",
    "#### 1. Explain the concept of encapsulation in Python. What is its role in object-oriented programming?\n",
    "\n",
    "'''\n",
    "a. It is a fundamental concept in object-oriented programming (OOP) that involves bundling data (attributes) and methods (functions) that operate on the data into a single unit, or class. \n",
    "b. It helps in hiding the internal state of an object from the outside world and only exposes necessary parts of the object. \n",
    "c. This promotes a clear interface and prevents unintended interference, enhancing code modularity and maintainability.\n",
    "'''"
   ]
  },
  {
   "cell_type": "code",
   "execution_count": 183,
   "id": "71407750-5a04-46b0-85ee-5b2b8fb65a03",
   "metadata": {},
   "outputs": [
    {
     "data": {
      "text/plain": [
       "'\\na. Access Control: \\n   - Defines the visibility of class attributes and methods. \\n   - It controls how they can be accessed or modified from outside the class. \\n   - This is achieved using access modifiers.\\n\\nb. Data Hiding: \\n   - Refers to the practice of keeping internal object details private and only exposing a controlled interface. \\n   - This ensures that internal implementation details are hidden from outside access.\\n'"
      ]
     },
     "execution_count": 183,
     "metadata": {},
     "output_type": "execute_result"
    }
   ],
   "source": [
    "#### 2. Describe the key principles of encapsulation, including access control and data hiding.\n",
    "\n",
    "'''\n",
    "a. Access Control: \n",
    "   - Defines the visibility of class attributes and methods. \n",
    "   - It controls how they can be accessed or modified from outside the class. \n",
    "   - This is achieved using access modifiers.\n",
    "\n",
    "b. Data Hiding: \n",
    "   - Refers to the practice of keeping internal object details private and only exposing a controlled interface. \n",
    "   - This ensures that internal implementation details are hidden from outside access.\n",
    "'''"
   ]
  },
  {
   "cell_type": "code",
   "execution_count": 184,
   "id": "33173301-705f-4ac9-bed1-b43880ed4750",
   "metadata": {},
   "outputs": [
    {
     "name": "stdout",
     "output_type": "stream",
     "text": [
      "Toyota\n",
      "120\n"
     ]
    }
   ],
   "source": [
    "#### 3. How can you achieve encapsulation in Python classes? Provide an example.\n",
    "\n",
    "'''\n",
    "a. Encapsulation in Python can be achieved using access modifiers and property decorators. \n",
    "b. By using private (prefix __) and protected (prefix _) attributes, you control access to the class data.\n",
    "'''\n",
    "\n",
    "class Car:\n",
    "    def __init__(self, brand, speed):\n",
    "        self.__brand = brand  # Private attribute\n",
    "        self.__speed = speed  # Private attribute\n",
    "\n",
    "    def get_brand(self):\n",
    "        return self.__brand\n",
    "\n",
    "    def set_brand(self, brand):\n",
    "        self.__brand = brand\n",
    "\n",
    "    def get_speed(self):\n",
    "        return self.__speed\n",
    "\n",
    "    def set_speed(self, speed):\n",
    "        self.__speed = speed\n",
    "\n",
    "# Example usage\n",
    "my_car = Car(\"Toyota\", 100)\n",
    "print(my_car.get_brand())  \n",
    "my_car.set_speed(120)\n",
    "print(my_car.get_speed())  "
   ]
  },
  {
   "cell_type": "code",
   "execution_count": 185,
   "id": "8c2bcdc6-9039-4098-a31f-fd7c3db0b726",
   "metadata": {},
   "outputs": [
    {
     "name": "stdout",
     "output_type": "stream",
     "text": [
      "I am public\n",
      "I am protected\n"
     ]
    }
   ],
   "source": [
    "#### 4. Discuss the difference between public, private, and protected access modifiers in Python.\n",
    "\n",
    "''' a. Public: \n",
    "    - Attributes and methods with no prefix (__) are public and can be accessed from outside the class.\n",
    "'''\n",
    "class Example:\n",
    "    def __init__(self):\n",
    "        self.public_attr = \"I am public\"\n",
    "\n",
    "obj = Example()\n",
    "print(obj.public_attr)  # Accessible\n",
    "\n",
    "''' b. Protected: \n",
    "    - Attributes and methods with a single underscore prefix (_) are intended to be protected. \n",
    "    - They are accessible from outside the class but are meant to be used only within the class and its subclasses. '''\n",
    "\n",
    "class Example:\n",
    "    def __init__(self):\n",
    "        self._protected_attr = \"I am protected\"\n",
    "\n",
    "obj = Example()\n",
    "print(obj._protected_attr)  # Accessible but not recommended\n",
    "\n",
    "''' c. Private: \n",
    "    - Attributes and methods with a double underscore prefix (__) are private and not directly accessible from outside the class. \n",
    "    - Python uses name mangling to make these harder to access.\n",
    "'''\n",
    "\n",
    "class Example:\n",
    "    def __init__(self):\n",
    "        self.__private_attr = \"I am private\"\n",
    "\n",
    "obj = Example()\n",
    "#print(obj.__private_attr)  # AttributeError: 'Example' object has no attribute '__private_attr'"
   ]
  },
  {
   "cell_type": "code",
   "execution_count": 186,
   "id": "0bdfe441-4f6c-4855-a10b-deb272de3380",
   "metadata": {},
   "outputs": [
    {
     "name": "stdout",
     "output_type": "stream",
     "text": [
      "Alice\n",
      "Bob\n"
     ]
    }
   ],
   "source": [
    "#### 5. Create a Python class called `Person` with a private attribute `__name`. Provide methods to get and set the name attribute.\n",
    "\n",
    "class Person:\n",
    "    def __init__(self, name):\n",
    "        self.__name = name\n",
    "\n",
    "    def get_name(self):\n",
    "        return self.__name\n",
    "\n",
    "    def set_name(self, name):\n",
    "        self.__name = name\n",
    "\n",
    "# Example usage\n",
    "person = Person(\"Alice\")\n",
    "print(person.get_name())\n",
    "person.set_name(\"Bob\")\n",
    "print(person.get_name())"
   ]
  },
  {
   "cell_type": "code",
   "execution_count": 187,
   "id": "dbc1002b-3aa3-4b9f-8609-b6aa1c279e8c",
   "metadata": {},
   "outputs": [
    {
     "name": "stdout",
     "output_type": "stream",
     "text": [
      "25\n",
      "30\n"
     ]
    }
   ],
   "source": [
    "#### 6. Explain the purpose of getter and setter methods in encapsulation. Provide examples.\n",
    "\n",
    "''' \n",
    "a. Getter and setter methods are used to access and modify private attributes of a class. \n",
    "b. They provide controlled access to the data, allowing validation and control over how attributes are accessed and changed.\n",
    "'''\n",
    "\n",
    "class Person:\n",
    "    def __init__(self, age):\n",
    "        self.__age = age\n",
    "\n",
    "    def get_age(self):\n",
    "        return self.__age\n",
    "\n",
    "    def set_age(self, age):\n",
    "        if age > 0:\n",
    "            self.__age = age\n",
    "        else:\n",
    "            print(\"Invalid age\")\n",
    "\n",
    "# Example usage\n",
    "person = Person(25)\n",
    "print(person.get_age())  \n",
    "person.set_age(30)\n",
    "print(person.get_age())  "
   ]
  },
  {
   "cell_type": "code",
   "execution_count": 188,
   "id": "5ed257de-5a79-4b3d-ac1c-7a137c293b06",
   "metadata": {},
   "outputs": [
    {
     "name": "stdout",
     "output_type": "stream",
     "text": [
      "Private\n"
     ]
    }
   ],
   "source": [
    "#### 7. What is name mangling in Python, and how does it affect encapsulation?\n",
    "\n",
    "'''\n",
    "a. Name mangling is a technique used by Python to alter the names of private attributes and methods to make them harder to access from outside the class. \n",
    "b. This involves adding a prefix to the attribute names based on the class name.\n",
    "'''\n",
    "\n",
    "class Example:\n",
    "    def __init__(self):\n",
    "        self.__private_attr = \"Private\"\n",
    "\n",
    "# Example usage\n",
    "obj = Example()\n",
    "print(obj._Example__private_attr)  # Private (accessing private attribute using name mangling)"
   ]
  },
  {
   "cell_type": "code",
   "execution_count": 189,
   "id": "86ff46fe-4fc0-496a-a007-bb370542f813",
   "metadata": {},
   "outputs": [
    {
     "name": "stdout",
     "output_type": "stream",
     "text": [
      "1300\n"
     ]
    }
   ],
   "source": [
    "#### 8. Create a Python class called `BankAccount` with private attributes for the account balance (`__balance`) and account number (`__account_number`). Provide methods for depositing and withdrawing money.\n",
    "\n",
    "class BankAccount:\n",
    "    def __init__(self, account_number, balance):\n",
    "        self.__account_number = account_number\n",
    "        self.__balance = balance\n",
    "\n",
    "    def deposit(self, amount):\n",
    "        if amount > 0:\n",
    "            self.__balance += amount\n",
    "        else:\n",
    "            print(\"Invalid deposit amount\")\n",
    "\n",
    "    def withdraw(self, amount):\n",
    "        if 0 < amount <= self.__balance:\n",
    "            self.__balance -= amount\n",
    "        else:\n",
    "            print(\"Invalid withdrawal amount or insufficient funds\")\n",
    "\n",
    "    def get_balance(self):\n",
    "        return self.__balance\n",
    "\n",
    "# Example usage\n",
    "account = BankAccount(\"123456789\", 1000)\n",
    "account.deposit(500)\n",
    "account.withdraw(200)\n",
    "print(account.get_balance()) "
   ]
  },
  {
   "cell_type": "code",
   "execution_count": 190,
   "id": "607bc1db-7cf2-43c5-b34c-21948b5d1f43",
   "metadata": {},
   "outputs": [
    {
     "data": {
      "text/plain": [
       "'\\nA. Encapsulation improves code maintainability by:\\n   - Controlling Access: It limits direct access to data, making it easier to modify and manage internal implementation without affecting external code.\\n   - Modularity: It helps in creating self-contained units, making the codebase more organized and easier to understand.\\n   - Encapsulation of Changes: It allows changes to be made to the internal workings of a class without changing the interface or affecting code that uses the class.\\n\\nB. In terms of security, encapsulation protects the internal state of an object from unintended modification, which helps in maintaining the integrity of data.\\n'"
      ]
     },
     "execution_count": 190,
     "metadata": {},
     "output_type": "execute_result"
    }
   ],
   "source": [
    "#### 9. Discuss the advantages of encapsulation in terms of code maintainability and security.\n",
    "\n",
    "'''\n",
    "A. Encapsulation improves code maintainability by:\n",
    "   - Controlling Access: It limits direct access to data, making it easier to modify and manage internal implementation without affecting external code.\n",
    "   - Modularity: It helps in creating self-contained units, making the codebase more organized and easier to understand.\n",
    "   - Encapsulation of Changes: It allows changes to be made to the internal workings of a class without changing the interface or affecting code that uses the class.\n",
    "\n",
    "B. In terms of security, encapsulation protects the internal state of an object from unintended modification, which helps in maintaining the integrity of data.\n",
    "'''"
   ]
  },
  {
   "cell_type": "code",
   "execution_count": 191,
   "id": "5361c06b-88b2-463a-8f7f-8850e8142689",
   "metadata": {},
   "outputs": [
    {
     "name": "stdout",
     "output_type": "stream",
     "text": [
      "Private\n"
     ]
    }
   ],
   "source": [
    "#### 10. How can you access private attributes in Python? Provide an example demonstrating the use of name mangling.\n",
    "\n",
    "'''\n",
    "- Private attributes can be accessed using name mangling, where you prepend the class name to the attribute name. \n",
    "- However, this is generally discouraged as it breaks encapsulation.\n",
    "'''\n",
    "\n",
    "class Example:\n",
    "    def __init__(self):\n",
    "        self.__private_attr = \"Private\"\n",
    "\n",
    "# Example usage\n",
    "obj = Example()\n",
    "print(obj._Example__private_attr)  # Private (accessing private attribute using name mangling)"
   ]
  },
  {
   "cell_type": "code",
   "execution_count": 192,
   "id": "cccf0237-7901-43a5-ac80-fabea698ad06",
   "metadata": {},
   "outputs": [
    {
     "name": "stdout",
     "output_type": "stream",
     "text": [
      "Alice\n",
      "T456\n",
      "Mathematics\n"
     ]
    }
   ],
   "source": [
    "#### 11. Create a Python class hierarchy for a school system, including classes for students, teachers, and courses, and implement encapsulation principles to protect sensitive information.\n",
    "\n",
    "class Course:\n",
    "    def __init__(self, course_name):\n",
    "        self.__course_name = course_name\n",
    "\n",
    "    def get_course_name(self):\n",
    "        return self.__course_name\n",
    "\n",
    "class Person:\n",
    "    def __init__(self, name):\n",
    "        self.__name = name\n",
    "\n",
    "    def get_name(self):\n",
    "        return self.__name\n",
    "\n",
    "class Student(Person):\n",
    "    def __init__(self, name, student_id):\n",
    "        super().__init__(name)\n",
    "        self.__student_id = student_id\n",
    "\n",
    "    def get_student_id(self):\n",
    "        return self.__student_id\n",
    "\n",
    "class Teacher(Person):\n",
    "    def __init__(self, name, employee_id):\n",
    "        super().__init__(name)\n",
    "        self.__employee_id = employee_id\n",
    "\n",
    "    def get_employee_id(self):\n",
    "        return self.__employee_id\n",
    "\n",
    "# Example usage\n",
    "course = Course(\"Mathematics\")\n",
    "student = Student(\"Alice\", \"S123\")\n",
    "teacher = Teacher(\"Dr. Smith\", \"T456\")\n",
    "\n",
    "print(student.get_name())  \n",
    "print(teacher.get_employee_id()) \n",
    "print(course.get_course_name())  "
   ]
  },
  {
   "cell_type": "code",
   "execution_count": 193,
   "id": "6f1f639f-ae1b-436b-b79e-2de1570af51f",
   "metadata": {},
   "outputs": [
    {
     "name": "stdout",
     "output_type": "stream",
     "text": [
      "25\n",
      "30\n"
     ]
    }
   ],
   "source": [
    "#### 12. Explain the concept of property decorators in Python and how they relate to encapsulation.\n",
    "\n",
    "'''\n",
    "A. Property decorators (@property) are used to define methods in a class that can be accessed like attributes. \n",
    "B. They provide a way to define getters, setters, and deleters for encapsulated attributes.\n",
    "'''\n",
    "\n",
    "class Person:\n",
    "    def __init__(self, age):\n",
    "        self.__age = age\n",
    "\n",
    "    @property\n",
    "    def age(self):\n",
    "        return self.__age\n",
    "\n",
    "    @age.setter\n",
    "    def age(self, value):\n",
    "        if value > 0:\n",
    "            self.__age = value\n",
    "        else:\n",
    "            print(\"Invalid age\")\n",
    "\n",
    "# Example usage\n",
    "person = Person(25)\n",
    "print(person.age)  \n",
    "person.age = 30\n",
    "print(person.age)  "
   ]
  },
  {
   "cell_type": "code",
   "execution_count": 194,
   "id": "6b4f2971-c40f-4303-9938-492aa3d12b27",
   "metadata": {},
   "outputs": [
    {
     "name": "stdout",
     "output_type": "stream",
     "text": [
      "1500\n"
     ]
    }
   ],
   "source": [
    "#### 13. What is data hiding, and why is it important in encapsulation? Provide examples.\n",
    "\n",
    "'''\n",
    "A. Data hiding is the practice of restricting access to certain details of an object to prevent them from being modified or accessed directly from outside the class. \n",
    "B. It is important because it ensures that the internal state of an object remains consistent and valid, protecting the integrity of data.\n",
    "'''\n",
    "\n",
    "class Account:\n",
    "    def __init__(self, balance):\n",
    "        self.__balance = balance\n",
    "\n",
    "    def deposit(self, amount):\n",
    "        if amount > 0:\n",
    "            self.__balance += amount\n",
    "\n",
    "    def get_balance(self):\n",
    "        return self.__balance\n",
    "\n",
    "# Example usage\n",
    "account = Account(1000)\n",
    "account.deposit(500)\n",
    "print(account.get_balance())"
   ]
  },
  {
   "cell_type": "code",
   "execution_count": 195,
   "id": "a4d1559c-af98-40ca-946f-c21876639a4b",
   "metadata": {},
   "outputs": [
    {
     "name": "stdout",
     "output_type": "stream",
     "text": [
      "5000.0\n"
     ]
    }
   ],
   "source": [
    "#### 14. Create a Python class called `Employee` with private attributes for salary (`__salary`) and employee ID (`__employee_id`). Provide a method to calculate yearly bonuses.\n",
    "\n",
    "class Employee:\n",
    "    def __init__(self, employee_id, salary):\n",
    "        self.__employee_id = employee_id\n",
    "        self.__salary = salary\n",
    "\n",
    "    def calculate_bonus(self, percentage):\n",
    "        return self.__salary * (percentage / 100)\n",
    "\n",
    "# Example usage\n",
    "emp = Employee(\"E001\", 50000)\n",
    "bonus = emp.calculate_bonus(10)\n",
    "print(bonus)"
   ]
  },
  {
   "cell_type": "code",
   "execution_count": 196,
   "id": "18064b8a-e9e6-4f14-9b78-8bbbb51bc399",
   "metadata": {},
   "outputs": [
    {
     "name": "stdout",
     "output_type": "stream",
     "text": [
      "25\n",
      "30\n"
     ]
    }
   ],
   "source": [
    "#### 15. Discuss the use of accessors and mutators in encapsulation. How do they help maintain control over attribute access?\n",
    "\n",
    "'''\n",
    "A. Accessors (getters) and mutators (setters) are methods used to retrieve and update private attributes, respectively. \n",
    "B. They allow you to enforce rules or validation before modifying or accessing data, thereby maintaining control over attribute access.\n",
    "'''\n",
    "\n",
    "class Person:\n",
    "    def __init__(self, age):\n",
    "        self.__age = age\n",
    "\n",
    "    def get_age(self):\n",
    "        return self.__age\n",
    "\n",
    "    def set_age(self, age):\n",
    "        if age > 0:\n",
    "            self.__age = age\n",
    "        else:\n",
    "            print(\"Invalid age\")\n",
    "\n",
    "# Example usage\n",
    "person = Person(25)\n",
    "print(person.get_age())  \n",
    "person.set_age(30)\n",
    "print(person.get_age())  "
   ]
  },
  {
   "cell_type": "code",
   "execution_count": 197,
   "id": "ec523b17-d624-44ee-ad02-c9d4e3d6fe50",
   "metadata": {},
   "outputs": [
    {
     "data": {
      "text/plain": [
       "'\\nA. Increased Complexity: Encapsulation can add complexity to code by introducing additional methods (getters and setters).\\nB. Performance Overhead: The use of property decorators and additional method calls may introduce slight performance overhead.\\nC. Limited Flexibility: Sometimes, strict encapsulation can make it harder to extend or modify classes if not done thoughtfully.\\n'"
      ]
     },
     "execution_count": 197,
     "metadata": {},
     "output_type": "execute_result"
    }
   ],
   "source": [
    "#### 16. What are the potential drawbacks or disadvantages of using encapsulation in Python?\n",
    "\n",
    "'''\n",
    "A. Increased Complexity: Encapsulation can add complexity to code by introducing additional methods (getters and setters).\n",
    "B. Performance Overhead: The use of property decorators and additional method calls may introduce slight performance overhead.\n",
    "C. Limited Flexibility: Sometimes, strict encapsulation can make it harder to extend or modify classes if not done thoughtfully.\n",
    "'''"
   ]
  },
  {
   "cell_type": "code",
   "execution_count": 198,
   "id": "3b3a704c-1df0-4092-8ed1-4ff5a77a48ef",
   "metadata": {},
   "outputs": [
    {
     "name": "stdout",
     "output_type": "stream",
     "text": [
      "1984\n",
      "True\n",
      "False\n",
      "True\n"
     ]
    }
   ],
   "source": [
    "#### 17. Create a Python class for a library system that encapsulates book information, including titles, authors, and availability status.\n",
    "\n",
    "class Book:\n",
    "    def __init__(self, title, author):\n",
    "        self.__title = title\n",
    "        self.__author = author\n",
    "        self.__availability = True\n",
    "\n",
    "    def get_title(self):\n",
    "        return self.__title\n",
    "\n",
    "    def get_author(self):\n",
    "        return self.__author\n",
    "\n",
    "    def is_available(self):\n",
    "        return self.__availability\n",
    "\n",
    "    def check_out(self):\n",
    "        if self.__availability:\n",
    "            self.__availability = False\n",
    "        else:\n",
    "            print(\"Book is already checked out\")\n",
    "\n",
    "    def return_book(self):\n",
    "        self.__availability = True\n",
    "\n",
    "# Example usage\n",
    "book = Book(\"1984\", \"George Orwell\")\n",
    "print(book.get_title())  \n",
    "print(book.is_available())  \n",
    "book.check_out()\n",
    "print(book.is_available())  \n",
    "book.return_book()\n",
    "print(book.is_available())  "
   ]
  },
  {
   "cell_type": "code",
   "execution_count": 199,
   "id": "710aa073-5a57-4922-a2f9-69bbaa21eb8e",
   "metadata": {},
   "outputs": [
    {
     "data": {
      "text/plain": [
       "'\\nA. Encapsulation enhances code reusability and modularity by:\\n   - Modular Design: Classes encapsulate data and behavior, creating self-contained modules that can be easily reused across different parts of a program.\\n   - Controlled Access: It allows you to expose only necessary parts of an interface, promoting reuse while hiding complex implementation details.\\n   - Ease of Maintenance: Encapsulation enables changes to be made to a class’s internal implementation without affecting other parts of the program that use the class.\\n'"
      ]
     },
     "execution_count": 199,
     "metadata": {},
     "output_type": "execute_result"
    }
   ],
   "source": [
    "#### 18. Explain how encapsulation enhances code reusability and modularity in Python programs.\n",
    "\n",
    "'''\n",
    "A. Encapsulation enhances code reusability and modularity by:\n",
    "   - Modular Design: Classes encapsulate data and behavior, creating self-contained modules that can be easily reused across different parts of a program.\n",
    "   - Controlled Access: It allows you to expose only necessary parts of an interface, promoting reuse while hiding complex implementation details.\n",
    "   - Ease of Maintenance: Encapsulation enables changes to be made to a class’s internal implementation without affecting other parts of the program that use the class.\n",
    "'''"
   ]
  },
  {
   "cell_type": "code",
   "execution_count": 200,
   "id": "eb9693ae-ddf7-40d5-8b65-f82dd4e19b53",
   "metadata": {},
   "outputs": [
    {
     "data": {
      "text/plain": [
       "'\\nInformation hiding is the practice of concealing the internal workings of a class and exposing only the necessary parts of the interface. \\nIt is essential because:\\n    - Reduces Complexity: By hiding details, you simplify the interface and make it easier for users to interact with the class.\\n    - Enhances Security: Protects data integrity and ensures that internal state is not modified directly inappropriately.\\n    - Facilitates Change: Allows internal changes without affecting other parts of the code that rely on the class.\\n'"
      ]
     },
     "execution_count": 200,
     "metadata": {},
     "output_type": "execute_result"
    }
   ],
   "source": [
    "#### 19. Describe the concept of information hiding in encapsulation. Why is it essential in software development?\n",
    "\n",
    "'''\n",
    "Information hiding is the practice of concealing the internal workings of a class and exposing only the necessary parts of the interface. \n",
    "It is essential because:\n",
    "    - Reduces Complexity: By hiding details, you simplify the interface and make it easier for users to interact with the class.\n",
    "    - Enhances Security: Protects data integrity and ensures that internal state is not modified directly inappropriately.\n",
    "    - Facilitates Change: Allows internal changes without affecting other parts of the code that rely on the class.\n",
    "'''"
   ]
  },
  {
   "cell_type": "code",
   "execution_count": 201,
   "id": "d16cd0b6-a9f4-494c-97c8-52fe0fb0418b",
   "metadata": {},
   "outputs": [
    {
     "name": "stdout",
     "output_type": "stream",
     "text": [
      "John Doe\n",
      "456 Oak Avenue\n"
     ]
    }
   ],
   "source": [
    "#### 20. Create a Python class called `Customer` with private attributes for customer details like name, address, and contact information. Implement encapsulation to ensure data integrity and security.\n",
    "\n",
    "class Customer:\n",
    "    def __init__(self, name, address, contact_info):\n",
    "        self.__name = name\n",
    "        self.__address = address\n",
    "        self.__contact_info = contact_info\n",
    "\n",
    "    def get_name(self):\n",
    "        return self.__name\n",
    "\n",
    "    def set_name(self, name):\n",
    "        self.__name = name\n",
    "\n",
    "    def get_address(self):\n",
    "        return self.__address\n",
    "\n",
    "    def set_address(self, address):\n",
    "        self.__address = address\n",
    "\n",
    "    def get_contact_info(self):\n",
    "        return self.__contact_info\n",
    "\n",
    "    def set_contact_info(self, contact_info):\n",
    "        self.__contact_info = contact_info\n",
    "\n",
    "# Example usage\n",
    "customer = Customer(\"John Doe\", \"123 Elm Street\", \"555-1234\")\n",
    "print(customer.get_name())  \n",
    "customer.set_address(\"456 Oak Avenue\")\n",
    "print(customer.get_address())  "
   ]
  },
  {
   "cell_type": "code",
   "execution_count": 202,
   "id": "575b6a5f-9adf-41c1-903e-c66391c63d44",
   "metadata": {},
   "outputs": [
    {
     "data": {
      "text/plain": [
       "'\\nA. Polymorphism is a concept in object-oriented programming (OOP) where different classes can be treated as instances of the same class through a common interface. \\nB. The specific method that gets called is determined at runtime based on the object’s class. \\nC. It allows objects of different classes to be used interchangeably if they implement the same methods, enhancing flexibility and scalability in code.\\n'"
      ]
     },
     "execution_count": 202,
     "metadata": {},
     "output_type": "execute_result"
    }
   ],
   "source": [
    "#### Polymorphism:\n",
    "\n",
    "#### 1. What is polymorphism in Python? Explain how it is related to object-oriented programming.\n",
    "\n",
    "'''\n",
    "A. Polymorphism is a concept in object-oriented programming (OOP) where different classes can be treated as instances of the same class through a common interface. \n",
    "B. The specific method that gets called is determined at runtime based on the object’s class. \n",
    "C. It allows objects of different classes to be used interchangeably if they implement the same methods, enhancing flexibility and scalability in code.\n",
    "'''"
   ]
  },
  {
   "cell_type": "code",
   "execution_count": 203,
   "id": "65273330-5f3a-46c4-9a34-10b967badc6e",
   "metadata": {},
   "outputs": [
    {
     "data": {
      "text/plain": [
       "\"\\nA. Compile-time Polymorphism: \\n    - This type is not supported in Python as Python does not support method overloading (defining multiple methods with the same name but different signatures) at compile time.\\n\\nB. Runtime Polymorphism: \\n    - This is supported in Python and is achieved through method overriding. It allows methods in subclasses to have different implementations while sharing the same method name, with the appropriate method being called based on the object's runtime type.\\n\""
      ]
     },
     "execution_count": 203,
     "metadata": {},
     "output_type": "execute_result"
    }
   ],
   "source": [
    "#### 2. Describe the difference between compile-time polymorphism and runtime polymorphism in Python.\n",
    "\n",
    "'''\n",
    "A. Compile-time Polymorphism: \n",
    "    - This type is not supported in Python as Python does not support method overloading (defining multiple methods with the same name but different signatures) at compile time.\n",
    "\n",
    "B. Runtime Polymorphism: \n",
    "    - This is supported in Python and is achieved through method overriding. It allows methods in subclasses to have different implementations while sharing the same method name, with the appropriate method being called based on the object's runtime type.\n",
    "'''"
   ]
  },
  {
   "cell_type": "code",
   "execution_count": 204,
   "id": "c2bd8ad0-3fb9-4898-a592-9ab0041c34f9",
   "metadata": {},
   "outputs": [
    {
     "name": "stdout",
     "output_type": "stream",
     "text": [
      "Area: 78.5\n",
      "Area: 16\n",
      "Area: 9.0\n"
     ]
    }
   ],
   "source": [
    "#### 3. Create a Python class hierarchy for shapes (e.g., circle, square, triangle) and demonstrate polymorphism through a common method, such as `calculate_area()`.\n",
    "\n",
    "class Shape:\n",
    "    def calculate_area(self):\n",
    "        pass\n",
    "\n",
    "class Circle(Shape):\n",
    "    def __init__(self, radius):\n",
    "        self.radius = radius\n",
    "\n",
    "    def calculate_area(self):\n",
    "        return 3.14 * self.radius * self.radius\n",
    "\n",
    "class Square(Shape):\n",
    "    def __init__(self, side):\n",
    "        self.side = side\n",
    "\n",
    "    def calculate_area(self):\n",
    "        return self.side * self.side\n",
    "\n",
    "class Triangle(Shape):\n",
    "    def __init__(self, base, height):\n",
    "        self.base = base\n",
    "        self.height = height\n",
    "\n",
    "    def calculate_area(self):\n",
    "        return 0.5 * self.base * self.height\n",
    "\n",
    "# Example usage\n",
    "shapes = [Circle(5), Square(4), Triangle(3, 6)]\n",
    "\n",
    "for shape in shapes:\n",
    "    print(f\"Area: {shape.calculate_area()}\")"
   ]
  },
  {
   "cell_type": "code",
   "execution_count": 205,
   "id": "e381740c-6acb-43ea-86b7-2a9d1c4ad384",
   "metadata": {},
   "outputs": [
    {
     "name": "stdout",
     "output_type": "stream",
     "text": [
      "Hello from Parent\n",
      "Hello from Child\n"
     ]
    }
   ],
   "source": [
    "#### 4. Explain the concept of method overriding in polymorphism. Provide an example.\n",
    "\n",
    "'''\n",
    "A. Method overriding occurs when a subclass provides a specific implementation for a method that is already defined in its parent class. \n",
    "B. The subclass's method replaces the parent class's method for instances of the subclass.\n",
    "'''\n",
    "\n",
    "class Parent:\n",
    "    def greet(self):\n",
    "        print(\"Hello from Parent\")\n",
    "\n",
    "class Child(Parent):\n",
    "    def greet(self):\n",
    "        print(\"Hello from Child\")\n",
    "\n",
    "# Example usage\n",
    "p = Parent()\n",
    "c = Child()\n",
    "p.greet()  \n",
    "c.greet()  "
   ]
  },
  {
   "cell_type": "code",
   "execution_count": 206,
   "id": "de25e85b-6011-4fe1-9f18-e828b5462eb1",
   "metadata": {},
   "outputs": [
    {
     "name": "stdout",
     "output_type": "stream",
     "text": [
      "Woof\n",
      "Meow\n"
     ]
    }
   ],
   "source": [
    "#### 5. How is polymorphism different from method overloading in Python? Provide examples for both.\n",
    "\n",
    "'''\n",
    "A. Polymorphism: Achieved through method overriding where the same method name can have different implementations in different subclasses.\n",
    "'''\n",
    "\n",
    "class Animal:\n",
    "    def speak(self):\n",
    "        pass\n",
    "\n",
    "class Dog(Animal):\n",
    "    def speak(self):\n",
    "        return \"Woof\"\n",
    "\n",
    "class Cat(Animal):\n",
    "    def speak(self):\n",
    "        return \"Meow\"\n",
    "\n",
    "def make_animal_speak(animal):\n",
    "    print(animal.speak())\n",
    "\n",
    "# Example usage\n",
    "make_animal_speak(Dog())  \n",
    "make_animal_speak(Cat())  "
   ]
  },
  {
   "cell_type": "code",
   "execution_count": 207,
   "id": "92ed00f0-da3f-4c1e-a194-3d0ae504dff2",
   "metadata": {},
   "outputs": [
    {
     "name": "stdout",
     "output_type": "stream",
     "text": [
      "Hello\n",
      "Hello\n",
      "Hello\n",
      "Hello\n"
     ]
    }
   ],
   "source": [
    "'''\n",
    "B. Method Overloading: Python does not support method overloading natively, but you can use default arguments or variable-length arguments to achieve similar functionality.\n",
    "'''\n",
    "\n",
    "class Printer:\n",
    "    def print_message(self, message, times=1):\n",
    "        for _ in range(times):\n",
    "            print(message)\n",
    "\n",
    "# Example usage\n",
    "p = Printer()\n",
    "p.print_message(\"Hello\")        \n",
    "p.print_message(\"Hello\", 3)     "
   ]
  },
  {
   "cell_type": "code",
   "execution_count": 208,
   "id": "437ac042-4302-47bf-9716-7c0e4a184440",
   "metadata": {},
   "outputs": [
    {
     "name": "stdout",
     "output_type": "stream",
     "text": [
      "Woof\n",
      "Meow\n",
      "Chirp\n"
     ]
    }
   ],
   "source": [
    "#### 6. Create a Python class called `Animal` with a method `speak()`. Then, create child classes like `Dog`, `Cat`, and `Bird`, each with their own `speak()` method. Demonstrate polymorphism by calling the `speak()` method on objects of different subclasses.\n",
    "\n",
    "class Animal:\n",
    "    def speak(self):\n",
    "        pass\n",
    "\n",
    "class Dog(Animal):\n",
    "    def speak(self):\n",
    "        return \"Woof\"\n",
    "\n",
    "class Cat(Animal):\n",
    "    def speak(self):\n",
    "        return \"Meow\"\n",
    "\n",
    "class Bird(Animal):\n",
    "    def speak(self):\n",
    "        return \"Chirp\"\n",
    "\n",
    "# Example usage\n",
    "animals = [Dog(), Cat(), Bird()]\n",
    "\n",
    "for animal in animals:\n",
    "    print(animal.speak())"
   ]
  },
  {
   "cell_type": "code",
   "execution_count": 209,
   "id": "b6fb249e-0403-4306-88ee-e3581ac4cf36",
   "metadata": {},
   "outputs": [
    {
     "name": "stdout",
     "output_type": "stream",
     "text": [
      "78.5\n"
     ]
    }
   ],
   "source": [
    "#### 7. Discuss the use of abstract methods and classes in achieving polymorphism in Python. Provide an example using the `abc` module.\n",
    "\n",
    "'''\n",
    "a. Abstract methods and classes define a common interface for a set of subclasses. \n",
    "b. The abc (Abstract Base Class) module in Python helps create abstract classes that cannot be instantiated and must be subclassed.\n",
    "'''\n",
    "\n",
    "from abc import ABC, abstractmethod\n",
    "\n",
    "class Shape(ABC):\n",
    "    @abstractmethod\n",
    "    def calculate_area(self):\n",
    "        pass\n",
    "\n",
    "class Circle(Shape):\n",
    "    def __init__(self, radius):\n",
    "        self.radius = radius\n",
    "\n",
    "    def calculate_area(self):\n",
    "        return 3.14 * self.radius * self.radius\n",
    "\n",
    "# Example usage\n",
    "circle = Circle(5)\n",
    "print(circle.calculate_area())"
   ]
  },
  {
   "cell_type": "code",
   "execution_count": 210,
   "id": "737f0d57-7443-47e6-bf73-724a94259e35",
   "metadata": {},
   "outputs": [
    {
     "name": "stdout",
     "output_type": "stream",
     "text": [
      "Car starts with a key\n",
      "Bicycle starts by pedaling\n",
      "Boat starts with an engine\n"
     ]
    }
   ],
   "source": [
    "#### 8. Create a Python class hierarchy for a vehicle system (e.g., car, bicycle, boat) and implement a polymorphic `start()` method that prints a message specific to each vehicle type.\n",
    "\n",
    "class Vehicle:\n",
    "    def start(self):\n",
    "        pass\n",
    "\n",
    "class Car(Vehicle):\n",
    "    def start(self):\n",
    "        print(\"Car starts with a key\")\n",
    "\n",
    "class Bicycle(Vehicle):\n",
    "    def start(self):\n",
    "        print(\"Bicycle starts by pedaling\")\n",
    "\n",
    "class Boat(Vehicle):\n",
    "    def start(self):\n",
    "        print(\"Boat starts with an engine\")\n",
    "\n",
    "# Example usage\n",
    "vehicles = [Car(), Bicycle(), Boat()]\n",
    "\n",
    "for vehicle in vehicles:\n",
    "    vehicle.start()"
   ]
  },
  {
   "cell_type": "code",
   "execution_count": 211,
   "id": "40838f68-2333-46a4-8eb3-2518602976b3",
   "metadata": {},
   "outputs": [
    {
     "data": {
      "text/plain": [
       "False"
      ]
     },
     "execution_count": 211,
     "metadata": {},
     "output_type": "execute_result"
    }
   ],
   "source": [
    "#### 9. Explain the significance of the `isinstance()` and `issubclass()` functions in Python polymorphism.\n",
    "\n",
    "'''\n",
    "a. isinstance(): Checks if an object is an instance of a class or a subclass thereof. Useful for verifying the type of an object before performing operations.\n",
    "'''\n",
    "\n",
    "isinstance(obj, Dog)  "
   ]
  },
  {
   "cell_type": "code",
   "execution_count": 212,
   "id": "350a2f7a-4258-4d65-bd6e-0663a19b0182",
   "metadata": {},
   "outputs": [
    {
     "data": {
      "text/plain": [
       "True"
      ]
     },
     "execution_count": 212,
     "metadata": {},
     "output_type": "execute_result"
    }
   ],
   "source": [
    "'''\n",
    "b. issubclass(): Checks if a class is a subclass of another class. Useful for type-checking and ensuring that classes conform to expected hierarchies.\n",
    "'''\n",
    "\n",
    "issubclass(Dog, Animal)  \n"
   ]
  },
  {
   "cell_type": "code",
   "execution_count": 213,
   "id": "ee51d822-b16f-4911-b4fa-c8049eb604cc",
   "metadata": {},
   "outputs": [
    {
     "name": "stdout",
     "output_type": "stream",
     "text": [
      "Woof\n"
     ]
    }
   ],
   "source": [
    "#### 10. What is the role of the `@abstractmethod` decorator in achieving polymorphism in Python? Provide an example.\n",
    "\n",
    "'''\n",
    "a. The @abstractmethod decorator is used to declare methods that must be implemented by any subclass of an abstract class. \n",
    "b. It enforces that subclasses provide their own implementation of these methods, facilitating polymorphism.\n",
    "'''\n",
    "\n",
    "from abc import ABC, abstractmethod\n",
    "\n",
    "class Animal(ABC):\n",
    "    @abstractmethod\n",
    "    def speak(self):\n",
    "        pass\n",
    "\n",
    "class Dog(Animal):\n",
    "    def speak(self):\n",
    "        return \"Woof\"\n",
    "\n",
    "# Example usage\n",
    "dog = Dog()\n",
    "print(dog.speak())  "
   ]
  },
  {
   "cell_type": "code",
   "execution_count": 214,
   "id": "f44bd945-ecd3-4f4e-a7d0-e29efdcf7e18",
   "metadata": {},
   "outputs": [
    {
     "name": "stdout",
     "output_type": "stream",
     "text": [
      "Area: 78.5\n",
      "Area: 24\n",
      "Area: 9.0\n"
     ]
    }
   ],
   "source": [
    "#### 11. Create a Python class called `Shape` with a polymorphic method `area()` that calculates the area of different shapes (e.g., circle, rectangle, triangle).\n",
    "\n",
    "class Shape:\n",
    "    def area(self):\n",
    "        pass\n",
    "\n",
    "class Circle(Shape):\n",
    "    def __init__(self, radius):\n",
    "        self.radius = radius\n",
    "\n",
    "    def area(self):\n",
    "        return 3.14 * self.radius * self.radius\n",
    "\n",
    "class Rectangle(Shape):\n",
    "    def __init__(self, width, height):\n",
    "        self.width = width\n",
    "        self.height = height\n",
    "\n",
    "    def area(self):\n",
    "        return self.width * self.height\n",
    "\n",
    "class Triangle(Shape):\n",
    "    def __init__(self, base, height):\n",
    "        self.base = base\n",
    "        self.height = height\n",
    "\n",
    "    def area(self):\n",
    "        return 0.5 * self.base * self.height\n",
    "\n",
    "# Example usage\n",
    "shapes = [Circle(5), Rectangle(4, 6), Triangle(3, 6)]\n",
    "\n",
    "for shape in shapes:\n",
    "    print(f\"Area: {shape.area()}\")"
   ]
  },
  {
   "cell_type": "code",
   "execution_count": 215,
   "id": "e34793aa-3534-409e-80c9-3fbcc8580332",
   "metadata": {},
   "outputs": [
    {
     "data": {
      "text/plain": [
       "'\\nA. Code Reusability: \\n    - Polymorphism allows for the reuse of code by enabling objects of different classes to be handled through a common interface. \\n    - This reduces code duplication and improves maintainability.\\n\\nB. Flexibility: \\n    - It allows you to write functions and methods that can operate on objects of different classes, making your code more adaptable to changes. \\n    - You can introduce new classes that implement the same interface without altering existing code.\\n'"
      ]
     },
     "execution_count": 215,
     "metadata": {},
     "output_type": "execute_result"
    }
   ],
   "source": [
    "#### 12. Discuss the benefits of polymorphism in terms of code reusability and flexibility in Python programs.\n",
    "\n",
    "'''\n",
    "A. Code Reusability: \n",
    "    - Polymorphism allows for the reuse of code by enabling objects of different classes to be handled through a common interface. \n",
    "    - This reduces code duplication and improves maintainability.\n",
    "\n",
    "B. Flexibility: \n",
    "    - It allows you to write functions and methods that can operate on objects of different classes, making your code more adaptable to changes. \n",
    "    - You can introduce new classes that implement the same interface without altering existing code.\n",
    "'''"
   ]
  },
  {
   "cell_type": "code",
   "execution_count": 216,
   "id": "7e6e6de3-b30b-46d1-8e6f-01163be0ab5f",
   "metadata": {},
   "outputs": [
    {
     "name": "stdout",
     "output_type": "stream",
     "text": [
      "Hello from Parent\n",
      "Hello from Child\n"
     ]
    }
   ],
   "source": [
    "#### 13. Explain the use of the `super()` function in Python polymorphism. How does it help call methods of parent classes?\n",
    "\n",
    "'''\n",
    "- The super() function is used to call methods from a parent class within a subclass. \n",
    "- It helps in accessing and extending the functionality of methods defined in the parent class.\n",
    "'''\n",
    "\n",
    "class Parent:\n",
    "    def greet(self):\n",
    "        print(\"Hello from Parent\")\n",
    "\n",
    "class Child(Parent):\n",
    "    def greet(self):\n",
    "        super().greet()  # Call the parent class method\n",
    "        print(\"Hello from Child\")\n",
    "\n",
    "# Example usage\n",
    "child = Child()\n",
    "child.greet()"
   ]
  },
  {
   "cell_type": "code",
   "execution_count": 217,
   "id": "53e9c79d-a421-4940-833e-7f2a64ebd274",
   "metadata": {},
   "outputs": [
    {
     "name": "stdout",
     "output_type": "stream",
     "text": [
      "Withdrawing 100 from Savings Account\n",
      "Withdrawing 100 from Checking Account\n",
      "Withdrawing 100 from Credit Card Account\n"
     ]
    }
   ],
   "source": [
    "#### 14. Create a Python class hierarchy for a banking system with various account types (e.g., savings, checking, credit card) and demonstrate polymorphism by implementing a common `withdraw()` method.\n",
    "\n",
    "class BankAccount:\n",
    "    def withdraw(self, amount):\n",
    "        pass\n",
    "\n",
    "class SavingsAccount(BankAccount):\n",
    "    def withdraw(self, amount):\n",
    "        print(f\"Withdrawing {amount} from Savings Account\")\n",
    "\n",
    "class CheckingAccount(BankAccount):\n",
    "    def withdraw(self, amount):\n",
    "        print(f\"Withdrawing {amount} from Checking Account\")\n",
    "\n",
    "class CreditCardAccount(BankAccount):\n",
    "    def withdraw(self, amount):\n",
    "        print(f\"Withdrawing {amount} from Credit Card Account\")\n",
    "\n",
    "# Example usage\n",
    "accounts = [SavingsAccount(), CheckingAccount(), CreditCardAccount()]\n",
    "\n",
    "for account in accounts:\n",
    "    account.withdraw(100)"
   ]
  },
  {
   "cell_type": "code",
   "execution_count": 218,
   "id": "37be03f1-e9a0-4f19-992d-0ab56df34465",
   "metadata": {},
   "outputs": [
    {
     "name": "stdout",
     "output_type": "stream",
     "text": [
      "Vector(6, 8)\n",
      "Vector(6, 9)\n"
     ]
    }
   ],
   "source": [
    "#### 15. Describe the concept of operator overloading in Python and how it relates to polymorphism. Provide examples using operators like `+` and `*`.\n",
    "\n",
    "'''\n",
    "a. Operator overloading allows you to define how operators (e.g., +, *) behave for objects of a class. \n",
    "b. It’s a form of polymorphism because it enables different classes to define their own behavior for operators, allowing objects of these classes to interact using operators in a meaningful way.\n",
    "'''\n",
    "\n",
    "class Vector:\n",
    "    def __init__(self, x, y):\n",
    "        self.x = x\n",
    "        self.y = y\n",
    "\n",
    "    def __add__(self, other):\n",
    "        return Vector(self.x + other.x, self.y + other.y)\n",
    "\n",
    "    def __mul__(self, scalar):\n",
    "        return Vector(self.x * scalar, self.y * scalar)\n",
    "\n",
    "    def __repr__(self):\n",
    "        return f\"Vector({self.x}, {self.y})\"\n",
    "\n",
    "# Example usage\n",
    "v1 = Vector(2, 3)\n",
    "v2 = Vector(4, 5)\n",
    "\n",
    "print(v1 + v2) \n",
    "print(v1 * 3)   "
   ]
  },
  {
   "cell_type": "code",
   "execution_count": 219,
   "id": "77da871c-44fe-486d-b8af-c639f49f1b57",
   "metadata": {},
   "outputs": [
    {
     "data": {
      "text/plain": [
       "'\\na. Dynamic polymorphism is the ability of a method to act differently based on the object it is called on, which is determined at runtime. \\nb. It is achieved through method overriding, where a subclass provides a specific implementation of a method that is defined in its parent class.\\n'"
      ]
     },
     "execution_count": 219,
     "metadata": {},
     "output_type": "execute_result"
    }
   ],
   "source": [
    "#### 16. What is dynamic polymorphism, and how is it achieved in Python?\n",
    "\n",
    "'''\n",
    "a. Dynamic polymorphism is the ability of a method to act differently based on the object it is called on, which is determined at runtime. \n",
    "b. It is achieved through method overriding, where a subclass provides a specific implementation of a method that is defined in its parent class.\n",
    "'''"
   ]
  },
  {
   "cell_type": "code",
   "execution_count": 220,
   "id": "c801d99b-41e2-4469-8c59-e92321ab583e",
   "metadata": {},
   "outputs": [
    {
     "name": "stdout",
     "output_type": "stream",
     "text": [
      "Salary: 100000\n",
      "Salary: 80000\n",
      "Salary: 70000\n"
     ]
    }
   ],
   "source": [
    "#### 17. Create a Python class hierarchy for employees in a company (e.g., manager, developer, designer) and implement polymorphism through a common `calculate_salary()` method.\n",
    "\n",
    "class Employee:\n",
    "    def calculate_salary(self):\n",
    "        pass\n",
    "\n",
    "class Manager(Employee):\n",
    "    def calculate_salary(self):\n",
    "        return 100000\n",
    "\n",
    "class Developer(Employee):\n",
    "    def calculate_salary(self):\n",
    "        return 80000\n",
    "\n",
    "class Designer(Employee):\n",
    "    def calculate_salary(self):\n",
    "        return 70000\n",
    "\n",
    "# Example usage\n",
    "employees = [Manager(), Developer(), Designer()]\n",
    "\n",
    "for employee in employees:\n",
    "    print(f\"Salary: {employee.calculate_salary()}\")"
   ]
  },
  {
   "cell_type": "code",
   "execution_count": 221,
   "id": "4a161273-49b8-47e3-a5e5-b738521491c0",
   "metadata": {},
   "outputs": [
    {
     "data": {
      "text/plain": [
       "'\\na. In Python, function pointers are not explicitly used as in some other languages. \\nb. Instead, Python achieves polymorphism through first-class functions, where functions can be passed as arguments, returned from other functions, and assigned to variables. \\nc. This allows for dynamic behavior similar to function pointers.\\n'"
      ]
     },
     "execution_count": 221,
     "metadata": {},
     "output_type": "execute_result"
    }
   ],
   "source": [
    "#### 18. Discuss the concept of function pointers and how they can be used to achieve polymorphism in Python.\n",
    "\n",
    "'''\n",
    "a. In Python, function pointers are not explicitly used as in some other languages. \n",
    "b. Instead, Python achieves polymorphism through first-class functions, where functions can be passed as arguments, returned from other functions, and assigned to variables. \n",
    "c. This allows for dynamic behavior similar to function pointers.\n",
    "'''"
   ]
  },
  {
   "cell_type": "code",
   "execution_count": 222,
   "id": "bb1030b6-2684-44b5-9f90-d0a08b167ca0",
   "metadata": {},
   "outputs": [
    {
     "data": {
      "text/plain": [
       "'\\nA. Interfaces: \\n    - Define a contract or set of methods that a class must implement. \\n    - Python does not have explicit interface constructs, but abstract base classes (ABCs) can be used to achieve similar functionality.\\n\\nB. Abstract Classes: \\n    - Use the abc module to define abstract methods that must be implemented by any subclass. \\n    - They serve as a blueprint for other classes, ensuring that specific methods are implemented, which is key to achieving polymorphism.\\n'"
      ]
     },
     "execution_count": 222,
     "metadata": {},
     "output_type": "execute_result"
    }
   ],
   "source": [
    "#### 19. Explain the role of interfaces and abstract classes in polymorphism, drawing comparisons between them.\n",
    "\n",
    "'''\n",
    "A. Interfaces: \n",
    "    - Define a contract or set of methods that a class must implement. \n",
    "    - Python does not have explicit interface constructs, but abstract base classes (ABCs) can be used to achieve similar functionality.\n",
    "\n",
    "B. Abstract Classes: \n",
    "    - Use the abc module to define abstract methods that must be implemented by any subclass. \n",
    "    - They serve as a blueprint for other classes, ensuring that specific methods are implemented, which is key to achieving polymorphism.\n",
    "'''"
   ]
  },
  {
   "cell_type": "code",
   "execution_count": 223,
   "id": "aae91b9f-57d3-4af1-b981-b24f3db39ff8",
   "metadata": {},
   "outputs": [
    {
     "name": "stdout",
     "output_type": "stream",
     "text": [
      "Mammal eats food\n",
      "Mammal sleeps\n",
      "Mammal makes sound\n",
      "Bird pecks at food\n",
      "Bird sleeps in a nest\n",
      "Bird chirps\n",
      "Reptile catches prey\n",
      "Reptile basks in the sun\n",
      "Reptile hisses\n"
     ]
    }
   ],
   "source": [
    "#### 20. Create a Python class for a zoo simulation, demonstrating polymorphism with different animal types (e.g., mammals, birds, reptiles) and their behavior (e.g., eating, sleeping, making sounds).\n",
    "\n",
    "class Animal:\n",
    "    def eat(self):\n",
    "        pass\n",
    "\n",
    "    def sleep(self):\n",
    "        pass\n",
    "\n",
    "    def make_sound(self):\n",
    "        pass\n",
    "\n",
    "class Mammal(Animal):\n",
    "    def eat(self):\n",
    "        print(\"Mammal eats food\")\n",
    "\n",
    "    def sleep(self):\n",
    "        print(\"Mammal sleeps\")\n",
    "\n",
    "    def make_sound(self):\n",
    "        print(\"Mammal makes sound\")\n",
    "\n",
    "class Bird(Animal):\n",
    "    def eat(self):\n",
    "        print(\"Bird pecks at food\")\n",
    "\n",
    "    def sleep(self):\n",
    "        print(\"Bird sleeps in a nest\")\n",
    "\n",
    "    def make_sound(self):\n",
    "        print(\"Bird chirps\")\n",
    "\n",
    "class Reptile(Animal):\n",
    "    def eat(self):\n",
    "        print(\"Reptile catches prey\")\n",
    "\n",
    "    def sleep(self):\n",
    "        print(\"Reptile basks in the sun\")\n",
    "\n",
    "    def make_sound(self):\n",
    "        print(\"Reptile hisses\")\n",
    "\n",
    "# Example usage\n",
    "animals = [Mammal(), Bird(), Reptile()]\n",
    "\n",
    "for animal in animals:\n",
    "    animal.eat()\n",
    "    animal.sleep()\n",
    "    animal.make_sound()"
   ]
  },
  {
   "cell_type": "code",
   "execution_count": 224,
   "id": "66c1bf1a-4b6c-4cc4-952f-1e3a87259d35",
   "metadata": {},
   "outputs": [
    {
     "data": {
      "text/plain": [
       "'\\na. Abstraction in Python is the concept of hiding the complex details and showing only the essential features of an object. \\nb. It helps to simplify the interface, allowing users to interact with objects without needing to understand all the internal workings. \\nc. In object-oriented programming (OOP), abstraction is implemented through classes and abstract methods, where only the important functionality is exposed.\\n'"
      ]
     },
     "execution_count": 224,
     "metadata": {},
     "output_type": "execute_result"
    }
   ],
   "source": [
    "#### Abstraction:\n",
    "\n",
    "#### 1. What is abstraction in Python, and how does it relate to object-oriented programming?\n",
    "\n",
    "'''\n",
    "a. Abstraction in Python is the concept of hiding the complex details and showing only the essential features of an object. \n",
    "b. It helps to simplify the interface, allowing users to interact with objects without needing to understand all the internal workings. \n",
    "c. In object-oriented programming (OOP), abstraction is implemented through classes and abstract methods, where only the important functionality is exposed.\n",
    "'''"
   ]
  },
  {
   "cell_type": "code",
   "execution_count": 225,
   "id": "8684b3bb-94d1-4583-bc34-5fd13b4b5c0c",
   "metadata": {},
   "outputs": [
    {
     "data": {
      "text/plain": [
       "\"\\nAbstraction helps in:\\n    a. Code Organization: By hiding the complex logic and providing a simple interface, it makes the code easier to understand and manage.\\n    b. Complexity Reduction: Developers don't need to understand every detail of the system, focusing instead on the relevant parts, which reduces mental overhead and improves maintainability.\\n\""
      ]
     },
     "execution_count": 225,
     "metadata": {},
     "output_type": "execute_result"
    }
   ],
   "source": [
    "#### 2. Describe the benefits of abstraction in terms of code organization and complexity reduction.\n",
    "\n",
    "'''\n",
    "Abstraction helps in:\n",
    "    a. Code Organization: By hiding the complex logic and providing a simple interface, it makes the code easier to understand and manage.\n",
    "    b. Complexity Reduction: Developers don't need to understand every detail of the system, focusing instead on the relevant parts, which reduces mental overhead and improves maintainability.\n",
    "'''"
   ]
  },
  {
   "cell_type": "code",
   "execution_count": 226,
   "id": "5b2fa283-ef03-4571-a04a-e4b0ae3c8e22",
   "metadata": {},
   "outputs": [
    {
     "name": "stdout",
     "output_type": "stream",
     "text": [
      "Area: 78.5\n",
      "Area: 24\n"
     ]
    }
   ],
   "source": [
    "#### 3. Create a Python class called `Shape` with an abstract method `calculate_area()`. Then, create child classes (e.g., `Circle`, `Rectangle`) that implement the `calculate_area()` method. Provide an example of using these classes.\n",
    "\n",
    "from abc import ABC, abstractmethod\n",
    "\n",
    "class Shape(ABC):\n",
    "    @abstractmethod\n",
    "    def calculate_area(self):\n",
    "        pass\n",
    "\n",
    "class Circle(Shape):\n",
    "    def __init__(self, radius):\n",
    "        self.radius = radius\n",
    "\n",
    "    def calculate_area(self):\n",
    "        return 3.14 * self.radius * self.radius\n",
    "\n",
    "class Rectangle(Shape):\n",
    "    def __init__(self, width, height):\n",
    "        self.width = width\n",
    "        self.height = height\n",
    "\n",
    "    def calculate_area(self):\n",
    "        return self.width * self.height\n",
    "\n",
    "# Example usage\n",
    "shapes = [Circle(5), Rectangle(4, 6)]\n",
    "\n",
    "for shape in shapes:\n",
    "    print(f\"Area: {shape.calculate_area()}\")"
   ]
  },
  {
   "cell_type": "code",
   "execution_count": 227,
   "id": "d0c2da1a-788d-4b31-bdb4-22129675be11",
   "metadata": {},
   "outputs": [
    {
     "name": "stdout",
     "output_type": "stream",
     "text": [
      "Woof\n"
     ]
    }
   ],
   "source": [
    "#### 4. Explain the concept of abstract classes in Python and how they are defined using the `abc` module. Provide an example.\n",
    "\n",
    "'''\n",
    "a. Abstract classes are classes that cannot be instantiated on their own and are used as blueprints for other classes. \n",
    "b. They contain one or more abstract methods that must be implemented by any subclass. \n",
    "c. In Python, abstract classes are created using the abc module and the ABC class.\n",
    "'''\n",
    "\n",
    "from abc import ABC, abstractmethod\n",
    "\n",
    "class Animal(ABC):\n",
    "    @abstractmethod\n",
    "    def make_sound(self):\n",
    "        pass\n",
    "\n",
    "class Dog(Animal):\n",
    "    def make_sound(self):\n",
    "        return \"Woof\"\n",
    "\n",
    "# Example usage\n",
    "dog = Dog()\n",
    "print(dog.make_sound())"
   ]
  },
  {
   "cell_type": "code",
   "execution_count": 228,
   "id": "911aeb87-60e3-4b2a-a985-a71e7c0f426f",
   "metadata": {},
   "outputs": [
    {
     "data": {
      "text/plain": [
       "\"\\nA. Abstract Classes: \\n    - Cannot be instantiated, and they are used to define a common interface that must be implemented by derived classes. \\n    - They are useful when you want to ensure that certain methods are implemented in every subclass.\\n\\nB. Regular Classes: \\n    - Can be instantiated and may have complete methods that don't require further implementation in subclasses. \\n    - They are used when you have all the functionality already defined.\\n\""
      ]
     },
     "execution_count": 228,
     "metadata": {},
     "output_type": "execute_result"
    }
   ],
   "source": [
    "#### 5. How do abstract classes differ from regular classes in Python? Discuss their use cases.\n",
    "\n",
    "'''\n",
    "A. Abstract Classes: \n",
    "    - Cannot be instantiated, and they are used to define a common interface that must be implemented by derived classes. \n",
    "    - They are useful when you want to ensure that certain methods are implemented in every subclass.\n",
    "\n",
    "B. Regular Classes: \n",
    "    - Can be instantiated and may have complete methods that don't require further implementation in subclasses. \n",
    "    - They are used when you have all the functionality already defined.\n",
    "'''"
   ]
  },
  {
   "cell_type": "code",
   "execution_count": 229,
   "id": "21c73ecf-9dec-49d0-982a-be57898ce6d2",
   "metadata": {},
   "outputs": [
    {
     "name": "stdout",
     "output_type": "stream",
     "text": [
      "Deposited: 100\n",
      "Withdrew: 30\n",
      "Balance: 70\n"
     ]
    }
   ],
   "source": [
    "#### 6. Create a Python class for a bank account and demonstrate abstraction by hiding the account balance and providing methods to deposit and withdraw funds.\n",
    "\n",
    "class BankAccount:\n",
    "    def __init__(self):\n",
    "        self.__balance = 0  # Private attribute\n",
    "\n",
    "    def deposit(self, amount):\n",
    "        if amount > 0:\n",
    "            self.__balance += amount\n",
    "            print(f\"Deposited: {amount}\")\n",
    "        else:\n",
    "            print(\"Invalid deposit amount\")\n",
    "\n",
    "    def withdraw(self, amount):\n",
    "        if 0 < amount <= self.__balance:\n",
    "            self.__balance -= amount\n",
    "            print(f\"Withdrew: {amount}\")\n",
    "        else:\n",
    "            print(\"Insufficient balance or invalid amount\")\n",
    "\n",
    "    def get_balance(self):\n",
    "        return self.__balance\n",
    "\n",
    "# Example usage\n",
    "account = BankAccount()\n",
    "account.deposit(100)\n",
    "account.withdraw(30)\n",
    "print(f\"Balance: {account.get_balance()}\")"
   ]
  },
  {
   "cell_type": "code",
   "execution_count": 230,
   "id": "2bdec2b9-006d-44dd-a41a-d253a3dc61fd",
   "metadata": {},
   "outputs": [
    {
     "data": {
      "text/plain": [
       "\"\\na. Interface classes define methods that must be implemented by any class that inherits from them, but they don't provide any implementation themselves. \\nb. While Python doesn't have explicit interfaces like some other languages, abstract classes can act as interfaces, enforcing that subclasses implement certain methods, which helps in achieving abstraction.\\n\""
      ]
     },
     "execution_count": 230,
     "metadata": {},
     "output_type": "execute_result"
    }
   ],
   "source": [
    "#### 7. Discuss the concept of interface classes in Python and their role in achieving abstraction.\n",
    "\n",
    "'''\n",
    "a. Interface classes define methods that must be implemented by any class that inherits from them, but they don't provide any implementation themselves. \n",
    "b. While Python doesn't have explicit interfaces like some other languages, abstract classes can act as interfaces, enforcing that subclasses implement certain methods, which helps in achieving abstraction.\n",
    "'''"
   ]
  },
  {
   "cell_type": "code",
   "execution_count": 231,
   "id": "15b32f62-46ab-453d-b6e3-a450c047e4a4",
   "metadata": {},
   "outputs": [
    {
     "name": "stdout",
     "output_type": "stream",
     "text": [
      "Dog eats dog food\n",
      "Dog sleeps in a kennel\n",
      "Cat eats cat food\n",
      "Cat sleeps on a cushion\n"
     ]
    }
   ],
   "source": [
    "#### 8. Create a Python class hierarchy for animals and implement abstraction by defining common methods (e.g., `eat()`, `sleep()`) in an abstract base class.\n",
    "\n",
    "from abc import ABC, abstractmethod\n",
    "\n",
    "class Animal(ABC):\n",
    "    @abstractmethod\n",
    "    def eat(self):\n",
    "        pass\n",
    "\n",
    "    @abstractmethod\n",
    "    def sleep(self):\n",
    "        pass\n",
    "\n",
    "class Dog(Animal):\n",
    "    def eat(self):\n",
    "        print(\"Dog eats dog food\")\n",
    "\n",
    "    def sleep(self):\n",
    "        print(\"Dog sleeps in a kennel\")\n",
    "\n",
    "class Cat(Animal):\n",
    "    def eat(self):\n",
    "        print(\"Cat eats cat food\")\n",
    "\n",
    "    def sleep(self):\n",
    "        print(\"Cat sleeps on a cushion\")\n",
    "\n",
    "# Example usage\n",
    "animals = [Dog(), Cat()]\n",
    "\n",
    "for animal in animals:\n",
    "    animal.eat()\n",
    "    animal.sleep()"
   ]
  },
  {
   "cell_type": "code",
   "execution_count": 232,
   "id": "761318d3-0b96-4048-8847-122592424ae9",
   "metadata": {},
   "outputs": [
    {
     "data": {
      "text/plain": [
       "'\\na. Encapsulation is the practice of hiding the internal state of an object and exposing only the necessary parts. \\nb. It helps in achieving abstraction by hiding complex internal details while providing a clear and simple interface. \\n\\nFor example, in a BankAccount class, we hide the balance using a private attribute (__balance), but expose methods like deposit() and withdraw() to interact with it.\\n'"
      ]
     },
     "execution_count": 232,
     "metadata": {},
     "output_type": "execute_result"
    }
   ],
   "source": [
    "#### 9. Explain the significance of encapsulation in achieving abstraction. Provide examples.\n",
    "\n",
    "'''\n",
    "a. Encapsulation is the practice of hiding the internal state of an object and exposing only the necessary parts. \n",
    "b. It helps in achieving abstraction by hiding complex internal details while providing a clear and simple interface. \n",
    "\n",
    "For example, in a BankAccount class, we hide the balance using a private attribute (__balance), but expose methods like deposit() and withdraw() to interact with it.\n",
    "'''"
   ]
  },
  {
   "cell_type": "code",
   "execution_count": 233,
   "id": "b13358d1-d24e-409f-b3dd-7ec4e6f7daae",
   "metadata": {},
   "outputs": [
    {
     "data": {
      "text/plain": [
       "'\\na. Abstract methods define methods without implementation in abstract classes. \\nb. They force subclasses to provide concrete implementations of these methods, ensuring that all subclasses follow the same structure. \\nc. This helps in enforcing a consistent interface while hiding unnecessary details.\\n'"
      ]
     },
     "execution_count": 233,
     "metadata": {},
     "output_type": "execute_result"
    }
   ],
   "source": [
    "#### 10. What is the purpose of abstract methods, and how do they enforce abstraction in Python classes?\n",
    "\n",
    "'''\n",
    "a. Abstract methods define methods without implementation in abstract classes. \n",
    "b. They force subclasses to provide concrete implementations of these methods, ensuring that all subclasses follow the same structure. \n",
    "c. This helps in enforcing a consistent interface while hiding unnecessary details.\n",
    "'''"
   ]
  },
  {
   "cell_type": "code",
   "execution_count": 234,
   "id": "cdd12305-5d80-4ec9-aa93-8c4d68491da4",
   "metadata": {},
   "outputs": [
    {
     "name": "stdout",
     "output_type": "stream",
     "text": [
      "Car starts with a key\n",
      "Car stops with brakes\n",
      "Bicycle starts by pedaling\n",
      "Bicycle stops by applying brakes\n"
     ]
    }
   ],
   "source": [
    "#### 11. Create a Python class for a vehicle system and demonstrate abstraction by defining common methods (e.g., `start()`, `stop()`) in an abstract base class.\n",
    "\n",
    "from abc import ABC, abstractmethod\n",
    "\n",
    "class Vehicle(ABC):\n",
    "    @abstractmethod\n",
    "    def start(self):\n",
    "        pass\n",
    "\n",
    "    @abstractmethod\n",
    "    def stop(self):\n",
    "        pass\n",
    "\n",
    "class Car(Vehicle):\n",
    "    def start(self):\n",
    "        print(\"Car starts with a key\")\n",
    "\n",
    "    def stop(self):\n",
    "        print(\"Car stops with brakes\")\n",
    "\n",
    "class Bicycle(Vehicle):\n",
    "    def start(self):\n",
    "        print(\"Bicycle starts by pedaling\")\n",
    "\n",
    "    def stop(self):\n",
    "        print(\"Bicycle stops by applying brakes\")\n",
    "\n",
    "# Example usage\n",
    "vehicles = [Car(), Bicycle()]\n",
    "\n",
    "for vehicle in vehicles:\n",
    "    vehicle.start()\n",
    "    vehicle.stop()"
   ]
  },
  {
   "cell_type": "code",
   "execution_count": 235,
   "id": "9621b84c-ead5-4ecb-a072-3ced578f20d7",
   "metadata": {},
   "outputs": [
    {
     "name": "stdout",
     "output_type": "stream",
     "text": [
      "John\n"
     ]
    }
   ],
   "source": [
    "#### 12. Describe the use of abstract properties in Python and how they can be employed in abstract classes.\n",
    "\n",
    "'''\n",
    "a. Abstract properties in Python allow you to define properties (attributes) that must be implemented in subclasses. \n",
    "b. These can be created using the @property decorator in combination with @abstractmethod.\n",
    "'''\n",
    "\n",
    "from abc import ABC, abstractmethod\n",
    "\n",
    "class Person(ABC):\n",
    "    @property\n",
    "    @abstractmethod\n",
    "    def name(self):\n",
    "        pass\n",
    "\n",
    "class Student(Person):\n",
    "    def __init__(self, name):\n",
    "        self._name = name\n",
    "\n",
    "    @property\n",
    "    def name(self):\n",
    "        return self._name\n",
    "\n",
    "# Example usage\n",
    "student = Student(\"John\")\n",
    "print(student.name)  "
   ]
  },
  {
   "cell_type": "code",
   "execution_count": 236,
   "id": "135b620b-1357-4286-856a-e38c64438bbc",
   "metadata": {},
   "outputs": [
    {
     "name": "stdout",
     "output_type": "stream",
     "text": [
      "Salary: 100000\n",
      "Salary: 80000\n",
      "Salary: 70000\n"
     ]
    }
   ],
   "source": [
    "#### 13. Create a Python class hierarchy for employees in a company (e.g., manager, developer, designer) and implement abstraction by defining a common `get_salary()` method.\n",
    "\n",
    "from abc import ABC, abstractmethod\n",
    "\n",
    "class Employee(ABC):\n",
    "    @abstractmethod\n",
    "    def get_salary(self):\n",
    "        pass\n",
    "\n",
    "class Manager(Employee):\n",
    "    def get_salary(self):\n",
    "        return 100000\n",
    "\n",
    "class Developer(Employee):\n",
    "    def get_salary(self):\n",
    "        return 80000\n",
    "\n",
    "class Designer(Employee):\n",
    "    def get_salary(self):\n",
    "        return 70000\n",
    "\n",
    "# Example usage\n",
    "employees = [Manager(), Developer(), Designer()]\n",
    "\n",
    "for employee in employees:\n",
    "    print(f\"Salary: {employee.get_salary()}\")"
   ]
  },
  {
   "cell_type": "code",
   "execution_count": 237,
   "id": "460b0349-fd16-4641-9fc1-e17511c940b6",
   "metadata": {},
   "outputs": [
    {
     "data": {
      "text/plain": [
       "'\\nA. Abstract Classes: \\n    - Cannot be instantiated directly and are used as a blueprint. \\n    - They define abstract methods that must be implemented by subclasses.\\n\\nB. Concrete Classes: \\n    - Can be instantiated and contain complete implementations of methods. \\n    - They may inherit from abstract classes and provide implementations for abstract methods.\\n'"
      ]
     },
     "execution_count": 237,
     "metadata": {},
     "output_type": "execute_result"
    }
   ],
   "source": [
    "#### 14. Discuss the differences between abstract classes and concrete classes in Python, including their instantiation.\n",
    "\n",
    "'''\n",
    "A. Abstract Classes: \n",
    "    - Cannot be instantiated directly and are used as a blueprint. \n",
    "    - They define abstract methods that must be implemented by subclasses.\n",
    "\n",
    "B. Concrete Classes: \n",
    "    - Can be instantiated and contain complete implementations of methods. \n",
    "    - They may inherit from abstract classes and provide implementations for abstract methods.\n",
    "'''"
   ]
  },
  {
   "cell_type": "code",
   "execution_count": 238,
   "id": "49121e6b-b3a9-4141-96ee-8b04f87c99ac",
   "metadata": {},
   "outputs": [
    {
     "data": {
      "text/plain": [
       "'\\nA. Abstract Data Types (ADTs) define the operations that can be performed on a data type, without specifying the implementation details. \\n   Examples of ADTs include stacks, queues, and lists. \\nB. By focusing on the operations and hiding the implementation, ADTs provide abstraction, allowing programmers to use them without needing to know how they work internally.\\n'"
      ]
     },
     "execution_count": 238,
     "metadata": {},
     "output_type": "execute_result"
    }
   ],
   "source": [
    "#### 15. Explain the concept of abstract data types (ADTs) and their role in achieving abstraction in Python.\n",
    "\n",
    "'''\n",
    "A. Abstract Data Types (ADTs) define the operations that can be performed on a data type, without specifying the implementation details. \n",
    "   Examples of ADTs include stacks, queues, and lists. \n",
    "B. By focusing on the operations and hiding the implementation, ADTs provide abstraction, allowing programmers to use them without needing to know how they work internally.\n",
    "'''"
   ]
  },
  {
   "cell_type": "code",
   "execution_count": 239,
   "id": "b35d2df0-82b1-4202-8054-348852817084",
   "metadata": {},
   "outputs": [
    {
     "name": "stdout",
     "output_type": "stream",
     "text": [
      "Laptop powers on\n",
      "Laptop shuts down\n",
      "Desktop powers on\n",
      "Desktop shuts down\n"
     ]
    }
   ],
   "source": [
    "#### 16. Create a Python class for a computer system, demonstrating abstraction by defining common methods (e.g., `power_on()`, `shutdown()`) in an abstract base class.\n",
    "\n",
    "from abc import ABC, abstractmethod\n",
    "\n",
    "class Computer(ABC):\n",
    "    @abstractmethod\n",
    "    def power_on(self):\n",
    "        pass\n",
    "\n",
    "    @abstractmethod\n",
    "    def shutdown(self):\n",
    "        pass\n",
    "\n",
    "class Laptop(Computer):\n",
    "    def power_on(self):\n",
    "        print(\"Laptop powers on\")\n",
    "\n",
    "    def shutdown(self):\n",
    "        print(\"Laptop shuts down\")\n",
    "\n",
    "class Desktop(Computer):\n",
    "    def power_on(self):\n",
    "        print(\"Desktop powers on\")\n",
    "\n",
    "    def shutdown(self):\n",
    "        print(\"Desktop shuts down\")\n",
    "\n",
    "# Example usage\n",
    "computers = [Laptop(), Desktop()]\n",
    "\n",
    "for computer in computers:\n",
    "    computer.power_on()\n",
    "    computer.shutdown()"
   ]
  },
  {
   "cell_type": "code",
   "execution_count": 240,
   "id": "cc2d05df-688c-4f47-adef-248b90d7b9cc",
   "metadata": {},
   "outputs": [
    {
     "data": {
      "text/plain": [
       "'\\nIn large-scale projects, abstraction helps to:\\n    - Simplify Complexity: By hiding intricate details, developers can focus on high-level functionality without getting bogged down by implementation details.\\n    - Promote Modularity: Different parts of the system can be developed and maintained independently, as long as they adhere to the agreed-upon interfaces.\\n    - Enhance Maintainability: Since abstraction separates concerns, updating one part of the system is easier without affecting others.\\n\\n'"
      ]
     },
     "execution_count": 240,
     "metadata": {},
     "output_type": "execute_result"
    }
   ],
   "source": [
    "#### 17. Discuss the benefits of using abstraction in large-scale software development projects.\n",
    "\n",
    "'''\n",
    "In large-scale projects, abstraction helps to:\n",
    "    - Simplify Complexity: By hiding intricate details, developers can focus on high-level functionality without getting bogged down by implementation details.\n",
    "    - Promote Modularity: Different parts of the system can be developed and maintained independently, as long as they adhere to the agreed-upon interfaces.\n",
    "    - Enhance Maintainability: Since abstraction separates concerns, updating one part of the system is easier without affecting others.\n",
    "\n",
    "'''"
   ]
  },
  {
   "cell_type": "code",
   "execution_count": 241,
   "id": "c7d27fd6-b159-460e-881c-422b062aa024",
   "metadata": {},
   "outputs": [
    {
     "data": {
      "text/plain": [
       "'\\na. Abstraction allows you to define common methods in abstract base classes, which can then be reused in different subclasses. \\nb. This reduces code duplication and encourages a modular design, where different components can be built independently but still work together through well-defined interfaces.\\n'"
      ]
     },
     "execution_count": 241,
     "metadata": {},
     "output_type": "execute_result"
    }
   ],
   "source": [
    "#### 18. Explain how abstraction enhances code reusability and modularity in Python programs.\n",
    "\n",
    "'''\n",
    "a. Abstraction allows you to define common methods in abstract base classes, which can then be reused in different subclasses. \n",
    "b. This reduces code duplication and encourages a modular design, where different components can be built independently but still work together through well-defined interfaces.\n",
    "'''"
   ]
  },
  {
   "cell_type": "code",
   "execution_count": 242,
   "id": "39844e88-b288-4b1c-ab7f-d0dbc57a3bef",
   "metadata": {},
   "outputs": [
    {
     "name": "stdout",
     "output_type": "stream",
     "text": [
      "Added: Python Programming\n",
      "Borrowed: Python Programming\n"
     ]
    }
   ],
   "source": [
    "#### 19. Create a Python class for a library system, implementing abstraction by defining common methods (e.g., `add_book()`, `borrow_book()`) in an abstract base class.\n",
    "\n",
    "from abc import ABC, abstractmethod\n",
    "\n",
    "class LibrarySystem(ABC):\n",
    "    @abstractmethod\n",
    "    def add_book(self, title):\n",
    "        pass\n",
    "\n",
    "    @abstractmethod\n",
    "    def borrow_book(self, title):\n",
    "        pass\n",
    "\n",
    "class PublicLibrary(LibrarySystem):\n",
    "    def __init__(self):\n",
    "        self.books = []\n",
    "\n",
    "    def add_book(self, title):\n",
    "        self.books.append(title)\n",
    "        print(f\"Added: {title}\")\n",
    "\n",
    "    def borrow_book(self, title):\n",
    "        if title in self.books:\n",
    "            self.books.remove(title)\n",
    "            print(f\"Borrowed: {title}\")\n",
    "        else:\n",
    "            print(f\"{title} is not available\")\n",
    "\n",
    "# Example usage\n",
    "library = PublicLibrary()\n",
    "library.add_book(\"Python Programming\")\n",
    "library.borrow_book(\"Python Programming\")"
   ]
  },
  {
   "cell_type": "code",
   "execution_count": 243,
   "id": "0694d80d-cf91-4633-96f0-d45e99e9e6bd",
   "metadata": {},
   "outputs": [
    {
     "data": {
      "text/plain": [
       "'\\nA. Method abstraction involves defining methods in abstract base classes without implementation, leaving the details to subclasses. \\nB. It is closely related to polymorphism because different subclasses can implement the same method in unique ways, allowing objects of different types to be treated uniformly through a common interface.\\n\\nFor example, both Dog and Cat can implement the make_sound() method differently, but they can still be used interchangeably when interacting with the Animal abstract class.\\n\\n'"
      ]
     },
     "execution_count": 243,
     "metadata": {},
     "output_type": "execute_result"
    }
   ],
   "source": [
    "#### 20. Describe the concept of method abstraction in Python and how it relates to polymorphism.\n",
    "\n",
    "'''\n",
    "A. Method abstraction involves defining methods in abstract base classes without implementation, leaving the details to subclasses. \n",
    "B. It is closely related to polymorphism because different subclasses can implement the same method in unique ways, allowing objects of different types to be treated uniformly through a common interface.\n",
    "\n",
    "For example, both Dog and Cat can implement the make_sound() method differently, but they can still be used interchangeably when interacting with the Animal abstract class.\n",
    "\n",
    "'''"
   ]
  },
  {
   "cell_type": "code",
   "execution_count": 244,
   "id": "bcc68cb8-8527-45e3-a8b8-0d433e4fd4d7",
   "metadata": {},
   "outputs": [
    {
     "data": {
      "text/plain": [
       "'\\na. Composition is a design principle in object-oriented programming where one class contains objects of another class, representing a \"has-a\" relationship. \\nb. Instead of inheriting behavior, one object is composed of other objects, allowing complex objects to be built from simpler, reusable components.\\n\\nFor example, a Car class might be composed of an Engine, Wheels, and Transmission class.\\n'"
      ]
     },
     "execution_count": 244,
     "metadata": {},
     "output_type": "execute_result"
    }
   ],
   "source": [
    "#### Composition:\n",
    "\n",
    "#### 1. Explain the concept of composition in Python and how it is used to build complex objects from simpler ones.\n",
    "\n",
    "'''\n",
    "a. Composition is a design principle in object-oriented programming where one class contains objects of another class, representing a \"has-a\" relationship. \n",
    "b. Instead of inheriting behavior, one object is composed of other objects, allowing complex objects to be built from simpler, reusable components.\n",
    "\n",
    "For example, a Car class might be composed of an Engine, Wheels, and Transmission class.\n",
    "'''"
   ]
  },
  {
   "cell_type": "code",
   "execution_count": 245,
   "id": "a50de305-00ba-4975-9c3f-37e7d5bae3dd",
   "metadata": {},
   "outputs": [
    {
     "data": {
      "text/plain": [
       "'\\nA. Composition: \\n    - Represents a \"has-a\" relationship. A class contains instances of other classes as attributes. \\n    - It allows for more flexibility, as components can be changed or replaced.\\n\\nB. Inheritance: \\n    - Represents an \"is-a\" relationship. A subclass inherits the behavior and properties of a parent class. \\n    - It promotes code reuse but can lead to rigid class hierarchies.\\n'"
      ]
     },
     "execution_count": 245,
     "metadata": {},
     "output_type": "execute_result"
    }
   ],
   "source": [
    "#### 2. Describe the difference between composition and inheritance in object-oriented programming.\n",
    "\n",
    "'''\n",
    "A. Composition: \n",
    "    - Represents a \"has-a\" relationship. A class contains instances of other classes as attributes. \n",
    "    - It allows for more flexibility, as components can be changed or replaced.\n",
    "\n",
    "B. Inheritance: \n",
    "    - Represents an \"is-a\" relationship. A subclass inherits the behavior and properties of a parent class. \n",
    "    - It promotes code reuse but can lead to rigid class hierarchies.\n",
    "'''"
   ]
  },
  {
   "cell_type": "code",
   "execution_count": 246,
   "id": "d1166bad-89b4-42f1-b453-0fbcb5e2dca8",
   "metadata": {},
   "outputs": [
    {
     "name": "stdout",
     "output_type": "stream",
     "text": [
      "'Harry Potter' by J.K. Rowling, born on 1965-07-31\n"
     ]
    }
   ],
   "source": [
    "#### 3. Create a Python class called `Author` with attributes for name and birthdate. Then, create a `Book` class that contains an instance of `Author` as a composition. Provide an example of creating a `Book` object.\n",
    "\n",
    "class Author:\n",
    "    def __init__(self, name, birthdate):\n",
    "        self.name = name\n",
    "        self.birthdate = birthdate\n",
    "\n",
    "class Book:\n",
    "    def __init__(self, title, author):\n",
    "        self.title = title\n",
    "        self.author = author\n",
    "\n",
    "    def book_info(self):\n",
    "        return f\"'{self.title}' by {self.author.name}, born on {self.author.birthdate}\"\n",
    "\n",
    "# Example usage\n",
    "author = Author(\"J.K. Rowling\", \"1965-07-31\")\n",
    "book = Book(\"Harry Potter\", author)\n",
    "print(book.book_info())"
   ]
  },
  {
   "cell_type": "code",
   "execution_count": 247,
   "id": "3865e5e1-2bd1-447d-b335-384fb9bb7a85",
   "metadata": {},
   "outputs": [
    {
     "data": {
      "text/plain": [
       "'\\n- Composition offers more flexibility because it allows you to compose objects dynamically and change parts without affecting other components. \\n- It avoids the tight coupling and hierarchical complexity of inheritance, making the code more reusable and easier to maintain. \\n\\nFor instance, swapping components (like an engine in a car) is simpler with composition than with inheritance.\\n'"
      ]
     },
     "execution_count": 247,
     "metadata": {},
     "output_type": "execute_result"
    }
   ],
   "source": [
    "#### 4. Discuss the benefits of using composition over inheritance in Python, especially in terms of code flexibility and reusability.\n",
    "\n",
    "'''\n",
    "- Composition offers more flexibility because it allows you to compose objects dynamically and change parts without affecting other components. \n",
    "- It avoids the tight coupling and hierarchical complexity of inheritance, making the code more reusable and easier to maintain. \n",
    "\n",
    "For instance, swapping components (like an engine in a car) is simpler with composition than with inheritance.\n",
    "'''"
   ]
  },
  {
   "cell_type": "code",
   "execution_count": 248,
   "id": "a31879d6-d7af-451b-948a-c4b478d643b1",
   "metadata": {},
   "outputs": [
    {
     "name": "stdout",
     "output_type": "stream",
     "text": [
      "['Living Room', 'Bedroom']\n"
     ]
    }
   ],
   "source": [
    "#### 5. How can you implement composition in Python classes? Provide examples of using composition to create complex objects.\n",
    "\n",
    "'''\n",
    "Composition is implemented by creating instances of other classes inside a class and using them as attributes.\n",
    "'''\n",
    "\n",
    "#### Example\n",
    "\n",
    "class Room:\n",
    "    def __init__(self, name):\n",
    "        self.name = name\n",
    "\n",
    "class House:\n",
    "    def __init__(self, rooms):\n",
    "        self.rooms = rooms\n",
    "\n",
    "    def list_rooms(self):\n",
    "        return [room.name for room in self.rooms]\n",
    "\n",
    "# Example usage\n",
    "living_room = Room(\"Living Room\")\n",
    "bedroom = Room(\"Bedroom\")\n",
    "house = House([living_room, bedroom])\n",
    "print(house.list_rooms())"
   ]
  },
  {
   "cell_type": "code",
   "execution_count": 249,
   "id": "82ae9ccc-2498-4550-b2a6-324cf863b356",
   "metadata": {},
   "outputs": [
    {
     "name": "stdout",
     "output_type": "stream",
     "text": [
      "Playing Song 1 by Artist 1\n",
      "Playing Song 2 by Artist 2\n"
     ]
    }
   ],
   "source": [
    "#### 6. Create a Python class hierarchy for a music player system, using composition to represent playlists and songs.\n",
    "\n",
    "class Song:\n",
    "    def __init__(self, title, artist):\n",
    "        self.title = title\n",
    "        self.artist = artist\n",
    "\n",
    "    def play(self):\n",
    "        return f\"Playing {self.title} by {self.artist}\"\n",
    "\n",
    "class Playlist:\n",
    "    def __init__(self):\n",
    "        self.songs = []\n",
    "\n",
    "    def add_song(self, song):\n",
    "        self.songs.append(song)\n",
    "\n",
    "    def play_all(self):\n",
    "        for song in self.songs:\n",
    "            print(song.play())\n",
    "\n",
    "# Example usage\n",
    "song1 = Song(\"Song 1\", \"Artist 1\")\n",
    "song2 = Song(\"Song 2\", \"Artist 2\")\n",
    "playlist = Playlist()\n",
    "playlist.add_song(song1)\n",
    "playlist.add_song(song2)\n",
    "playlist.play_all()"
   ]
  },
  {
   "cell_type": "code",
   "execution_count": 250,
   "id": "3f441a1e-69b6-4e0d-b3b7-1acac1571684",
   "metadata": {},
   "outputs": [
    {
     "data": {
      "text/plain": [
       "'\\n- A \"has-a\" relationship means that one object contains or is composed of another object. \\n  For example, a Car has an Engine and Wheels. This helps in software design by allowing components to be easily reused and swapped, resulting in modular and flexible systems.\\n'"
      ]
     },
     "execution_count": 250,
     "metadata": {},
     "output_type": "execute_result"
    }
   ],
   "source": [
    "#### 7. Explain the concept of \"has-a\" relationships in composition and how it helps design software systems.\n",
    "\n",
    "'''\n",
    "- A \"has-a\" relationship means that one object contains or is composed of another object. \n",
    "  For example, a Car has an Engine and Wheels. This helps in software design by allowing components to be easily reused and swapped, resulting in modular and flexible systems.\n",
    "'''"
   ]
  },
  {
   "cell_type": "code",
   "execution_count": 251,
   "id": "9f499c67-f877-4836-9faa-93015b9cdc76",
   "metadata": {},
   "outputs": [
    {
     "name": "stdout",
     "output_type": "stream",
     "text": [
      "CPU: Intel i7, RAM: 16GB, Storage: 1TB\n"
     ]
    }
   ],
   "source": [
    "#### 8. Create a Python class for a computer system, using composition to represent components like CPU, RAM, and storage devices.\n",
    "\n",
    "class CPU:\n",
    "    def __init__(self, model):\n",
    "        self.model = model\n",
    "\n",
    "class RAM:\n",
    "    def __init__(self, size):\n",
    "        self.size = size\n",
    "\n",
    "class Storage:\n",
    "    def __init__(self, capacity):\n",
    "        self.capacity = capacity\n",
    "\n",
    "class Computer:\n",
    "    def __init__(self, cpu, ram, storage):\n",
    "        self.cpu = cpu\n",
    "        self.ram = ram\n",
    "        self.storage = storage\n",
    "\n",
    "    def system_info(self):\n",
    "        return f\"CPU: {self.cpu.model}, RAM: {self.ram.size}GB, Storage: {self.storage.capacity}TB\"\n",
    "\n",
    "# Example usage\n",
    "cpu = CPU(\"Intel i7\")\n",
    "ram = RAM(16)\n",
    "storage = Storage(1)\n",
    "computer = Computer(cpu, ram, storage)\n",
    "print(computer.system_info())"
   ]
  },
  {
   "cell_type": "code",
   "execution_count": 252,
   "id": "867a80f5-e1c0-4a0c-9d28-85bc7f030c3c",
   "metadata": {},
   "outputs": [
    {
     "data": {
      "text/plain": [
       "'\\n- Delegation in composition refers to handing off responsibilities from one class to another. \\n  For example, instead of a Car class handling all operations like starting the engine, it can delegate that task to an Engine object, simplifying the car’s design.\\n'"
      ]
     },
     "execution_count": 252,
     "metadata": {},
     "output_type": "execute_result"
    }
   ],
   "source": [
    "#### 9. Describe the concept of \"delegation\" in composition and how it simplifies the design of complex systems.\n",
    "\n",
    "'''\n",
    "- Delegation in composition refers to handing off responsibilities from one class to another. \n",
    "  For example, instead of a Car class handling all operations like starting the engine, it can delegate that task to an Engine object, simplifying the car’s design.\n",
    "'''"
   ]
  },
  {
   "cell_type": "code",
   "execution_count": 253,
   "id": "de8a55f8-32af-4faa-9c7b-cdc5a6e26f1d",
   "metadata": {},
   "outputs": [
    {
     "name": "stdout",
     "output_type": "stream",
     "text": [
      "Engine starts\n",
      "Gear shifted\n",
      "Wheels rotate\n"
     ]
    }
   ],
   "source": [
    "#### 10. Create a Python class for a car, using composition to represent components like the engine, wheels, and transmission.\n",
    "\n",
    "class Engine:\n",
    "    def start(self):\n",
    "        return \"Engine starts\"\n",
    "\n",
    "class Wheels:\n",
    "    def rotate(self):\n",
    "        return \"Wheels rotate\"\n",
    "\n",
    "class Transmission:\n",
    "    def shift_gear(self):\n",
    "        return \"Gear shifted\"\n",
    "\n",
    "class Car:\n",
    "    def __init__(self, engine, wheels, transmission):\n",
    "        self.engine = engine\n",
    "        self.wheels = wheels\n",
    "        self.transmission = transmission\n",
    "\n",
    "    def drive(self):\n",
    "        print(self.engine.start())\n",
    "        print(self.transmission.shift_gear())\n",
    "        print(self.wheels.rotate())\n",
    "\n",
    "# Example usage\n",
    "engine = Engine()\n",
    "wheels = Wheels()\n",
    "transmission = Transmission()\n",
    "car = Car(engine, wheels, transmission)\n",
    "car.drive()"
   ]
  },
  {
   "cell_type": "code",
   "execution_count": 254,
   "id": "c45627ab-e5b4-428e-83c1-8f7b17adea4f",
   "metadata": {},
   "outputs": [
    {
     "data": {
      "text/plain": [
       "'\\na. You can encapsulate composed objects by making them private attributes (using _ or __ before the attribute name). \\nb. This hides the internal implementation details and allows external objects to interact only through public methods, maintaining abstraction.\\n'"
      ]
     },
     "execution_count": 254,
     "metadata": {},
     "output_type": "execute_result"
    }
   ],
   "source": [
    "#### 11. How can you encapsulate and hide the details of composed objects in Python classes to maintain abstraction?\n",
    "\n",
    "'''\n",
    "a. You can encapsulate composed objects by making them private attributes (using _ or __ before the attribute name). \n",
    "b. This hides the internal implementation details and allows external objects to interact only through public methods, maintaining abstraction.\n",
    "'''"
   ]
  },
  {
   "cell_type": "code",
   "execution_count": 255,
   "id": "12750b4b-7f88-4f89-b9cd-c51869502f40",
   "metadata": {},
   "outputs": [
    {
     "name": "stdout",
     "output_type": "stream",
     "text": [
      "Course: CS101, Instructor: Dr. Smith, Students: ['Alice', 'Bob'], Materials: ['Python Basics', 'OOP Concepts']\n"
     ]
    }
   ],
   "source": [
    "#### 12. Create a Python class for a university course, using composition to represent students, instructors, and course materials.\n",
    "\n",
    "class Student:\n",
    "    def __init__(self, name):\n",
    "        self.name = name\n",
    "\n",
    "class Instructor:\n",
    "    def __init__(self, name):\n",
    "        self.name = name\n",
    "\n",
    "class CourseMaterial:\n",
    "    def __init__(self, title):\n",
    "        self.title = title\n",
    "\n",
    "class Course:\n",
    "    def __init__(self, name, instructor, materials):\n",
    "        self.name = name\n",
    "        self.instructor = instructor\n",
    "        self.students = []\n",
    "        self.materials = materials\n",
    "\n",
    "    def enroll_student(self, student):\n",
    "        self.students.append(student)\n",
    "\n",
    "    def course_info(self):\n",
    "        student_names = [student.name for student in self.students]\n",
    "        material_titles = [material.title for material in self.materials]\n",
    "        return f\"Course: {self.name}, Instructor: {self.instructor.name}, Students: {student_names}, Materials: {material_titles}\"\n",
    "\n",
    "# Example usage\n",
    "instructor = Instructor(\"Dr. Smith\")\n",
    "materials = [CourseMaterial(\"Python Basics\"), CourseMaterial(\"OOP Concepts\")]\n",
    "course = Course(\"CS101\", instructor, materials)\n",
    "course.enroll_student(Student(\"Alice\"))\n",
    "course.enroll_student(Student(\"Bob\"))\n",
    "print(course.course_info())"
   ]
  },
  {
   "cell_type": "code",
   "execution_count": 256,
   "id": "06fe10b2-9179-4824-b0f4-dc498bd1f064",
   "metadata": {},
   "outputs": [
    {
     "data": {
      "text/plain": [
       "'\\na. While composition promotes flexibility and modularity, it can lead to increased complexity, especially when many small objects interact with each other. \\nb. It also risks creating tight coupling if objects are too dependent on each other, making changes harder to implement.\\n'"
      ]
     },
     "execution_count": 256,
     "metadata": {},
     "output_type": "execute_result"
    }
   ],
   "source": [
    "#### 13. Discuss the challenges and drawbacks of composition, such as increased complexity and potential for tight coupling between objects.\n",
    "\n",
    "'''\n",
    "a. While composition promotes flexibility and modularity, it can lead to increased complexity, especially when many small objects interact with each other. \n",
    "b. It also risks creating tight coupling if objects are too dependent on each other, making changes harder to implement.\n",
    "'''"
   ]
  },
  {
   "cell_type": "code",
   "execution_count": 257,
   "id": "8f6b12d0-7f7d-4839-94f2-ac35d250dc0d",
   "metadata": {},
   "outputs": [
    {
     "name": "stdout",
     "output_type": "stream",
     "text": [
      "Spicy Chicken with ingredients: Chicken, Spices\n",
      "Pasta with ingredients: Pasta, Tomato Sauce\n"
     ]
    }
   ],
   "source": [
    "#### 14. Create a Python class hierarchy for a restaurant system, using composition to represent menus, dishes, and ingredients.\n",
    "\n",
    "class Ingredient:\n",
    "    def __init__(self, name):\n",
    "        self.name = name\n",
    "\n",
    "class Dish:\n",
    "    def __init__(self, name, ingredients):\n",
    "        self.name = name\n",
    "        self.ingredients = ingredients\n",
    "\n",
    "    def dish_info(self):\n",
    "        return f\"{self.name} with ingredients: {', '.join([ingredient.name for ingredient in self.ingredients])}\"\n",
    "\n",
    "class Menu:\n",
    "    def __init__(self):\n",
    "        self.dishes = []\n",
    "\n",
    "    def add_dish(self, dish):\n",
    "        self.dishes.append(dish)\n",
    "\n",
    "    def show_menu(self):\n",
    "        for dish in self.dishes:\n",
    "            print(dish.dish_info())\n",
    "\n",
    "# Example usage\n",
    "ingredients1 = [Ingredient(\"Chicken\"), Ingredient(\"Spices\")]\n",
    "ingredients2 = [Ingredient(\"Pasta\"), Ingredient(\"Tomato Sauce\")]\n",
    "dish1 = Dish(\"Spicy Chicken\", ingredients1)\n",
    "dish2 = Dish(\"Pasta\", ingredients2)\n",
    "menu = Menu()\n",
    "menu.add_dish(dish1)\n",
    "menu.add_dish(dish2)\n",
    "menu.show_menu()"
   ]
  },
  {
   "cell_type": "code",
   "execution_count": 258,
   "id": "15f000d5-6062-45e9-b105-19bbbcbfd3e6",
   "metadata": {},
   "outputs": [
    {
     "data": {
      "text/plain": [
       "'\\na. Composition encourages breaking a system into smaller, reusable parts. \\nb. Each part (object) can be independently maintained and tested. \\nc. Changes to one part don’t affect others, making the system modular, easier to understand, and more maintainable.\\n'"
      ]
     },
     "execution_count": 258,
     "metadata": {},
     "output_type": "execute_result"
    }
   ],
   "source": [
    "#### 15. Explain how composition enhances code maintainability and modularity in Python programs.\n",
    "\n",
    "'''\n",
    "a. Composition encourages breaking a system into smaller, reusable parts. \n",
    "b. Each part (object) can be independently maintained and tested. \n",
    "c. Changes to one part don’t affect others, making the system modular, easier to understand, and more maintainable.\n",
    "'''"
   ]
  },
  {
   "cell_type": "code",
   "execution_count": 259,
   "id": "94840a82-b1fe-4455-a467-75797611f3c3",
   "metadata": {},
   "outputs": [
    {
     "name": "stdout",
     "output_type": "stream",
     "text": [
      "Warrior with Sword and Steel armor.\n"
     ]
    }
   ],
   "source": [
    "#### 16. Create a Python class for a computer game character, using composition to represent attributes like weapons, armor, and inventory.\n",
    "\n",
    "class Weapon:\n",
    "    def __init__(self, name):\n",
    "        self.name = name\n",
    "\n",
    "class Armor:\n",
    "    def __init__(self, type):\n",
    "        self.type = type\n",
    "\n",
    "class Inventory:\n",
    "    def __init__(self):\n",
    "        self.items = []\n",
    "\n",
    "    def add_item(self, item):\n",
    "        self.items.append(item)\n",
    "\n",
    "class Character:\n",
    "    def __init__(self, name, weapon, armor):\n",
    "        self.name = name\n",
    "        self.weapon = weapon\n",
    "        self.armor = armor\n",
    "        self.inventory = Inventory()\n",
    "\n",
    "    def character_info(self):\n",
    "        return f\"{self.name} with {self.weapon.name} and {self.armor.type} armor.\"\n",
    "\n",
    "# Example usage\n",
    "weapon = Weapon(\"Sword\")\n",
    "armor = Armor(\"Steel\")\n",
    "character = Character(\"Warrior\", weapon, armor)\n",
    "character.inventory.add_item(\"Potion\")\n",
    "print(character.character_info())"
   ]
  },
  {
   "cell_type": "code",
   "execution_count": 260,
   "id": "3b5dd56b-e00f-4346-a2b7-039a91f136db",
   "metadata": {},
   "outputs": [
    {
     "data": {
      "text/plain": [
       "'\\na. Aggregation is a type of composition where the composed objects can exist independently of the container object. \\nb. In aggregation, the components are not fully owned by the container (like students in a course). \\nc. In simple composition, the components depend on the whole (like an engine in a car).\\n'"
      ]
     },
     "execution_count": 260,
     "metadata": {},
     "output_type": "execute_result"
    }
   ],
   "source": [
    "#### 17. Describe the concept of \"aggregation\" in composition and how it differs from simple composition.\n",
    "\n",
    "'''\n",
    "a. Aggregation is a type of composition where the composed objects can exist independently of the container object. \n",
    "b. In aggregation, the components are not fully owned by the container (like students in a course). \n",
    "c. In simple composition, the components depend on the whole (like an engine in a car).\n",
    "'''"
   ]
  },
  {
   "cell_type": "code",
   "execution_count": 261,
   "id": "303bc24c-8c80-448b-b8f2-3e1c072579f5",
   "metadata": {},
   "outputs": [
    {
     "name": "stdout",
     "output_type": "stream",
     "text": [
      "Rooms: Living Room, Kitchen, Furniture: Sofa, Dining Table, Appliances: Fridge, Oven\n"
     ]
    }
   ],
   "source": [
    "#### 18. Create a Python class for a house, using composition to represent rooms, furniture, and appliances.\n",
    "\n",
    "class Room:\n",
    "    def __init__(self, name):\n",
    "        self.name = name\n",
    "\n",
    "class Furniture:\n",
    "    def __init__(self, name):\n",
    "        self.name = name\n",
    "\n",
    "class Appliance:\n",
    "    def __init__(self, name):\n",
    "        self.name = name\n",
    "\n",
    "class House:\n",
    "    def __init__(self, rooms, furniture, appliances):\n",
    "        self.rooms = rooms\n",
    "        self.furniture = furniture\n",
    "        self.appliances = appliances\n",
    "\n",
    "    def house_info(self):\n",
    "        return f\"Rooms: {', '.join([room.name for room in self.rooms])}, Furniture: {', '.join([f.name for f in self.furniture])}, Appliances: {', '.join([a.name for a in self.appliances])}\"\n",
    "\n",
    "# Example usage\n",
    "rooms = [Room(\"Living Room\"), Room(\"Kitchen\")]\n",
    "furniture = [Furniture(\"Sofa\"), Furniture(\"Dining Table\")]\n",
    "appliances = [Appliance(\"Fridge\"), Appliance(\"Oven\")]\n",
    "house = House(rooms, furniture, appliances)\n",
    "print(house.house_info())"
   ]
  },
  {
   "cell_type": "code",
   "execution_count": 262,
   "id": "0a196151-65bb-4689-a9df-178ad51531cf",
   "metadata": {},
   "outputs": [
    {
     "data": {
      "text/plain": [
       "'\\na. In Python, objects can be replaced or modified dynamically by assigning new instances to class attributes. \\n   For example, you can swap out a Weapon object in a Character class at runtime to change the character’s weapon without modifying the class definition.\\n'"
      ]
     },
     "execution_count": 262,
     "metadata": {},
     "output_type": "execute_result"
    }
   ],
   "source": [
    "#### 19. How can you achieve flexibility in composed objects by allowing them to be replaced or modified dynamically at runtime?\n",
    "\n",
    "'''\n",
    "a. In Python, objects can be replaced or modified dynamically by assigning new instances to class attributes. \n",
    "   For example, you can swap out a Weapon object in a Character class at runtime to change the character’s weapon without modifying the class definition.\n",
    "'''"
   ]
  },
  {
   "cell_type": "code",
   "execution_count": 263,
   "id": "3eda2185-a0de-49d5-9d8b-e61a3fd9015c",
   "metadata": {},
   "outputs": [
    {
     "name": "stdout",
     "output_type": "stream",
     "text": [
      "alice: Hello world!\n",
      "  bob: Nice post!\n"
     ]
    }
   ],
   "source": [
    "#### 20. Create a Python class for a social media application, using composition to represent users, posts, and comments.\n",
    "\n",
    "class User:\n",
    "    def __init__(self, username):\n",
    "        self.username = username\n",
    "\n",
    "class Post:\n",
    "    def __init__(self, content, author):\n",
    "        self.content = content\n",
    "        self.author = author\n",
    "        self.comments = []\n",
    "\n",
    "    def add_comment(self, comment):\n",
    "        self.comments.append(comment)\n",
    "\n",
    "class Comment:\n",
    "    def __init__(self, content, author):\n",
    "        self.content = content\n",
    "        self.author = author\n",
    "\n",
    "class SocialMediaApp:\n",
    "    def __init__(self):\n",
    "        self.posts = []\n",
    "\n",
    "    def create_post(self, content, user):\n",
    "        post = Post(content, user)\n",
    "        self.posts.append(post)\n",
    "\n",
    "    def show_posts(self):\n",
    "        for post in self.posts:\n",
    "            print(f\"{post.author.username}: {post.content}\")\n",
    "            for comment in post.comments:\n",
    "                print(f\"  {comment.author.username}: {comment.content}\")\n",
    "\n",
    "# Example usage\n",
    "user1 = User(\"alice\")\n",
    "user2 = User(\"bob\")\n",
    "app = SocialMediaApp()\n",
    "app.create_post(\"Hello world!\", user1)\n",
    "app.posts[0].add_comment(Comment(\"Nice post!\", user2))\n",
    "app.show_posts()"
   ]
  },
  {
   "cell_type": "code",
   "execution_count": null,
   "id": "d49636c8-7ce6-408f-813f-5fa88d99c733",
   "metadata": {},
   "outputs": [],
   "source": []
  }
 ],
 "metadata": {
  "kernelspec": {
   "display_name": "Python 3 (ipykernel)",
   "language": "python",
   "name": "python3"
  },
  "language_info": {
   "codemirror_mode": {
    "name": "ipython",
    "version": 3
   },
   "file_extension": ".py",
   "mimetype": "text/x-python",
   "name": "python",
   "nbconvert_exporter": "python",
   "pygments_lexer": "ipython3",
   "version": "3.10.8"
  }
 },
 "nbformat": 4,
 "nbformat_minor": 5
}
