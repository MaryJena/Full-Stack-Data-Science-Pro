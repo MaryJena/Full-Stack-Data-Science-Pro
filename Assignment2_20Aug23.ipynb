{
 "cells": [
  {
   "cell_type": "code",
   "execution_count": 143,
   "id": "32c4a1ea-5bcd-4203-9b5f-c4475c184f86",
   "metadata": {},
   "outputs": [
    {
     "data": {
      "text/plain": [
       "'5,4,3,2,1'"
      ]
     },
     "execution_count": 143,
     "metadata": {},
     "output_type": "execute_result"
    }
   ],
   "source": [
    "### 1. Write a program to reverse a string.\n",
    "s = \"1,2,3,4,5\"\n",
    "s[::-1]"
   ]
  },
  {
   "cell_type": "code",
   "execution_count": 144,
   "id": "31e94f7d-f4ee-4285-a209-76016672e762",
   "metadata": {},
   "outputs": [
    {
     "name": "stdout",
     "output_type": "stream",
     "text": [
      "s1 is a palindrome.\n"
     ]
    }
   ],
   "source": [
    "### 2. Check if a string is a palindrome.\n",
    "s1 =\"madam\"\n",
    "reverse_s1 = s1[::-1]\n",
    "if s1 == reverse_s1:\n",
    "    print(\"s1 is a palindrome.\")\n",
    "else:\n",
    "    print(\"s1 is not a palindrome.\")"
   ]
  },
  {
   "cell_type": "code",
   "execution_count": 145,
   "id": "98a0d901-d956-468f-901e-14befb0c6416",
   "metadata": {},
   "outputs": [
    {
     "data": {
      "text/plain": [
       "'MARY'"
      ]
     },
     "execution_count": 145,
     "metadata": {},
     "output_type": "execute_result"
    }
   ],
   "source": [
    "### 3. Convert a string to uppercase.\n",
    "s2 = \"mary\"\n",
    "s2.upper()"
   ]
  },
  {
   "cell_type": "code",
   "execution_count": 146,
   "id": "0e724133-aa0f-4754-92d5-5e3f43edf7fd",
   "metadata": {},
   "outputs": [
    {
     "data": {
      "text/plain": [
       "'mary'"
      ]
     },
     "execution_count": 146,
     "metadata": {},
     "output_type": "execute_result"
    }
   ],
   "source": [
    "### 4. Convert a string to lowercase.\n",
    "s3 = \"MARY\"\n",
    "s3.lower()"
   ]
  },
  {
   "cell_type": "code",
   "execution_count": 147,
   "id": "1844016c-5f63-4cb6-8b4c-47726ee088c3",
   "metadata": {},
   "outputs": [
    {
     "name": "stdout",
     "output_type": "stream",
     "text": [
      "6\n"
     ]
    }
   ],
   "source": [
    "### 5. Count the number of vowels in a string.\n",
    "s4 = \"My name is Mary Jena.\"\n",
    "\n",
    "vowels = \"aeiouAEIOU\"\n",
    "\n",
    "vowel_count = 0\n",
    "\n",
    "for char in s4:\n",
    "    if char in vowels:\n",
    "        vowel_count += 1\n",
    "print(vowel_count)"
   ]
  },
  {
   "cell_type": "code",
   "execution_count": 148,
   "id": "9794abdb-e956-4b05-b6ad-c08a4f29315d",
   "metadata": {},
   "outputs": [
    {
     "name": "stdout",
     "output_type": "stream",
     "text": [
      "19\n"
     ]
    }
   ],
   "source": [
    "### 6. Count the number of consonants in a string.\n",
    "s5 = \"I am Learning Full Stack Data Science.\"\n",
    "\n",
    "### declaring set of vowels and alphabets\n",
    "vowel = \"aeiouAEIOU\"\n",
    "alphabet = \"abcdefghijklmnopqrstuvwxyzABCDEFGHIJKLMNOPQRSTUVWXYZ\"\n",
    "\n",
    "consonant_count = 0\n",
    "\n",
    "for char in s5:\n",
    "    if char in alphabet and char not in vowel:\n",
    "        consonant_count += 1\n",
    "print(consonant_count)\n"
   ]
  },
  {
   "cell_type": "code",
   "execution_count": 149,
   "id": "953e720a-1d97-49d9-94ec-b27f60038c6e",
   "metadata": {},
   "outputs": [
    {
     "name": "stdout",
     "output_type": "stream",
     "text": [
      "MARYJENA\n"
     ]
    }
   ],
   "source": [
    "### 7. Remove all whitespaces from a string.\n",
    "s6 = \"M A R Y J E N A\"\n",
    "remove_whitespaces = s6.replace(\" \",\"\")\n",
    "\n",
    "print(remove_whitespaces)"
   ]
  },
  {
   "cell_type": "code",
   "execution_count": 150,
   "id": "58f8a32f-2a78-4694-9068-1edfb14e9f6a",
   "metadata": {},
   "outputs": [
    {
     "name": "stdout",
     "output_type": "stream",
     "text": [
      "50\n"
     ]
    }
   ],
   "source": [
    "### 8. Find the length of a string without using the `len()` function.\n",
    "\n",
    "s7 = \"I am Learning Full Stack Data Science at pwskills.\"\n",
    "\n",
    "length = 0\n",
    "\n",
    "for char in s7:\n",
    "    length += 1\n",
    "\n",
    "print(length)"
   ]
  },
  {
   "cell_type": "code",
   "execution_count": 151,
   "id": "d837fee8-6435-49fa-bb1a-ac84cbe24640",
   "metadata": {},
   "outputs": [
    {
     "data": {
      "text/plain": [
       "5"
      ]
     },
     "execution_count": 151,
     "metadata": {},
     "output_type": "execute_result"
    }
   ],
   "source": [
    "### 9. Check if a string contains a specific word.\n",
    "s8 = \"I am Learning Full Stack Data Science at pwskills.\"\n",
    "\n",
    "s8.find('Learning')\n"
   ]
  },
  {
   "cell_type": "code",
   "execution_count": 152,
   "id": "a534e2cb-5175-498d-a289-c6d46a4968be",
   "metadata": {},
   "outputs": [
    {
     "name": "stdout",
     "output_type": "stream",
     "text": [
      "I love kiwi\n"
     ]
    }
   ],
   "source": [
    "#### 10. Replace a word in a string with another word.\n",
    "\n",
    "# Original string\n",
    "text = \"I love apples\"\n",
    "\n",
    "# Replace 'apples' with 'bananas'\n",
    "new_text = text.replace(\"apples\", \"kiwi\")\n",
    "\n",
    "print(new_text)\n"
   ]
  },
  {
   "cell_type": "code",
   "execution_count": 153,
   "id": "130d002c-40de-47dc-8b7c-47162bcf350b",
   "metadata": {},
   "outputs": [
    {
     "name": "stdout",
     "output_type": "stream",
     "text": [
      "2\n"
     ]
    }
   ],
   "source": [
    "#### 11. Count the occurrences of a word in a string.\n",
    "\n",
    "# Original string\n",
    "text = \"One apple a day keeps the doctor away. Apples are great.\"\n",
    "\n",
    "# Count the occurrences of the word 'apples'\n",
    "count = text.lower().count(\"apple\")\n",
    "\n",
    "print(count)\n"
   ]
  },
  {
   "cell_type": "code",
   "execution_count": 154,
   "id": "b281141a-d6cc-4683-991e-09ed0b7f2e8e",
   "metadata": {},
   "outputs": [
    {
     "name": "stdout",
     "output_type": "stream",
     "text": [
      "7\n"
     ]
    }
   ],
   "source": [
    "#### 12. Find the first occurrence of a word in a string.\n",
    "\n",
    "# Original string\n",
    "text = \"I love apples. Apples are great. I eat apples every day.\"\n",
    "\n",
    "# Find the first occurrence of the word 'apples'\n",
    "position = text.lower().find(\"apples\")\n",
    "\n",
    "print(position)"
   ]
  },
  {
   "cell_type": "code",
   "execution_count": 155,
   "id": "fb5ab463-0e3d-4df6-a4a1-d78c9dc40cf0",
   "metadata": {},
   "outputs": [
    {
     "name": "stdout",
     "output_type": "stream",
     "text": [
      "39\n"
     ]
    }
   ],
   "source": [
    "#### 13. Find the last occurrence of a word in a string.\n",
    "\n",
    "# Original string\n",
    "text = \"I love apples. Apples are great. I eat apples every day.\"\n",
    "\n",
    "# Find the last occurrence of the word 'apples'\n",
    "position = text.lower().rfind(\"apples\")\n",
    "\n",
    "print(position)"
   ]
  },
  {
   "cell_type": "code",
   "execution_count": 156,
   "id": "aa5dd32d-c90e-473b-87aa-2a8aa5050004",
   "metadata": {},
   "outputs": [
    {
     "name": "stdout",
     "output_type": "stream",
     "text": [
      "['I', 'love', 'apples.', 'Apples', 'are', 'great.']\n"
     ]
    }
   ],
   "source": [
    "#### 14. Split a string into a list of words.\n",
    "\n",
    "# Original string\n",
    "text = \"I love apples. Apples are great.\"\n",
    "\n",
    "# Split the string into a list of words\n",
    "words = text.split()\n",
    "\n",
    "print(words)"
   ]
  },
  {
   "cell_type": "code",
   "execution_count": 157,
   "id": "df47ce5e-665c-4e1c-bfb8-259bb01c5175",
   "metadata": {},
   "outputs": [
    {
     "name": "stdout",
     "output_type": "stream",
     "text": [
      "I love apples. Apples are great.\n"
     ]
    }
   ],
   "source": [
    "#### 15. Join a list of words into a string.\n",
    "\n",
    "# List of words\n",
    "words = ['I', 'love', 'apples.', 'Apples', 'are', 'great.']\n",
    "\n",
    "# Join the list into a string\n",
    "sentence = ' '.join(words)\n",
    "\n",
    "print(sentence)"
   ]
  },
  {
   "cell_type": "code",
   "execution_count": 158,
   "id": "b34bcdd5-2de1-4eb5-ab42-4429d1686745",
   "metadata": {},
   "outputs": [
    {
     "name": "stdout",
     "output_type": "stream",
     "text": [
      "I_love_apples._Apples_are_great.\n"
     ]
    }
   ],
   "source": [
    "#### 16. Convert a string where words are separated by spaces to one where words are separated by underscores.\n",
    "\n",
    "# Original string\n",
    "text = \"I love apples. Apples are great.\"\n",
    "\n",
    "# Replace spaces with underscores\n",
    "new_text = text.replace(\" \", \"_\")\n",
    "\n",
    "print(new_text)"
   ]
  },
  {
   "cell_type": "code",
   "execution_count": 159,
   "id": "d8a60473-0a85-47ff-8a20-e7b0f26cc866",
   "metadata": {},
   "outputs": [
    {
     "name": "stdout",
     "output_type": "stream",
     "text": [
      "True\n"
     ]
    }
   ],
   "source": [
    "#### 17. Check if a string starts with a specific word or phrase.\n",
    "\n",
    "# Original string\n",
    "text = \"I love apples. Apples are great.\"\n",
    "\n",
    "# Check if the string starts with 'I love'\n",
    "result = text.startswith(\"I love\")\n",
    "\n",
    "print(result)"
   ]
  },
  {
   "cell_type": "code",
   "execution_count": 160,
   "id": "6137891e-93c7-4e95-bbb3-de6625a0f39a",
   "metadata": {},
   "outputs": [
    {
     "name": "stdout",
     "output_type": "stream",
     "text": [
      "True\n"
     ]
    }
   ],
   "source": [
    "#### 18. Check if a string ends with a specific word or phrase.\n",
    "\n",
    "# Original string\n",
    "text = \"I love apples. Apples are great.\"\n",
    "\n",
    "# Check if the string ends with 'are great.'\n",
    "result = text.endswith(\"are great.\")\n",
    "\n",
    "print(result)"
   ]
  },
  {
   "cell_type": "code",
   "execution_count": 161,
   "id": "d7856813-c506-4ea5-8e18-52a465a2aab1",
   "metadata": {},
   "outputs": [
    {
     "name": "stdout",
     "output_type": "stream",
     "text": [
      "Hello World\n"
     ]
    }
   ],
   "source": [
    "#### 19. Convert a string to title case (e.g., \"hello world\" to \"Hello World\").\n",
    "\n",
    "# Original string\n",
    "text = \"hello world\"\n",
    "\n",
    "# Convert to title case\n",
    "title_case_text = text.title()\n",
    "\n",
    "print(title_case_text)"
   ]
  },
  {
   "cell_type": "code",
   "execution_count": 162,
   "id": "60abbfe4-5b18-4624-8f3f-81fceb5dd913",
   "metadata": {},
   "outputs": [
    {
     "name": "stdout",
     "output_type": "stream",
     "text": [
      "interesting.\n"
     ]
    }
   ],
   "source": [
    "#### 20. Find the longest word in a string.\n",
    "\n",
    "# Original string\n",
    "text = \"I love programming with Python. It is very interesting.\"\n",
    "\n",
    "# Split the string into words\n",
    "words = text.split()\n",
    "\n",
    "# Find the longest word\n",
    "longest_word = max(words, key=len)\n",
    "\n",
    "print(longest_word)"
   ]
  },
  {
   "cell_type": "code",
   "execution_count": 163,
   "id": "ea7d80e2-4fac-4a6f-877c-9088a5d40ce8",
   "metadata": {},
   "outputs": [
    {
     "name": "stdout",
     "output_type": "stream",
     "text": [
      "I\n"
     ]
    }
   ],
   "source": [
    "#### 21. Find the shortest word in a string.\n",
    "\n",
    "# Original string\n",
    "text = \"I love programming with Python. It is very interesting.\"\n",
    "\n",
    "# Split the string into words\n",
    "words = text.split()\n",
    "\n",
    "# Find the shortest word\n",
    "shortest_word = min(words, key=len)\n",
    "\n",
    "print(shortest_word)"
   ]
  },
  {
   "cell_type": "code",
   "execution_count": 164,
   "id": "b4a87c72-b272-4df4-8267-d0dbd9818565",
   "metadata": {},
   "outputs": [
    {
     "name": "stdout",
     "output_type": "stream",
     "text": [
      "Python. with programming love I\n"
     ]
    }
   ],
   "source": [
    "#### 22. Reverse the order of words in a string.\n",
    "\n",
    "# Original string\n",
    "text = \"I love programming with Python.\"\n",
    "\n",
    "# Split the string into words\n",
    "words = text.split()\n",
    "\n",
    "# Reverse the order of words\n",
    "reversed_words = words[::-1]\n",
    "\n",
    "# Join the reversed list into a string\n",
    "reversed_text = ' '.join(reversed_words)\n",
    "\n",
    "print(reversed_text)"
   ]
  },
  {
   "cell_type": "code",
   "execution_count": 165,
   "id": "f69ccb73-e9bc-46e5-a415-4ca21fd8e7ef",
   "metadata": {},
   "outputs": [
    {
     "name": "stdout",
     "output_type": "stream",
     "text": [
      "True\n",
      "False\n",
      "False\n"
     ]
    }
   ],
   "source": [
    "#### 23. Check if a string is alphanumeric.\n",
    "\n",
    "# Original strings\n",
    "text1 = \"Hello123\"\n",
    "text2 = \"Hello 123\"\n",
    "text3 = \"Hello@123\"\n",
    "\n",
    "# Check if the strings are alphanumeric\n",
    "is_alphanumeric1 = text1.isalnum()\n",
    "is_alphanumeric2 = text2.isalnum()\n",
    "is_alphanumeric3 = text3.isalnum()\n",
    "\n",
    "print(is_alphanumeric1)  # True\n",
    "print(is_alphanumeric2)  # False\n",
    "print(is_alphanumeric3)  # False"
   ]
  },
  {
   "cell_type": "code",
   "execution_count": 166,
   "id": "324ce863-a8b1-4453-9c31-050d8e5a9337",
   "metadata": {},
   "outputs": [
    {
     "name": "stdout",
     "output_type": "stream",
     "text": [
      "12345\n"
     ]
    }
   ],
   "source": [
    "#### 24. Extract all digits from a string.\n",
    "\n",
    "# Original string\n",
    "text = \"The price is 123 dollars and 45 cents.\"\n",
    "\n",
    "# Extract all digits\n",
    "digits = ''.join([char for char in text if char.isdigit()])\n",
    "\n",
    "print(digits)"
   ]
  },
  {
   "cell_type": "code",
   "execution_count": 167,
   "id": "16fb3d7b-877f-4a01-9e60-fc52f9c88a7d",
   "metadata": {},
   "outputs": [
    {
     "name": "stdout",
     "output_type": "stream",
     "text": [
      "HelloLetsextractalphabets\n"
     ]
    }
   ],
   "source": [
    "#### 25. Extract all alphabets from a string.\n",
    "\n",
    "# Original string\n",
    "text = \"Hello 123! Let's extract alphabets.\"\n",
    "\n",
    "# Extract all alphabets\n",
    "alphabets = ''.join([char for char in text if char.isalpha()])\n",
    "\n",
    "print(alphabets)"
   ]
  },
  {
   "cell_type": "code",
   "execution_count": 168,
   "id": "cccdaef9-a4d3-421d-9d58-0407b2ca7e08",
   "metadata": {},
   "outputs": [
    {
     "name": "stdout",
     "output_type": "stream",
     "text": [
      "5\n"
     ]
    }
   ],
   "source": [
    "#### 26. Count the number of uppercase letters in a string.\n",
    "\n",
    "# Original string\n",
    "text = \"Hello World! Welcome to Python Programming.\"\n",
    "\n",
    "# Count the number of uppercase letters\n",
    "uppercase_count = len([char for char in text if char.isupper()])\n",
    "\n",
    "print(uppercase_count)"
   ]
  },
  {
   "cell_type": "code",
   "execution_count": 169,
   "id": "23e096ba-9fbb-4f07-9745-7ed53dcdb9d8",
   "metadata": {},
   "outputs": [
    {
     "name": "stdout",
     "output_type": "stream",
     "text": [
      "31\n"
     ]
    }
   ],
   "source": [
    "#### 27. Count the number of lowercase letters in a string.\n",
    "\n",
    "# Original string\n",
    "text = \"Hello World! Welcome to Python Programming.\"\n",
    "\n",
    "# Count the number of lowercase letters\n",
    "lowercase_count = len([char for char in text if char.islower()])\n",
    "\n",
    "print(lowercase_count)"
   ]
  },
  {
   "cell_type": "code",
   "execution_count": 170,
   "id": "2a9dc20f-8022-4071-a68b-ede3a8131d74",
   "metadata": {},
   "outputs": [
    {
     "name": "stdout",
     "output_type": "stream",
     "text": [
      "hELLO wORLD! pYTHON pROGRAMMING.\n"
     ]
    }
   ],
   "source": [
    "#### 28. Swap the case of each character in a string.\n",
    "\n",
    "# Original string\n",
    "text = \"Hello World! Python Programming.\"\n",
    "\n",
    "# Swap the case of each character\n",
    "swapped_text = text.swapcase()\n",
    "\n",
    "print(swapped_text)"
   ]
  },
  {
   "cell_type": "code",
   "execution_count": 171,
   "id": "66ec85ee-6361-428a-ab5f-ab4bea2a9b95",
   "metadata": {},
   "outputs": [
    {
     "name": "stdout",
     "output_type": "stream",
     "text": [
      "I love programming with . is amazing.\n"
     ]
    }
   ],
   "source": [
    "#### 29. Remove a specific word from a string.\n",
    "\n",
    "# Original string\n",
    "text = \"I love programming with Python. Python is amazing.\"\n",
    "\n",
    "# Word to remove\n",
    "word_to_remove = \"Python\"\n",
    "\n",
    "# Remove the word\n",
    "new_text = text.replace(word_to_remove, \"\").replace(\"  \", \" \").strip()\n",
    "\n",
    "print(new_text)"
   ]
  },
  {
   "cell_type": "code",
   "execution_count": 172,
   "id": "4d749d93-3aed-4bf0-b9f9-8ba913e9051f",
   "metadata": {},
   "outputs": [
    {
     "name": "stdout",
     "output_type": "stream",
     "text": [
      "True\n",
      "False\n"
     ]
    }
   ],
   "source": [
    "#### 30. Check if a string is a valid email address.\n",
    "\n",
    "import re\n",
    "\n",
    "# Function to check if an email is valid\n",
    "def is_valid_email(email):\n",
    "    # Simple pattern to check if the email looks correct\n",
    "    pattern = r'^[a-zA-Z0-9._%+-]+@[a-zA-Z0-9.-]+\\.[a-zA-Z]{2,}$'\n",
    "    return re.match(pattern, email) is not None\n",
    "\n",
    "# Test the function\n",
    "email1 = \"example@example.com\"\n",
    "email2 = \"invalid-email@.com\"\n",
    "\n",
    "print(is_valid_email(email1))  # This will print: True\n",
    "print(is_valid_email(email2))  # This will print: False"
   ]
  },
  {
   "cell_type": "code",
   "execution_count": 173,
   "id": "5a2dbb71-2beb-4ed4-b01e-aca4e9e32e72",
   "metadata": {},
   "outputs": [
    {
     "name": "stdout",
     "output_type": "stream",
     "text": [
      "username\n"
     ]
    }
   ],
   "source": [
    "#### 31. Extract the username from an email address string.\n",
    "\n",
    "# Original email address\n",
    "email = \"username@example.com\"\n",
    "\n",
    "# Extract the username\n",
    "username = email.split('@')[0]\n",
    "\n",
    "print(username)"
   ]
  },
  {
   "cell_type": "code",
   "execution_count": 174,
   "id": "0b9704d0-2a77-4f43-b2d4-40571b667a91",
   "metadata": {},
   "outputs": [
    {
     "name": "stdout",
     "output_type": "stream",
     "text": [
      "example.com\n"
     ]
    }
   ],
   "source": [
    "#### 32. Extract the domain name from an email address string.\n",
    "\n",
    "# Original email address\n",
    "email = \"username@example.com\"\n",
    "\n",
    "# Extract the domain name\n",
    "domain = email.split('@')[1]\n",
    "\n",
    "print(domain)"
   ]
  },
  {
   "cell_type": "code",
   "execution_count": 175,
   "id": "c0b257d9-e5da-4c8a-8138-919efe348e2f",
   "metadata": {},
   "outputs": [
    {
     "name": "stdout",
     "output_type": "stream",
     "text": [
      "This is a string with multiple spaces.\n"
     ]
    }
   ],
   "source": [
    "#### 33. Replace multiple spaces in a string with a single space.\n",
    "\n",
    "# Original string with multiple spaces\n",
    "text = \"This    is   a  string    with  multiple   spaces.\"\n",
    "\n",
    "# Replace multiple spaces with a single space\n",
    "normalized_text = re.sub(r'\\s+', ' ', text).strip()\n",
    "\n",
    "print(normalized_text)"
   ]
  },
  {
   "cell_type": "code",
   "execution_count": 176,
   "id": "b5d86530-9172-4421-8180-f7c91524610f",
   "metadata": {},
   "outputs": [
    {
     "name": "stdout",
     "output_type": "stream",
     "text": [
      "True\n",
      "False\n",
      "False\n"
     ]
    }
   ],
   "source": [
    "#### 34. Check if a string is a valid URL.\n",
    "\n",
    "# Function to check if a string is a valid URL\n",
    "def is_valid_url(url):\n",
    "    # Regular expression pattern for a basic URL validation\n",
    "    pattern = r'^(https?://)?[a-zA-Z0-9.-]+\\.[a-zA-Z]{2,}(\\/[a-zA-Z0-9&%_.+-]*)?$'\n",
    "    return re.match(pattern, url) is not None\n",
    "\n",
    "# Test cases\n",
    "url1 = \"https://www.example.com\"\n",
    "url2 = \"http://example\"\n",
    "url3 = \"ftp://example.com\"\n",
    "\n",
    "print(is_valid_url(url1))  # True\n",
    "print(is_valid_url(url2))  # False\n",
    "print(is_valid_url(url3))  # False"
   ]
  },
  {
   "cell_type": "code",
   "execution_count": 177,
   "id": "1d2e4adc-840f-4f41-a7cb-5ee628baa870",
   "metadata": {},
   "outputs": [
    {
     "name": "stdout",
     "output_type": "stream",
     "text": [
      "https\n"
     ]
    }
   ],
   "source": [
    "#### 35. Extract the protocol (http or https) from a URL string.\n",
    "\n",
    "from urllib.parse import urlparse\n",
    "\n",
    "# Original URL\n",
    "url = \"https://www.example.com/path/to/resource\"\n",
    "\n",
    "# Parse the URL\n",
    "parsed_url = urlparse(url)\n",
    "\n",
    "# Extract the protocol (scheme)\n",
    "protocol = parsed_url.scheme\n",
    "\n",
    "print(protocol)"
   ]
  },
  {
   "cell_type": "code",
   "execution_count": 178,
   "id": "1f8b7e7c-1b5e-410d-ad55-077d96b0c78a",
   "metadata": {},
   "outputs": [
    {
     "name": "stdout",
     "output_type": "stream",
     "text": [
      "Counter({'l': 3, 'o': 2, 'h': 1, 'e': 1, ' ': 1, 'w': 1, 'r': 1, 'd': 1})\n"
     ]
    }
   ],
   "source": [
    "#### 36. Find the frequency of each character in a string.\n",
    "\n",
    "from collections import Counter\n",
    "\n",
    "# Original string\n",
    "text = \"hello world\"\n",
    "\n",
    "# Count the frequency of each character\n",
    "frequency = Counter(text)\n",
    "\n",
    "print(frequency)"
   ]
  },
  {
   "cell_type": "code",
   "execution_count": 179,
   "id": "df39ba77-92fe-4f06-aa80-f6142a89e720",
   "metadata": {},
   "outputs": [
    {
     "name": "stdout",
     "output_type": "stream",
     "text": [
      "Hello world Hows everything\n"
     ]
    }
   ],
   "source": [
    "#### 37. Remove all punctuation from a string.\n",
    "\n",
    "import string\n",
    "\n",
    "# Original string with punctuation\n",
    "text = \"Hello, world! How's everything?\"\n",
    "\n",
    "# Create a translation table that maps punctuation to None\n",
    "translator = str.maketrans('', '', string.punctuation)\n",
    "\n",
    "# Remove punctuation using the translation table\n",
    "cleaned_text = text.translate(translator)\n",
    "\n",
    "print(cleaned_text)"
   ]
  },
  {
   "cell_type": "code",
   "execution_count": 180,
   "id": "8e8438a4-9e41-4db2-b6b4-c093d14409df",
   "metadata": {},
   "outputs": [
    {
     "name": "stdout",
     "output_type": "stream",
     "text": [
      "True\n",
      "False\n",
      "False\n"
     ]
    }
   ],
   "source": [
    "#### 38. Check if a string contains only digits.\n",
    "\n",
    "# Original strings\n",
    "text1 = \"123456\"\n",
    "text2 = \"123a45\"\n",
    "text3 = \"12 345\"\n",
    "\n",
    "# Check if the strings contain only digits\n",
    "is_digits1 = text1.isdigit()\n",
    "is_digits2 = text2.isdigit()\n",
    "is_digits3 = text3.isdigit()\n",
    "\n",
    "print(is_digits1)  # True\n",
    "print(is_digits2)  # False\n",
    "print(is_digits3)  # False"
   ]
  },
  {
   "cell_type": "code",
   "execution_count": 181,
   "id": "96fbcb03-ee37-4d02-b63e-ce3a8b9fca92",
   "metadata": {},
   "outputs": [
    {
     "name": "stdout",
     "output_type": "stream",
     "text": [
      "True\n",
      "False\n",
      "False\n"
     ]
    }
   ],
   "source": [
    "#### 39. Check if a string contains only alphabets.\n",
    "\n",
    "# Original strings\n",
    "text1 = \"HelloWorld\"\n",
    "text2 = \"Hello World\"\n",
    "text3 = \"Hello123\"\n",
    "\n",
    "# Check if the strings contain only alphabets\n",
    "is_alpha1 = text1.isalpha()\n",
    "is_alpha2 = text2.isalpha()\n",
    "is_alpha3 = text3.isalpha()\n",
    "\n",
    "print(is_alpha1)  # True\n",
    "print(is_alpha2)  # False\n",
    "print(is_alpha3)  # False"
   ]
  },
  {
   "cell_type": "code",
   "execution_count": 182,
   "id": "af9efa06-768c-477d-b330-30a385c72753",
   "metadata": {},
   "outputs": [
    {
     "name": "stdout",
     "output_type": "stream",
     "text": [
      "['h', 'e', 'l', 'l', 'o']\n"
     ]
    }
   ],
   "source": [
    "#### 40. Convert a string to a list of characters.\n",
    "\n",
    "# Original string\n",
    "text = \"hello\"\n",
    "\n",
    "# Convert the string to a list of characters\n",
    "char_list = list(text)\n",
    "\n",
    "print(char_list)"
   ]
  },
  {
   "cell_type": "code",
   "execution_count": 183,
   "id": "66c0b255-067e-4fa0-91a9-226edfdefaa5",
   "metadata": {},
   "outputs": [
    {
     "name": "stdout",
     "output_type": "stream",
     "text": [
      "True\n",
      "False\n"
     ]
    }
   ],
   "source": [
    "#### 41. Check if two strings are anagrams.\n",
    "\n",
    "def are_anagrams(str1, str2):\n",
    "    # Remove spaces and convert to lowercase\n",
    "    str1 = str1.replace(' ', '').lower()\n",
    "    str2 = str2.replace(' ', '').lower()\n",
    "    \n",
    "    # Check if sorted characters of both strings are the same\n",
    "    return sorted(str1) == sorted(str2)\n",
    "\n",
    "# Test cases\n",
    "string1 = \"Listen\"\n",
    "string2 = \"Silent\"\n",
    "string3 = \"Hello\"\n",
    "string4 = \"World\"\n",
    "\n",
    "print(are_anagrams(string1, string2))  # True\n",
    "print(are_anagrams(string3, string4))  # False"
   ]
  },
  {
   "cell_type": "code",
   "execution_count": 184,
   "id": "d70201ba-1d3e-4c0a-92bb-6990ae40ffde",
   "metadata": {},
   "outputs": [
    {
     "name": "stdout",
     "output_type": "stream",
     "text": [
      "Khoor, Zruog!\n"
     ]
    }
   ],
   "source": [
    "#### 42. Encode a string using a Caesar cipher.\n",
    "\n",
    "def caesar_cipher(text, shift):\n",
    "    result = []\n",
    "    for char in text:\n",
    "        if char.isalpha():  # Check if the character is a letter\n",
    "            # Determine the start of the alphabet for upper or lower case letters\n",
    "            start = ord('A') if char.isupper() else ord('a')\n",
    "            # Shift the character and ensure it wraps around using modulo\n",
    "            shifted_char = chr(start + (ord(char) - start + shift) % 26)\n",
    "            result.append(shifted_char)\n",
    "        else:\n",
    "            # Non-alphabetic characters are added unchanged\n",
    "            result.append(char)\n",
    "    return ''.join(result)\n",
    "\n",
    "# Test cases\n",
    "text = \"Hello, World!\"\n",
    "shift = 3\n",
    "\n",
    "encoded_text = caesar_cipher(text, shift)\n",
    "print(encoded_text)"
   ]
  },
  {
   "cell_type": "code",
   "execution_count": 185,
   "id": "b7939fd1-5750-4355-920c-2e6514cb9ca7",
   "metadata": {},
   "outputs": [
    {
     "name": "stdout",
     "output_type": "stream",
     "text": [
      "Hello, World!\n"
     ]
    }
   ],
   "source": [
    "#### 43. Decode a Caesar cipher encoded string.\n",
    "\n",
    "def caesar_cipher_decode(encoded_text, shift):\n",
    "    result = []\n",
    "    for char in encoded_text:\n",
    "        if char.isalpha():  # Check if the character is a letter\n",
    "            # Determine the start of the alphabet for upper or lower case letters\n",
    "            start = ord('A') if char.isupper() else ord('a')\n",
    "            # Shift the character back and ensure it wraps around using modulo\n",
    "            shifted_char = chr(start + (ord(char) - start - shift) % 26)\n",
    "            result.append(shifted_char)\n",
    "        else:\n",
    "            # Non-alphabetic characters are added unchanged\n",
    "            result.append(char)\n",
    "    return ''.join(result)\n",
    "\n",
    "# Test cases\n",
    "encoded_text = \"Khoor, Zruog!\"  # Encoded with shift 3\n",
    "shift = 3\n",
    "\n",
    "decoded_text = caesar_cipher_decode(encoded_text, shift)\n",
    "print(decoded_text)"
   ]
  },
  {
   "cell_type": "code",
   "execution_count": 186,
   "id": "c1bd0b98-1fec-4bc4-8333-2443c47e0dbc",
   "metadata": {},
   "outputs": [
    {
     "name": "stdout",
     "output_type": "stream",
     "text": [
      "The most frequent word is 'hello' with a frequency of 2.\n"
     ]
    }
   ],
   "source": [
    "#### 44. Find the most frequent word in a string.\n",
    "\n",
    "from collections import Counter\n",
    "\n",
    "def most_frequent_word(text):\n",
    "    # Normalize the string: convert to lowercase and remove punctuation\n",
    "    text = text.lower()\n",
    "    text = re.sub(r'[^\\w\\s]', '', text)  # Remove punctuation\n",
    "\n",
    "    # Split the string into words\n",
    "    words = text.split()\n",
    "\n",
    "    # Count the frequency of each word\n",
    "    word_counts = Counter(words)\n",
    "\n",
    "    # Find the most common word and its count\n",
    "    most_common_word, count = word_counts.most_common(1)[0]\n",
    "\n",
    "    return most_common_word, count\n",
    "\n",
    "# Test case\n",
    "text = \"Hello world! Hello everyone. Welcome to the world of Python. Python is great.\"\n",
    "\n",
    "word, frequency = most_frequent_word(text)\n",
    "print(f\"The most frequent word is '{word}' with a frequency of {frequency}.\")"
   ]
  },
  {
   "cell_type": "code",
   "execution_count": 187,
   "id": "48e70c51-573f-4ca2-9a13-7772c7a6792c",
   "metadata": {},
   "outputs": [
    {
     "name": "stdout",
     "output_type": "stream",
     "text": [
      "Unique words: {'is', 'and', 'opportunities', 'python', 'welcome', 'full', 'hello', 'the', 'to', 'world', 'great', 'of'}\n"
     ]
    }
   ],
   "source": [
    "#### 45. Find all unique words in a string.\n",
    "\n",
    "def unique_words(text):\n",
    "    # Normalize the string: convert to lowercase and remove punctuation\n",
    "    text = text.lower()\n",
    "    text = re.sub(r'[^\\w\\s]', '', text)  # Remove punctuation\n",
    "\n",
    "    # Split the string into words\n",
    "    words = text.split()\n",
    "\n",
    "    # Use a set to find unique words\n",
    "    unique_words_set = set(words)\n",
    "\n",
    "    return unique_words_set\n",
    "\n",
    "# Test case\n",
    "text = \"Hello world! Welcome to the world of Python. Python is great, and the world is full of opportunities.\"\n",
    "\n",
    "unique_words_set = unique_words(text)\n",
    "print(\"Unique words:\", unique_words_set)"
   ]
  },
  {
   "cell_type": "code",
   "execution_count": 188,
   "id": "30ee25f1-e604-4e4c-9b7c-f286f9c76515",
   "metadata": {},
   "outputs": [
    {
     "name": "stdout",
     "output_type": "stream",
     "text": [
      "Total number of syllables: 8\n"
     ]
    }
   ],
   "source": [
    "#### 46. Count the number of syllables in a string.\n",
    "\n",
    "def count_syllables(word):\n",
    "    word = word.lower()  # Convert the word to lowercase\n",
    "    vowels = \"aeiou\"  # Define vowels\n",
    "    syllable_count = 0\n",
    "    in_vowel_group = False\n",
    "    \n",
    "    for char in word:\n",
    "        if char in vowels:\n",
    "            if not in_vowel_group:\n",
    "                syllable_count += 1\n",
    "                in_vowel_group = True\n",
    "        else:\n",
    "            in_vowel_group = False\n",
    "\n",
    "    return syllable_count\n",
    "\n",
    "def total_syllables(text):\n",
    "    words = text.split()  # Split the text into words\n",
    "    return sum(count_syllables(word) for word in words)\n",
    "\n",
    "# Test case\n",
    "text = \"Hello world! Welcome to Python.\"\n",
    "\n",
    "syllable_count = total_syllables(text)\n",
    "print(f\"Total number of syllables: {syllable_count}\")"
   ]
  },
  {
   "cell_type": "code",
   "execution_count": 189,
   "id": "0bed0f1b-0598-457b-8ec8-516f2e011e5e",
   "metadata": {},
   "outputs": [
    {
     "name": "stdout",
     "output_type": "stream",
     "text": [
      "True\n",
      "False\n"
     ]
    }
   ],
   "source": [
    "#### 47. Check if a string contains any special characters.\n",
    "\n",
    "def contains_special_characters(text):\n",
    "    # Regular expression to find special characters\n",
    "    pattern = r'[^\\w\\s]'\n",
    "    \n",
    "    # Check if the text contains any special characters\n",
    "    return bool(re.search(pattern, text))\n",
    "\n",
    "# Test cases\n",
    "text1 = \"Hello, World!\"\n",
    "text2 = \"Hello World\"\n",
    "\n",
    "print(contains_special_characters(text1))  # True\n",
    "print(contains_special_characters(text2))  # False"
   ]
  },
  {
   "cell_type": "code",
   "execution_count": 190,
   "id": "3af5b7f6-c100-47e9-9a17-5852f69da087",
   "metadata": {},
   "outputs": [
    {
     "name": "stdout",
     "output_type": "stream",
     "text": [
      "This is simple test string.\n"
     ]
    }
   ],
   "source": [
    "#### 48. Remove the nth word from a string.\n",
    "\n",
    "def remove_nth_word(text, n):\n",
    "    # Split the text into words\n",
    "    words = text.split()\n",
    "    \n",
    "    # Check if n is within the range of word indices\n",
    "    if 0 < n <= len(words):\n",
    "        # Remove the nth word (index n-1)\n",
    "        del words[n-1]\n",
    "    \n",
    "    # Join the words back into a string\n",
    "    new_text = ' '.join(words)\n",
    "    \n",
    "    return new_text\n",
    "\n",
    "# Test cases\n",
    "text = \"This is a simple test string.\"\n",
    "n = 3\n",
    "\n",
    "result = remove_nth_word(text, n)\n",
    "print(result)"
   ]
  },
  {
   "cell_type": "code",
   "execution_count": 191,
   "id": "cef2241d-55aa-4490-904e-8abe13dd35c8",
   "metadata": {},
   "outputs": [
    {
     "name": "stdout",
     "output_type": "stream",
     "text": [
      "This is a new simple string.\n"
     ]
    }
   ],
   "source": [
    "#### 49. Insert a word at the nth position in a string.\n",
    "\n",
    "def insert_word_at_position(text, word, n):\n",
    "    # Split the text into words\n",
    "    words = text.split()\n",
    "    \n",
    "    # Insert the new word at the nth position (index n-1)\n",
    "    if n >= 0 and n <= len(words):\n",
    "        words.insert(n, word)\n",
    "    elif n == len(words) + 1:\n",
    "        # If n is at the end of the list, append the word\n",
    "        words.append(word)\n",
    "    else:\n",
    "        # If n is out of bounds\n",
    "        return \"Invalid position\"\n",
    "    \n",
    "    # Join the words back into a string\n",
    "    new_text = ' '.join(words)\n",
    "    \n",
    "    return new_text\n",
    "\n",
    "# Test cases\n",
    "text = \"This is a simple string.\"\n",
    "word_to_insert = \"new\"\n",
    "n = 3\n",
    "\n",
    "result = insert_word_at_position(text, word_to_insert, n)\n",
    "print(result)"
   ]
  },
  {
   "cell_type": "code",
   "execution_count": 192,
   "id": "faa83f4a-b78c-46d8-af74-ef1e66ce8912",
   "metadata": {},
   "outputs": [
    {
     "name": "stdout",
     "output_type": "stream",
     "text": [
      "[['name', 'age', 'city'], ['Alice', '30', 'New York'], ['Bob', '25', 'Los Angeles'], ['Charlie', '35', 'Chicago']]\n"
     ]
    }
   ],
   "source": [
    "#### 50. Convert a CSV string to a list of lists.\n",
    "\n",
    "import csv\n",
    "from io import StringIO\n",
    "\n",
    "def csv_string_to_list_of_lists(csv_string):\n",
    "    # Use StringIO to treat the string as a file-like object\n",
    "    csv_file = StringIO(csv_string)\n",
    "    \n",
    "    # Read the CSV data from the file-like object\n",
    "    reader = csv.reader(csv_file)\n",
    "    \n",
    "    # Convert the CSV data to a list of lists\n",
    "    list_of_lists = list(reader)\n",
    "    \n",
    "    return list_of_lists\n",
    "\n",
    "# Test case\n",
    "csv_string = \"name,age,city\\nAlice,30,New York\\nBob,25,Los Angeles\\nCharlie,35,Chicago\"\n",
    "\n",
    "result = csv_string_to_list_of_lists(csv_string)\n",
    "print(result)"
   ]
  },
  {
   "cell_type": "code",
   "execution_count": 193,
   "id": "8c65dd68-e21c-440e-b67f-4a57ba7114a6",
   "metadata": {},
   "outputs": [
    {
     "name": "stdout",
     "output_type": "stream",
     "text": [
      "[1, 2, 3, 4, 5, 6, 7, 8, 9, 10]\n"
     ]
    }
   ],
   "source": [
    "#### List Based Practice Problem:\n",
    "\n",
    "#### 1. Create a list with integers from 1 to 10.\n",
    "\n",
    "# Create a list with integers from 1 to 10\n",
    "numbers = list(range(1, 11))\n",
    "\n",
    "print(numbers)"
   ]
  },
  {
   "cell_type": "code",
   "execution_count": 194,
   "id": "e1d7b296-862d-443d-ae93-1ece1c2253a8",
   "metadata": {},
   "outputs": [
    {
     "name": "stdout",
     "output_type": "stream",
     "text": [
      "5\n"
     ]
    }
   ],
   "source": [
    "#### 2. Find the length of a list without using the `len()` function.\n",
    "\n",
    "def find_length_of_list(lst):\n",
    "    count = 0\n",
    "    for _ in lst:\n",
    "        count += 1\n",
    "    return count\n",
    "\n",
    "# Test case\n",
    "my_list = [1, 2, 3, 4, 5]\n",
    "length = find_length_of_list(my_list)\n",
    "print(length)"
   ]
  },
  {
   "cell_type": "code",
   "execution_count": 195,
   "id": "f2260965-e44c-4bc6-af98-c08074db7131",
   "metadata": {},
   "outputs": [
    {
     "name": "stdout",
     "output_type": "stream",
     "text": [
      "[1, 2, 3, 4, 5]\n"
     ]
    }
   ],
   "source": [
    "#### 3. Append an element to the end of a list.\n",
    "\n",
    "# Original list\n",
    "my_list = [1, 2, 3, 4]\n",
    "\n",
    "# Element to append\n",
    "element = 5\n",
    "\n",
    "# Append the element to the end of the list\n",
    "my_list.append(element)\n",
    "\n",
    "print(my_list)"
   ]
  },
  {
   "cell_type": "code",
   "execution_count": 196,
   "id": "12d7f4b0-9088-4a10-80e1-5df96e739506",
   "metadata": {},
   "outputs": [
    {
     "name": "stdout",
     "output_type": "stream",
     "text": [
      "[1, 2, 10, 3, 4]\n"
     ]
    }
   ],
   "source": [
    "#### 4. Insert an element at a specific index in a list.\n",
    "\n",
    "# Original list\n",
    "my_list = [1, 2, 3, 4]\n",
    "\n",
    "# Element to insert and the index where it should be inserted\n",
    "element = 10\n",
    "index = 2\n",
    "\n",
    "# Insert the element at the specified index\n",
    "my_list.insert(index, element)\n",
    "\n",
    "print(my_list)"
   ]
  },
  {
   "cell_type": "code",
   "execution_count": 197,
   "id": "4ffa2b61-0fe3-4432-9690-de3e83f77b4f",
   "metadata": {},
   "outputs": [
    {
     "name": "stdout",
     "output_type": "stream",
     "text": [
      "[1, 2, 4, 5]\n"
     ]
    }
   ],
   "source": [
    "#### 5. Remove an element from a list by its value.\n",
    "\n",
    "# Original list\n",
    "my_list = [1, 2, 3, 4, 5]\n",
    "\n",
    "# Value to remove\n",
    "value = 3\n",
    "\n",
    "# Remove the value from the list\n",
    "my_list.remove(value)\n",
    "\n",
    "print(my_list)"
   ]
  },
  {
   "cell_type": "code",
   "execution_count": 198,
   "id": "16075e89-2af9-4c3b-bef3-b84cefe18827",
   "metadata": {},
   "outputs": [
    {
     "name": "stdout",
     "output_type": "stream",
     "text": [
      "[1, 2, 4, 5]\n"
     ]
    }
   ],
   "source": [
    "#### 6. Remove an element from a list by its index.\n",
    "\n",
    "# Original list\n",
    "my_list = [1, 2, 3, 4, 5]\n",
    "\n",
    "# Index of the element to remove\n",
    "index = 2\n",
    "\n",
    "# Remove the element at the specified index\n",
    "del my_list[index]\n",
    "\n",
    "print(my_list)"
   ]
  },
  {
   "cell_type": "code",
   "execution_count": 199,
   "id": "9ca9191a-d67b-4f48-83f5-9ef4cdae9911",
   "metadata": {},
   "outputs": [
    {
     "name": "stdout",
     "output_type": "stream",
     "text": [
      "True\n"
     ]
    }
   ],
   "source": [
    "#### 7. Check if an element exists in a list.\n",
    "\n",
    "# Original list\n",
    "my_list = [1, 2, 3, 4, 5]\n",
    "\n",
    "# Element to check\n",
    "element = 3\n",
    "\n",
    "# Check if the element exists in the list\n",
    "exists = element in my_list\n",
    "\n",
    "print(exists)  # True"
   ]
  },
  {
   "cell_type": "code",
   "execution_count": 200,
   "id": "5477f58c-9a90-45ce-a5e4-21b3766397cf",
   "metadata": {},
   "outputs": [
    {
     "name": "stdout",
     "output_type": "stream",
     "text": [
      "2\n"
     ]
    }
   ],
   "source": [
    "#### 8. Find the index of the first occurrence of an element in a list.\n",
    "\n",
    "# Original list\n",
    "my_list = [10, 20, 30, 40, 50]\n",
    "\n",
    "# Element to find\n",
    "element = 30\n",
    "\n",
    "# Find the index of the first occurrence of the element\n",
    "index = my_list.index(element)\n",
    "\n",
    "print(index)  "
   ]
  },
  {
   "cell_type": "code",
   "execution_count": 201,
   "id": "8d88dec2-e3dc-4cf5-a184-913682eb882d",
   "metadata": {},
   "outputs": [
    {
     "name": "stdout",
     "output_type": "stream",
     "text": [
      "3\n"
     ]
    }
   ],
   "source": [
    "#### 9. Count the occurrences of an element in a list.\n",
    "\n",
    "# Original list\n",
    "my_list = [1, 2, 3, 4, 2, 2, 5]\n",
    "\n",
    "# Element to count\n",
    "element = 2\n",
    "\n",
    "# Count the occurrences of the element\n",
    "count = my_list.count(element)\n",
    "\n",
    "print(count)"
   ]
  },
  {
   "cell_type": "code",
   "execution_count": 202,
   "id": "5e884e68-d5a9-4132-9a90-d23eec45616a",
   "metadata": {},
   "outputs": [
    {
     "name": "stdout",
     "output_type": "stream",
     "text": [
      "[5, 4, 3, 2, 1]\n"
     ]
    }
   ],
   "source": [
    "#### 10. Reverse the order of elements in a list.\n",
    "\n",
    "# Original list\n",
    "my_list = [1, 2, 3, 4, 5]\n",
    "\n",
    "# Reverse the list in place\n",
    "my_list.reverse()\n",
    "\n",
    "print(my_list)"
   ]
  },
  {
   "cell_type": "code",
   "execution_count": 203,
   "id": "e6f3c5f1-e849-46da-bc27-d117269d51bb",
   "metadata": {},
   "outputs": [
    {
     "name": "stdout",
     "output_type": "stream",
     "text": [
      "[1, 2, 5, 5, 6, 9]\n"
     ]
    }
   ],
   "source": [
    "#### 11. Sort a list in ascending order.\n",
    "\n",
    "# Original list\n",
    "my_list = [5, 2, 9, 1, 5, 6]\n",
    "\n",
    "# Sort the list in ascending order\n",
    "my_list.sort()\n",
    "\n",
    "print(my_list)  # Output: [1, 2, 5, 5, 6, 9]"
   ]
  },
  {
   "cell_type": "code",
   "execution_count": 204,
   "id": "3c6812f0-aebc-43d9-87d5-d51d1c1a1516",
   "metadata": {},
   "outputs": [
    {
     "name": "stdout",
     "output_type": "stream",
     "text": [
      "[9, 6, 5, 5, 2, 1]\n"
     ]
    }
   ],
   "source": [
    "#### 12. Sort a list in descending order.\n",
    "\n",
    "# Original list\n",
    "my_list = [5, 2, 9, 1, 5, 6]\n",
    "\n",
    "# Sort the list in descending order\n",
    "my_list.sort(reverse=True)\n",
    "\n",
    "print(my_list)  # Output: [9, 6, 5, 5, 2, 1]"
   ]
  },
  {
   "cell_type": "code",
   "execution_count": 205,
   "id": "454d66c4-6f07-4fd8-bc46-1a5715bc6f14",
   "metadata": {},
   "outputs": [
    {
     "name": "stdout",
     "output_type": "stream",
     "text": [
      "[2, 4, 6, 8, 10, 12, 14, 16, 18, 20]\n"
     ]
    }
   ],
   "source": [
    "#### 13. Create a list of even numbers from 1 to 20.\n",
    "\n",
    "# Create a list of even numbers from 1 to 20\n",
    "even_numbers = [num for num in range(1, 21) if num % 2 == 0]\n",
    "\n",
    "print(even_numbers)"
   ]
  },
  {
   "cell_type": "code",
   "execution_count": 206,
   "id": "2d759a44-a2d5-4a11-97f5-78b17dc6ee01",
   "metadata": {},
   "outputs": [
    {
     "name": "stdout",
     "output_type": "stream",
     "text": [
      "[1, 3, 5, 7, 9, 11, 13, 15, 17, 19]\n"
     ]
    }
   ],
   "source": [
    "#### 14. Create a list of odd numbers from 1 to 20.\n",
    "\n",
    "# Create a list of odd numbers from 1 to 20\n",
    "odd_numbers = [num for num in range(1, 21) if num % 2 != 0]\n",
    "\n",
    "print(odd_numbers)"
   ]
  },
  {
   "cell_type": "code",
   "execution_count": 207,
   "id": "3e57c4de-7378-437e-9486-21d0094407f5",
   "metadata": {},
   "outputs": [
    {
     "name": "stdout",
     "output_type": "stream",
     "text": [
      "15\n"
     ]
    }
   ],
   "source": [
    "#### 15. Find the sum of all elements in a list.\n",
    "\n",
    "# List of numbers\n",
    "my_list = [1, 2, 3, 4, 5]\n",
    "\n",
    "# Calculate the sum of all elements in the list\n",
    "total_sum = sum(my_list)\n",
    "\n",
    "print(total_sum)"
   ]
  },
  {
   "cell_type": "code",
   "execution_count": 208,
   "id": "d47c1b2f-ae9a-4d9e-807b-435e1758a772",
   "metadata": {},
   "outputs": [
    {
     "name": "stdout",
     "output_type": "stream",
     "text": [
      "7\n"
     ]
    }
   ],
   "source": [
    "#### 16. Find the maximum value in a list.\n",
    "\n",
    "# List of numbers\n",
    "my_list = [1, 3, 7, 2, 5]\n",
    "\n",
    "# Find the maximum value in the list\n",
    "max_value = max(my_list)\n",
    "\n",
    "print(max_value)"
   ]
  },
  {
   "cell_type": "code",
   "execution_count": 209,
   "id": "903c6904-d80e-47dc-a74c-3cc786106bbe",
   "metadata": {},
   "outputs": [
    {
     "name": "stdout",
     "output_type": "stream",
     "text": [
      "1\n"
     ]
    }
   ],
   "source": [
    "#### 17. Find the minimum value in a list.\n",
    "\n",
    "# List of numbers\n",
    "my_list = [1, 3, 7, 2, 5]\n",
    "\n",
    "# Find the minimum value in the list\n",
    "min_value = min(my_list)\n",
    "\n",
    "print(min_value)"
   ]
  },
  {
   "cell_type": "code",
   "execution_count": 210,
   "id": "bd62c182-d00b-44b1-b692-c637451f1997",
   "metadata": {},
   "outputs": [
    {
     "name": "stdout",
     "output_type": "stream",
     "text": [
      "[1, 4, 9, 16, 25, 36, 49, 64, 81, 100]\n"
     ]
    }
   ],
   "source": [
    "#### 18. Create a list of squares of numbers from 1 to 10.\n",
    "\n",
    "# Create a list of squares of numbers from 1 to 10\n",
    "squares = [num ** 2 for num in range(1, 11)]\n",
    "\n",
    "print(squares)"
   ]
  },
  {
   "cell_type": "code",
   "execution_count": 211,
   "id": "ca4f2565-9a35-41d1-90a2-d845024b6a42",
   "metadata": {},
   "outputs": [
    {
     "name": "stdout",
     "output_type": "stream",
     "text": [
      "[41, 83, 15, 30, 76, 28, 87, 25, 47, 91]\n"
     ]
    }
   ],
   "source": [
    "#### 19. Create a list of random numbers.\n",
    "\n",
    "import random\n",
    "\n",
    "# Create a list of 10 random numbers between 1 and 100\n",
    "random_numbers = [random.randint(1, 100) for _ in range(10)]\n",
    "\n",
    "print(random_numbers)"
   ]
  },
  {
   "cell_type": "code",
   "execution_count": 212,
   "id": "8bc37a48-9b3d-4be5-a2b7-085e10164bd3",
   "metadata": {},
   "outputs": [
    {
     "name": "stdout",
     "output_type": "stream",
     "text": [
      "[1, 2, 3, 4, 5, 6]\n"
     ]
    }
   ],
   "source": [
    "#### 20. Remove duplicates from a list.\n",
    "\n",
    "# Original list with duplicates\n",
    "my_list = [1, 2, 3, 2, 4, 5, 1, 6]\n",
    "\n",
    "# Remove duplicates by converting to a set and then back to a list\n",
    "unique_list = list(set(my_list))\n",
    "\n",
    "print(unique_list)"
   ]
  },
  {
   "cell_type": "code",
   "execution_count": 213,
   "id": "7e445be7-6bd4-456a-8e3c-3aae6392c5ea",
   "metadata": {},
   "outputs": [
    {
     "name": "stdout",
     "output_type": "stream",
     "text": [
      "[4, 5]\n"
     ]
    }
   ],
   "source": [
    "#### 21. Find the common elements between two lists.\n",
    "\n",
    "# Two lists\n",
    "list1 = [1, 2, 3, 4, 5]\n",
    "list2 = [4, 5, 6, 7, 8]\n",
    "\n",
    "# Find common elements using set intersection\n",
    "common_elements = list(set(list1) & set(list2))\n",
    "\n",
    "print(common_elements)"
   ]
  },
  {
   "cell_type": "code",
   "execution_count": 214,
   "id": "00244158-e91c-4222-90d5-a1d6d1e3e5a1",
   "metadata": {},
   "outputs": [
    {
     "name": "stdout",
     "output_type": "stream",
     "text": [
      "[1, 2, 3]\n"
     ]
    }
   ],
   "source": [
    "#### 22. Find the difference between two lists.\n",
    "\n",
    "# Two lists\n",
    "list1 = [1, 2, 3, 4, 5]\n",
    "list2 = [4, 5, 6, 7, 8]\n",
    "\n",
    "# Find the difference between list1 and list2\n",
    "difference = list(set(list1) - set(list2))\n",
    "\n",
    "print(difference)"
   ]
  },
  {
   "cell_type": "code",
   "execution_count": 215,
   "id": "a44b8fdf-30b0-4808-8caa-262ae94031a1",
   "metadata": {},
   "outputs": [
    {
     "name": "stdout",
     "output_type": "stream",
     "text": [
      "[1, 2, 3, 4, 5, 6]\n"
     ]
    }
   ],
   "source": [
    "#### 23. Merge two lists.\n",
    "\n",
    "# Two lists\n",
    "list1 = [1, 2, 3]\n",
    "list2 = [4, 5, 6]\n",
    "\n",
    "# Merge the lists using the + operator\n",
    "merged_list = list1 + list2\n",
    "\n",
    "print(merged_list)"
   ]
  },
  {
   "cell_type": "code",
   "execution_count": 216,
   "id": "381f48ed-37cf-401d-bc87-a6623ab3f0a1",
   "metadata": {},
   "outputs": [
    {
     "name": "stdout",
     "output_type": "stream",
     "text": [
      "[2, 4, 6, 8, 10]\n"
     ]
    }
   ],
   "source": [
    "#### 24. Multiply all elements in a list by 2.\n",
    "\n",
    "# Original list\n",
    "my_list = [1, 2, 3, 4, 5]\n",
    "\n",
    "# Multiply all elements by 2 using a list comprehension\n",
    "multiplied_list = [x * 2 for x in my_list]\n",
    "\n",
    "print(multiplied_list)"
   ]
  },
  {
   "cell_type": "code",
   "execution_count": 217,
   "id": "189c1d5b-1138-42a0-a5d0-6c3f5a9b6447",
   "metadata": {},
   "outputs": [
    {
     "name": "stdout",
     "output_type": "stream",
     "text": [
      "[1, 3, 5, 7, 9]\n"
     ]
    }
   ],
   "source": [
    "#### 25. Filter out all even numbers from a list.\n",
    "\n",
    "# Original list\n",
    "my_list = [1, 2, 3, 4, 5, 6, 7, 8, 9, 10]\n",
    "\n",
    "# Filter out even numbers using a list comprehension\n",
    "odd_numbers = [x for x in my_list if x % 2 != 0]\n",
    "\n",
    "print(odd_numbers)"
   ]
  },
  {
   "cell_type": "code",
   "execution_count": 218,
   "id": "7918382b-bec0-4e7a-9c40-7ed35b881529",
   "metadata": {},
   "outputs": [
    {
     "name": "stdout",
     "output_type": "stream",
     "text": [
      "[1, 2, 3, 4, 5]\n"
     ]
    }
   ],
   "source": [
    "#### 26. Convert a list of strings to a list of integers.\n",
    "\n",
    "# List of strings\n",
    "string_list = ['1', '2', '3', '4', '5']\n",
    "\n",
    "# Convert list of strings to list of integers using a list comprehension\n",
    "integer_list = [int(x) for x in string_list]\n",
    "\n",
    "print(integer_list)"
   ]
  },
  {
   "cell_type": "code",
   "execution_count": 219,
   "id": "fc74ef63-3b4e-47e4-9b9f-791fcb9fc6c8",
   "metadata": {},
   "outputs": [
    {
     "name": "stdout",
     "output_type": "stream",
     "text": [
      "['1', '2', '3', '4', '5']\n"
     ]
    }
   ],
   "source": [
    "#### 27. Convert a list of integers to a list of strings.\n",
    "\n",
    "# List of integers\n",
    "integer_list = [1, 2, 3, 4, 5]\n",
    "\n",
    "# Convert list of integers to list of strings using a list comprehension\n",
    "string_list = [str(x) for x in integer_list]\n",
    "\n",
    "print(string_list)"
   ]
  },
  {
   "cell_type": "code",
   "execution_count": 220,
   "id": "995585b9-57af-4ada-abcd-132648b27093",
   "metadata": {},
   "outputs": [
    {
     "name": "stdout",
     "output_type": "stream",
     "text": [
      "[1, 2, 3, 4, 5, 6, 7, 8]\n"
     ]
    }
   ],
   "source": [
    "#### 28. Flatten a nested list.\n",
    "\n",
    "def flatten_list(nested_list):\n",
    "    flat_list = []\n",
    "    for item in nested_list:\n",
    "        if isinstance(item, list):\n",
    "            flat_list.extend(flatten_list(item))  # Recursively flatten the nested list\n",
    "        else:\n",
    "            flat_list.append(item)\n",
    "    return flat_list\n",
    "\n",
    "# Example nested list\n",
    "nested_list = [1, [2, [3, 4], 5], [6, 7], 8]\n",
    "\n",
    "# Flatten the nested list\n",
    "flat_list = flatten_list(nested_list)\n",
    "\n",
    "print(flat_list)"
   ]
  },
  {
   "cell_type": "code",
   "execution_count": 221,
   "id": "067ae2a5-4278-463e-a0fc-49f26a34fe40",
   "metadata": {},
   "outputs": [
    {
     "name": "stdout",
     "output_type": "stream",
     "text": [
      "[0, 1, 1, 2, 3, 5, 8, 13, 21, 34]\n"
     ]
    }
   ],
   "source": [
    "#### 29. Create a list of the first 10 Fibonacci numbers.\n",
    "\n",
    "def generate_fibonacci(n):\n",
    "    fibonacci_list = []\n",
    "    a, b = 0, 1\n",
    "    while len(fibonacci_list) < n:\n",
    "        fibonacci_list.append(a)\n",
    "        a, b = b, a + b\n",
    "    return fibonacci_list\n",
    "\n",
    "# Get the first 10 Fibonacci numbers\n",
    "fibonacci_list = generate_fibonacci(10)\n",
    "\n",
    "print(fibonacci_list)"
   ]
  },
  {
   "cell_type": "code",
   "execution_count": 222,
   "id": "ba6cbdc5-0d3b-449a-a172-339595175df3",
   "metadata": {},
   "outputs": [
    {
     "name": "stdout",
     "output_type": "stream",
     "text": [
      "True\n",
      "False\n"
     ]
    }
   ],
   "source": [
    "#### 30. Check if a list is sorted.\n",
    "\n",
    "def is_sorted(lst):\n",
    "    return lst == sorted(lst)\n",
    "\n",
    "# Example lists\n",
    "list1 = [1, 2, 3, 4, 5]\n",
    "list2 = [5, 3, 4, 1, 2]\n",
    "\n",
    "print(is_sorted(list1))  # Output: True\n",
    "print(is_sorted(list2))  # Output: False"
   ]
  },
  {
   "cell_type": "code",
   "execution_count": 223,
   "id": "6850153f-e1ff-4b5f-837f-674d439d4912",
   "metadata": {},
   "outputs": [
    {
     "name": "stdout",
     "output_type": "stream",
     "text": [
      "[3, 4, 5, 1, 2]\n"
     ]
    }
   ],
   "source": [
    "#### 31. Rotate a list to the left by `n` positions.\n",
    "\n",
    "def rotate_left(lst, n):\n",
    "    # Ensure n is within the range of the list length\n",
    "    n = n % len(lst)\n",
    "    return lst[n:] + lst[:n]\n",
    "\n",
    "# Example list and number of positions\n",
    "my_list = [1, 2, 3, 4, 5]\n",
    "n = 2\n",
    "\n",
    "# Rotate the list to the left by n positions\n",
    "rotated_list = rotate_left(my_list, n)\n",
    "\n",
    "print(rotated_list)"
   ]
  },
  {
   "cell_type": "code",
   "execution_count": 224,
   "id": "96e69392-bc37-47c9-85a5-ab9386fc4f94",
   "metadata": {},
   "outputs": [
    {
     "name": "stdout",
     "output_type": "stream",
     "text": [
      "[4, 5, 1, 2, 3]\n"
     ]
    }
   ],
   "source": [
    "#### 32. Rotate a list to the right by `n` positions.\n",
    "\n",
    "def rotate_right(lst, n):\n",
    "    # Ensure n is within the range of the list length\n",
    "    n = n % len(lst)\n",
    "    return lst[-n:] + lst[:-n]\n",
    "\n",
    "# Example list and number of positions\n",
    "my_list = [1, 2, 3, 4, 5]\n",
    "n = 2\n",
    "\n",
    "# Rotate the list to the right by n positions\n",
    "rotated_list = rotate_right(my_list, n)\n",
    "\n",
    "print(rotated_list)"
   ]
  },
  {
   "cell_type": "code",
   "execution_count": 225,
   "id": "b9663016-9b49-4553-adb7-df604df4e5ef",
   "metadata": {},
   "outputs": [
    {
     "name": "stdout",
     "output_type": "stream",
     "text": [
      "[2, 3, 5, 7, 11, 13, 17, 19, 23, 29, 31, 37, 41, 43, 47]\n"
     ]
    }
   ],
   "source": [
    "#### 33. Create a list of prime numbers up to 50.\n",
    "\n",
    "def is_prime(num):\n",
    "    if num <= 1:\n",
    "        return False\n",
    "    for i in range(2, int(num**0.5) + 1):\n",
    "        if num % i == 0:\n",
    "            return False\n",
    "    return True\n",
    "\n",
    "def primes_up_to(max_num):\n",
    "    return [num for num in range(2, max_num + 1) if is_prime(num)]\n",
    "\n",
    "# Generate the list of prime numbers up to 50\n",
    "prime_list = primes_up_to(50)\n",
    "\n",
    "print(prime_list)"
   ]
  },
  {
   "cell_type": "code",
   "execution_count": 226,
   "id": "979bf498-3433-488e-bbcf-b94c79f41873",
   "metadata": {},
   "outputs": [
    {
     "name": "stdout",
     "output_type": "stream",
     "text": [
      "[[1, 2, 3], [4, 5, 6], [7, 8, 9], [10]]\n"
     ]
    }
   ],
   "source": [
    "#### 34. Split a list into chunks of size `n`.\n",
    "\n",
    "def split_into_chunks(lst, n):\n",
    "    return [lst[i:i + n] for i in range(0, len(lst), n)]\n",
    "\n",
    "# Example list and chunk size\n",
    "my_list = [1, 2, 3, 4, 5, 6, 7, 8, 9, 10]\n",
    "chunk_size = 3\n",
    "\n",
    "# Split the list into chunks\n",
    "chunked_list = split_into_chunks(my_list, chunk_size)\n",
    "\n",
    "print(chunked_list)"
   ]
  },
  {
   "cell_type": "code",
   "execution_count": 227,
   "id": "01fc9533-532e-4cbf-a314-b891f46f5e2e",
   "metadata": {},
   "outputs": [
    {
     "name": "stdout",
     "output_type": "stream",
     "text": [
      "7\n"
     ]
    }
   ],
   "source": [
    "#### 35. Find the second largest number in a list.\n",
    "\n",
    "def second_largest(nums):\n",
    "    if len(nums) < 2:\n",
    "        raise ValueError(\"List must contain at least two elements.\")\n",
    "    sorted_nums = sorted(nums, reverse=True)\n",
    "    return sorted_nums[1]\n",
    "\n",
    "# Example list\n",
    "my_list = [4, 1, 7, 3, 9, 5]\n",
    "\n",
    "# Find the second largest number\n",
    "second_largest_number = second_largest(my_list)\n",
    "\n",
    "print(second_largest_number)"
   ]
  },
  {
   "cell_type": "code",
   "execution_count": 228,
   "id": "ae728d08-7f4a-4b1b-80d5-6269f30cdf26",
   "metadata": {},
   "outputs": [
    {
     "name": "stdout",
     "output_type": "stream",
     "text": [
      "[1, 4, 9, 16, 25]\n"
     ]
    }
   ],
   "source": [
    "#### 36. Replace every element in a list with its square.\n",
    "\n",
    "def square_elements(lst):\n",
    "    return [x ** 2 for x in lst]\n",
    "\n",
    "# Example list\n",
    "my_list = [1, 2, 3, 4, 5]\n",
    "\n",
    "# Replace every element with its square\n",
    "squared_list = square_elements(my_list)\n",
    "\n",
    "print(squared_list)"
   ]
  },
  {
   "cell_type": "code",
   "execution_count": 229,
   "id": "c4dbdf31-f34b-488f-a154-79fd2de985b7",
   "metadata": {},
   "outputs": [
    {
     "name": "stdout",
     "output_type": "stream",
     "text": [
      "{'a': 0, 'b': 1, 'c': 2, 'd': 3}\n"
     ]
    }
   ],
   "source": [
    "#### 37. Convert a list to a dictionary where list elements become keys and their indices become values.\n",
    "\n",
    "def list_to_dict(lst):\n",
    "    return {element: index for index, element in enumerate(lst)}\n",
    "\n",
    "# Example list\n",
    "my_list = ['a', 'b', 'c', 'd']\n",
    "\n",
    "# Convert the list to a dictionary\n",
    "result_dict = list_to_dict(my_list)\n",
    "\n",
    "print(result_dict)"
   ]
  },
  {
   "cell_type": "code",
   "execution_count": 230,
   "id": "c7962bd6-d5d2-4212-b659-18e78f8e3a07",
   "metadata": {},
   "outputs": [
    {
     "name": "stdout",
     "output_type": "stream",
     "text": [
      "[2, 5, 3, 1, 4]\n"
     ]
    }
   ],
   "source": [
    "#### 38. Shuffle the elements of a list randomly.\n",
    "\n",
    "import random\n",
    "\n",
    "def shuffle_list(lst):\n",
    "    random.shuffle(lst)\n",
    "    return lst\n",
    "\n",
    "# Example list\n",
    "my_list = [1, 2, 3, 4, 5]\n",
    "\n",
    "# Shuffle the list\n",
    "shuffled_list = shuffle_list(my_list)\n",
    "\n",
    "print(shuffled_list)"
   ]
  },
  {
   "cell_type": "code",
   "execution_count": 231,
   "id": "1fb04502-99c8-4009-aecd-204a1f3cf604",
   "metadata": {},
   "outputs": [
    {
     "name": "stdout",
     "output_type": "stream",
     "text": [
      "[1, 1, 2, 6, 24, 120, 720, 5040, 40320, 362880]\n"
     ]
    }
   ],
   "source": [
    "#### 39. Create a list of the first 10 factorial numbers.\n",
    "\n",
    "import math\n",
    "\n",
    "def factorial_numbers(count):\n",
    "    return [math.factorial(i) for i in range(count)]\n",
    "\n",
    "# Generate the first 10 factorial numbers\n",
    "factorial_list = factorial_numbers(10)\n",
    "\n",
    "print(factorial_list)"
   ]
  },
  {
   "cell_type": "code",
   "execution_count": 232,
   "id": "f3d2bd04-3258-4762-8404-a9ebf40dfcbb",
   "metadata": {},
   "outputs": [
    {
     "name": "stdout",
     "output_type": "stream",
     "text": [
      "True\n"
     ]
    }
   ],
   "source": [
    "#### 40. Check if two lists have at least one element in common.\n",
    "\n",
    "def have_common_element(list1, list2):\n",
    "    return bool(set(list1) & set(list2))\n",
    "\n",
    "# Example lists\n",
    "list1 = [1, 2, 3, 4, 5]\n",
    "list2 = [4, 5, 6, 7, 8]\n",
    "\n",
    "# Check if they have at least one common element\n",
    "result = have_common_element(list1, list2)\n",
    "\n",
    "print(result)"
   ]
  },
  {
   "cell_type": "code",
   "execution_count": 233,
   "id": "1a5d0117-a272-45f3-a6a8-b6e2038f31d2",
   "metadata": {},
   "outputs": [
    {
     "name": "stdout",
     "output_type": "stream",
     "text": [
      "[]\n"
     ]
    }
   ],
   "source": [
    "#### 41. Remove all elements from a list.\n",
    "\n",
    "# Example list\n",
    "my_list = [1, 2, 3, 4, 5]\n",
    "\n",
    "# Remove all elements\n",
    "my_list.clear()\n",
    "\n",
    "print(my_list)"
   ]
  },
  {
   "cell_type": "code",
   "execution_count": 234,
   "id": "dbba294c-67c8-4c92-aeef-b08b32336af8",
   "metadata": {},
   "outputs": [
    {
     "name": "stdout",
     "output_type": "stream",
     "text": [
      "[1, 0, 3, 0, 5]\n"
     ]
    }
   ],
   "source": [
    "#### 42. Replace negative numbers in a list with 0.\n",
    "\n",
    "def replace_negatives(lst):\n",
    "    return [0 if x < 0 else x for x in lst]\n",
    "\n",
    "# Example list\n",
    "my_list = [1, -2, 3, -4, 5]\n",
    "\n",
    "# Replace negative numbers with 0\n",
    "updated_list = replace_negatives(my_list)\n",
    "\n",
    "print(updated_list)"
   ]
  },
  {
   "cell_type": "code",
   "execution_count": 235,
   "id": "e251a6b2-3565-4749-a694-227ee56197dd",
   "metadata": {},
   "outputs": [
    {
     "name": "stdout",
     "output_type": "stream",
     "text": [
      "['Hello', 'world,', 'this', 'is', 'a', 'test.']\n"
     ]
    }
   ],
   "source": [
    "#### 43. Convert a string into a list of words.\n",
    "\n",
    "def string_to_list_of_words(s):\n",
    "    return s.split()\n",
    "\n",
    "# Example string\n",
    "my_string = \"Hello world, this is a test.\"\n",
    "\n",
    "# Convert the string to a list of words\n",
    "words_list = string_to_list_of_words(my_string)\n",
    "\n",
    "print(words_list)"
   ]
  },
  {
   "cell_type": "code",
   "execution_count": 236,
   "id": "461ad525-e2c6-48ca-8355-35f890ca145e",
   "metadata": {},
   "outputs": [
    {
     "name": "stdout",
     "output_type": "stream",
     "text": [
      "Hello world this is a test.\n"
     ]
    }
   ],
   "source": [
    "#### 44. Convert a list of words into a string.\n",
    "\n",
    "def list_to_string(words_list):\n",
    "    return ' '.join(words_list)\n",
    "\n",
    "# Example list of words\n",
    "words_list = ['Hello', 'world', 'this', 'is', 'a', 'test.']\n",
    "\n",
    "# Convert the list of words to a string\n",
    "result_string = list_to_string(words_list)\n",
    "\n",
    "print(result_string)"
   ]
  },
  {
   "cell_type": "code",
   "execution_count": 237,
   "id": "466b354b-99f4-49c3-92bf-a05997fa748f",
   "metadata": {},
   "outputs": [
    {
     "name": "stdout",
     "output_type": "stream",
     "text": [
      "[1, 2, 4, 8, 16]\n"
     ]
    }
   ],
   "source": [
    "#### 45. Create a list of the first `n` powers of 2.\n",
    "\n",
    "def powers_of_two(n):\n",
    "    return [2 ** i for i in range(n)]\n",
    "\n",
    "# Example: first 5 powers of 2\n",
    "n = 5\n",
    "powers_list = powers_of_two(n)\n",
    "\n",
    "print(powers_list)"
   ]
  },
  {
   "cell_type": "code",
   "execution_count": 238,
   "id": "dfddf0ea-f54d-4117-a358-72bceaaa2008",
   "metadata": {},
   "outputs": [
    {
     "name": "stdout",
     "output_type": "stream",
     "text": [
      "banana\n"
     ]
    }
   ],
   "source": [
    "#### 46. Find the longest string in a list of strings.\n",
    "\n",
    "def find_longest_string(strings_list):\n",
    "    return max(strings_list, key=len)\n",
    "\n",
    "# Example list of strings\n",
    "strings_list = ['apple', 'banana', 'cherry', 'date']\n",
    "\n",
    "# Find the longest string\n",
    "longest_string = find_longest_string(strings_list)\n",
    "\n",
    "print(longest_string)"
   ]
  },
  {
   "cell_type": "code",
   "execution_count": 239,
   "id": "1a82a385-064a-4b8a-85d6-824786bdd8d5",
   "metadata": {},
   "outputs": [
    {
     "name": "stdout",
     "output_type": "stream",
     "text": [
      "date\n"
     ]
    }
   ],
   "source": [
    "#### 47. Find the shortest string in a list of strings.\n",
    "\n",
    "def find_shortest_string(strings_list):\n",
    "    return min(strings_list, key=len)\n",
    "\n",
    "# Example list of strings\n",
    "strings_list = ['apple', 'banana', 'cherry', 'date']\n",
    "\n",
    "# Find the shortest string\n",
    "shortest_string = find_shortest_string(strings_list)\n",
    "\n",
    "print(shortest_string)"
   ]
  },
  {
   "cell_type": "code",
   "execution_count": 240,
   "id": "51c7c85c-43c8-4ded-a3fc-df2b8edd1453",
   "metadata": {},
   "outputs": [
    {
     "name": "stdout",
     "output_type": "stream",
     "text": [
      "[1, 3, 6, 10, 15]\n"
     ]
    }
   ],
   "source": [
    "#### 48. Create a list of the first `n` triangular numbers.\n",
    "\n",
    "def triangular_numbers(n):\n",
    "    return [(i * (i + 1)) // 2 for i in range(1, n + 1)]\n",
    "\n",
    "# Example: first 5 triangular numbers\n",
    "n = 5\n",
    "triangular_list = triangular_numbers(n)\n",
    "\n",
    "print(triangular_list)"
   ]
  },
  {
   "cell_type": "code",
   "execution_count": 241,
   "id": "9eec48f6-719c-4ab2-95de-a23d6137c78a",
   "metadata": {},
   "outputs": [
    {
     "name": "stdout",
     "output_type": "stream",
     "text": [
      "True\n"
     ]
    }
   ],
   "source": [
    "#### 49. Check if a list contains another list as a subsequence.\n",
    "\n",
    "def is_subsequence(main_list, subsequence):\n",
    "    it = iter(main_list)\n",
    "    return all(elem in it for elem in subsequence)\n",
    "\n",
    "# Example lists\n",
    "main_list = [1, 2, 3, 4, 5, 6]\n",
    "subsequence = [2, 4, 6]\n",
    "\n",
    "# Check if subsequence is a subsequence of main_list\n",
    "result = is_subsequence(main_list, subsequence)\n",
    "\n",
    "print(result)"
   ]
  },
  {
   "cell_type": "code",
   "execution_count": 242,
   "id": "aaa36ece-e192-4a2b-92d4-c3b992d00b3c",
   "metadata": {},
   "outputs": [
    {
     "name": "stdout",
     "output_type": "stream",
     "text": [
      "[1, 4, 3, 2, 5]\n"
     ]
    }
   ],
   "source": [
    "#### 50. Swap two elements in a list by their indices.\n",
    "\n",
    "def swap_elements(lst, index1, index2):\n",
    "    lst[index1], lst[index2] = lst[index2], lst[index1]\n",
    "\n",
    "# Example list\n",
    "my_list = [1, 2, 3, 4, 5]\n",
    "\n",
    "# Swap elements at indices 1 and 3\n",
    "swap_elements(my_list, 1, 3)\n",
    "\n",
    "print(my_list)"
   ]
  },
  {
   "cell_type": "code",
   "execution_count": 243,
   "id": "2fe83430-7ef3-4012-88fe-9f2af2dba3c4",
   "metadata": {},
   "outputs": [
    {
     "name": "stdout",
     "output_type": "stream",
     "text": [
      "(1, 2, 3, 4, 5)\n"
     ]
    }
   ],
   "source": [
    "#### Tuple Based Practice Problem:\n",
    "\n",
    "#### 1. Create a tuple with integers from 1 to 5.\n",
    "\n",
    "t1 = tuple(range(1, 6))\n",
    "\n",
    "print(t1)"
   ]
  },
  {
   "cell_type": "code",
   "execution_count": 244,
   "id": "4eaa9b15-3f3a-467f-9c9a-c47e8de55152",
   "metadata": {},
   "outputs": [
    {
     "name": "stdout",
     "output_type": "stream",
     "text": [
      "30\n"
     ]
    }
   ],
   "source": [
    "#### 2. Access the third element of a tuple.\n",
    "\n",
    "t2 = (10, 20, 30, 40, 50)\n",
    "\n",
    "# Access the third element (index 2)\n",
    "third_element = t2[2]\n",
    "\n",
    "print(third_element)"
   ]
  },
  {
   "cell_type": "code",
   "execution_count": 245,
   "id": "6c25465d-5cd0-45e0-a9ab-b4b0ab1c89a1",
   "metadata": {},
   "outputs": [
    {
     "name": "stdout",
     "output_type": "stream",
     "text": [
      "5\n"
     ]
    }
   ],
   "source": [
    "#### 3. Find the length of a tuple without using the `len()` function.\n",
    "\n",
    "def tuple_length(t):\n",
    "    count = 0\n",
    "    for _ in t:\n",
    "        count += 1\n",
    "    return count\n",
    "\n",
    "t3 = (10, 20, 30, 40, 50)\n",
    "\n",
    "# Find the length of the tuple\n",
    "length = tuple_length(t3)\n",
    "\n",
    "print(length)"
   ]
  },
  {
   "cell_type": "code",
   "execution_count": 246,
   "id": "4a79434e-3ab4-424a-bd9b-31f48cd9c76a",
   "metadata": {},
   "outputs": [
    {
     "name": "stdout",
     "output_type": "stream",
     "text": [
      "3\n"
     ]
    }
   ],
   "source": [
    "#### 4. Count the occurrences of an element in a tuple.\n",
    "\n",
    "def count_occurrences(t, element):\n",
    "    count = 0\n",
    "    for item in t:\n",
    "        if item == element:\n",
    "            count += 1\n",
    "    return count\n",
    "\n",
    "t4 = (1, 2, 3, 2, 4, 2, 5)\n",
    "\n",
    "# Count the occurrences of the number 2\n",
    "occurrences = count_occurrences(t4, 2)\n",
    "\n",
    "print(occurrences)"
   ]
  },
  {
   "cell_type": "code",
   "execution_count": 247,
   "id": "a1e22edd-280c-43db-94b9-4f2e900316f7",
   "metadata": {},
   "outputs": [
    {
     "name": "stdout",
     "output_type": "stream",
     "text": [
      "1\n"
     ]
    }
   ],
   "source": [
    "#### 5. Find the index of the first occurrence of an element in a tuple.\n",
    "\n",
    "def find_first_occurrence(t, element):\n",
    "    for index in range(len(t)):\n",
    "        if t[index] == element:\n",
    "            return index\n",
    "    return -1  # Return -1 if the element is not found\n",
    "\n",
    "# Example tuple\n",
    "t5 = (10, 20, 30, 20, 40, 50)\n",
    "\n",
    "# Find the first occurrence of the number 20\n",
    "first_index = find_first_occurrence(t5, 20)\n",
    "\n",
    "print(first_index)"
   ]
  },
  {
   "cell_type": "code",
   "execution_count": 248,
   "id": "1a75d8fe-357c-4c56-9be5-7631a7dbeac9",
   "metadata": {},
   "outputs": [
    {
     "name": "stdout",
     "output_type": "stream",
     "text": [
      "True\n"
     ]
    }
   ],
   "source": [
    "#### 6. Check if an element exists in a tuple.\n",
    "\n",
    "def element_exists(t, element):\n",
    "    for item in t:\n",
    "        if item == element:\n",
    "            return True\n",
    "    return False\n",
    "\n",
    "# Example tuple\n",
    "t6 = (10, 20, 30, 40, 50)\n",
    "\n",
    "# Check if the element 30 exists in the tuple\n",
    "exists = element_exists(t6, 30)\n",
    "\n",
    "print(exists)"
   ]
  },
  {
   "cell_type": "code",
   "execution_count": 249,
   "id": "bd7b5a48-e55a-4ace-8045-ee8a43b9cbeb",
   "metadata": {},
   "outputs": [
    {
     "name": "stdout",
     "output_type": "stream",
     "text": [
      "[1, 2, 3, 4, 5]\n"
     ]
    }
   ],
   "source": [
    "#### 7. Convert a tuple to a list.\n",
    "\n",
    "t7 = (1, 2, 3, 4, 5)\n",
    "\n",
    "# Convert tuple to list\n",
    "my_list = list(t7)\n",
    "\n",
    "print(my_list)"
   ]
  },
  {
   "cell_type": "code",
   "execution_count": 250,
   "id": "f6c07d57-7dd2-4d9a-b3a4-c8cba9af3bf6",
   "metadata": {},
   "outputs": [
    {
     "name": "stdout",
     "output_type": "stream",
     "text": [
      "(1, 2, 3, 4, 5)\n"
     ]
    }
   ],
   "source": [
    "#### 8. Convert a list to a tuple.\n",
    "\n",
    "my_list = [1, 2, 3, 4, 5]\n",
    "\n",
    "# Convert list to tuple\n",
    "t8 = tuple(my_list)\n",
    "\n",
    "print(t8)"
   ]
  },
  {
   "cell_type": "code",
   "execution_count": 251,
   "id": "3eb70e1c-c4a8-4ec4-a99a-a3f223d3e925",
   "metadata": {},
   "outputs": [
    {
     "name": "stdout",
     "output_type": "stream",
     "text": [
      "1\n",
      "2\n",
      "3\n"
     ]
    }
   ],
   "source": [
    "#### 9. Unpack the elements of a tuple into variables.\n",
    "\n",
    "t9 = (1, 2, 3)\n",
    "\n",
    "# Unpack the tuple into variables\n",
    "a, b, c = t9\n",
    "\n",
    "print(a)  # Output: 1\n",
    "print(b)  # Output: 2\n",
    "print(c)  # Output: 3"
   ]
  },
  {
   "cell_type": "code",
   "execution_count": 252,
   "id": "0202eae1-dc56-4873-969c-2cbc41ed2e74",
   "metadata": {},
   "outputs": [
    {
     "name": "stdout",
     "output_type": "stream",
     "text": [
      "(2, 4, 6, 8, 10)\n"
     ]
    }
   ],
   "source": [
    "#### 10. Create a tuple of even numbers from 1 to 10.\n",
    "\n",
    "# Create a tuple of even numbers from 1 to 10\n",
    "even_numbers_tuple = tuple(range(2, 11, 2))\n",
    "\n",
    "print(even_numbers_tuple)"
   ]
  },
  {
   "cell_type": "code",
   "execution_count": 253,
   "id": "1a420e99-d520-4d2b-9205-945fac70c6a6",
   "metadata": {},
   "outputs": [
    {
     "name": "stdout",
     "output_type": "stream",
     "text": [
      "(1, 3, 5, 7, 9)\n"
     ]
    }
   ],
   "source": [
    "#### 11. Create a tuple of odd numbers from 1 to 10.\n",
    "\n",
    "# Create a tuple of odd numbers from 1 to 10\n",
    "odd_numbers_tuple = tuple(range(1, 11, 2))\n",
    "\n",
    "print(odd_numbers_tuple)"
   ]
  },
  {
   "cell_type": "code",
   "execution_count": 254,
   "id": "91b7e6a8-5b37-4561-8d24-b63e8bd47778",
   "metadata": {},
   "outputs": [
    {
     "name": "stdout",
     "output_type": "stream",
     "text": [
      "(1, 2, 3, 4, 5, 6)\n"
     ]
    }
   ],
   "source": [
    "#### 12. Concatenate two tuples.\n",
    "\n",
    "# Define two tuples\n",
    "t10 = (1, 2, 3)\n",
    "t11 = (4, 5, 6)\n",
    "\n",
    "# Concatenate the tuples\n",
    "concatenated_tuple = t10 + t11\n",
    "\n",
    "print(concatenated_tuple)"
   ]
  },
  {
   "cell_type": "code",
   "execution_count": 255,
   "id": "4ad93231-e5cd-479e-9d25-66b61c64b7fd",
   "metadata": {},
   "outputs": [
    {
     "name": "stdout",
     "output_type": "stream",
     "text": [
      "(1, 2, 3, 1, 2, 3, 1, 2, 3)\n"
     ]
    }
   ],
   "source": [
    "#### 13. Repeat a tuple three times.\n",
    "\n",
    "# Define a tuple\n",
    "t12 = (1, 2, 3)\n",
    "\n",
    "# Repeat the tuple three times\n",
    "repeated_tuple = t12 * 3\n",
    "\n",
    "print(repeated_tuple)"
   ]
  },
  {
   "cell_type": "code",
   "execution_count": 256,
   "id": "71ed2e5a-96ac-46bb-9822-834b16d1bd13",
   "metadata": {},
   "outputs": [
    {
     "name": "stdout",
     "output_type": "stream",
     "text": [
      "The tuple is empty.\n"
     ]
    }
   ],
   "source": [
    "#### 14. Check if a tuple is empty.\n",
    "\n",
    "# Define a tuple\n",
    "t13 = ()\n",
    "\n",
    "# Check if the tuple is empty\n",
    "if not t13:\n",
    "    print(\"The tuple is empty.\")\n",
    "else:\n",
    "    print(\"The tuple is not empty.\")"
   ]
  },
  {
   "cell_type": "code",
   "execution_count": 257,
   "id": "4f62d0d1-1972-4b05-80e6-62ea465ff59c",
   "metadata": {},
   "outputs": [
    {
     "name": "stdout",
     "output_type": "stream",
     "text": [
      "Nested Tuple: ((1, 2, 3), (4, 5), (6, 7, 8))\n"
     ]
    }
   ],
   "source": [
    "#### 15. Create a nested tuple.\n",
    "\n",
    "# Create a simple tuple\n",
    "simple_tuple = (1, 2, 3)\n",
    "\n",
    "# Create a nested tuple\n",
    "nested_tuple = (simple_tuple, (4, 5), (6, 7, 8))\n",
    "\n",
    "print(\"Nested Tuple:\", nested_tuple)"
   ]
  },
  {
   "cell_type": "code",
   "execution_count": 258,
   "id": "4024806f-66be-492d-8b7d-27cb3653c186",
   "metadata": {},
   "outputs": [
    {
     "name": "stdout",
     "output_type": "stream",
     "text": [
      "First element of the nested tuple: (1, 2, 3)\n"
     ]
    }
   ],
   "source": [
    "#### 16. Access the first element of a nested tuple.\n",
    "\n",
    "# Create a simple tuple\n",
    "simple_tuple = (1, 2, 3)\n",
    "\n",
    "# Create a nested tuple using simple_tuple\n",
    "nested_tuple = (simple_tuple, (4, 5), (6, 7, 8))\n",
    "\n",
    "# Access the first element of the nested tuple\n",
    "first_element = nested_tuple[0]\n",
    "\n",
    "print(\"First element of the nested tuple:\", first_element)"
   ]
  },
  {
   "cell_type": "code",
   "execution_count": 259,
   "id": "2cab1777-7cc4-4ced-89b1-8a61321c5eaf",
   "metadata": {},
   "outputs": [
    {
     "name": "stdout",
     "output_type": "stream",
     "text": [
      "(42,)\n"
     ]
    }
   ],
   "source": [
    "#### 17. Create a tuple with a single element.\n",
    "\n",
    "# Create a tuple with a single element\n",
    "single_element_tuple = (42,)\n",
    "\n",
    "print(single_element_tuple)"
   ]
  },
  {
   "cell_type": "code",
   "execution_count": 260,
   "id": "cf0f84cf-9146-4230-b542-bc9e9ae6027c",
   "metadata": {},
   "outputs": [
    {
     "name": "stdout",
     "output_type": "stream",
     "text": [
      "t14 == t15: False\n",
      "t14 != t15: True\n",
      "t14 < t15: True\n",
      "t14 > t15: False\n",
      "t14 <= t15: True\n",
      "t14 >= t15: False\n"
     ]
    }
   ],
   "source": [
    "#### 18. Compare two tuples.\n",
    "\n",
    "# Define two tuples\n",
    "t14 = (1, 2, 3)\n",
    "t15 = (1, 2, 4)\n",
    "\n",
    "# Compare the tuples\n",
    "print(\"t14 == t15:\", t14 == t15)  # Checks if both tuples are equal\n",
    "print(\"t14 != t15:\", t14 != t15)  # Checks if both tuples are not equal\n",
    "print(\"t14 < t15:\", t14 < t15)    # Checks if tuple1 is less than tuple2\n",
    "print(\"t14 > t15:\", t14 > t15)    # Checks if tuple1 is greater than tuple2\n",
    "print(\"t14 <= t15:\", t14 <= t15)  # Checks if tuple1 is less than or equal to tuple2\n",
    "print(\"t14 >= t15:\", t14 >= t15)  # Checks if tuple1 is greater than or equal to tuple2"
   ]
  },
  {
   "cell_type": "code",
   "execution_count": 261,
   "id": "e41f1c70-23e8-4545-a8fd-b5d84d59564f",
   "metadata": {},
   "outputs": [
    {
     "name": "stdout",
     "output_type": "stream",
     "text": [
      "Before deletion: (1, 2, 3)\n",
      "Error: name 't16' is not defined\n"
     ]
    }
   ],
   "source": [
    "#### 19. Delete a tuple.\n",
    "\n",
    "# Create a tuple\n",
    "t16 = (1, 2, 3)\n",
    "\n",
    "print(\"Before deletion:\", t16)\n",
    "\n",
    "# Delete the tuple\n",
    "del t16\n",
    "\n",
    "# Try to access the tuple after deletion (this will raise an error)\n",
    "try:\n",
    "    print(\"After deletion:\", t16)\n",
    "except NameError as e:\n",
    "    print(\"Error:\", e)"
   ]
  },
  {
   "cell_type": "code",
   "execution_count": 262,
   "id": "995f51d8-3166-48c8-9b4a-3ac1d87a16f9",
   "metadata": {},
   "outputs": [
    {
     "name": "stdout",
     "output_type": "stream",
     "text": [
      "Sliced tuple (2:5): (30, 40, 50)\n"
     ]
    }
   ],
   "source": [
    "#### 20. Slice a tuple.\n",
    "\n",
    "# Create a tuple\n",
    "t17 = (10, 20, 30, 40, 50, 60, 70)\n",
    "\n",
    "# Slice the tuple from index 2 to index 5\n",
    "sliced_tuple = t17[2:5]\n",
    "\n",
    "print(\"Sliced tuple (2:5):\", sliced_tuple)"
   ]
  },
  {
   "cell_type": "code",
   "execution_count": 263,
   "id": "2c5f2690-697b-43ca-902d-f396e965bcd3",
   "metadata": {},
   "outputs": [
    {
     "name": "stdout",
     "output_type": "stream",
     "text": [
      "Maximum value in the tuple: 50\n"
     ]
    }
   ],
   "source": [
    "#### 21. Find the maximum value in a tuple.\n",
    "\n",
    "# Create a tuple\n",
    "t18 = (10, 20, 30, 40, 50)\n",
    "\n",
    "# Find the maximum value in the tuple\n",
    "max_value = max(t18)\n",
    "\n",
    "print(\"Maximum value in the tuple:\", max_value)"
   ]
  },
  {
   "cell_type": "code",
   "execution_count": 264,
   "id": "a2e9cda8-31dc-4e64-855b-96e808d2ac24",
   "metadata": {},
   "outputs": [
    {
     "name": "stdout",
     "output_type": "stream",
     "text": [
      "Minimum value in the tuple: 10\n"
     ]
    }
   ],
   "source": [
    "#### 22. Find the minimum value in a tuple.\n",
    "\n",
    "# Create a tuple\n",
    "t19 = (10, 20, 30, 40, 50)\n",
    "\n",
    "# Find the minimum value in the tuple\n",
    "min_value = min(t19)\n",
    "\n",
    "print(\"Minimum value in the tuple:\", min_value)"
   ]
  },
  {
   "cell_type": "code",
   "execution_count": 265,
   "id": "1cb9ba81-5cb9-41b4-99ca-c382c7586737",
   "metadata": {},
   "outputs": [
    {
     "name": "stdout",
     "output_type": "stream",
     "text": [
      "Tuple of characters: ('h', 'e', 'l', 'l', 'o')\n"
     ]
    }
   ],
   "source": [
    "#### 23. Convert a string to a tuple of characters.\n",
    "\n",
    "# Create a string\n",
    "my_string1 = \"hello\"\n",
    "\n",
    "# Convert the string to a tuple of characters\n",
    "tuple_of_characters = tuple(my_string1)\n",
    "\n",
    "print(\"Tuple of characters:\", tuple_of_characters)"
   ]
  },
  {
   "cell_type": "code",
   "execution_count": 266,
   "id": "98c992c5-9e59-4db0-971d-7f2e9ea06779",
   "metadata": {},
   "outputs": [
    {
     "name": "stdout",
     "output_type": "stream",
     "text": [
      "String from tuple: hello\n"
     ]
    }
   ],
   "source": [
    "#### 24. Convert a tuple of characters to a string.\n",
    "\n",
    "# Create a tuple of characters\n",
    "tuple_of_characters = ('h', 'e', 'l', 'l', 'o')\n",
    "\n",
    "# Convert the tuple of characters to a string\n",
    "string_from_tuple = ''.join(tuple_of_characters)\n",
    "\n",
    "print(\"String from tuple:\", string_from_tuple)"
   ]
  },
  {
   "cell_type": "code",
   "execution_count": 267,
   "id": "c7856b1a-16d3-4983-89a3-4223d4378865",
   "metadata": {},
   "outputs": [
    {
     "name": "stdout",
     "output_type": "stream",
     "text": [
      "Tuple with multiple data types: (42, 'hello', 3.14, True, (1, 2, 3), [4, 5, 6])\n"
     ]
    }
   ],
   "source": [
    "#### 25. Create a tuple from multiple data types.\n",
    "\n",
    "# Create a tuple with multiple data types\n",
    "mixed_tuple = (42, \"hello\", 3.14, True, (1, 2, 3), [4, 5, 6])\n",
    "\n",
    "print(\"Tuple with multiple data types:\", mixed_tuple)"
   ]
  },
  {
   "cell_type": "code",
   "execution_count": 268,
   "id": "53a8e5a9-2774-4119-b9b4-836799989c56",
   "metadata": {},
   "outputs": [
    {
     "name": "stdout",
     "output_type": "stream",
     "text": [
      "tuple1 == tuple2: True\n",
      "tuple1 == tuple3: False\n"
     ]
    }
   ],
   "source": [
    "#### 26. Check if two tuples are identical.\n",
    "\n",
    "# Define two tuples\n",
    "tuple1 = (1, 2, 3, \"hello\")\n",
    "tuple2 = (1, 2, 3, \"hello\")\n",
    "tuple3 = (1, 2, 3, \"world\")\n",
    "\n",
    "# Check if the tuples are identical\n",
    "print(\"tuple1 == tuple2:\", tuple1 == tuple2)  # Should return True\n",
    "print(\"tuple1 == tuple3:\", tuple1 == tuple3)  # Should return False"
   ]
  },
  {
   "cell_type": "code",
   "execution_count": 269,
   "id": "0c442f1d-afc6-4a61-97c9-07332090c768",
   "metadata": {},
   "outputs": [
    {
     "name": "stdout",
     "output_type": "stream",
     "text": [
      "Original tuple: (3, 1, 4, 1, 5, 9, 2)\n",
      "Sorted tuple: (1, 1, 2, 3, 4, 5, 9)\n"
     ]
    }
   ],
   "source": [
    "#### 27. Sort the elements of a tuple.\n",
    "\n",
    "# Create a tuple\n",
    "my_tuple2 = (3, 1, 4, 1, 5, 9, 2)\n",
    "\n",
    "# Sort the elements of the tuple\n",
    "sorted_tuple = tuple(sorted(my_tuple2))\n",
    "\n",
    "print(\"Original tuple:\", my_tuple2)\n",
    "print(\"Sorted tuple:\", sorted_tuple)"
   ]
  },
  {
   "cell_type": "code",
   "execution_count": 270,
   "id": "bade64ec-88db-4e09-8b6e-f51a7061c021",
   "metadata": {},
   "outputs": [
    {
     "name": "stdout",
     "output_type": "stream",
     "text": [
      "Original tuple of integers: (1, 2, 3, 4, 5)\n",
      "Tuple of strings: ('1', '2', '3', '4', '5')\n"
     ]
    }
   ],
   "source": [
    "#### 28. Convert a tuple of integers to a tuple of strings.\n",
    "\n",
    "# Create a tuple of integers\n",
    "integer_tuple1 = (1, 2, 3, 4, 5)\n",
    "\n",
    "# Convert the tuple of integers to a tuple of strings\n",
    "string_tuple1 = tuple(str(x) for x in integer_tuple)\n",
    "\n",
    "print(\"Original tuple of integers:\", integer_tuple1)\n",
    "print(\"Tuple of strings:\", string_tuple1)"
   ]
  },
  {
   "cell_type": "code",
   "execution_count": 271,
   "id": "895abb5b-bb33-407f-afb3-e43d4623de2a",
   "metadata": {},
   "outputs": [
    {
     "name": "stdout",
     "output_type": "stream",
     "text": [
      "Original tuple of strings: ('1', '2', '3', '4', '5')\n",
      "Tuple of integers: (1, 2, 3, 4, 5)\n"
     ]
    }
   ],
   "source": [
    "#### 29. Convert a tuple of strings to a tuple of integers.\n",
    "\n",
    "# Create a tuple of strings\n",
    "string_tuple2 = ('1', '2', '3', '4', '5')\n",
    "\n",
    "# Convert the tuple of strings to a tuple of integers\n",
    "integer_tuple2 = tuple(int(x) for x in string_tuple2)\n",
    "\n",
    "print(\"Original tuple of strings:\", string_tuple2)\n",
    "print(\"Tuple of integers:\", integer_tuple2)"
   ]
  },
  {
   "cell_type": "code",
   "execution_count": 272,
   "id": "feb36101-2793-4ef6-82af-ff3ed935d91b",
   "metadata": {},
   "outputs": [
    {
     "name": "stdout",
     "output_type": "stream",
     "text": [
      "Merged tuple: (1, 2, 3, 4, 5, 6)\n"
     ]
    }
   ],
   "source": [
    "#### 30. Merge two tuples.\n",
    "\n",
    "# Define two tuples\n",
    "tuple4 = (1, 2, 3)\n",
    "tuple5 = (4, 5, 6)\n",
    "\n",
    "# Merge the two tuples\n",
    "merged_tuple = tuple4 + tuple5\n",
    "\n",
    "print(\"Merged tuple:\", merged_tuple)"
   ]
  },
  {
   "cell_type": "code",
   "execution_count": 273,
   "id": "283853be-77b4-4611-959d-6d8aa3b2caf2",
   "metadata": {},
   "outputs": [
    {
     "name": "stdout",
     "output_type": "stream",
     "text": [
      "Original nested tuple1: (1, (2, 3), (4, (5, 6)), 7)\n",
      "Flattened tuple1: (1, 2, 3, 4, 5, 6, 7)\n"
     ]
    }
   ],
   "source": [
    "#### 31. Flatten a nested tuple.\n",
    "\n",
    "def flatten_tuple1(t):\n",
    "    flat_list = []\n",
    "    \n",
    "    def flatten(item):\n",
    "        if isinstance(item, tuple):\n",
    "            for i in item:\n",
    "                flatten(i)\n",
    "        else:\n",
    "            flat_list.append(item)\n",
    "    \n",
    "    flatten(t)\n",
    "    return tuple(flat_list)\n",
    "\n",
    "# Create a nested tuple\n",
    "nested_tuple1 = (1, (2, 3), (4, (5, 6)), 7)\n",
    "\n",
    "# Flatten the nested tuple\n",
    "flattened_tuple1 = flatten_tuple1(nested_tuple1)\n",
    "\n",
    "print(\"Original nested tuple1:\", nested_tuple1)\n",
    "print(\"Flattened tuple1:\", flattened_tuple1)"
   ]
  },
  {
   "cell_type": "code",
   "execution_count": 274,
   "id": "51e1f32f-6d93-4fb0-afcd-336c706c7e85",
   "metadata": {},
   "outputs": [
    {
     "name": "stdout",
     "output_type": "stream",
     "text": [
      "Tuple of the first 5 prime numbers: (2, 3, 5, 7, 11)\n"
     ]
    }
   ],
   "source": [
    "#### 32. Create a tuple of the first 5 prime numbers.\n",
    "\n",
    "def is_prime(num):\n",
    "    \"\"\"Check if a number is a prime number.\"\"\"\n",
    "    if num <= 1:\n",
    "        return False\n",
    "    for i in range(2, int(num ** 0.5) + 1):\n",
    "        if num % i == 0:\n",
    "            return False\n",
    "    return True\n",
    "\n",
    "def first_n_primes(n):\n",
    "    \"\"\"Generate the first n prime numbers.\"\"\"\n",
    "    primes = []\n",
    "    num = 2\n",
    "    while len(primes) < n:\n",
    "        if is_prime(num):\n",
    "            primes.append(num)\n",
    "        num += 1\n",
    "    return tuple(primes)\n",
    "\n",
    "# Create a tuple of the first 5 prime numbers\n",
    "prime_tuple1 = first_n_primes(5)\n",
    "\n",
    "print(\"Tuple of the first 5 prime numbers:\", prime_tuple1)"
   ]
  },
  {
   "cell_type": "code",
   "execution_count": 275,
   "id": "80966310-1c69-4949-bc95-be90da8e2021",
   "metadata": {},
   "outputs": [
    {
     "name": "stdout",
     "output_type": "stream",
     "text": [
      "Is tuple6 a palindrome? True\n",
      "Is tuple7 a palindrome? False\n"
     ]
    }
   ],
   "source": [
    "#### 33. Check if a tuple is a palindrome.\n",
    "\n",
    "def is_palindrome(t):\n",
    "    \"\"\"Check if a tuple is a palindrome.\"\"\"\n",
    "    return t == t[::-1]\n",
    "\n",
    "# Create some example tuples\n",
    "tuple6 = (1, 2, 3, 2, 1)\n",
    "tuple7 = (1, 2, 3, 4, 5)\n",
    "\n",
    "# Check if the tuples are palindromes\n",
    "print(\"Is tuple6 a palindrome?\", is_palindrome(tuple6))  # Should be True\n",
    "print(\"Is tuple7 a palindrome?\", is_palindrome(tuple7))  # Should be False"
   ]
  },
  {
   "cell_type": "code",
   "execution_count": 276,
   "id": "34fda0a4-899b-4140-8c2b-084db0108142",
   "metadata": {},
   "outputs": [
    {
     "name": "stdout",
     "output_type": "stream",
     "text": [
      "Tuple of squares of numbers from 1 to 5: (1, 4, 9, 16, 25)\n"
     ]
    }
   ],
   "source": [
    "#### 34. Create a tuple of squares of numbers from 1 to 5.\n",
    "\n",
    "# Create a tuple of squares of numbers from 1 to 5\n",
    "squares_tuple1 = tuple(x ** 2 for x in range(1, 6))\n",
    "\n",
    "print(\"Tuple of squares of numbers from 1 to 5:\", squares_tuple1)"
   ]
  },
  {
   "cell_type": "code",
   "execution_count": 277,
   "id": "829e8d44-a748-4b90-9400-46a26bbf68f1",
   "metadata": {},
   "outputs": [
    {
     "name": "stdout",
     "output_type": "stream",
     "text": [
      "Original tuple: (1, 2, 3, 4, 5, 6, 7, 8, 9, 10)\n",
      "Tuple with even numbers removed: (1, 3, 5, 7, 9)\n"
     ]
    }
   ],
   "source": [
    "#### 35. Filter out all even numbers from a tuple.\n",
    "\n",
    "# Create a tuple of numbers\n",
    "numbers_tuple1 = (1, 2, 3, 4, 5, 6, 7, 8, 9, 10)\n",
    "\n",
    "# Filter out all even numbers\n",
    "odd_numbers_tuple1 = tuple(x for x in numbers_tuple1 if x % 2 != 0)\n",
    "\n",
    "print(\"Original tuple:\", numbers_tuple1)\n",
    "print(\"Tuple with even numbers removed:\", odd_numbers_tuple1)"
   ]
  },
  {
   "cell_type": "code",
   "execution_count": 278,
   "id": "7e581cd5-5be9-44dd-8482-dba534af2427",
   "metadata": {},
   "outputs": [
    {
     "name": "stdout",
     "output_type": "stream",
     "text": [
      "Original tuple: (1, 2, 3, 4, 5)\n",
      "Tuple with elements multiplied by 2: (2, 4, 6, 8, 10)\n"
     ]
    }
   ],
   "source": [
    "#### 36. Multiply all elements in a tuple by 2.\n",
    "\n",
    "# Create a tuple of numbers\n",
    "numbers_tuple2 = (1, 2, 3, 4, 5)\n",
    "\n",
    "# Multiply all elements by 2\n",
    "doubled_tuple2 = tuple(x * 2 for x in numbers_tuple2)\n",
    "\n",
    "print(\"Original tuple:\", numbers_tuple2)\n",
    "print(\"Tuple with elements multiplied by 2:\", doubled_tuple2)"
   ]
  },
  {
   "cell_type": "code",
   "execution_count": 279,
   "id": "5f839d6f-5f34-4885-9d57-2f25f2dca762",
   "metadata": {},
   "outputs": [
    {
     "name": "stdout",
     "output_type": "stream",
     "text": [
      "Tuple of random numbers: (62, 79, 4, 64, 26)\n"
     ]
    }
   ],
   "source": [
    "#### 37. Create a tuple of random numbers.\n",
    "\n",
    "import random\n",
    "\n",
    "# Specify the number of random numbers and the range\n",
    "num_random_numbers = 5\n",
    "min_value = 1\n",
    "max_value = 100\n",
    "\n",
    "# Create a tuple of random numbers\n",
    "random_numbers_tuple = tuple(random.randint(min_value, max_value) for _ in range(num_random_numbers))\n",
    "\n",
    "print(\"Tuple of random numbers:\", random_numbers_tuple)"
   ]
  },
  {
   "cell_type": "code",
   "execution_count": 281,
   "id": "486fda38-2bd7-47fb-ab7d-d50b95941904",
   "metadata": {},
   "outputs": [
    {
     "name": "stdout",
     "output_type": "stream",
     "text": [
      "Is tuple8 sorted? True\n",
      "Is tuple9 sorted? False\n",
      "Is tuple10 sorted? True\n"
     ]
    }
   ],
   "source": [
    "#### 38. Check if a tuple is sorted.\n",
    "\n",
    "def is_sorted(t):\n",
    "    \"\"\"Check if a tuple is sorted in ascending order.\"\"\"\n",
    "    return t == tuple(sorted(t))\n",
    "\n",
    "# Create some example tuples\n",
    "tuple8 = (1, 2, 3, 4, 5)\n",
    "tuple9 = (5, 3, 4, 1, 2)\n",
    "tuple10 = (1, 2, 2, 3, 4)\n",
    "\n",
    "# Check if the tuples are sorted\n",
    "print(\"Is tuple8 sorted?\", is_sorted(tuple8))  # Should be True\n",
    "print(\"Is tuple9 sorted?\", is_sorted(tuple9))  # Should be False\n",
    "print(\"Is tuple10 sorted?\", is_sorted(tuple10))  # Should be True"
   ]
  },
  {
   "cell_type": "code",
   "execution_count": 282,
   "id": "3e53dca4-020f-49cd-91e1-5277e6d2a787",
   "metadata": {},
   "outputs": [
    {
     "name": "stdout",
     "output_type": "stream",
     "text": [
      "Original tuple: (1, 2, 3, 4, 5)\n",
      "Rotated tuple (left by 2 positions): (3, 4, 5, 1, 2)\n"
     ]
    }
   ],
   "source": [
    "#### 39. Rotate a tuple to the left by `n` positions.\n",
    "\n",
    "def rotate_left(t, n):\n",
    "    \"\"\"Rotate a tuple to the left by n positions.\"\"\"\n",
    "    n = n % len(t)  # Handle rotation greater than the length of the tuple\n",
    "    return t[n:] + t[:n]\n",
    "\n",
    "# Create a tuple\n",
    "my_tuple3 = (1, 2, 3, 4, 5)\n",
    "\n",
    "# Rotate the tuple to the left by 2 positions\n",
    "rotated_tuple1 = rotate_left(my_tuple, 2)\n",
    "\n",
    "print(\"Original tuple:\", my_tuple3)\n",
    "print(\"Rotated tuple (left by 2 positions):\", rotated_tuple1)"
   ]
  },
  {
   "cell_type": "code",
   "execution_count": 283,
   "id": "39b992d3-7c19-46bc-a43c-dae951f18b25",
   "metadata": {},
   "outputs": [
    {
     "name": "stdout",
     "output_type": "stream",
     "text": [
      "Original tuple: (1, 2, 3, 4, 5)\n",
      "Rotated tuple (right by 2 positions): (4, 5, 1, 2, 3)\n"
     ]
    }
   ],
   "source": [
    "#### 40. Rotate a tuple to the right by `n` positions.\n",
    "\n",
    "def rotate_right(t, n):\n",
    "    \"\"\"Rotate a tuple to the right by n positions.\"\"\"\n",
    "    n = n % len(t)  # Handle rotation greater than the length of the tuple\n",
    "    return t[-n:] + t[:-n]\n",
    "\n",
    "# Create a tuple\n",
    "my_tuple4 = (1, 2, 3, 4, 5)\n",
    "\n",
    "# Rotate the tuple to the right by 2 positions\n",
    "rotated_tuple2 = rotate_right(my_tuple4, 2)\n",
    "\n",
    "print(\"Original tuple:\", my_tuple4)\n",
    "print(\"Rotated tuple (right by 2 positions):\", rotated_tuple2)"
   ]
  },
  {
   "cell_type": "code",
   "execution_count": 284,
   "id": "d402a701-5c3b-4840-a75f-613ec34087c3",
   "metadata": {},
   "outputs": [
    {
     "name": "stdout",
     "output_type": "stream",
     "text": [
      "Tuple of the first 5 Fibonacci numbers: (0, 1, 1, 2, 3)\n"
     ]
    }
   ],
   "source": [
    "#### 41. Create a tuple of the first 5 Fibonacci numbers.\n",
    "\n",
    "def fibonacci(n):\n",
    "    \"\"\"Generate the first n Fibonacci numbers.\"\"\"\n",
    "    fib_sequence1 = []\n",
    "    a, b = 0, 1\n",
    "    while len(fib_sequence1) < n:\n",
    "        fib_sequence1.append(a)\n",
    "        a, b = b, a + b\n",
    "    return tuple(fib_sequence1)\n",
    "\n",
    "# Create a tuple of the first 5 Fibonacci numbers\n",
    "fib_tuple1 = fibonacci(5)\n",
    "\n",
    "print(\"Tuple of the first 5 Fibonacci numbers:\", fib_tuple1)"
   ]
  },
  {
   "cell_type": "code",
   "execution_count": 285,
   "id": "7a69bbb2-73e6-4a03-a81b-02165d803235",
   "metadata": {},
   "outputs": [
    {
     "name": "stdin",
     "output_type": "stream",
     "text": [
      "Enter elements separated by spaces:  apple oranges kiwi\n"
     ]
    },
    {
     "name": "stdout",
     "output_type": "stream",
     "text": [
      "Tuple created from user input: ('apple', 'oranges', 'kiwi')\n"
     ]
    }
   ],
   "source": [
    "#### 42. Create a tuple from user input.\n",
    "\n",
    "# Get user input\n",
    "user_input1 = input(\"Enter elements separated by spaces: \")\n",
    "\n",
    "# Split the input into a list of elements\n",
    "elements_list1 = user_input1.split()\n",
    "\n",
    "# Convert the list to a tuple\n",
    "elements_tuple1 = tuple(elements_list1)\n",
    "\n",
    "print(\"Tuple created from user input:\", elements_tuple1)"
   ]
  },
  {
   "cell_type": "code",
   "execution_count": 286,
   "id": "0f5f072a-d487-4f0c-9b4e-551760c58e1a",
   "metadata": {},
   "outputs": [
    {
     "name": "stdout",
     "output_type": "stream",
     "text": [
      "Original tuple: (1, 2, 3, 4, 5)\n",
      "Tuple after swapping elements at index 1 and 3: (1, 4, 3, 2, 5)\n"
     ]
    }
   ],
   "source": [
    "#### 43. Swap two elements in a tuple.\n",
    "\n",
    "def swap_elements1(t, index1, index2):\n",
    "    \"\"\"Swap elements at index1 and index2 in a tuple.\"\"\"\n",
    "    # Convert tuple to a list to allow modification\n",
    "    temp_list1 = list(t)\n",
    "    \n",
    "    # Swap elements\n",
    "    temp_list1[index1], temp_list1[index2] = temp_list1[index2], temp_list1[index1]\n",
    "    \n",
    "    # Convert list back to tuple\n",
    "    return tuple(temp_list1)\n",
    "\n",
    "# Create a tuple\n",
    "my_tuple5 = (1, 2, 3, 4, 5)\n",
    "\n",
    "# Swap elements at index 1 and index 3\n",
    "swapped_tuple1 = swap_elements1(my_tuple5, 1, 3)\n",
    "\n",
    "print(\"Original tuple:\", my_tuple5)\n",
    "print(\"Tuple after swapping elements at index 1 and 3:\", swapped_tuple1)"
   ]
  },
  {
   "cell_type": "code",
   "execution_count": 287,
   "id": "d9eb8b0b-71e2-46ca-91aa-750a9d72a5d1",
   "metadata": {},
   "outputs": [
    {
     "name": "stdout",
     "output_type": "stream",
     "text": [
      "Original tuple: (1, 2, 3, 4, 5)\n",
      "Reversed tuple: (5, 4, 3, 2, 1)\n"
     ]
    }
   ],
   "source": [
    "#### 44. Reverse the elements of a tuple.\n",
    "\n",
    "def reverse_tuple6(t):\n",
    "    \"\"\"Reverse the elements of a tuple.\"\"\"\n",
    "    return t[::-1]\n",
    "\n",
    "# Create a tuple\n",
    "my_tuple6 = (1, 2, 3, 4, 5)\n",
    "\n",
    "# Reverse the tuple\n",
    "reversed_tuple6 = reverse_tuple6(my_tuple6)\n",
    "\n",
    "print(\"Original tuple:\", my_tuple6)\n",
    "print(\"Reversed tuple:\", reversed_tuple6)"
   ]
  },
  {
   "cell_type": "code",
   "execution_count": 288,
   "id": "3338aad6-6287-4691-ae8b-051a9da40ec1",
   "metadata": {},
   "outputs": [
    {
     "name": "stdout",
     "output_type": "stream",
     "text": [
      "Tuple of the first 5 powers of 2: (1, 2, 4, 8, 16)\n"
     ]
    }
   ],
   "source": [
    "#### 45. Create a tuple of the first `n` powers of 2.\n",
    "\n",
    "def powers_of_2(n1):\n",
    "    \"\"\"Create a tuple of the first n powers of 2.\"\"\"\n",
    "    return tuple(2 ** i for i in range(n1))\n",
    "\n",
    "# Specify the number of powers\n",
    "n1 = 5\n",
    "\n",
    "# Create the tuple\n",
    "powers_tuple1 = powers_of_2(n1)\n",
    "\n",
    "print(\"Tuple of the first\", n1, \"powers of 2:\", powers_tuple1)"
   ]
  },
  {
   "cell_type": "code",
   "execution_count": 289,
   "id": "94540b0f-c1fa-487e-afb7-36a66da63c86",
   "metadata": {},
   "outputs": [
    {
     "name": "stdout",
     "output_type": "stream",
     "text": [
      "Tuple of strings: ('apple', 'banana', 'cherry', 'date')\n",
      "Longest string: banana\n"
     ]
    }
   ],
   "source": [
    "#### 46. Find the longest string in a tuple of strings.\n",
    "\n",
    "def longest_string(t1):\n",
    "    \"\"\"Find the longest string in a tuple of strings.\"\"\"\n",
    "    return max(t1, key=len)\n",
    "\n",
    "# Create a tuple of strings\n",
    "strings_tuple3 = (\"apple\", \"banana\", \"cherry\", \"date\")\n",
    "\n",
    "# Find the longest string\n",
    "longest1 = longest_string(strings_tuple3)\n",
    "\n",
    "print(\"Tuple of strings:\", strings_tuple3)\n",
    "print(\"Longest string:\", longest1)"
   ]
  },
  {
   "cell_type": "code",
   "execution_count": 290,
   "id": "66b10cc9-b985-4a42-87e1-449359fb9a02",
   "metadata": {},
   "outputs": [
    {
     "name": "stdout",
     "output_type": "stream",
     "text": [
      "Tuple of strings: ('apple', 'banana', 'cherry', 'date')\n",
      "Shortest string: date\n"
     ]
    }
   ],
   "source": [
    "#### 47. Find the shortest string in a tuple of strings\n",
    "\n",
    "def shortest_string(t2):\n",
    "    \"\"\"Find the shortest string in a tuple of strings.\"\"\"\n",
    "    return min(t2, key=len)\n",
    "\n",
    "# Create a tuple of strings\n",
    "strings_tuple4 = (\"apple\", \"banana\", \"cherry\", \"date\")\n",
    "\n",
    "# Find the shortest string\n",
    "shortest1 = shortest_string(strings_tuple4)\n",
    "\n",
    "print(\"Tuple of strings:\", strings_tuple4)\n",
    "print(\"Shortest string:\", shortest1)"
   ]
  },
  {
   "cell_type": "code",
   "execution_count": 291,
   "id": "01b72b09-d90e-44cc-a244-f81403864345",
   "metadata": {},
   "outputs": [
    {
     "name": "stdout",
     "output_type": "stream",
     "text": [
      "Tuple of the first 5 triangular numbers: (1, 3, 6, 10, 15)\n"
     ]
    }
   ],
   "source": [
    "#### 48. Create a tuple of the first `n` triangular numbers.\n",
    "\n",
    "def triangular_numbers2(n2):\n",
    "    \"\"\"Create a tuple of the first n triangular numbers.\"\"\"\n",
    "    return tuple((i * (i + 1)) // 2 for i in range(1, n2 + 1))\n",
    "\n",
    "# Specify the number of triangular numbers\n",
    "n2 = 5\n",
    "\n",
    "# Create the tuple\n",
    "triangular_tuple2 = triangular_numbers2(n2)\n",
    "\n",
    "print(\"Tuple of the first\", n2, \"triangular numbers:\", triangular_tuple2)"
   ]
  },
  {
   "cell_type": "code",
   "execution_count": 292,
   "id": "89f4163a-2df0-4c2e-8063-a18f9643494e",
   "metadata": {},
   "outputs": [
    {
     "name": "stdout",
     "output_type": "stream",
     "text": [
      "Is tuple12 a subsequence of tuple11? True\n",
      "Is tuple13 a subsequence of tuple11? False\n"
     ]
    }
   ],
   "source": [
    "#### 49. Check if a tuple contains another tuple as a subsequence.\n",
    "\n",
    "def is_subtuple(t20, t21):\n",
    "    \"\"\"Check if tuple t21 is a subsequence of tuple t20.\"\"\"\n",
    "    len_t20, len_t21 = len(t20), len(t21)\n",
    "    \n",
    "    # Check all possible starting points in t20\n",
    "    for i in range(len_t20 - len_t21 + 1):\n",
    "        # Slice t20 to compare with t21\n",
    "        if t20[i:i + len_t21] == t21:\n",
    "            return True\n",
    "    return False\n",
    "\n",
    "# Create tuples\n",
    "tuple11 = (1, 2, 3, 4, 5, 6)\n",
    "tuple12 = (3, 4, 5)\n",
    "tuple13 = (4, 6)\n",
    "\n",
    "# Check if tuple12 and tuple13 are subsequences of tuple11\n",
    "print(\"Is tuple12 a subsequence of tuple11?\", is_subtuple(tuple11, tuple12))  # Should be True\n",
    "print(\"Is tuple13 a subsequence of tuple11?\", is_subtuple(tuple11, tuple13))  # Should be False"
   ]
  },
  {
   "cell_type": "code",
   "execution_count": 293,
   "id": "431e65d7-8946-4aef-9a13-1ad52e9bb5fc",
   "metadata": {},
   "outputs": [
    {
     "name": "stdout",
     "output_type": "stream",
     "text": [
      "Tuple of alternating 1s and 0s: (0, 1, 0, 1, 0, 1, 0, 1, 0, 1)\n"
     ]
    }
   ],
   "source": [
    "#### 50. Create a tuple of alternating 1s and 0s of length `n`.\n",
    "\n",
    "def alternating_tuple1(n3):\n",
    "    \"\"\"Create a tuple of alternating 1s and 0s of length n3.\"\"\"\n",
    "    return tuple(i % 2 for i in range(n3))\n",
    "\n",
    "# Specify the length of the tuple\n",
    "n3 = 10\n",
    "\n",
    "# Create the tuple\n",
    "alt_tuple1 = alternating_tuple1(n3)\n",
    "\n",
    "print(\"Tuple of alternating 1s and 0s:\", alt_tuple1)"
   ]
  },
  {
   "cell_type": "code",
   "execution_count": 294,
   "id": "14de59b9-fecc-4baf-910a-3d8f2bf8eb29",
   "metadata": {},
   "outputs": [
    {
     "name": "stdout",
     "output_type": "stream",
     "text": [
      "Set with integers from 1 to 5: {1, 2, 3, 4, 5}\n"
     ]
    }
   ],
   "source": [
    "#### Set Based Practice Problem:\n",
    "\n",
    "#### 1. Create a set with integers from 1 to 5.\n",
    "\n",
    "# Create a set with integers from 1 to 5\n",
    "my_set = set(range(1, 6))\n",
    "\n",
    "print(\"Set with integers from 1 to 5:\", my_set)"
   ]
  },
  {
   "cell_type": "code",
   "execution_count": 295,
   "id": "2a860137-c18e-42d8-9b93-35146436a847",
   "metadata": {},
   "outputs": [
    {
     "name": "stdout",
     "output_type": "stream",
     "text": [
      "Set after adding an element: {1, 2, 3, 4, 5, 6}\n"
     ]
    }
   ],
   "source": [
    "#### 2. Add an element to a set.\n",
    "\n",
    "# Create a set with integers from 1 to 5\n",
    "my_set2 = {1, 2, 3, 4, 5}\n",
    "\n",
    "# Add an element to the set\n",
    "my_set2.add(6)\n",
    "\n",
    "print(\"Set after adding an element:\", my_set2)"
   ]
  },
  {
   "cell_type": "code",
   "execution_count": 296,
   "id": "ecc113a1-6e89-4c7f-ab2d-9756d1376b50",
   "metadata": {},
   "outputs": [
    {
     "name": "stdout",
     "output_type": "stream",
     "text": [
      "Set after removing elements: {1, 2, 5}\n"
     ]
    }
   ],
   "source": [
    "#### 3. Remove an element from a set.\n",
    "\n",
    "# Create a set with integers from 1 to 5\n",
    "my_set3 = {1, 2, 3, 4, 5}\n",
    "\n",
    "# Remove an element using remove() method\n",
    "my_set3.remove(3)\n",
    "\n",
    "# Remove an element using discard() method\n",
    "my_set3.discard(4)\n",
    "\n",
    "print(\"Set after removing elements:\", my_set3)"
   ]
  },
  {
   "cell_type": "code",
   "execution_count": 297,
   "id": "9d5d4b1a-e9af-4075-8e5e-7f8427707173",
   "metadata": {},
   "outputs": [
    {
     "name": "stdout",
     "output_type": "stream",
     "text": [
      "3 exists in the set.\n"
     ]
    }
   ],
   "source": [
    "#### 4. Check if an element exists in a set.\n",
    "\n",
    "# Create a set with integers from 1 to 5\n",
    "my_set4 = {1, 2, 3, 4, 5}\n",
    "\n",
    "# Check if an element exists in the set\n",
    "element_to_check = 3\n",
    "\n",
    "if element_to_check in my_set4:\n",
    "    print(f\"{element_to_check} exists in the set.\")\n",
    "else:\n",
    "    print(f\"{element_to_check} does not exist in the set.\")"
   ]
  },
  {
   "cell_type": "code",
   "execution_count": 298,
   "id": "6981a724-c70b-4bfe-8c62-3d080f74d55f",
   "metadata": {},
   "outputs": [
    {
     "name": "stdout",
     "output_type": "stream",
     "text": [
      "The length of the set is: 5\n"
     ]
    }
   ],
   "source": [
    "#### 5. Find the length of a set without using the `len()` function.\n",
    "\n",
    "def count_elements(my_set5):\n",
    "    \"\"\"Count the number of elements in a set without using len().\"\"\"\n",
    "    count = 0\n",
    "    for _ in my_set5:\n",
    "        count += 1\n",
    "    return count\n",
    "\n",
    "# Create a set with integers from 1 to 5\n",
    "my_set5 = {1, 2, 3, 4, 5}\n",
    "\n",
    "# Find the length of the set\n",
    "set_length1 = count_elements(my_set5)\n",
    "\n",
    "print(\"The length of the set is:\", set_length1)"
   ]
  },
  {
   "cell_type": "code",
   "execution_count": 299,
   "id": "36ae2117-a31a-4f55-a636-e305c72880a6",
   "metadata": {},
   "outputs": [
    {
     "name": "stdout",
     "output_type": "stream",
     "text": [
      "Set after clearing all elements: set()\n"
     ]
    }
   ],
   "source": [
    "#### 6. Clear all elements from a set.\n",
    "\n",
    "# Create a set with integers from 1 to 5\n",
    "my_set6 = {1, 2, 3, 4, 5}\n",
    "\n",
    "# Clear all elements from the set\n",
    "my_set6.clear()\n",
    "\n",
    "print(\"Set after clearing all elements:\", my_set6)"
   ]
  },
  {
   "cell_type": "code",
   "execution_count": 300,
   "id": "dfc538a0-dd2b-4416-8f5d-59033ad6897a",
   "metadata": {},
   "outputs": [
    {
     "name": "stdout",
     "output_type": "stream",
     "text": [
      "Set of even numbers from 1 to 10: {2, 4, 6, 8, 10}\n"
     ]
    }
   ],
   "source": [
    "#### 7. Create a set of even numbers from 1 to 10.\n",
    "\n",
    "# Create a set of even numbers from 1 to 10\n",
    "even_numbers3 = {num for num in range(1, 11) if num % 2 == 0}\n",
    "\n",
    "print(\"Set of even numbers from 1 to 10:\", even_numbers3)"
   ]
  },
  {
   "cell_type": "code",
   "execution_count": 301,
   "id": "f56a3131-fb36-497a-ba66-a168d1dd4d0e",
   "metadata": {},
   "outputs": [
    {
     "name": "stdout",
     "output_type": "stream",
     "text": [
      "Set of odd numbers from 1 to 10: {1, 3, 5, 7, 9}\n"
     ]
    }
   ],
   "source": [
    "#### 8. Create a set of odd numbers from 1 to 10.\n",
    "\n",
    "# Create a set of odd numbers from 1 to 10\n",
    "odd_numbers3 = {num for num in range(1, 11) if num % 2 != 0}\n",
    "\n",
    "print(\"Set of odd numbers from 1 to 10:\", odd_numbers3)"
   ]
  },
  {
   "cell_type": "code",
   "execution_count": 302,
   "id": "19061e7b-07cb-4b31-bf20-18607c4c833a",
   "metadata": {},
   "outputs": [
    {
     "name": "stdout",
     "output_type": "stream",
     "text": [
      "Union of set1 and set2 using union(): {1, 2, 3, 4, 5, 6}\n",
      "Union of set1 and set2 using | operator: {1, 2, 3, 4, 5, 6}\n"
     ]
    }
   ],
   "source": [
    "#### 9. Find the union of two sets.\n",
    "\n",
    "# Define two sets\n",
    "set7 = {1, 2, 3, 4}\n",
    "set8 = {3, 4, 5, 6}\n",
    "\n",
    "# Find the union of set7 and set8 using the union() method\n",
    "union_set1 = set7.union(set8)\n",
    "\n",
    "# Alternatively, use the | operator\n",
    "union_set_alternative1 = set7 | set8\n",
    "\n",
    "print(\"Union of set1 and set2 using union():\", union_set1)\n",
    "print(\"Union of set1 and set2 using | operator:\", union_set_alternative1)\n"
   ]
  },
  {
   "cell_type": "code",
   "execution_count": 303,
   "id": "e248a513-56a6-4be8-9fb5-0be35dfb6952",
   "metadata": {},
   "outputs": [
    {
     "name": "stdout",
     "output_type": "stream",
     "text": [
      "Intersection of set9 and set10 using intersection(): {3, 4}\n",
      "Intersection of set9 and set10 using & operator: {3, 4}\n"
     ]
    }
   ],
   "source": [
    "#### 10. Find the intersection of two sets.\n",
    "\n",
    "# Define two sets\n",
    "set9 = {1, 2, 3, 4}\n",
    "set10 = {3, 4, 5, 6}\n",
    "\n",
    "# Find the intersection of set9 and set10 using the intersection() method\n",
    "intersection_set1 = set9.intersection(set10)\n",
    "\n",
    "# Alternatively, use the & operator\n",
    "intersection_set_alternative1 = set9 & set10\n",
    "\n",
    "print(\"Intersection of set9 and set10 using intersection():\", intersection_set1)\n",
    "print(\"Intersection of set9 and set10 using & operator:\", intersection_set_alternative1)"
   ]
  },
  {
   "cell_type": "code",
   "execution_count": 304,
   "id": "0b187fc1-8285-4561-b2d6-8b2243ab6b4f",
   "metadata": {},
   "outputs": [
    {
     "name": "stdout",
     "output_type": "stream",
     "text": [
      "Difference between set11 and set12 using difference(): {1, 2}\n",
      "Difference between set11 and set12 using - operator: {1, 2}\n"
     ]
    }
   ],
   "source": [
    "#### 11. Find the difference between two sets.\n",
    "\n",
    "# Define two sets\n",
    "set11 = {1, 2, 3, 4}\n",
    "set12 = {3, 4, 5, 6}\n",
    "\n",
    "# Find the difference between set11 and set12 using the difference() method\n",
    "difference_set1 = set11.difference(set12)\n",
    "\n",
    "# Alternatively, use the - operator\n",
    "difference_set_alternative1 = set11 - set12\n",
    "\n",
    "print(\"Difference between set11 and set12 using difference():\", difference_set1)\n",
    "print(\"Difference between set11 and set12 using - operator:\", difference_set_alternative1)"
   ]
  },
  {
   "cell_type": "code",
   "execution_count": 305,
   "id": "be770920-7e8a-4b46-8f6d-65d133f48e20",
   "metadata": {},
   "outputs": [
    {
     "name": "stdout",
     "output_type": "stream",
     "text": [
      "set13 is a subset of set14 using issubset(): True\n",
      "set13 is a subset of set14 using <= operator: True\n"
     ]
    }
   ],
   "source": [
    "#### 12. Check if a set is a subset of another set.\n",
    "\n",
    "# Define two sets\n",
    "set13 = {1, 2, 3}\n",
    "set14 = {1, 2, 3, 4, 5}\n",
    "\n",
    "# Check if set13 is a subset of set14 using the issubset() method\n",
    "is_subset1 = set13.issubset(set14)\n",
    "\n",
    "# Alternatively, use the <= operator\n",
    "is_subset_alternative1 = set13 <= set14\n",
    "\n",
    "print(\"set13 is a subset of set14 using issubset():\", is_subset1)\n",
    "print(\"set13 is a subset of set14 using <= operator:\", is_subset_alternative1)"
   ]
  },
  {
   "cell_type": "code",
   "execution_count": 306,
   "id": "894e2efb-0c8c-4264-9abe-c642e1841a3f",
   "metadata": {},
   "outputs": [
    {
     "name": "stdout",
     "output_type": "stream",
     "text": [
      "set15 is a superset of set16 using issuperset(): True\n",
      "set15 is a superset of set16 using >= operator: True\n"
     ]
    }
   ],
   "source": [
    "#### 13. Check if a set is a superset of another set.\n",
    "\n",
    "# Define two sets\n",
    "set15 = {1, 2, 3, 4, 5}\n",
    "set16 = {2, 3}\n",
    "\n",
    "# Check if set15 is a superset of set16 using the issuperset() method\n",
    "is_superset1 = set15.issuperset(set16)\n",
    "\n",
    "# Alternatively, use the >= operator\n",
    "is_superset_alternative1 = set15 >= set16\n",
    "\n",
    "print(\"set15 is a superset of set16 using issuperset():\", is_superset1)\n",
    "print(\"set15 is a superset of set16 using >= operator:\", is_superset_alternative1)"
   ]
  },
  {
   "cell_type": "code",
   "execution_count": 307,
   "id": "80c1835d-55a8-4394-b974-134ae4ee92b3",
   "metadata": {},
   "outputs": [
    {
     "name": "stdout",
     "output_type": "stream",
     "text": [
      "Set created from list: {1, 2, 3, 4, 5}\n"
     ]
    }
   ],
   "source": [
    "#### 14. Create a set from a list.\n",
    "\n",
    "# Create a list with some duplicate elements\n",
    "my_list7 = [1, 2, 2, 3, 4, 4, 5]\n",
    "\n",
    "# Convert the list to a set\n",
    "my_set7 = set(my_list7)\n",
    "\n",
    "print(\"Set created from list:\", my_set7)"
   ]
  },
  {
   "cell_type": "code",
   "execution_count": 308,
   "id": "9040e800-6aa9-4928-aa80-474b8847f3f4",
   "metadata": {},
   "outputs": [
    {
     "name": "stdout",
     "output_type": "stream",
     "text": [
      "List created from set: [1, 2, 3, 4, 5]\n"
     ]
    }
   ],
   "source": [
    "#### 15. Convert a set to a list.\n",
    "\n",
    "# Create a set with some elements\n",
    "my_set8 = {1, 2, 3, 4, 5}\n",
    "\n",
    "# Convert the set to a list\n",
    "my_list8 = list(my_set8)\n",
    "\n",
    "print(\"List created from set:\", my_list8)"
   ]
  },
  {
   "cell_type": "code",
   "execution_count": 309,
   "id": "0e729f66-6a7f-4899-8add-ba737ba6aba4",
   "metadata": {},
   "outputs": [
    {
     "name": "stdout",
     "output_type": "stream",
     "text": [
      "Removed element: 1\n",
      "Set after removing the element: {2, 3, 4, 5}\n"
     ]
    }
   ],
   "source": [
    "#### 16. Remove a random element from a set.\n",
    "\n",
    "# Create a set with some elements\n",
    "my_set9 = {1, 2, 3, 4, 5}\n",
    "\n",
    "# Remove and get a random element from the set\n",
    "random_element2 = my_set9.pop()\n",
    "\n",
    "print(\"Removed element:\", random_element2)\n",
    "print(\"Set after removing the element:\", my_set9)"
   ]
  },
  {
   "cell_type": "code",
   "execution_count": 310,
   "id": "32ec3d57-0614-47d2-b6fb-648469351943",
   "metadata": {},
   "outputs": [
    {
     "name": "stdout",
     "output_type": "stream",
     "text": [
      "Removed element: 1\n",
      "Set after removing the element: {2, 3, 4, 5}\n"
     ]
    }
   ],
   "source": [
    "#### 17. Pop an element from a set.\n",
    "\n",
    "# Create a set with some elements\n",
    "my_set10 = {1, 2, 3, 4, 5}\n",
    "\n",
    "# Remove and get a random element from the set\n",
    "random_element3 = my_set10.pop()\n",
    "\n",
    "print(\"Removed element:\", random_element3)\n",
    "print(\"Set after removing the element:\", my_set10)\n"
   ]
  },
  {
   "cell_type": "code",
   "execution_count": 311,
   "id": "7316999e-74ac-47b5-8b24-f10c96e21e92",
   "metadata": {},
   "outputs": [
    {
     "name": "stdout",
     "output_type": "stream",
     "text": [
      "Do set11 and set12 have no elements in common? True\n"
     ]
    }
   ],
   "source": [
    "#### 18. Check if two sets have no elements in common.\n",
    "\n",
    "# Define two sets\n",
    "set11 = {1, 2, 3}\n",
    "set12 = {4, 5, 6}\n",
    "\n",
    "# Check if set11 and set12 have no elements in common\n",
    "no_common_elements = set11.isdisjoint(set12)\n",
    "\n",
    "print(\"Do set11 and set12 have no elements in common?\", no_common_elements)"
   ]
  },
  {
   "cell_type": "code",
   "execution_count": 312,
   "id": "1c8fd214-4204-43f0-bb91-081c01645c61",
   "metadata": {},
   "outputs": [
    {
     "name": "stdout",
     "output_type": "stream",
     "text": [
      "Symmetric difference using symmetric_difference(): {1, 2, 5, 6}\n",
      "Symmetric difference using ^ operator: {1, 2, 5, 6}\n"
     ]
    }
   ],
   "source": [
    "#### 19. Find the symmetric difference between two sets.\n",
    "\n",
    "# Define two sets\n",
    "set13 = {1, 2, 3, 4}\n",
    "set14 = {3, 4, 5, 6}\n",
    "\n",
    "# Find the symmetric difference between set13 and set14 using the symmetric_difference() method\n",
    "symmetric_diff1 = set13.symmetric_difference(set14)\n",
    "\n",
    "# Alternatively, use the ^ operator\n",
    "symmetric_diff_alternative1 = set13 ^ set14\n",
    "\n",
    "print(\"Symmetric difference using symmetric_difference():\", symmetric_diff1)\n",
    "print(\"Symmetric difference using ^ operator:\", symmetric_diff_alternative1)"
   ]
  },
  {
   "cell_type": "code",
   "execution_count": 313,
   "id": "04ca5507-9e21-47a2-9965-cf6f7c82c1d1",
   "metadata": {},
   "outputs": [
    {
     "name": "stdout",
     "output_type": "stream",
     "text": [
      "Updated set1: {1, 2, 3, 4, 5}\n"
     ]
    }
   ],
   "source": [
    "#### 20. Update a set with elements from another set.\n",
    "\n",
    "# Define two sets\n",
    "set15 = {1, 2, 3}\n",
    "set16 = {3, 4, 5}\n",
    "\n",
    "# Update set15 with elements from set16\n",
    "set15.update(set16)\n",
    "\n",
    "print(\"Updated set1:\", set15)"
   ]
  },
  {
   "cell_type": "code",
   "execution_count": 314,
   "id": "4ab9bb2b-b8df-4627-9247-d1ffe615480a",
   "metadata": {},
   "outputs": [
    {
     "name": "stdout",
     "output_type": "stream",
     "text": [
      "Set of the first 5 prime numbers: {2, 3, 5, 7, 11}\n"
     ]
    }
   ],
   "source": [
    "#### 21. Create a set of the first 5 prime numbers.\n",
    "\n",
    "def is_prime(n4):\n",
    "    \"\"\"Check if a number is prime.\"\"\"\n",
    "    if n4 <= 1:\n",
    "        return False\n",
    "    for i in range(2, int(n4**0.5) + 1):\n",
    "        if n4 % i == 0:\n",
    "            return False\n",
    "    return True\n",
    "\n",
    "# Generate the first 5 prime numbers\n",
    "prime_set1 = set()\n",
    "num = 2\n",
    "while len(prime_set1) < 5:\n",
    "    if is_prime(num):\n",
    "        prime_set1.add(num)\n",
    "    num += 1\n",
    "\n",
    "print(\"Set of the first 5 prime numbers:\", prime_set1)"
   ]
  },
  {
   "cell_type": "code",
   "execution_count": 315,
   "id": "6e21f661-464f-47f2-82ed-3d550ae6b562",
   "metadata": {},
   "outputs": [
    {
     "name": "stdout",
     "output_type": "stream",
     "text": [
      "Are set17 and set18 identical? True\n"
     ]
    }
   ],
   "source": [
    "#### 22. Check if two sets are identical.\n",
    "\n",
    "# Define two sets\n",
    "set17 = {1, 2, 3, 4}\n",
    "set18 = {4, 3, 2, 1}\n",
    "\n",
    "# Check if the two sets are identical\n",
    "are_identical1 = set17 == set18\n",
    "\n",
    "print(\"Are set17 and set18 identical?\", are_identical1)"
   ]
  },
  {
   "cell_type": "code",
   "execution_count": 316,
   "id": "a688a55e-c3f1-4d23-bb86-26a80a83a908",
   "metadata": {},
   "outputs": [
    {
     "name": "stdout",
     "output_type": "stream",
     "text": [
      "Frozenset: frozenset({1, 2, 3, 4, 5})\n"
     ]
    }
   ],
   "source": [
    "#### 23. Create a frozen set.\n",
    "\n",
    "# Create a frozenset\n",
    "my_frozenset1 = frozenset([1, 2, 3, 4, 5])\n",
    "\n",
    "print(\"Frozenset:\", my_frozenset1)"
   ]
  },
  {
   "cell_type": "code",
   "execution_count": 317,
   "id": "b10ec971-652d-4613-820a-1e21e309e497",
   "metadata": {},
   "outputs": [
    {
     "name": "stdout",
     "output_type": "stream",
     "text": [
      "Are set19 and set20 disjoint? True\n"
     ]
    }
   ],
   "source": [
    "#### 24. Check if a set is disjoint with another set.\n",
    "\n",
    "# Define two sets\n",
    "set19 = {1, 2, 3}\n",
    "set20 = {4, 5, 6}\n",
    "\n",
    "# Check if set19 and set20 are disjoint\n",
    "are_disjoint1 = set19.isdisjoint(set20)\n",
    "\n",
    "print(\"Are set19 and set20 disjoint?\", are_disjoint1)"
   ]
  },
  {
   "cell_type": "code",
   "execution_count": 318,
   "id": "639eb1ab-a1f0-437e-a90d-7d465951af44",
   "metadata": {},
   "outputs": [
    {
     "name": "stdout",
     "output_type": "stream",
     "text": [
      "Set of squares of numbers from 1 to 5: {1, 4, 9, 16, 25}\n"
     ]
    }
   ],
   "source": [
    "#### 25. Create a set of squares of numbers from 1 to 5.\n",
    "\n",
    "# Create a set of squares of numbers from 1 to 5\n",
    "squares_set2 = {x**2 for x in range(1, 6)}\n",
    "\n",
    "print(\"Set of squares of numbers from 1 to 5:\", squares_set2)"
   ]
  },
  {
   "cell_type": "code",
   "execution_count": 319,
   "id": "b1e926c5-93ed-450a-b392-f20fe6410432",
   "metadata": {},
   "outputs": [
    {
     "name": "stdout",
     "output_type": "stream",
     "text": [
      "Set after filtering out even numbers: {1, 3, 5}\n"
     ]
    }
   ],
   "source": [
    "#### 26. Filter out all even numbers from a set.\n",
    "\n",
    "# Define a set with some numbers\n",
    "my_set11 = {1, 2, 3, 4, 5, 6, 7, 8, 9}\n",
    "\n",
    "# Filter out all even numbers\n",
    "filtered_set1 = {x for x in my_set if x % 2 != 0}\n",
    "\n",
    "print(\"Set after filtering out even numbers:\", filtered_set1)"
   ]
  },
  {
   "cell_type": "code",
   "execution_count": 320,
   "id": "e21d03b0-ac96-4d03-99b4-1798fa39edf8",
   "metadata": {},
   "outputs": [
    {
     "name": "stdout",
     "output_type": "stream",
     "text": [
      "Set with elements multiplied by 2: {2, 4, 6, 8, 10}\n"
     ]
    }
   ],
   "source": [
    "#### 27. Multiply all elements in a set by 2.\n",
    "\n",
    "# Define a set with some numbers\n",
    "my_set12 = {1, 2, 3, 4, 5}\n",
    "\n",
    "# Multiply all elements by 2\n",
    "doubled_set1 = {x * 2 for x in my_set12}\n",
    "\n",
    "print(\"Set with elements multiplied by 2:\", doubled_set1)"
   ]
  },
  {
   "cell_type": "code",
   "execution_count": 321,
   "id": "c731a831-5cf2-4e62-8b03-e5a4c764c539",
   "metadata": {},
   "outputs": [
    {
     "name": "stdout",
     "output_type": "stream",
     "text": [
      "Set of random numbers: {2, 4, 5}\n"
     ]
    }
   ],
   "source": [
    "#### 28. Create a set of random numbers.\n",
    "\n",
    "# Define parameters\n",
    "num_elements1 = 5  # Number of random elements\n",
    "min_value1 = 1     # Minimum value for the random numbers\n",
    "max_value1 = 10    # Maximum value for the random numbers\n",
    "\n",
    "# Create a set of random numbers\n",
    "random_set4 = {random.randint(min_value1, max_value1) for _ in range(num_elements1)}\n",
    "\n",
    "print(\"Set of random numbers:\", random_set4)"
   ]
  },
  {
   "cell_type": "code",
   "execution_count": 322,
   "id": "1d44397d-18f7-4819-9bad-d3110a24af04",
   "metadata": {},
   "outputs": [
    {
     "name": "stdout",
     "output_type": "stream",
     "text": [
      "Is empty_set1 empty? True\n",
      "Is non_empty_set1 empty? False\n"
     ]
    }
   ],
   "source": [
    "#### 29. Check if a set is empty.\n",
    "\n",
    "# Define two sets\n",
    "empty_set1 = set()\n",
    "non_empty_set1 = {1, 2, 3}\n",
    "\n",
    "# Check if a set is empty\n",
    "is_empty_empty_set1 = not empty_set1\n",
    "is_empty_non_empty_set1 = not non_empty_set1\n",
    "\n",
    "print(\"Is empty_set1 empty?\", is_empty_empty_set1)\n",
    "print(\"Is non_empty_set1 empty?\", is_empty_non_empty_set1)"
   ]
  },
  {
   "cell_type": "code",
   "execution_count": 323,
   "id": "2daaaca4-5192-4acd-9e45-9d9041d05113",
   "metadata": {},
   "outputs": [
    {
     "name": "stdout",
     "output_type": "stream",
     "text": [
      "Nested set: frozenset({frozenset({3, 4}), frozenset({1, 2})})\n"
     ]
    }
   ],
   "source": [
    "#### 30. Create a nested set (hint: use frozenset).\n",
    "\n",
    "# Create frozensets to use as nested sets\n",
    "inner_set1 = frozenset([1, 2])\n",
    "inner_set2 = frozenset([3, 4])\n",
    "\n",
    "# Create a nested set using frozensets\n",
    "nested_set2 = frozenset([inner_set1, inner_set2])\n",
    "\n",
    "print(\"Nested set:\", nested_set2)"
   ]
  },
  {
   "cell_type": "code",
   "execution_count": 324,
   "id": "2ac0ee3d-46ce-4526-9685-3ce8e9da4a44",
   "metadata": {},
   "outputs": [
    {
     "name": "stdout",
     "output_type": "stream",
     "text": [
      "Set after discarding 3: {1, 2, 4, 5}\n",
      "Set after attempting to discard 10: {1, 2, 4, 5}\n"
     ]
    }
   ],
   "source": [
    "#### 31. Remove an element from a set using the discard method.\n",
    "\n",
    "# Define a set with some elements\n",
    "my_set13 = {1, 2, 3, 4, 5}\n",
    "\n",
    "# Remove an element using discard\n",
    "my_set13.discard(3)  # Removes the element 3 from the set\n",
    "\n",
    "print(\"Set after discarding 3:\", my_set13)\n",
    "\n",
    "# Try removing an element that doesn't exist\n",
    "my_set13.discard(10)  # Does nothing since 10 is not in the set\n",
    "\n",
    "print(\"Set after attempting to discard 10:\", my_set13)"
   ]
  },
  {
   "cell_type": "code",
   "execution_count": 325,
   "id": "f24cd0d7-37f0-45f2-b910-39ca5c1ea2e3",
   "metadata": {},
   "outputs": [
    {
     "name": "stdout",
     "output_type": "stream",
     "text": [
      "Are set21 and set22 equal? False\n",
      "Is set21 a subset of set22? False\n",
      "Is set22 a superset of set21? False\n",
      "Are set21 and set22 disjoint? False\n",
      "Are set21 and set23 equal? True\n"
     ]
    }
   ],
   "source": [
    "#### 32. Compare two sets.\n",
    "\n",
    "# Define two sets\n",
    "set21 = {1, 2, 3, 4}\n",
    "set22 = {3, 4, 5, 6}\n",
    "set23 = {1, 2, 3, 4}\n",
    "\n",
    "# Check if set21 and set22 are equal\n",
    "are_equal2 = set21 == set22\n",
    "print(\"Are set21 and set22 equal?\", are_equal2)\n",
    "\n",
    "# Check if set21 is a subset of set22\n",
    "is_subset2 = set21 <= set22\n",
    "print(\"Is set21 a subset of set22?\", is_subset2)\n",
    "\n",
    "# Check if set22 is a superset of set21\n",
    "is_superset2 = set22 >= set21\n",
    "print(\"Is set22 a superset of set21?\", is_superset2)\n",
    "\n",
    "# Check if set21 and set22 are disjoint\n",
    "are_disjoint2 = set21.isdisjoint(set22)\n",
    "print(\"Are set21 and set22 disjoint?\", are_disjoint2)\n",
    "\n",
    "# Check if set21 and set22 are equal\n",
    "are_equal_again2 = set21 == set23\n",
    "print(\"Are set21 and set23 equal?\", are_equal_again2)"
   ]
  },
  {
   "cell_type": "code",
   "execution_count": 326,
   "id": "b23b5417-e227-48f1-ae76-27b0a9a0a28b",
   "metadata": {},
   "outputs": [
    {
     "name": "stdout",
     "output_type": "stream",
     "text": [
      "Set created from the string: {'d', 'w', 'r', 'o', 'l', 'e', ' ', 'h'}\n"
     ]
    }
   ],
   "source": [
    "#### 33. Create a set from a string.\n",
    "\n",
    "# Define a string\n",
    "my_string2 = \"hello world\"\n",
    "\n",
    "# Create a set from the string\n",
    "my_set14 = set(my_string2)\n",
    "\n",
    "print(\"Set created from the string:\", my_set14)"
   ]
  },
  {
   "cell_type": "code",
   "execution_count": 327,
   "id": "3eb47c76-de92-4c5e-b91a-992412849e4d",
   "metadata": {},
   "outputs": [
    {
     "name": "stdout",
     "output_type": "stream",
     "text": [
      "Set of integers: {1, 2, 3, 4, 5}\n"
     ]
    }
   ],
   "source": [
    "#### 34. Convert a set of strings to a set of integers.\n",
    "\n",
    "# Define a set of strings representing numbers\n",
    "string_set3 = {\"1\", \"2\", \"3\", \"4\", \"5\"}\n",
    "\n",
    "# Convert the set of strings to a set of integers\n",
    "int_set3 = {int(s) for s in string_set3}\n",
    "\n",
    "print(\"Set of integers:\", int_set3)"
   ]
  },
  {
   "cell_type": "code",
   "execution_count": 328,
   "id": "0b2f135e-4957-487d-8508-08f520f48ae4",
   "metadata": {},
   "outputs": [
    {
     "name": "stdout",
     "output_type": "stream",
     "text": [
      "Set of strings: {'1', '4', '2', '5', '3'}\n"
     ]
    }
   ],
   "source": [
    "#### 35. Convert a set of integers to a set of strings.\n",
    "\n",
    "# Define a set of integers\n",
    "int_set4 = {1, 2, 3, 4, 5}\n",
    "\n",
    "# Convert the set of integers to a set of strings\n",
    "string_set4 = {str(i) for i in int_set4}\n",
    "\n",
    "print(\"Set of strings:\", string_set4)"
   ]
  },
  {
   "cell_type": "code",
   "execution_count": 329,
   "id": "9d8b65d3-7706-41f9-9535-6c62f92b9215",
   "metadata": {},
   "outputs": [
    {
     "name": "stdout",
     "output_type": "stream",
     "text": [
      "Set created from the tuple: {1, 2, 3, 4, 5}\n"
     ]
    }
   ],
   "source": [
    "#### 36. Create a set from a tuple.\n",
    "\n",
    "# Define a tuple with some elements\n",
    "my_tuple4 = (1, 2, 3, 4, 5, 3, 4)\n",
    "\n",
    "# Create a set from the tuple\n",
    "my_set14 = set(my_tuple4)\n",
    "\n",
    "print(\"Set created from the tuple:\", my_set14)"
   ]
  },
  {
   "cell_type": "code",
   "execution_count": 330,
   "id": "abef3d35-a098-4549-b736-6c4fbe6acc91",
   "metadata": {},
   "outputs": [
    {
     "name": "stdout",
     "output_type": "stream",
     "text": [
      "Tuple created from the set: (1, 2, 3, 4, 5)\n"
     ]
    }
   ],
   "source": [
    "#### 37. Convert a set to a tuple.\n",
    "\n",
    "# Define a set with some elements\n",
    "my_set15 = {1, 2, 3, 4, 5}\n",
    "\n",
    "# Convert the set to a tuple\n",
    "my_tuple5 = tuple(my_set15)\n",
    "\n",
    "print(\"Tuple created from the set:\", my_tuple5)"
   ]
  },
  {
   "cell_type": "code",
   "execution_count": 331,
   "id": "c029155c-d04d-40e1-95b8-6f2d91e681b0",
   "metadata": {},
   "outputs": [
    {
     "name": "stdout",
     "output_type": "stream",
     "text": [
      "The maximum value in the set is: 50\n"
     ]
    }
   ],
   "source": [
    "#### 38. Find the maximum value in a set.\n",
    "\n",
    "# Define a set with some elements\n",
    "my_set16 = {10, 20, 30, 40, 50}\n",
    "\n",
    "# Find the maximum value in the set\n",
    "max_value3 = max(my_set16)\n",
    "\n",
    "print(\"The maximum value in the set is:\", max_value3)"
   ]
  },
  {
   "cell_type": "code",
   "execution_count": 332,
   "id": "3588ff4b-b8f6-4778-9198-bfd4d0fc7fb1",
   "metadata": {},
   "outputs": [
    {
     "name": "stdout",
     "output_type": "stream",
     "text": [
      "The minimum value in the set is: 10\n"
     ]
    }
   ],
   "source": [
    "#### 39. Find the minimum value in a set.\n",
    "\n",
    "# Define a set with some elements\n",
    "my_set17 = {10, 20, 30, 40, 50}\n",
    "\n",
    "# Find the minimum value in the set\n",
    "min_value4 = min(my_set17)\n",
    "\n",
    "print(\"The minimum value in the set is:\", min_value4)"
   ]
  },
  {
   "cell_type": "code",
   "execution_count": 333,
   "id": "66c07e70-d672-4267-8356-e05080138a5e",
   "metadata": {},
   "outputs": [
    {
     "name": "stdin",
     "output_type": "stream",
     "text": [
      "Enter values separated by spaces:  pomegranate avocado grapes\n"
     ]
    },
    {
     "name": "stdout",
     "output_type": "stream",
     "text": [
      "Set created from user input: {'pomegranate', 'grapes', 'avocado'}\n"
     ]
    }
   ],
   "source": [
    "#### 40. Create a set from user input.\n",
    "\n",
    "# Prompt the user for input\n",
    "user_input3 = input(\"Enter values separated by spaces: \")\n",
    "\n",
    "# Split the input string into a list of strings\n",
    "input_list3 = user_input3.split()\n",
    "\n",
    "# Convert the list to a set\n",
    "input_set3 = set(input_list3)\n",
    "\n",
    "print(\"Set created from user input:\", input_set3)"
   ]
  },
  {
   "cell_type": "code",
   "execution_count": 334,
   "id": "773d7787-e756-4f9b-9d82-c7447df6566b",
   "metadata": {},
   "outputs": [
    {
     "name": "stdout",
     "output_type": "stream",
     "text": [
      "Is the intersection of set1 and set2 empty? True\n"
     ]
    }
   ],
   "source": [
    "#### 41. Check if the intersection of two sets is empty.\n",
    "\n",
    "# Define two sets\n",
    "set24 = {1, 2, 3, 4}\n",
    "set25 = {5, 6, 7, 8}\n",
    "\n",
    "# Find the intersection of the two sets\n",
    "intersection1 = set24 & set25\n",
    "\n",
    "# Check if the intersection is empty\n",
    "is_empty2 = len(intersection1) == 0\n",
    "\n",
    "print(\"Is the intersection of set1 and set2 empty?\", is_empty2)"
   ]
  },
  {
   "cell_type": "code",
   "execution_count": 335,
   "id": "be927e0d-6057-459c-a8c7-3aebb50fd85b",
   "metadata": {},
   "outputs": [
    {
     "name": "stdout",
     "output_type": "stream",
     "text": [
      "Set of the first 5 Fibonacci numbers: {0, 1, 2, 3}\n"
     ]
    }
   ],
   "source": [
    "#### 42. Create a set of the first 5 Fibonacci numbers.\n",
    "\n",
    "# Function to generate Fibonacci numbers\n",
    "def fibonacci(n5):\n",
    "    fib_sequence3 = [0, 1]  # Starting values for Fibonacci sequence\n",
    "    while len(fib_sequence3) < n5:\n",
    "        fib_sequence3.append(fib_sequence3[-1] + fib_sequence3[-2])\n",
    "    return fib_sequence3\n",
    "\n",
    "# Generate the first 5 Fibonacci numbers\n",
    "fib_numbers3 = fibonacci(5)\n",
    "\n",
    "# Convert the list of Fibonacci numbers to a set\n",
    "fib_set3 = set(fib_numbers3)\n",
    "\n",
    "print(\"Set of the first 5 Fibonacci numbers:\", fib_set3)"
   ]
  },
  {
   "cell_type": "code",
   "execution_count": 336,
   "id": "c31117f1-5a72-4809-af22-23c3e8b26363",
   "metadata": {},
   "outputs": [
    {
     "name": "stdout",
     "output_type": "stream",
     "text": [
      "List after removing duplicates: [1, 2, 3, 4, 5, 6, 7]\n"
     ]
    }
   ],
   "source": [
    "#### 43. Remove duplicates from a list using sets.\n",
    "\n",
    "# Define a list with duplicate elements\n",
    "my_list9 = [1, 2, 3, 4, 4, 5, 2, 6, 7, 1]\n",
    "\n",
    "# Convert the list to a set to remove duplicates\n",
    "my_set18 = set(my_list9)\n",
    "\n",
    "# Convert the set back to a list\n",
    "unique_list2 = list(my_set18)\n",
    "\n",
    "print(\"List after removing duplicates:\", unique_list2)"
   ]
  },
  {
   "cell_type": "code",
   "execution_count": 337,
   "id": "938d6297-32ae-4c1d-820f-546aee37c375",
   "metadata": {},
   "outputs": [
    {
     "name": "stdout",
     "output_type": "stream",
     "text": [
      "Do set26 and set27 have the same elements? True\n"
     ]
    }
   ],
   "source": [
    "#### 44. Check if two sets have the same elements, regardless of their count.\n",
    "\n",
    "# Define two sets\n",
    "set26 = {1, 2, 3, 4}\n",
    "set27 = {4, 3, 2, 1}\n",
    "\n",
    "# Check if the two sets have the same elements\n",
    "are_equal3 = set26 == set27\n",
    "\n",
    "print(\"Do set26 and set27 have the same elements?\", are_equal3)"
   ]
  },
  {
   "cell_type": "code",
   "execution_count": 338,
   "id": "9f5259ce-94c7-4577-b965-51d474021328",
   "metadata": {},
   "outputs": [
    {
     "name": "stdout",
     "output_type": "stream",
     "text": [
      "Set of the first 5 powers of 2: {1, 2, 4, 8, 16}\n"
     ]
    }
   ],
   "source": [
    "#### 45. Create a set of the first `n` powers of 2.\n",
    "\n",
    "# Define the number of powers\n",
    "n6 = 5\n",
    "\n",
    "# Create a set of the first n6 powers of 2\n",
    "powers_of_2 = {2**i for i in range(n6)}\n",
    "\n",
    "print(\"Set of the first\", n6, \"powers of 2:\", powers_of_2)"
   ]
  },
  {
   "cell_type": "code",
   "execution_count": 339,
   "id": "0099d58d-f53d-4dad-9318-f150c9fba698",
   "metadata": {},
   "outputs": [
    {
     "name": "stdout",
     "output_type": "stream",
     "text": [
      "Common elements between the set and the list: {3, 4, 5}\n"
     ]
    }
   ],
   "source": [
    "#### 46. Find the common elements between a set and a list.\n",
    "\n",
    "# Define a set and a list\n",
    "my_set19 = {1, 2, 3, 4, 5}\n",
    "my_list10 = [3, 4, 5, 6, 7]\n",
    "\n",
    "# Convert the list to a set\n",
    "list_as_set2 = set(my_list10)\n",
    "\n",
    "# Find the common elements using intersection\n",
    "common_elements2 = my_set19 & list_as_set2\n",
    "\n",
    "print(\"Common elements between the set and the list:\", common_elements2)"
   ]
  },
  {
   "cell_type": "code",
   "execution_count": 340,
   "id": "dd39dccb-5264-48bd-8ef8-f4469e6d68ca",
   "metadata": {},
   "outputs": [
    {
     "name": "stdout",
     "output_type": "stream",
     "text": [
      "Set of the first 5 triangular numbers: {1, 3, 6, 10, 15}\n"
     ]
    }
   ],
   "source": [
    "#### 47. Create a set of the first `n` triangular numbers.\n",
    "\n",
    "# Function to generate the first n triangular numbers\n",
    "def triangular_numbers2(n7):\n",
    "    return {i * (i + 1) // 2 for i in range(1, n7 + 1)}\n",
    "\n",
    "# Define the number of triangular numbers to generate\n",
    "n7 = 5\n",
    "\n",
    "# Create a set of the first n triangular numbers\n",
    "triangular_set2 = triangular_numbers2(n7)\n",
    "\n",
    "print(\"Set of the first\", n7, \"triangular numbers:\", triangular_set2)"
   ]
  },
  {
   "cell_type": "code",
   "execution_count": 341,
   "id": "b16c3515-c656-43b9-b65d-ad48a494c8ed",
   "metadata": {},
   "outputs": [
    {
     "name": "stdout",
     "output_type": "stream",
     "text": [
      "Is set29 a subset of set28? True\n"
     ]
    }
   ],
   "source": [
    "#### 48. Check if a set contains another set as a subset.\n",
    "\n",
    "# Define two sets\n",
    "set28 = {1, 2, 3, 4, 5}\n",
    "set29 = {2, 3}\n",
    "\n",
    "# Check if set29 is a subset of set28\n",
    "is_subset4 = set29 <= set28\n",
    "\n",
    "print(\"Is set29 a subset of set28?\", is_subset4)"
   ]
  },
  {
   "cell_type": "code",
   "execution_count": 342,
   "id": "d1cc2c53-c73e-4f69-889d-2ce1dc1f6081",
   "metadata": {},
   "outputs": [
    {
     "name": "stdout",
     "output_type": "stream",
     "text": [
      "Set of alternating 1s and 0s: {0, 1}\n"
     ]
    }
   ],
   "source": [
    "#### 49. Create a set of alternating 1s and 0s of length `n`.\n",
    "\n",
    "# Define the length of the sequence\n",
    "n8 = 10\n",
    "\n",
    "# Create a set of alternating 1s and 0s\n",
    "alternating_set4 = {i % 2 for i in range(n8)}\n",
    "\n",
    "print(\"Set of alternating 1s and 0s:\", alternating_set4)"
   ]
  },
  {
   "cell_type": "code",
   "execution_count": 343,
   "id": "4fd57103-b0e4-42be-a570-a0c790f4631b",
   "metadata": {},
   "outputs": [
    {
     "name": "stdout",
     "output_type": "stream",
     "text": [
      "Merged set using union(): {1, 2, 3, 4, 5, 6, 7}\n",
      "Merged set using | operator: {1, 2, 3, 4, 5, 6, 7}\n"
     ]
    }
   ],
   "source": [
    "#### 50. Merge multiple sets into one.\n",
    "\n",
    "# Define multiple sets\n",
    "set30 = {1, 2, 3}\n",
    "set31 = {3, 4, 5}\n",
    "set32 = {5, 6, 7}\n",
    "\n",
    "# Merge multiple sets using union() method\n",
    "merged_set3 = set30.union(set31, set32)\n",
    "\n",
    "print(\"Merged set using union():\", merged_set3)\n",
    "\n",
    "# Alternatively, merge multiple sets using | operator\n",
    "merged_set_alt3 = set30 | set31 | set32\n",
    "\n",
    "print(\"Merged set using | operator:\", merged_set_alt3)"
   ]
  }
 ],
 "metadata": {
  "kernelspec": {
   "display_name": "Python 3 (ipykernel)",
   "language": "python",
   "name": "python3"
  },
  "language_info": {
   "codemirror_mode": {
    "name": "ipython",
    "version": 3
   },
   "file_extension": ".py",
   "mimetype": "text/x-python",
   "name": "python",
   "nbconvert_exporter": "python",
   "pygments_lexer": "ipython3",
   "version": "3.10.8"
  }
 },
 "nbformat": 4,
 "nbformat_minor": 5
}
