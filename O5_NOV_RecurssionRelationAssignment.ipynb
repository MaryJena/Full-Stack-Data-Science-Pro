{
 "cells": [
  {
   "cell_type": "code",
   "execution_count": 1,
   "id": "fb19fdd6-9899-4253-b302-4d106c999799",
   "metadata": {},
   "outputs": [
    {
     "data": {
      "text/plain": [
       "'\\nSOLUTION:\\nRecurrence relation: T(n)=3T(n−1)+12n \\nGiven: T(0)=5\\n\\nStep 1: Find T(1)\\nUsing the recurrence relation for n=1: T(1)=3T(0)+12(1)\\nSubstitute T(0)=5: T(1)=3(5)+12=15+12=27\\n\\nStep 2: Find T(2)\\nuse the recurrence relation for n=2: T(2)=3T(1)+12(2)\\nSubstitute T(1)=27:\\n\\nT(2)=3(27)+24=81+24=105\\nFinal Answer: T(2)=105 \\n\\n'"
      ]
     },
     "execution_count": 1,
     "metadata": {},
     "output_type": "execute_result"
    }
   ],
   "source": [
    "#### 1. Find the value of T(2) for the recurrence relation T(n) = 3T(n-1) + 12n, given that T(0)=5.\n",
    "\n",
    "\"\"\"\n",
    "SOLUTION:\n",
    "Recurrence relation: T(n)=3T(n−1)+12n \n",
    "Given: T(0)=5\n",
    "\n",
    "Step 1: Find T(1)\n",
    "Using the recurrence relation for n=1: T(1)=3T(0)+12(1)\n",
    "Substitute T(0)=5: T(1)=3(5)+12=15+12=27\n",
    "\n",
    "Step 2: Find T(2)\n",
    "use the recurrence relation for n=2: T(2)=3T(1)+12(2)\n",
    "Substitute T(1)=27:\n",
    "\n",
    "T(2)=3(27)+24=81+24=105\n",
    "Final Answer: T(2)=105 \n",
    "\n",
    "\"\"\""
   ]
  },
  {
   "cell_type": "code",
   "execution_count": 3,
   "id": "ea164e4b-9b96-4059-bbdb-d742af1044e4",
   "metadata": {},
   "outputs": [
    {
     "data": {
      "text/plain": [
       "'\\nSOLUTION for a: T(n)=T(n−1)+c: O(n)\\n\\nSOLUTION for b: T(n)=2T(n/2)+n: O(n \\\\log n)\\n\\nSOLUTION for c: T(n)=2T(n/2)+c: O(n)\\n\\nSOLUTION for d: T(n)=T(n/2)+c: O(\\\\log n)\\n\\n'"
      ]
     },
     "execution_count": 3,
     "metadata": {},
     "output_type": "execute_result"
    }
   ],
   "source": [
    "\"\"\"\n",
    "Q.2 Given a recurrence relation, solve it using the substitution method:\n",
    "a. T(n) = T(n-1) + c\n",
    "b. T(n) = 2T(n/2) + n\n",
    "c. T(n) = 2T(n/2) + c\n",
    "d. T(n) = T(n/2) + c\n",
    "\"\"\"\n",
    "\n",
    "\"\"\"\n",
    "SOLUTION for a: T(n)=T(n−1)+c: O(n)\n",
    "\n",
    "SOLUTION for b: T(n)=2T(n/2)+n: O(n \\log n)\n",
    "\n",
    "SOLUTION for c: T(n)=2T(n/2)+c: O(n)\n",
    "\n",
    "SOLUTION for d: T(n)=T(n/2)+c: O(\\log n)\n",
    "\n",
    "\"\"\""
   ]
  },
  {
   "cell_type": "code",
   "execution_count": 4,
   "id": "8eb59c0e-407e-4363-87e5-4a772ca1c883",
   "metadata": {},
   "outputs": [
    {
     "data": {
      "text/plain": [
       "'\\nRESULT for a: T(n)=2T(n−1)+1: O(2^n)\\n\\nRESULT for b: T(n)=2T(n/2)+n: O(n \\\\log n)\\n'"
      ]
     },
     "execution_count": 4,
     "metadata": {},
     "output_type": "execute_result"
    }
   ],
   "source": [
    "\"\"\"\n",
    "Q.3 Given a recurrence relation, solve it using the recursive tree approach:\n",
    "a. T(n) = 2T(n-1) +1\n",
    "b. T(n) = 2T(n/2) + n\n",
    "\"\"\"\n",
    "\n",
    "\"\"\"\n",
    "RESULT for a: T(n)=2T(n−1)+1: O(2^n)\n",
    "\n",
    "RESULT for b: T(n)=2T(n/2)+n: O(n \\log n)\n",
    "\"\"\""
   ]
  },
  {
   "cell_type": "code",
   "execution_count": null,
   "id": "90e30497-db61-4e93-b50e-5263843448fd",
   "metadata": {},
   "outputs": [],
   "source": []
  }
 ],
 "metadata": {
  "kernelspec": {
   "display_name": "Python 3 (ipykernel)",
   "language": "python",
   "name": "python3"
  },
  "language_info": {
   "codemirror_mode": {
    "name": "ipython",
    "version": 3
   },
   "file_extension": ".py",
   "mimetype": "text/x-python",
   "name": "python",
   "nbconvert_exporter": "python",
   "pygments_lexer": "ipython3",
   "version": "3.10.8"
  }
 },
 "nbformat": 4,
 "nbformat_minor": 5
}
