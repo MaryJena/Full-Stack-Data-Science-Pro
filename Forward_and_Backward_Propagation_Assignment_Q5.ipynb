{
 "cells": [
  {
   "cell_type": "code",
   "execution_count": 1,
   "id": "32e9bae6",
   "metadata": {},
   "outputs": [],
   "source": [
    "import numpy as np"
   ]
  },
  {
   "cell_type": "code",
   "execution_count": 2,
   "id": "44e1e37b",
   "metadata": {},
   "outputs": [],
   "source": [
    "# Define the sigmoid activation function\n",
    "def sigmoid(x):\n",
    "    return 1 / (1 + np.exp(-x))"
   ]
  },
  {
   "cell_type": "code",
   "execution_count": 3,
   "id": "bc383737",
   "metadata": {},
   "outputs": [],
   "source": [
    "# Initialize network parameters\n",
    "input_size = 3  # Number of input features\n",
    "hidden_size = 4  # Number of neurons in the hidden layer\n",
    "output_size = 1  # Number of output neurons\n",
    "\n",
    "# Randomly initialize weights and biases\n",
    "np.random.seed(42)\n",
    "W1 = np.random.randn(input_size, hidden_size)\n",
    "b1 = np.random.randn(hidden_size)\n",
    "W2 = np.random.randn(hidden_size, output_size)\n",
    "b2 = np.random.randn(output_size)"
   ]
  },
  {
   "cell_type": "code",
   "execution_count": 4,
   "id": "f42f7ea9",
   "metadata": {},
   "outputs": [
    {
     "name": "stdout",
     "output_type": "stream",
     "text": [
      "Initial weights and biases:\n",
      "W1:\n",
      " [[ 0.49671415 -0.1382643   0.64768854  1.52302986]\n",
      " [-0.23415337 -0.23413696  1.57921282  0.76743473]\n",
      " [-0.46947439  0.54256004 -0.46341769 -0.46572975]]\n",
      "b1:\n",
      " [ 0.24196227 -1.91328024 -1.72491783 -0.56228753]\n",
      "W2:\n",
      " [[-1.01283112]\n",
      " [ 0.31424733]\n",
      " [-0.90802408]\n",
      " [-1.4123037 ]]\n",
      "b2:\n",
      " [1.46564877]\n"
     ]
    }
   ],
   "source": [
    "# Print the initial weights and biases for reference\n",
    "print(\"Initial weights and biases:\")\n",
    "print(\"W1:\\n\", W1)\n",
    "print(\"b1:\\n\", b1)\n",
    "print(\"W2:\\n\", W2)\n",
    "print(\"b2:\\n\", b2)"
   ]
  },
  {
   "cell_type": "code",
   "execution_count": 5,
   "id": "2bf499aa",
   "metadata": {},
   "outputs": [],
   "source": [
    "# Define the forward propagation function\n",
    "def forward_propagation(X):\n",
    "    # Input to hidden layer\n",
    "    z1 = np.dot(X, W1) + b1\n",
    "    a1 = sigmoid(z1)\n",
    "    \n",
    "    # Hidden layer to output layer\n",
    "    z2 = np.dot(a1, W2) + b2\n",
    "    output = sigmoid(z2)\n",
    "    \n",
    "    return output"
   ]
  },
  {
   "cell_type": "code",
   "execution_count": 6,
   "id": "b4aeaf9a",
   "metadata": {},
   "outputs": [],
   "source": [
    "# Example input\n",
    "X = np.array([[0.1, 0.2, 0.3],\n",
    "              [0.4, 0.5, 0.6]])"
   ]
  },
  {
   "cell_type": "code",
   "execution_count": 7,
   "id": "6ff0d5c6",
   "metadata": {},
   "outputs": [
    {
     "name": "stdout",
     "output_type": "stream",
     "text": [
      "\n",
      "Output of the neural network:\n",
      "[[0.55998689]\n",
      " [0.49571601]]\n"
     ]
    }
   ],
   "source": [
    "# Perform forward propagation\n",
    "output = forward_propagation(X)\n",
    "print(\"\\nOutput of the neural network:\")\n",
    "print(output)"
   ]
  }
 ],
 "metadata": {
  "kernelspec": {
   "display_name": "Python 3 (ipykernel)",
   "language": "python",
   "name": "python3"
  },
  "language_info": {
   "codemirror_mode": {
    "name": "ipython",
    "version": 3
   },
   "file_extension": ".py",
   "mimetype": "text/x-python",
   "name": "python",
   "nbconvert_exporter": "python",
   "pygments_lexer": "ipython3",
   "version": "3.11.5"
  }
 },
 "nbformat": 4,
 "nbformat_minor": 5
}
